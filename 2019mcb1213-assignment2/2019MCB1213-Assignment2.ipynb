{
 "cells": [
  {
   "cell_type": "code",
   "execution_count": 1,
   "id": "74fdd8c8",
   "metadata": {},
   "outputs": [],
   "source": [
    "import pandas as pd\n",
    "import numpy as np\n",
    "import seaborn as sns\n",
    "import matplotlib.pyplot as plt\n",
    "from mpl_toolkits.mplot3d import Axes3D\n",
    "from matplotlib.colors import ListedColormap\n",
    "from matplotlib import animation\n",
    "from math import sqrt\n",
    "from math import exp\n",
    "import re"
   ]
  },
  {
   "cell_type": "markdown",
   "id": "5e4cc3c7",
   "metadata": {},
   "source": [
    "## Question 1 : Logistic Regression / LDA"
   ]
  },
  {
   "cell_type": "code",
   "execution_count": 2,
   "id": "6be71296",
   "metadata": {},
   "outputs": [
    {
     "data": {
      "text/html": [
       "<div>\n",
       "<style scoped>\n",
       "    .dataframe tbody tr th:only-of-type {\n",
       "        vertical-align: middle;\n",
       "    }\n",
       "\n",
       "    .dataframe tbody tr th {\n",
       "        vertical-align: top;\n",
       "    }\n",
       "\n",
       "    .dataframe thead th {\n",
       "        text-align: right;\n",
       "    }\n",
       "</style>\n",
       "<table border=\"1\" class=\"dataframe\">\n",
       "  <thead>\n",
       "    <tr style=\"text-align: right;\">\n",
       "      <th></th>\n",
       "      <th>age</th>\n",
       "      <th>interest</th>\n",
       "      <th>success</th>\n",
       "    </tr>\n",
       "  </thead>\n",
       "  <tbody>\n",
       "    <tr>\n",
       "      <th>0</th>\n",
       "      <td>23.657801</td>\n",
       "      <td>18.859917</td>\n",
       "      <td>0.0</td>\n",
       "    </tr>\n",
       "    <tr>\n",
       "      <th>1</th>\n",
       "      <td>22.573729</td>\n",
       "      <td>17.969223</td>\n",
       "      <td>0.0</td>\n",
       "    </tr>\n",
       "    <tr>\n",
       "      <th>2</th>\n",
       "      <td>32.553424</td>\n",
       "      <td>29.463651</td>\n",
       "      <td>0.0</td>\n",
       "    </tr>\n",
       "    <tr>\n",
       "      <th>3</th>\n",
       "      <td>6.718035</td>\n",
       "      <td>25.704665</td>\n",
       "      <td>1.0</td>\n",
       "    </tr>\n",
       "    <tr>\n",
       "      <th>4</th>\n",
       "      <td>14.401919</td>\n",
       "      <td>16.770856</td>\n",
       "      <td>0.0</td>\n",
       "    </tr>\n",
       "  </tbody>\n",
       "</table>\n",
       "</div>"
      ],
      "text/plain": [
       "         age   interest  success\n",
       "0  23.657801  18.859917      0.0\n",
       "1  22.573729  17.969223      0.0\n",
       "2  32.553424  29.463651      0.0\n",
       "3   6.718035  25.704665      1.0\n",
       "4  14.401919  16.770856      0.0"
      ]
     },
     "execution_count": 2,
     "metadata": {},
     "output_type": "execute_result"
    }
   ],
   "source": [
    "df = pd.read_csv(\"classification.csv\")\n",
    "df.head()"
   ]
  },
  {
   "cell_type": "code",
   "execution_count": 3,
   "id": "65221227",
   "metadata": {},
   "outputs": [
    {
     "name": "stdout",
     "output_type": "stream",
     "text": [
      "<class 'pandas.core.frame.DataFrame'>\n",
      "RangeIndex: 297 entries, 0 to 296\n",
      "Data columns (total 3 columns):\n",
      " #   Column    Non-Null Count  Dtype  \n",
      "---  ------    --------------  -----  \n",
      " 0   age       297 non-null    float64\n",
      " 1   interest  297 non-null    float64\n",
      " 2   success   297 non-null    float64\n",
      "dtypes: float64(3)\n",
      "memory usage: 7.1 KB\n"
     ]
    }
   ],
   "source": [
    "df.info()"
   ]
  },
  {
   "cell_type": "code",
   "execution_count": 4,
   "id": "4b0e9126",
   "metadata": {},
   "outputs": [
    {
     "data": {
      "text/html": [
       "<div>\n",
       "<style scoped>\n",
       "    .dataframe tbody tr th:only-of-type {\n",
       "        vertical-align: middle;\n",
       "    }\n",
       "\n",
       "    .dataframe tbody tr th {\n",
       "        vertical-align: top;\n",
       "    }\n",
       "\n",
       "    .dataframe thead th {\n",
       "        text-align: right;\n",
       "    }\n",
       "</style>\n",
       "<table border=\"1\" class=\"dataframe\">\n",
       "  <thead>\n",
       "    <tr style=\"text-align: right;\">\n",
       "      <th></th>\n",
       "      <th>age</th>\n",
       "      <th>interest</th>\n",
       "      <th>success</th>\n",
       "    </tr>\n",
       "  </thead>\n",
       "  <tbody>\n",
       "    <tr>\n",
       "      <th>count</th>\n",
       "      <td>297.000000</td>\n",
       "      <td>297.000000</td>\n",
       "      <td>297.000000</td>\n",
       "    </tr>\n",
       "    <tr>\n",
       "      <th>mean</th>\n",
       "      <td>23.709718</td>\n",
       "      <td>46.986527</td>\n",
       "      <td>0.569024</td>\n",
       "    </tr>\n",
       "    <tr>\n",
       "      <th>std</th>\n",
       "      <td>8.864000</td>\n",
       "      <td>21.956447</td>\n",
       "      <td>0.496049</td>\n",
       "    </tr>\n",
       "    <tr>\n",
       "      <th>min</th>\n",
       "      <td>2.347560</td>\n",
       "      <td>-0.852800</td>\n",
       "      <td>0.000000</td>\n",
       "    </tr>\n",
       "    <tr>\n",
       "      <th>25%</th>\n",
       "      <td>17.002148</td>\n",
       "      <td>28.689067</td>\n",
       "      <td>0.000000</td>\n",
       "    </tr>\n",
       "    <tr>\n",
       "      <th>50%</th>\n",
       "      <td>23.283644</td>\n",
       "      <td>45.695926</td>\n",
       "      <td>1.000000</td>\n",
       "    </tr>\n",
       "    <tr>\n",
       "      <th>75%</th>\n",
       "      <td>30.661149</td>\n",
       "      <td>65.171876</td>\n",
       "      <td>1.000000</td>\n",
       "    </tr>\n",
       "    <tr>\n",
       "      <th>max</th>\n",
       "      <td>45.773729</td>\n",
       "      <td>97.175508</td>\n",
       "      <td>1.000000</td>\n",
       "    </tr>\n",
       "  </tbody>\n",
       "</table>\n",
       "</div>"
      ],
      "text/plain": [
       "              age    interest     success\n",
       "count  297.000000  297.000000  297.000000\n",
       "mean    23.709718   46.986527    0.569024\n",
       "std      8.864000   21.956447    0.496049\n",
       "min      2.347560   -0.852800    0.000000\n",
       "25%     17.002148   28.689067    0.000000\n",
       "50%     23.283644   45.695926    1.000000\n",
       "75%     30.661149   65.171876    1.000000\n",
       "max     45.773729   97.175508    1.000000"
      ]
     },
     "execution_count": 4,
     "metadata": {},
     "output_type": "execute_result"
    }
   ],
   "source": [
    "df.describe()"
   ]
  },
  {
   "cell_type": "markdown",
   "id": "eabd77be",
   "metadata": {},
   "source": [
    "### Part 1.1: Plotting Dataset for the 2 classes"
   ]
  },
  {
   "cell_type": "code",
   "execution_count": 5,
   "id": "19faf304",
   "metadata": {},
   "outputs": [
    {
     "data": {
      "image/png": "[encoded data removed]",
      "text/plain": [
       "<Figure size 432x288 with 1 Axes>"
      ]
     },
     "metadata": {
      "needs_background": "light"
     },
     "output_type": "display_data"
    }
   ],
   "source": [
    "sns.scatterplot(data = df, x = 'age', y = 'interest', hue = 'success', palette={0:'red', 1:'blue'})\n",
    "plt.show()"
   ]
  },
  {
   "cell_type": "markdown",
   "id": "0da91335",
   "metadata": {},
   "source": [
    "### Part 1.2:Implementing and Analyzing Least Square Method for Classification"
   ]
  },
  {
   "cell_type": "code",
   "execution_count": 6,
   "id": "f4b6a22f",
   "metadata": {},
   "outputs": [
    {
     "data": {
      "text/plain": [
       "(297, 3)"
      ]
     },
     "execution_count": 6,
     "metadata": {},
     "output_type": "execute_result"
    }
   ],
   "source": [
    "df.shape"
   ]
  },
  {
   "cell_type": "code",
   "execution_count": 7,
   "id": "a68e5c4a",
   "metadata": {},
   "outputs": [],
   "source": [
    "df_new = df.copy()"
   ]
  },
  {
   "cell_type": "code",
   "execution_count": 8,
   "id": "3e74020c",
   "metadata": {},
   "outputs": [],
   "source": [
    "def find_mean_std(df, attr):\n",
    "    \"\"\"\n",
    "    This function taken in a dataframe and an attribute name as arguments\n",
    "    Returns a tuple of mean and standard deviation of the attribute\n",
    "    \"\"\"\n",
    "    mean_attr = 0\n",
    "    for attr_val in df[attr]:\n",
    "        mean_attr = mean_attr + attr_val\n",
    "    mean_attr = mean_attr/len(df[attr])\n",
    "    \n",
    "    std_attr  = 0\n",
    "    for attr_val in df[attr]:\n",
    "        std_attr = std_attr + (attr_val - mean_attr)**2\n",
    "    std_attr = std_attr/len(df[attr])\n",
    "    \n",
    "    std_attr = sqrt(std_attr)\n",
    "    return mean_attr, std_attr\n",
    "def standardize_df(df, attr):\n",
    "    \"\"\"\n",
    "    This function taken in a dataframe and a list of attribute names as arguments\n",
    "    Returns the standardized dataframe\n",
    "    \"\"\"\n",
    "    df_new = df.copy()\n",
    "    for v in attr:\n",
    "        a_mean, a_std = find_mean_std(df_new, v)\n",
    "        for i,entry in enumerate(df_new[v]):\n",
    "            df_new.loc[i, v] = (entry - a_mean)/a_std\n",
    "    return df_new"
   ]
  },
  {
   "cell_type": "code",
   "execution_count": 9,
   "id": "b2e0c51e",
   "metadata": {},
   "outputs": [
    {
     "data": {
      "text/html": [
       "<div>\n",
       "<style scoped>\n",
       "    .dataframe tbody tr th:only-of-type {\n",
       "        vertical-align: middle;\n",
       "    }\n",
       "\n",
       "    .dataframe tbody tr th {\n",
       "        vertical-align: top;\n",
       "    }\n",
       "\n",
       "    .dataframe thead th {\n",
       "        text-align: right;\n",
       "    }\n",
       "</style>\n",
       "<table border=\"1\" class=\"dataframe\">\n",
       "  <thead>\n",
       "    <tr style=\"text-align: right;\">\n",
       "      <th></th>\n",
       "      <th>age</th>\n",
       "      <th>interest</th>\n",
       "      <th>success</th>\n",
       "    </tr>\n",
       "  </thead>\n",
       "  <tbody>\n",
       "    <tr>\n",
       "      <th>0</th>\n",
       "      <td>-0.005867</td>\n",
       "      <td>-1.283180</td>\n",
       "      <td>0.0</td>\n",
       "    </tr>\n",
       "    <tr>\n",
       "      <th>1</th>\n",
       "      <td>-0.128374</td>\n",
       "      <td>-1.323815</td>\n",
       "      <td>0.0</td>\n",
       "    </tr>\n",
       "    <tr>\n",
       "      <th>2</th>\n",
       "      <td>0.999394</td>\n",
       "      <td>-0.799421</td>\n",
       "      <td>0.0</td>\n",
       "    </tr>\n",
       "    <tr>\n",
       "      <th>3</th>\n",
       "      <td>-1.920167</td>\n",
       "      <td>-0.970912</td>\n",
       "      <td>1.0</td>\n",
       "    </tr>\n",
       "    <tr>\n",
       "      <th>4</th>\n",
       "      <td>-1.051840</td>\n",
       "      <td>-1.378487</td>\n",
       "      <td>0.0</td>\n",
       "    </tr>\n",
       "    <tr>\n",
       "      <th>...</th>\n",
       "      <td>...</td>\n",
       "      <td>...</td>\n",
       "      <td>...</td>\n",
       "    </tr>\n",
       "    <tr>\n",
       "      <th>292</th>\n",
       "      <td>0.450613</td>\n",
       "      <td>-1.285945</td>\n",
       "      <td>0.0</td>\n",
       "    </tr>\n",
       "    <tr>\n",
       "      <th>293</th>\n",
       "      <td>-0.967194</td>\n",
       "      <td>1.141170</td>\n",
       "      <td>1.0</td>\n",
       "    </tr>\n",
       "    <tr>\n",
       "      <th>294</th>\n",
       "      <td>-0.163333</td>\n",
       "      <td>0.979355</td>\n",
       "      <td>1.0</td>\n",
       "    </tr>\n",
       "    <tr>\n",
       "      <th>295</th>\n",
       "      <td>0.222363</td>\n",
       "      <td>1.967736</td>\n",
       "      <td>1.0</td>\n",
       "    </tr>\n",
       "    <tr>\n",
       "      <th>296</th>\n",
       "      <td>-0.281852</td>\n",
       "      <td>0.058350</td>\n",
       "      <td>1.0</td>\n",
       "    </tr>\n",
       "  </tbody>\n",
       "</table>\n",
       "<p>297 rows × 3 columns</p>\n",
       "</div>"
      ],
      "text/plain": [
       "          age  interest  success\n",
       "0   -0.005867 -1.283180      0.0\n",
       "1   -0.128374 -1.323815      0.0\n",
       "2    0.999394 -0.799421      0.0\n",
       "3   -1.920167 -0.970912      1.0\n",
       "4   -1.051840 -1.378487      0.0\n",
       "..        ...       ...      ...\n",
       "292  0.450613 -1.285945      0.0\n",
       "293 -0.967194  1.141170      1.0\n",
       "294 -0.163333  0.979355      1.0\n",
       "295  0.222363  1.967736      1.0\n",
       "296 -0.281852  0.058350      1.0\n",
       "\n",
       "[297 rows x 3 columns]"
      ]
     },
     "execution_count": 9,
     "metadata": {},
     "output_type": "execute_result"
    }
   ],
   "source": [
    "# The new dataframe being standardized\n",
    "df_new = standardize_df(df_new, ['age', 'interest'])\n",
    "df_new"
   ]
  },
  {
   "cell_type": "code",
   "execution_count": 10,
   "id": "871e0df1",
   "metadata": {},
   "outputs": [
    {
     "data": {
      "text/html": [
       "<div>\n",
       "<style scoped>\n",
       "    .dataframe tbody tr th:only-of-type {\n",
       "        vertical-align: middle;\n",
       "    }\n",
       "\n",
       "    .dataframe tbody tr th {\n",
       "        vertical-align: top;\n",
       "    }\n",
       "\n",
       "    .dataframe thead th {\n",
       "        text-align: right;\n",
       "    }\n",
       "</style>\n",
       "<table border=\"1\" class=\"dataframe\">\n",
       "  <thead>\n",
       "    <tr style=\"text-align: right;\">\n",
       "      <th></th>\n",
       "      <th>age</th>\n",
       "      <th>interest</th>\n",
       "      <th>success</th>\n",
       "    </tr>\n",
       "  </thead>\n",
       "  <tbody>\n",
       "    <tr>\n",
       "      <th>count</th>\n",
       "      <td>2.970000e+02</td>\n",
       "      <td>2.970000e+02</td>\n",
       "      <td>297.000000</td>\n",
       "    </tr>\n",
       "    <tr>\n",
       "      <th>mean</th>\n",
       "      <td>2.336328e-17</td>\n",
       "      <td>-6.359017e-16</td>\n",
       "      <td>0.569024</td>\n",
       "    </tr>\n",
       "    <tr>\n",
       "      <th>std</th>\n",
       "      <td>1.001688e+00</td>\n",
       "      <td>1.001688e+00</td>\n",
       "      <td>0.496049</td>\n",
       "    </tr>\n",
       "    <tr>\n",
       "      <th>min</th>\n",
       "      <td>-2.414058e+00</td>\n",
       "      <td>-2.182506e+00</td>\n",
       "      <td>0.000000</td>\n",
       "    </tr>\n",
       "    <tr>\n",
       "      <th>25%</th>\n",
       "      <td>-7.579976e-01</td>\n",
       "      <td>-8.347590e-01</td>\n",
       "      <td>0.000000</td>\n",
       "    </tr>\n",
       "    <tr>\n",
       "      <th>50%</th>\n",
       "      <td>-4.814903e-02</td>\n",
       "      <td>-5.887924e-02</td>\n",
       "      <td>1.000000</td>\n",
       "    </tr>\n",
       "    <tr>\n",
       "      <th>75%</th>\n",
       "      <td>7.855554e-01</td>\n",
       "      <td>8.296443e-01</td>\n",
       "      <td>1.000000</td>\n",
       "    </tr>\n",
       "    <tr>\n",
       "      <th>max</th>\n",
       "      <td>2.493372e+00</td>\n",
       "      <td>2.289700e+00</td>\n",
       "      <td>1.000000</td>\n",
       "    </tr>\n",
       "  </tbody>\n",
       "</table>\n",
       "</div>"
      ],
      "text/plain": [
       "                age      interest     success\n",
       "count  2.970000e+02  2.970000e+02  297.000000\n",
       "mean   2.336328e-17 -6.359017e-16    0.569024\n",
       "std    1.001688e+00  1.001688e+00    0.496049\n",
       "min   -2.414058e+00 -2.182506e+00    0.000000\n",
       "25%   -7.579976e-01 -8.347590e-01    0.000000\n",
       "50%   -4.814903e-02 -5.887924e-02    1.000000\n",
       "75%    7.855554e-01  8.296443e-01    1.000000\n",
       "max    2.493372e+00  2.289700e+00    1.000000"
      ]
     },
     "execution_count": 10,
     "metadata": {},
     "output_type": "execute_result"
    }
   ],
   "source": [
    "df_new.describe()"
   ]
  },
  {
   "cell_type": "code",
   "execution_count": 11,
   "id": "161f7080",
   "metadata": {},
   "outputs": [
    {
     "data": {
      "image/png": "[encoded data removed]",
      "text/plain": [
       "<Figure size 432x288 with 1 Axes>"
      ]
     },
     "metadata": {
      "needs_background": "light"
     },
     "output_type": "display_data"
    }
   ],
   "source": [
    "# Plot of the standardized dataset\n",
    "sns.scatterplot(data = df_new, x = 'age', y = 'interest', hue = 'success', palette={0:'red', 1:'blue'})\n",
    "plt.show()"
   ]
  },
  {
   "cell_type": "code",
   "execution_count": 12,
   "id": "5fa195b4",
   "metadata": {},
   "outputs": [],
   "source": [
    "d = df.shape[1] - 1 # number of features\n",
    "n = df.shape[0]     # number of data-points\n",
    "X_tilde = np.zeros((n, d + 1))"
   ]
  },
  {
   "cell_type": "code",
   "execution_count": 13,
   "id": "d452a1f8",
   "metadata": {},
   "outputs": [],
   "source": [
    "X_tilde[:, 0] = 1"
   ]
  },
  {
   "cell_type": "code",
   "execution_count": 14,
   "id": "2dfd70a7",
   "metadata": {},
   "outputs": [],
   "source": [
    "X_tilde[:, 1:] = df_new.iloc[:, 0:2]"
   ]
  },
  {
   "cell_type": "code",
   "execution_count": 15,
   "id": "d0206adb",
   "metadata": {},
   "outputs": [],
   "source": [
    "Y = np.zeros((n, 2))\n",
    "for i in range(n):\n",
    "    if df_new.iloc[i, 2] == 1:\n",
    "        Y[i, 1] = 1\n",
    "    else:\n",
    "        Y[i, 0] = 1"
   ]
  },
  {
   "cell_type": "code",
   "execution_count": 17,
   "id": "07e58b9b",
   "metadata": {},
   "outputs": [],
   "source": [
    "W = np.linalg.inv(X_tilde.T @ X_tilde) @  X_tilde.T @ Y"
   ]
  },
  {
   "cell_type": "code",
   "execution_count": 18,
   "id": "f9085483",
   "metadata": {},
   "outputs": [
    {
     "data": {
      "text/plain": [
       "array([[ 0.43097643,  0.56902357],\n",
       "       [-0.03266792,  0.03266792],\n",
       "       [-0.37204239,  0.37204239]])"
      ]
     },
     "execution_count": 18,
     "metadata": {},
     "output_type": "execute_result"
    }
   ],
   "source": [
    "W"
   ]
  },
  {
   "cell_type": "code",
   "execution_count": 19,
   "id": "2a974085",
   "metadata": {},
   "outputs": [],
   "source": [
    "# So equation of decision boundary is obtained by equating the two equations corresponding to 2 classes\n",
    "age_vals = np.linspace(-2.5, 2.5, num = 1000000)\n",
    "interest_vals = (-1 * (W[0][0] - W[0][1]) - (W[1][0] - W[1][1]) * age_vals)/(W[2][0] - W[2][1])"
   ]
  },
  {
   "cell_type": "code",
   "execution_count": 20,
   "id": "56fd0fc5",
   "metadata": {},
   "outputs": [],
   "source": [
    "predict = lambda x1, x2: ((W[0][0] - W[0][1]) + (W[1][0] - W[1][1])*x1 + (W[2][0] - W[2][1]) * x2)*(-1)"
   ]
  },
  {
   "cell_type": "code",
   "execution_count": 21,
   "id": "867913f7",
   "metadata": {},
   "outputs": [
    {
     "data": {
      "image/png": "[encoded data removed]",
      "text/plain": [
       "<Figure size 400x400 with 1 Axes>"
      ]
     },
     "metadata": {
      "needs_background": "light"
     },
     "output_type": "display_data"
    }
   ],
   "source": [
    "plt.figure(figsize=(5, 5), dpi = 80)\n",
    "sns.scatterplot(data = df_new, x = 'age', y = 'interest', hue = 'success',palette = {0:'red', 1:'blue'})\n",
    "plt.plot(age_vals, interest_vals, color = 'green')\n",
    "plt.xticks(np.arange(-3,3.1,0.5))\n",
    "plt.yticks(np.arange(-3,3.1,0.5))\n",
    "plt.show()"
   ]
  },
  {
   "cell_type": "markdown",
   "id": "49a69507",
   "metadata": {},
   "source": [
    "### Performance Analysis"
   ]
  },
  {
   "cell_type": "code",
   "execution_count": 22,
   "id": "eede63e5",
   "metadata": {},
   "outputs": [],
   "source": [
    "blue_data = [(tx,ty) for (tx,ty) in zip(X_tilde[:, 1:3], Y[:, 1]) if ty == 1]\n",
    "red_data = [(tx,ty) for (tx,ty) in zip(X_tilde[:, 1:3], Y[:, 1]) if ty == 0]"
   ]
  },
  {
   "cell_type": "code",
   "execution_count": 23,
   "id": "37c0b2f2",
   "metadata": {},
   "outputs": [],
   "source": [
    "incorrect_blue_data = [point for point in blue_data if predict(point[0][0], point[0][1]) < 0]\n",
    "incorrect_red_data = [point for point in red_data if predict(point[0][0], point[0][1]) >= 0]"
   ]
  },
  {
   "cell_type": "code",
   "execution_count": 24,
   "id": "6999af7a",
   "metadata": {},
   "outputs": [
    {
     "data": {
      "text/plain": [
       "87.54208754208754"
      ]
     },
     "execution_count": 24,
     "metadata": {},
     "output_type": "execute_result"
    }
   ],
   "source": [
    "# Accuracy Measure:\n",
    "accuracy_lsquare = (1 - (len(incorrect_blue_data) + len(incorrect_red_data))/(len(X_tilde))) * 100\n",
    "accuracy_lsquare"
   ]
  },
  {
   "cell_type": "code",
   "execution_count": 25,
   "id": "b0463e90",
   "metadata": {},
   "outputs": [
    {
     "name": "stdout",
     "output_type": "stream",
     "text": [
      "27 number of blue points incorrectly classified  as red\n",
      "and\n",
      "10 number of red points incorrectly classified as blue\n"
     ]
    }
   ],
   "source": [
    "print(f'''{len(incorrect_blue_data)} number of blue points incorrectly classified  as red\n",
    "and\n",
    "{len(incorrect_red_data)} number of red points incorrectly classified as blue''')"
   ]
  },
  {
   "cell_type": "code",
   "execution_count": 26,
   "id": "4018edd0",
   "metadata": {},
   "outputs": [
    {
     "name": "stdout",
     "output_type": "stream",
     "text": [
      " Equation of the decision boundary after subtracting y_hat_blue from y_hat_red is:\n",
      "0.13804713804713836 + 0.06533584101439405 * age + 0.7440847874225556 * interest = 0\n"
     ]
    }
   ],
   "source": [
    "# Equation of boundary:\n",
    "print(f''' Equation of the decision boundary after subtracting y_hat_blue from y_hat_red is:\n",
    "{W[0][1] - W[0][0]} + {W[1][1] - W[1][0]} * age + {W[2][1] - W[2][0]} * interest = 0''')"
   ]
  },
  {
   "cell_type": "markdown",
   "id": "2fae2da6",
   "metadata": {},
   "source": [
    "## Results of Least Square Method for Classification:\n",
    "- The data was first standardized, i.e. made to have mean 0 and variance 1 on the age and interest attributes\n",
    "- The OLS formula for classification , i.e. (X.T * X)^(-1) X.T * Y was applied which gave y_hat prediction coefficients corresponding to each class\n",
    "- The 2 linear equations after being equated gave the line plotted above, \n",
    "- which is 0.0653* age + 0.744 * interest + 0.138 = 0\n",
    "- The decision boundary obtained does a decent job in classifying the points, though there are some points which it doesn't classify correctly\n",
    "- Accuracy of the classifier was **87.54%**, with **27 blue points** misclassified and **10 red points** misclassified\n",
    "- Qualitatively we can say if interest of a person is high enough he or she will be successful in learning a new sport\n",
    "- Also people with more life experience (higher age) will be able to successfully learn the sport, these are the **Blue data points** which are misclassified by the classifier as it tries to only handle least square error"
   ]
  },
  {
   "cell_type": "markdown",
   "id": "8c0ae5b4",
   "metadata": {},
   "source": [
    "### Part 1.3: Implementing Logistic Regression Using Gradient Descent"
   ]
  },
  {
   "cell_type": "code",
   "execution_count": 27,
   "id": "b1d04cb4",
   "metadata": {},
   "outputs": [],
   "source": [
    "def sigmoid(w0, w1, x):\n",
    "    return 1/(1 + exp(-w0 - np.dot(w1,x)))"
   ]
  },
  {
   "cell_type": "markdown",
   "id": "01c881da",
   "metadata": {},
   "source": [
    "- At decision boundary P(C1|x) = sigmoid(a) = P(C2|x) = 1 - sigmoid(a)\n",
    "- which gives sigmoid(a) = 1/2\n",
    "- 1/(1 + exp(-a)) = 1/2\n",
    "- exp(-a) = 1\n",
    "- a = 0\n",
    "- w0 + w1Tx = 0"
   ]
  },
  {
   "cell_type": "code",
   "execution_count": 28,
   "id": "6f04c473",
   "metadata": {},
   "outputs": [],
   "source": [
    "def logistic_reg(X, y, w0, w1, eta = 0.00005, epochs = 10000):\n",
    "    del_w0 = -1 * sum(y - [sigmoid(w0, w1, x) for x in X])\n",
    "    del_w1 = np.array(-1 * sum([(y[i] - sigmoid(w0, w1, X[i])) * X[i, :] for i in range(len(X))]))\n",
    "    i = 0\n",
    "    w0_old = w0\n",
    "    w1_old = w1\n",
    "    while i < epochs:\n",
    "        w0_old = w0\n",
    "        w1_old = w1\n",
    "        w0 = w0 - eta * del_w0\n",
    "        w1 = w1 - eta * del_w1\n",
    "        del_w0 = -1 * sum(y - [sigmoid(w0, w1, x) for x in X])\n",
    "        del_w1 = np.array(-1 * sum([(y[j] - sigmoid(w0, w1, X[j])) * X[j, :] for j in range(len(X))]))\n",
    "        i = i + 1\n",
    "    return w0, w1"
   ]
  },
  {
   "cell_type": "code",
   "execution_count": 29,
   "id": "f61d7a93",
   "metadata": {},
   "outputs": [],
   "source": [
    "# Value of w initialized to 0\n",
    "w0 = 0\n",
    "w1 = np.array([0.0,0.0])"
   ]
  },
  {
   "cell_type": "code",
   "execution_count": 30,
   "id": "18681e16",
   "metadata": {},
   "outputs": [],
   "source": [
    "X = df_new.iloc[:, 0:2].values\n",
    "Y = df_new.iloc[:, 2].values"
   ]
  },
  {
   "cell_type": "code",
   "execution_count": 31,
   "id": "f158e3da",
   "metadata": {},
   "outputs": [],
   "source": [
    "w0, w1 = logistic_reg(X, Y, w0, w1)"
   ]
  },
  {
   "cell_type": "code",
   "execution_count": 32,
   "id": "cc22dcc4",
   "metadata": {},
   "outputs": [
    {
     "data": {
      "text/plain": [
       "(0.9939403521492215, array([0.65915001, 3.49078548]))"
      ]
     },
     "execution_count": 32,
     "metadata": {},
     "output_type": "execute_result"
    }
   ],
   "source": [
    "w0, w1"
   ]
  },
  {
   "cell_type": "code",
   "execution_count": 33,
   "id": "16267225",
   "metadata": {},
   "outputs": [
    {
     "data": {
      "image/png": "[encoded data removed]",
      "text/plain": [
       "<Figure size 1080x1080 with 2 Axes>"
      ]
     },
     "metadata": {
      "needs_background": "light"
     },
     "output_type": "display_data"
    }
   ],
   "source": [
    "x = df_new.iloc[:, 0]\n",
    "y = df_new.iloc[:, 1]\n",
    "color_sequence = ['red' if yy == 0 else 'blue' for yy in Y]\n",
    "z = pd.Series([sigmoid(w0, w1, x) for x in X])\n",
    "xx = np.linspace(-3, 3, 100)\n",
    "yy = np.linspace(-3, 3, 100)\n",
    "xx, yy = np.meshgrid(x, y)\n",
    "eq = 0 * xx + 0.5\n",
    "\n",
    "\n",
    "fig = plt.figure(figsize=(15, 15))\n",
    "fig.subplots_adjust(hspace = 0.5, wspace = 0.5)\n",
    "ax = fig.add_subplot(1, 2, 1, projection = '3d')\n",
    "ax = fig.gca(projection='3d')\n",
    "ax.plot_surface(xx, yy, eq,color = 'yellow',shade = False, alpha = 0.01)\n",
    "ax.set_xlabel(\"Standardized Age\")\n",
    "ax.set_ylabel(\"Standardized Interest\")\n",
    "ax.set_zlabel(\"Sigmoid Value\")\n",
    "ax.scatter(x, y, z, s=20, c=np.array(color_sequence), marker='o', alpha=1)\n",
    "\n",
    "\n",
    "ax = fig.add_subplot(1, 2, 2, projection = '3d')\n",
    "ax.set_xlabel(\"Standardized Age\")\n",
    "ax.set_ylabel(\"Standardized Interest\")\n",
    "ax.set_zlabel(\"Sigmoid Value\")\n",
    "ax.scatter(x, y, z, s=20, c=np.array(color_sequence), marker='o', alpha=1)\n",
    "ax = fig.gca(projection='3d')\n",
    "ax.plot_surface(xx, yy, eq,color = 'yellow',shade = False, alpha = 0.01)\n",
    "ax.view_init(10, 8)\n",
    "plt.show()"
   ]
  },
  {
   "cell_type": "code",
   "execution_count": 34,
   "id": "6ebef651",
   "metadata": {},
   "outputs": [],
   "source": [
    "blue_data = [(tx,ty) for (tx,ty) in zip(X, Y) if ty == 1]\n",
    "red_data = [(tx,ty) for (tx,ty) in zip(X, Y) if ty == 0]\n",
    "incorrect_blue_data = [point for point in blue_data if sigmoid(w0, w1, point[0])<0.5]\n",
    "incorrect_red_data = [point for point in red_data if sigmoid(w0, w1, point[0])>=0.5]"
   ]
  },
  {
   "cell_type": "code",
   "execution_count": 35,
   "id": "594d1b9a",
   "metadata": {},
   "outputs": [
    {
     "data": {
      "text/plain": [
       "38"
      ]
     },
     "execution_count": 35,
     "metadata": {},
     "output_type": "execute_result"
    }
   ],
   "source": [
    "total_misclassified_logistic = len(incorrect_blue_data) + len(incorrect_red_data)\n",
    "total_misclassified_logistic"
   ]
  },
  {
   "cell_type": "code",
   "execution_count": 36,
   "id": "41a62f6d",
   "metadata": {},
   "outputs": [
    {
     "data": {
      "text/plain": [
       "(24, 14)"
      ]
     },
     "execution_count": 36,
     "metadata": {},
     "output_type": "execute_result"
    }
   ],
   "source": [
    "len(incorrect_blue_data), len(incorrect_red_data)"
   ]
  },
  {
   "cell_type": "code",
   "execution_count": 37,
   "id": "68c1582b",
   "metadata": {},
   "outputs": [
    {
     "data": {
      "text/plain": [
       "87.20538720538721"
      ]
     },
     "execution_count": 37,
     "metadata": {},
     "output_type": "execute_result"
    }
   ],
   "source": [
    "accuracy_logistic = 1 - total_misclassified_logistic/(len(blue_data) + len(red_data))\n",
    "accuracy_logistic * 100"
   ]
  },
  {
   "cell_type": "markdown",
   "id": "c9acba46",
   "metadata": {},
   "source": [
    "### Comparison of Logistic Regression with Least Squares\n",
    "- Logistic regression has a performance similar to least square classsification as is seen from above accuracy\n",
    "- In fact here least square classification had 37 incorrectly classified points, and it's accuracy was slightly better\n",
    "- This might be in the training data, but possibly for test data logistic regression may give better results, here dataset wasn't divided into training and testing because it was not explicitly asked, and dataset had only 297 points\n",
    "- Also the gradient descent step in the logistic regression introduces some error based on number of iterations and learning rate"
   ]
  },
  {
   "cell_type": "markdown",
   "id": "1942c714",
   "metadata": {},
   "source": [
    "### Part 4: Plotting the Logistic Regression Boundary in 2-D"
   ]
  },
  {
   "cell_type": "code",
   "execution_count": 38,
   "id": "df02bf3d",
   "metadata": {},
   "outputs": [],
   "source": [
    "age_vals = np.linspace(-2.5, 2.5, num = 1000000)\n",
    "interest_vals = (-1 * (w0) - (w1[0]) * age_vals)/(w1[1])"
   ]
  },
  {
   "cell_type": "code",
   "execution_count": 39,
   "id": "e026c2b0",
   "metadata": {},
   "outputs": [
    {
     "data": {
      "image/png": "[encoded data removed]",
      "text/plain": [
       "<Figure size 432x288 with 1 Axes>"
      ]
     },
     "metadata": {
      "needs_background": "light"
     },
     "output_type": "display_data"
    }
   ],
   "source": [
    "sns.scatterplot(data = df_new, x = 'age', y = 'interest', hue = 'success',palette = {0:'red', 1:'blue'})\n",
    "plt.plot(age_vals, interest_vals, color = 'green')\n",
    "plt.show()"
   ]
  },
  {
   "cell_type": "markdown",
   "id": "24908339",
   "metadata": {},
   "source": [
    "## Part 5: Linear Discriminant Boundary"
   ]
  },
  {
   "cell_type": "markdown",
   "id": "33bd5648",
   "metadata": {},
   "source": [
    "#### Finding Mean of the separate classes, which are blue(successful) and red(unsuccessful) points"
   ]
  },
  {
   "cell_type": "code",
   "execution_count": 40,
   "id": "ce431058",
   "metadata": {},
   "outputs": [],
   "source": [
    "mu1 = np.reshape(sum([x[0] for x in blue_data])/len(blue_data), (-1, 1))\n",
    "mu2 = np.reshape(sum([x[0] for x in red_data])/len(red_data), (-1, 1))"
   ]
  },
  {
   "cell_type": "code",
   "execution_count": 41,
   "id": "4bc61953",
   "metadata": {},
   "outputs": [],
   "source": [
    "# The below matrix is involved in maximizing the difference between means(and hence separation) of the 2 classes\n",
    "# (mu1 - mu2)^2 = w.T @ B @ w\n",
    "# This matrix is called between class scatter matrix\n",
    "B = (mu1 - mu2) @ ((mu1 - mu2).T)"
   ]
  },
  {
   "cell_type": "code",
   "execution_count": 42,
   "id": "b391809f",
   "metadata": {},
   "outputs": [],
   "source": [
    "# Calculating Within Class scatter matrix, for blue points, \n",
    "# which is involved in trying to minimize the within class variance as\n",
    "# s1^2 = w.T @ S1 @ w\n",
    "S1 = np.zeros((d, d))\n",
    "for i in range(len(blue_data)):\n",
    "    S1 = S1 + (blue_data[i][0].reshape((-1, 1)) - mu1) @ ((blue_data[i][0].reshape((-1, 1)) - mu1).T)"
   ]
  },
  {
   "cell_type": "code",
   "execution_count": 43,
   "id": "eda3b456",
   "metadata": {},
   "outputs": [],
   "source": [
    "# Calculating Within Class scatter matrix, for red points, \n",
    "# which is involved in trying to minimize the within class variance as\n",
    "# s2^2 = w.T @ S2 @ w\n",
    "S2 = np.zeros((d,d))\n",
    "for i in range(len(red_data)):\n",
    "    S2 = S2 + (red_data[i][0].reshape((-1, 1)) - mu2) @ ((red_data[i][0].reshape((-1, 1)) - mu2).T)"
   ]
  },
  {
   "cell_type": "code",
   "execution_count": 44,
   "id": "5f9a0d19",
   "metadata": {},
   "outputs": [],
   "source": [
    "# The overall within class scatter matrix as sum of both within class scatter matrices\n",
    "# which is invoved as w.T @ S @ w\n",
    "S = S1 + S2"
   ]
  },
  {
   "cell_type": "code",
   "execution_count": 45,
   "id": "baa41010",
   "metadata": {},
   "outputs": [
    {
     "data": {
      "text/plain": [
       "array([[0.00037636, 0.00165195],\n",
       "       [0.00428617, 0.01881345]])"
      ]
     },
     "execution_count": 45,
     "metadata": {},
     "output_type": "execute_result"
    }
   ],
   "source": [
    "# Formulating the eigen value problem as (S^-1 @ B) w  = lambda * w\n",
    "# Below id S^(-1) @ B \n",
    "mat = np.linalg.inv(S) @ B\n",
    "mat"
   ]
  },
  {
   "cell_type": "code",
   "execution_count": 46,
   "id": "fc363961",
   "metadata": {},
   "outputs": [],
   "source": [
    "eig_val, eig_vec = np.linalg.eig(mat)"
   ]
  },
  {
   "cell_type": "code",
   "execution_count": 47,
   "id": "efb782a1",
   "metadata": {},
   "outputs": [
    {
     "data": {
      "text/plain": [
       "array([[-0.97501636, -0.08747043],\n",
       "       [ 0.22213304, -0.99616712]])"
      ]
     },
     "execution_count": 47,
     "metadata": {},
     "output_type": "execute_result"
    }
   ],
   "source": [
    "eig_vec"
   ]
  },
  {
   "cell_type": "code",
   "execution_count": 48,
   "id": "019e2132",
   "metadata": {},
   "outputs": [
    {
     "data": {
      "text/plain": [
       "array([-3.46944695e-18,  1.91898034e-02])"
      ]
     },
     "execution_count": 48,
     "metadata": {},
     "output_type": "execute_result"
    }
   ],
   "source": [
    "eig_val"
   ]
  },
  {
   "cell_type": "code",
   "execution_count": 49,
   "id": "e7c03e90",
   "metadata": {},
   "outputs": [
    {
     "data": {
      "text/plain": [
       "array([[1.]])"
      ]
     },
     "execution_count": 49,
     "metadata": {},
     "output_type": "execute_result"
    }
   ],
   "source": [
    "# Verifying unit norm of eigen vector corresponding to maximum eigen value\n",
    "eig_vec[:, 1].reshape((-1, 1)).T @ eig_vec[:, 1].reshape((-1, 1))"
   ]
  },
  {
   "cell_type": "code",
   "execution_count": 50,
   "id": "630395da",
   "metadata": {},
   "outputs": [
    {
     "data": {
      "text/plain": [
       "array([[-0.08747043],\n",
       "       [-0.99616712]])"
      ]
     },
     "execution_count": 50,
     "metadata": {},
     "output_type": "execute_result"
    }
   ],
   "source": [
    "# Storing the eigen vector corresponding to dominant eigenvalue\n",
    "w = eig_vec[:, 1].reshape((-1, 1))\n",
    "w"
   ]
  },
  {
   "cell_type": "code",
   "execution_count": 51,
   "id": "be815ea8",
   "metadata": {},
   "outputs": [
    {
     "name": "stdout",
     "output_type": "stream",
     "text": [
      "11.388615740916649 -0.08780698398728412\n"
     ]
    }
   ],
   "source": [
    "# Finding slope of boundary line from eigen-vector\n",
    "# The boundary will be perpendicular to the eigen vector\n",
    "slope_vector = w[1][0]/w[0][0]\n",
    "slope_boundary = -1/slope_vector\n",
    "print(slope_vector, slope_boundary)"
   ]
  },
  {
   "cell_type": "code",
   "execution_count": 52,
   "id": "cc544c4d",
   "metadata": {},
   "outputs": [],
   "source": [
    "# Finding data points projected on the eigen vector\n",
    "X_projected = np.zeros(X.shape)\n",
    "for i, x in enumerate(X):\n",
    "    X_projected[i] = ((w @ w.T) @ (x.reshape((-1, 1))-(mu1 + mu2)/2) + (mu1 + mu2)/2).reshape((2))"
   ]
  },
  {
   "cell_type": "code",
   "execution_count": 53,
   "id": "493c4d6e",
   "metadata": {},
   "outputs": [
    {
     "data": {
      "text/plain": [
       "array([[-0.02415583],\n",
       "       [-0.10602801]])"
      ]
     },
     "execution_count": 53,
     "metadata": {},
     "output_type": "execute_result"
    }
   ],
   "source": [
    "mid_point = (mu1 + mu2)/2\n",
    "mid_point"
   ]
  },
  {
   "cell_type": "code",
   "execution_count": 54,
   "id": "416fa658",
   "metadata": {},
   "outputs": [],
   "source": [
    "# Equation of boundary is interest - interest_value = m * (age - age_value)\n",
    "age_vals = np.linspace(-2.5, 2.5, num = 1000000)\n",
    "interest_vals = (mid_point[1][0] - slope_boundary * mid_point[0][0] + slope_boundary * age_vals)"
   ]
  },
  {
   "cell_type": "code",
   "execution_count": 55,
   "id": "027730c5",
   "metadata": {},
   "outputs": [
    {
     "data": {
      "image/png": "[encoded data removed]",
      "text/plain": [
       "<Figure size 432x288 with 1 Axes>"
      ]
     },
     "metadata": {
      "needs_background": "light"
     },
     "output_type": "display_data"
    }
   ],
   "source": [
    "sns.scatterplot(x = X_projected[:, 0], y = X_projected[:, 1], hue = Y, palette={1:'cyan', 0:'orange'})\n",
    "sns.scatterplot(data = df_new, x = 'age', y = 'interest', hue = 'success',palette = {0:'red', 1:'blue'})\n",
    "plt.plot(age_vals, interest_vals, color = 'green')\n",
    "plt.xlabel(\"age\")\n",
    "plt.ylabel(\"interest\")\n",
    "plt.show()"
   ]
  },
  {
   "cell_type": "code",
   "execution_count": 56,
   "id": "92fe8f28",
   "metadata": {},
   "outputs": [],
   "source": [
    "predict_lda  = lambda age, interest: interest - mid_point[1][0] - slope_boundary * age + slope_boundary * mid_point[0][0]"
   ]
  },
  {
   "cell_type": "code",
   "execution_count": 57,
   "id": "e405e9be",
   "metadata": {},
   "outputs": [],
   "source": [
    "incorrect_blue_data = [point for point in blue_data if predict_lda(point[0][0], point[0][1])<0]\n",
    "incorrect_red_data = [point for point in red_data if predict_lda(point[0][0], point[0][1])>=0.5]"
   ]
  },
  {
   "cell_type": "code",
   "execution_count": 58,
   "id": "28b360d3",
   "metadata": {},
   "outputs": [
    {
     "name": "stdout",
     "output_type": "stream",
     "text": [
      "29 blue points misclassified and 3 red points misclassified\n",
      "32 are total misclassified points in LDA\n"
     ]
    }
   ],
   "source": [
    "lda_misclassified_pts = len(incorrect_blue_data) + len(incorrect_red_data)\n",
    "print(f'{len(incorrect_blue_data)} blue points misclassified and {len(incorrect_red_data)} red points misclassified')\n",
    "print(f'{lda_misclassified_pts} are total misclassified points in LDA')"
   ]
  },
  {
   "cell_type": "code",
   "execution_count": 59,
   "id": "5ec3a8c1",
   "metadata": {},
   "outputs": [
    {
     "data": {
      "text/plain": [
       "89.22558922558923"
      ]
     },
     "execution_count": 59,
     "metadata": {},
     "output_type": "execute_result"
    }
   ],
   "source": [
    "accuracy_lda = 1 - lda_misclassified_pts/(len(blue_data) + len(red_data))\n",
    "accuracy_lda * 100"
   ]
  },
  {
   "cell_type": "code",
   "execution_count": 60,
   "id": "46400cde",
   "metadata": {},
   "outputs": [
    {
     "data": {
      "text/plain": [
       "0.10814906346491704"
      ]
     },
     "execution_count": 60,
     "metadata": {},
     "output_type": "execute_result"
    }
   ],
   "source": [
    "# calculating constant term of decision boundary line\n",
    "- mid_point[1][0]  + slope_boundary * mid_point[0][0]"
   ]
  },
  {
   "cell_type": "markdown",
   "id": "69dda87f",
   "metadata": {},
   "source": [
    "### Results:\n",
    "- equation of decision boundary obtained is :\n",
    "    ```interest - 0.0878 * age + 0.10814 = 0```\n",
    "- LDA performs better than both logistic regression and least squares classification\n",
    "- It achieved an accuracy of **89.22%** more than **87.20%** of Logistic Regression and **87.54%** of Least Squares classification\n",
    "- **29 blue points** and **3 red points** were misclassified, total of **32**, lesser than **Logistic Regression(38)** and **Least Squares Classification(37)** "
   ]
  },
  {
   "cell_type": "markdown",
   "id": "09d69f42",
   "metadata": {},
   "source": [
    "## Part 6: Non-Linear Decision Boundaries Using Logistic Regression"
   ]
  },
  {
   "cell_type": "code",
   "execution_count": 61,
   "id": "79914879",
   "metadata": {},
   "outputs": [],
   "source": [
    "def generate_feature_degrees(n):\n",
    "    '''\n",
    "    this function returns all possible polynomial features required for data transformation\n",
    "    '''\n",
    "    features_list = []\n",
    "    for i in range(n + 1):\n",
    "        for j in range(i+1):\n",
    "            features_list.append((j, i-j))\n",
    "    return features_list"
   ]
  },
  {
   "cell_type": "code",
   "execution_count": 62,
   "id": "44c2ce0a",
   "metadata": {},
   "outputs": [],
   "source": [
    "def transform_data(X, features_list):\n",
    "    X_transformed = np.zeros((X.shape[0], len(features_list) - 1))\n",
    "    for i, x in enumerate(X):\n",
    "        for j in range(X_transformed.shape[1]):\n",
    "            X_transformed[i, j] = (X[i, 0]**(features_list[j+1][0])) * (X[i, 1]**features_list[j+1][1]) \n",
    "    return X_transformed"
   ]
  },
  {
   "cell_type": "code",
   "execution_count": 63,
   "id": "700f1081",
   "metadata": {},
   "outputs": [],
   "source": [
    "def logistic_poly(X, y, degree = 2, epochs = 10000, eta = 0.0001):\n",
    "    '''\n",
    "    Returns feature weights in lexicographic order of degree tuples from least to max for a particular degree\n",
    "    eg: for degree = 2, weights will be in order for terms 1, x2, x1, x2^2, x2*x1, x1^2\n",
    "    here lexicographic order is maintained as degree tuples list is (0, 0), (0, 1), (1, 0), (0, 2), (1, 1), (2, 0)\n",
    "    '''\n",
    "    features_list = generate_feature_degrees(degree)\n",
    "#     print(features_list)\n",
    "    w0 = 0\n",
    "    W = np.zeros((len(features_list) - 1))\n",
    "    X_transformed = transform_data(X, features_list)\n",
    "    del_w0 = -1 * sum(y - [sigmoid(w0, W, x) for x in X_transformed])\n",
    "    del_W = np.array(sum([(-y[i] + sigmoid(w0, W, X_transformed[i])) * X_transformed[i, :] for i in range(len(X_transformed))]))\n",
    "    i = 0\n",
    "    w0_old = w0\n",
    "    W_old = W\n",
    "    while i < epochs:\n",
    "        w0_old = w0\n",
    "        W_old = W\n",
    "        w0 = w0 - eta * del_w0\n",
    "        W = W - eta * del_W\n",
    "        del_w0 = -1 * sum(y - [sigmoid(w0, W, x) for x in X_transformed])\n",
    "        del_W = np.array(sum([(-y[j] + sigmoid(w0, W, X_transformed[j])) * X_transformed[j, :] for j in range(len(X_transformed))]))\n",
    "        i = i + 1\n",
    "    return features_list, X_transformed, w0, W"
   ]
  },
  {
   "cell_type": "code",
   "execution_count": 64,
   "id": "c77f4299",
   "metadata": {},
   "outputs": [],
   "source": [
    "def train_test(X, Y):\n",
    "    x = X.copy()\n",
    "    y = Y.copy()\n",
    "    np.random.seed(0)\n",
    "    indices = np.arange(0, x.shape[0])\n",
    "    np.random.shuffle(indices)\n",
    "    train_indices = indices[ : (4 * x.shape[0])//5]\n",
    "    test_indices = indices[(4 * x.shape[0])//5 : ]\n",
    "    x_train = x[train_indices]\n",
    "    y_train = y[train_indices]\n",
    "    x_test = x[test_indices]\n",
    "    y_test = y[test_indices]\n",
    "    return x_train, x_test, y_train, y_test"
   ]
  },
  {
   "cell_type": "code",
   "execution_count": 65,
   "id": "082b5575",
   "metadata": {},
   "outputs": [],
   "source": [
    "X = df_new.iloc[:, 0:2].values\n",
    "Y = df_new.iloc[:, 2].values"
   ]
  },
  {
   "cell_type": "code",
   "execution_count": 66,
   "id": "5e44c814",
   "metadata": {},
   "outputs": [],
   "source": [
    "x_train, x_test, y_train, y_test = train_test(X, Y)"
   ]
  },
  {
   "cell_type": "code",
   "execution_count": 67,
   "id": "8abbe396",
   "metadata": {},
   "outputs": [],
   "source": [
    "train_analysis_df = pd.DataFrame(data = np.zeros((8, 7)), columns=['tot_pts', 'blue_pts', 'red_pts', 'mis_as_red', 'mis_as_blue', 'tot_mis','acc'])\n",
    "test_analysis_df = pd.DataFrame(data = np.zeros((8, 7)), columns=['tot_pts', 'blue_pts', 'red_pts', 'mis_as_red', 'mis_as_blue', 'tot_mis','acc'])"
   ]
  },
  {
   "cell_type": "code",
   "execution_count": 68,
   "id": "644dbf85",
   "metadata": {},
   "outputs": [],
   "source": [
    "train_analysis_df['tot_pts'] = x_train.shape[0]\n",
    "train_analysis_df['blue_pts'] = sum(y_train)\n",
    "train_analysis_df['red_pts'] = x_train.shape[0] - train_analysis_df['blue_pts']\n",
    "\n",
    "test_analysis_df['tot_pts'] = x_test.shape[0]\n",
    "test_analysis_df['blue_pts'] = sum(y_test)\n",
    "test_analysis_df['red_pts'] = x_test.shape[0] - test_analysis_df['blue_pts']"
   ]
  },
  {
   "cell_type": "code",
   "execution_count": 69,
   "id": "16674d5b",
   "metadata": {},
   "outputs": [
    {
     "data": {
      "text/html": [
       "<div>\n",
       "<style scoped>\n",
       "    .dataframe tbody tr th:only-of-type {\n",
       "        vertical-align: middle;\n",
       "    }\n",
       "\n",
       "    .dataframe tbody tr th {\n",
       "        vertical-align: top;\n",
       "    }\n",
       "\n",
       "    .dataframe thead th {\n",
       "        text-align: right;\n",
       "    }\n",
       "</style>\n",
       "<table border=\"1\" class=\"dataframe\">\n",
       "  <thead>\n",
       "    <tr style=\"text-align: right;\">\n",
       "      <th></th>\n",
       "      <th>tot_pts</th>\n",
       "      <th>blue_pts</th>\n",
       "      <th>red_pts</th>\n",
       "      <th>mis_as_red</th>\n",
       "      <th>mis_as_blue</th>\n",
       "      <th>tot_mis</th>\n",
       "      <th>acc</th>\n",
       "    </tr>\n",
       "  </thead>\n",
       "  <tbody>\n",
       "    <tr>\n",
       "      <th>0</th>\n",
       "      <td>237</td>\n",
       "      <td>136.0</td>\n",
       "      <td>101.0</td>\n",
       "      <td>0.0</td>\n",
       "      <td>0.0</td>\n",
       "      <td>0.0</td>\n",
       "      <td>0.0</td>\n",
       "    </tr>\n",
       "    <tr>\n",
       "      <th>1</th>\n",
       "      <td>237</td>\n",
       "      <td>136.0</td>\n",
       "      <td>101.0</td>\n",
       "      <td>0.0</td>\n",
       "      <td>0.0</td>\n",
       "      <td>0.0</td>\n",
       "      <td>0.0</td>\n",
       "    </tr>\n",
       "    <tr>\n",
       "      <th>2</th>\n",
       "      <td>237</td>\n",
       "      <td>136.0</td>\n",
       "      <td>101.0</td>\n",
       "      <td>0.0</td>\n",
       "      <td>0.0</td>\n",
       "      <td>0.0</td>\n",
       "      <td>0.0</td>\n",
       "    </tr>\n",
       "    <tr>\n",
       "      <th>3</th>\n",
       "      <td>237</td>\n",
       "      <td>136.0</td>\n",
       "      <td>101.0</td>\n",
       "      <td>0.0</td>\n",
       "      <td>0.0</td>\n",
       "      <td>0.0</td>\n",
       "      <td>0.0</td>\n",
       "    </tr>\n",
       "    <tr>\n",
       "      <th>4</th>\n",
       "      <td>237</td>\n",
       "      <td>136.0</td>\n",
       "      <td>101.0</td>\n",
       "      <td>0.0</td>\n",
       "      <td>0.0</td>\n",
       "      <td>0.0</td>\n",
       "      <td>0.0</td>\n",
       "    </tr>\n",
       "    <tr>\n",
       "      <th>5</th>\n",
       "      <td>237</td>\n",
       "      <td>136.0</td>\n",
       "      <td>101.0</td>\n",
       "      <td>0.0</td>\n",
       "      <td>0.0</td>\n",
       "      <td>0.0</td>\n",
       "      <td>0.0</td>\n",
       "    </tr>\n",
       "    <tr>\n",
       "      <th>6</th>\n",
       "      <td>237</td>\n",
       "      <td>136.0</td>\n",
       "      <td>101.0</td>\n",
       "      <td>0.0</td>\n",
       "      <td>0.0</td>\n",
       "      <td>0.0</td>\n",
       "      <td>0.0</td>\n",
       "    </tr>\n",
       "    <tr>\n",
       "      <th>7</th>\n",
       "      <td>237</td>\n",
       "      <td>136.0</td>\n",
       "      <td>101.0</td>\n",
       "      <td>0.0</td>\n",
       "      <td>0.0</td>\n",
       "      <td>0.0</td>\n",
       "      <td>0.0</td>\n",
       "    </tr>\n",
       "  </tbody>\n",
       "</table>\n",
       "</div>"
      ],
      "text/plain": [
       "   tot_pts  blue_pts  red_pts  mis_as_red  mis_as_blue  tot_mis  acc\n",
       "0      237     136.0    101.0         0.0          0.0      0.0  0.0\n",
       "1      237     136.0    101.0         0.0          0.0      0.0  0.0\n",
       "2      237     136.0    101.0         0.0          0.0      0.0  0.0\n",
       "3      237     136.0    101.0         0.0          0.0      0.0  0.0\n",
       "4      237     136.0    101.0         0.0          0.0      0.0  0.0\n",
       "5      237     136.0    101.0         0.0          0.0      0.0  0.0\n",
       "6      237     136.0    101.0         0.0          0.0      0.0  0.0\n",
       "7      237     136.0    101.0         0.0          0.0      0.0  0.0"
      ]
     },
     "execution_count": 69,
     "metadata": {},
     "output_type": "execute_result"
    }
   ],
   "source": [
    "train_analysis_df"
   ]
  },
  {
   "cell_type": "code",
   "execution_count": 70,
   "id": "f0ed2f5c",
   "metadata": {},
   "outputs": [
    {
     "data": {
      "text/html": [
       "<div>\n",
       "<style scoped>\n",
       "    .dataframe tbody tr th:only-of-type {\n",
       "        vertical-align: middle;\n",
       "    }\n",
       "\n",
       "    .dataframe tbody tr th {\n",
       "        vertical-align: top;\n",
       "    }\n",
       "\n",
       "    .dataframe thead th {\n",
       "        text-align: right;\n",
       "    }\n",
       "</style>\n",
       "<table border=\"1\" class=\"dataframe\">\n",
       "  <thead>\n",
       "    <tr style=\"text-align: right;\">\n",
       "      <th></th>\n",
       "      <th>tot_pts</th>\n",
       "      <th>blue_pts</th>\n",
       "      <th>red_pts</th>\n",
       "      <th>mis_as_red</th>\n",
       "      <th>mis_as_blue</th>\n",
       "      <th>tot_mis</th>\n",
       "      <th>acc</th>\n",
       "    </tr>\n",
       "  </thead>\n",
       "  <tbody>\n",
       "    <tr>\n",
       "      <th>0</th>\n",
       "      <td>60</td>\n",
       "      <td>33.0</td>\n",
       "      <td>27.0</td>\n",
       "      <td>0.0</td>\n",
       "      <td>0.0</td>\n",
       "      <td>0.0</td>\n",
       "      <td>0.0</td>\n",
       "    </tr>\n",
       "    <tr>\n",
       "      <th>1</th>\n",
       "      <td>60</td>\n",
       "      <td>33.0</td>\n",
       "      <td>27.0</td>\n",
       "      <td>0.0</td>\n",
       "      <td>0.0</td>\n",
       "      <td>0.0</td>\n",
       "      <td>0.0</td>\n",
       "    </tr>\n",
       "    <tr>\n",
       "      <th>2</th>\n",
       "      <td>60</td>\n",
       "      <td>33.0</td>\n",
       "      <td>27.0</td>\n",
       "      <td>0.0</td>\n",
       "      <td>0.0</td>\n",
       "      <td>0.0</td>\n",
       "      <td>0.0</td>\n",
       "    </tr>\n",
       "    <tr>\n",
       "      <th>3</th>\n",
       "      <td>60</td>\n",
       "      <td>33.0</td>\n",
       "      <td>27.0</td>\n",
       "      <td>0.0</td>\n",
       "      <td>0.0</td>\n",
       "      <td>0.0</td>\n",
       "      <td>0.0</td>\n",
       "    </tr>\n",
       "    <tr>\n",
       "      <th>4</th>\n",
       "      <td>60</td>\n",
       "      <td>33.0</td>\n",
       "      <td>27.0</td>\n",
       "      <td>0.0</td>\n",
       "      <td>0.0</td>\n",
       "      <td>0.0</td>\n",
       "      <td>0.0</td>\n",
       "    </tr>\n",
       "    <tr>\n",
       "      <th>5</th>\n",
       "      <td>60</td>\n",
       "      <td>33.0</td>\n",
       "      <td>27.0</td>\n",
       "      <td>0.0</td>\n",
       "      <td>0.0</td>\n",
       "      <td>0.0</td>\n",
       "      <td>0.0</td>\n",
       "    </tr>\n",
       "    <tr>\n",
       "      <th>6</th>\n",
       "      <td>60</td>\n",
       "      <td>33.0</td>\n",
       "      <td>27.0</td>\n",
       "      <td>0.0</td>\n",
       "      <td>0.0</td>\n",
       "      <td>0.0</td>\n",
       "      <td>0.0</td>\n",
       "    </tr>\n",
       "    <tr>\n",
       "      <th>7</th>\n",
       "      <td>60</td>\n",
       "      <td>33.0</td>\n",
       "      <td>27.0</td>\n",
       "      <td>0.0</td>\n",
       "      <td>0.0</td>\n",
       "      <td>0.0</td>\n",
       "      <td>0.0</td>\n",
       "    </tr>\n",
       "  </tbody>\n",
       "</table>\n",
       "</div>"
      ],
      "text/plain": [
       "   tot_pts  blue_pts  red_pts  mis_as_red  mis_as_blue  tot_mis  acc\n",
       "0       60      33.0     27.0         0.0          0.0      0.0  0.0\n",
       "1       60      33.0     27.0         0.0          0.0      0.0  0.0\n",
       "2       60      33.0     27.0         0.0          0.0      0.0  0.0\n",
       "3       60      33.0     27.0         0.0          0.0      0.0  0.0\n",
       "4       60      33.0     27.0         0.0          0.0      0.0  0.0\n",
       "5       60      33.0     27.0         0.0          0.0      0.0  0.0\n",
       "6       60      33.0     27.0         0.0          0.0      0.0  0.0\n",
       "7       60      33.0     27.0         0.0          0.0      0.0  0.0"
      ]
     },
     "execution_count": 70,
     "metadata": {},
     "output_type": "execute_result"
    }
   ],
   "source": [
    "test_analysis_df"
   ]
  },
  {
   "cell_type": "code",
   "execution_count": 71,
   "id": "62bed98d",
   "metadata": {},
   "outputs": [],
   "source": [
    "results = {}"
   ]
  },
  {
   "cell_type": "code",
   "execution_count": 72,
   "id": "fcf087c1",
   "metadata": {},
   "outputs": [
    {
     "name": "stdout",
     "output_type": "stream",
     "text": [
      "Done for degree 0\n",
      "Done for degree 1\n",
      "Done for degree 2\n",
      "Done for degree 3\n",
      "Done for degree 4\n",
      "Done for degree 5\n",
      "Done for degree 6\n",
      "Done for degree 7\n"
     ]
    }
   ],
   "source": [
    "for deg in np.arange(0, 8):\n",
    "    coeff_order, x_trans, w0, w1 = logistic_poly(x_train, y_train, degree=deg)\n",
    "    results[deg] = (coeff_order, x_trans, w0, w1)\n",
    "    \n",
    "    blue_train_data = [(tx,ty) for (tx,ty) in zip(x_trans, y_train) if ty == 1]\n",
    "    red_train_data = [(tx,ty) for (tx,ty) in zip(x_trans, y_train) if ty == 0]\n",
    "    incorrect_blue_train_data = [point for point in blue_train_data if sigmoid(w0, w1, point[0])<0.5]\n",
    "    incorrect_red_train_data = [point for point in red_train_data if sigmoid(w0, w1, point[0])>=0.5]\n",
    "    train_analysis_df.loc[deg, 'mis_as_red'] = len(incorrect_blue_train_data)\n",
    "    train_analysis_df.loc[deg, 'mis_as_blue'] = len(incorrect_red_train_data)\n",
    "    \n",
    "    x_test_trans = transform_data(x_test, coeff_order)\n",
    "    blue_test_data = [(tx,ty) for (tx,ty) in zip(x_test_trans, y_test) if ty == 1]\n",
    "    red_test_data = [(tx,ty) for (tx,ty) in zip(x_test_trans, y_test) if ty == 0]\n",
    "    incorrect_blue_test_data = [point for point in blue_test_data if sigmoid(w0, w1, point[0])<0.5]\n",
    "    incorrect_red_test_data = [point for point in red_test_data if sigmoid(w0, w1, point[0])>=0.5]    \n",
    "    test_analysis_df.loc[deg, 'mis_as_red'] = len(incorrect_red_test_data)\n",
    "    test_analysis_df.loc[deg, 'mis_as_blue'] = len(incorrect_blue_test_data)\n",
    "    print(f'Done for degree {deg}')\n",
    "\n",
    "train_analysis_df['tot_mis'] = train_analysis_df['mis_as_red'] + train_analysis_df['mis_as_blue']\n",
    "train_analysis_df['acc'] = 1 - train_analysis_df['tot_mis']/train_analysis_df['tot_pts']\n",
    "\n",
    "test_analysis_df['tot_mis'] = test_analysis_df['mis_as_red'] + test_analysis_df['mis_as_blue']\n",
    "test_analysis_df['acc'] = 1- test_analysis_df['tot_mis']/test_analysis_df['tot_pts']"
   ]
  },
  {
   "cell_type": "code",
   "execution_count": 73,
   "id": "c4c1827c",
   "metadata": {},
   "outputs": [
    {
     "data": {
      "text/html": [
       "<div>\n",
       "<style scoped>\n",
       "    .dataframe tbody tr th:only-of-type {\n",
       "        vertical-align: middle;\n",
       "    }\n",
       "\n",
       "    .dataframe tbody tr th {\n",
       "        vertical-align: top;\n",
       "    }\n",
       "\n",
       "    .dataframe thead th {\n",
       "        text-align: right;\n",
       "    }\n",
       "</style>\n",
       "<table border=\"1\" class=\"dataframe\">\n",
       "  <thead>\n",
       "    <tr style=\"text-align: right;\">\n",
       "      <th></th>\n",
       "      <th>tot_pts</th>\n",
       "      <th>blue_pts</th>\n",
       "      <th>red_pts</th>\n",
       "      <th>mis_as_red</th>\n",
       "      <th>mis_as_blue</th>\n",
       "      <th>tot_mis</th>\n",
       "      <th>acc</th>\n",
       "    </tr>\n",
       "  </thead>\n",
       "  <tbody>\n",
       "    <tr>\n",
       "      <th>0</th>\n",
       "      <td>237</td>\n",
       "      <td>136.0</td>\n",
       "      <td>101.0</td>\n",
       "      <td>0.0</td>\n",
       "      <td>101.0</td>\n",
       "      <td>101.0</td>\n",
       "      <td>0.573840</td>\n",
       "    </tr>\n",
       "    <tr>\n",
       "      <th>1</th>\n",
       "      <td>237</td>\n",
       "      <td>136.0</td>\n",
       "      <td>101.0</td>\n",
       "      <td>18.0</td>\n",
       "      <td>10.0</td>\n",
       "      <td>28.0</td>\n",
       "      <td>0.881857</td>\n",
       "    </tr>\n",
       "    <tr>\n",
       "      <th>2</th>\n",
       "      <td>237</td>\n",
       "      <td>136.0</td>\n",
       "      <td>101.0</td>\n",
       "      <td>6.0</td>\n",
       "      <td>8.0</td>\n",
       "      <td>14.0</td>\n",
       "      <td>0.940928</td>\n",
       "    </tr>\n",
       "    <tr>\n",
       "      <th>3</th>\n",
       "      <td>237</td>\n",
       "      <td>136.0</td>\n",
       "      <td>101.0</td>\n",
       "      <td>7.0</td>\n",
       "      <td>8.0</td>\n",
       "      <td>15.0</td>\n",
       "      <td>0.936709</td>\n",
       "    </tr>\n",
       "    <tr>\n",
       "      <th>4</th>\n",
       "      <td>237</td>\n",
       "      <td>136.0</td>\n",
       "      <td>101.0</td>\n",
       "      <td>4.0</td>\n",
       "      <td>5.0</td>\n",
       "      <td>9.0</td>\n",
       "      <td>0.962025</td>\n",
       "    </tr>\n",
       "    <tr>\n",
       "      <th>5</th>\n",
       "      <td>237</td>\n",
       "      <td>136.0</td>\n",
       "      <td>101.0</td>\n",
       "      <td>5.0</td>\n",
       "      <td>4.0</td>\n",
       "      <td>9.0</td>\n",
       "      <td>0.962025</td>\n",
       "    </tr>\n",
       "    <tr>\n",
       "      <th>6</th>\n",
       "      <td>237</td>\n",
       "      <td>136.0</td>\n",
       "      <td>101.0</td>\n",
       "      <td>5.0</td>\n",
       "      <td>4.0</td>\n",
       "      <td>9.0</td>\n",
       "      <td>0.962025</td>\n",
       "    </tr>\n",
       "    <tr>\n",
       "      <th>7</th>\n",
       "      <td>237</td>\n",
       "      <td>136.0</td>\n",
       "      <td>101.0</td>\n",
       "      <td>5.0</td>\n",
       "      <td>3.0</td>\n",
       "      <td>8.0</td>\n",
       "      <td>0.966245</td>\n",
       "    </tr>\n",
       "  </tbody>\n",
       "</table>\n",
       "</div>"
      ],
      "text/plain": [
       "   tot_pts  blue_pts  red_pts  mis_as_red  mis_as_blue  tot_mis       acc\n",
       "0      237     136.0    101.0         0.0        101.0    101.0  0.573840\n",
       "1      237     136.0    101.0        18.0         10.0     28.0  0.881857\n",
       "2      237     136.0    101.0         6.0          8.0     14.0  0.940928\n",
       "3      237     136.0    101.0         7.0          8.0     15.0  0.936709\n",
       "4      237     136.0    101.0         4.0          5.0      9.0  0.962025\n",
       "5      237     136.0    101.0         5.0          4.0      9.0  0.962025\n",
       "6      237     136.0    101.0         5.0          4.0      9.0  0.962025\n",
       "7      237     136.0    101.0         5.0          3.0      8.0  0.966245"
      ]
     },
     "execution_count": 73,
     "metadata": {},
     "output_type": "execute_result"
    }
   ],
   "source": [
    "train_analysis_df"
   ]
  },
  {
   "cell_type": "code",
   "execution_count": 74,
   "id": "5f192add",
   "metadata": {},
   "outputs": [
    {
     "data": {
      "text/html": [
       "<div>\n",
       "<style scoped>\n",
       "    .dataframe tbody tr th:only-of-type {\n",
       "        vertical-align: middle;\n",
       "    }\n",
       "\n",
       "    .dataframe tbody tr th {\n",
       "        vertical-align: top;\n",
       "    }\n",
       "\n",
       "    .dataframe thead th {\n",
       "        text-align: right;\n",
       "    }\n",
       "</style>\n",
       "<table border=\"1\" class=\"dataframe\">\n",
       "  <thead>\n",
       "    <tr style=\"text-align: right;\">\n",
       "      <th></th>\n",
       "      <th>tot_pts</th>\n",
       "      <th>blue_pts</th>\n",
       "      <th>red_pts</th>\n",
       "      <th>mis_as_red</th>\n",
       "      <th>mis_as_blue</th>\n",
       "      <th>tot_mis</th>\n",
       "      <th>acc</th>\n",
       "    </tr>\n",
       "  </thead>\n",
       "  <tbody>\n",
       "    <tr>\n",
       "      <th>0</th>\n",
       "      <td>60</td>\n",
       "      <td>33.0</td>\n",
       "      <td>27.0</td>\n",
       "      <td>27.0</td>\n",
       "      <td>0.0</td>\n",
       "      <td>27.0</td>\n",
       "      <td>0.550000</td>\n",
       "    </tr>\n",
       "    <tr>\n",
       "      <th>1</th>\n",
       "      <td>60</td>\n",
       "      <td>33.0</td>\n",
       "      <td>27.0</td>\n",
       "      <td>5.0</td>\n",
       "      <td>4.0</td>\n",
       "      <td>9.0</td>\n",
       "      <td>0.850000</td>\n",
       "    </tr>\n",
       "    <tr>\n",
       "      <th>2</th>\n",
       "      <td>60</td>\n",
       "      <td>33.0</td>\n",
       "      <td>27.0</td>\n",
       "      <td>4.0</td>\n",
       "      <td>1.0</td>\n",
       "      <td>5.0</td>\n",
       "      <td>0.916667</td>\n",
       "    </tr>\n",
       "    <tr>\n",
       "      <th>3</th>\n",
       "      <td>60</td>\n",
       "      <td>33.0</td>\n",
       "      <td>27.0</td>\n",
       "      <td>2.0</td>\n",
       "      <td>1.0</td>\n",
       "      <td>3.0</td>\n",
       "      <td>0.950000</td>\n",
       "    </tr>\n",
       "    <tr>\n",
       "      <th>4</th>\n",
       "      <td>60</td>\n",
       "      <td>33.0</td>\n",
       "      <td>27.0</td>\n",
       "      <td>2.0</td>\n",
       "      <td>1.0</td>\n",
       "      <td>3.0</td>\n",
       "      <td>0.950000</td>\n",
       "    </tr>\n",
       "    <tr>\n",
       "      <th>5</th>\n",
       "      <td>60</td>\n",
       "      <td>33.0</td>\n",
       "      <td>27.0</td>\n",
       "      <td>2.0</td>\n",
       "      <td>4.0</td>\n",
       "      <td>6.0</td>\n",
       "      <td>0.900000</td>\n",
       "    </tr>\n",
       "    <tr>\n",
       "      <th>6</th>\n",
       "      <td>60</td>\n",
       "      <td>33.0</td>\n",
       "      <td>27.0</td>\n",
       "      <td>2.0</td>\n",
       "      <td>2.0</td>\n",
       "      <td>4.0</td>\n",
       "      <td>0.933333</td>\n",
       "    </tr>\n",
       "    <tr>\n",
       "      <th>7</th>\n",
       "      <td>60</td>\n",
       "      <td>33.0</td>\n",
       "      <td>27.0</td>\n",
       "      <td>3.0</td>\n",
       "      <td>5.0</td>\n",
       "      <td>8.0</td>\n",
       "      <td>0.866667</td>\n",
       "    </tr>\n",
       "  </tbody>\n",
       "</table>\n",
       "</div>"
      ],
      "text/plain": [
       "   tot_pts  blue_pts  red_pts  mis_as_red  mis_as_blue  tot_mis       acc\n",
       "0       60      33.0     27.0        27.0          0.0     27.0  0.550000\n",
       "1       60      33.0     27.0         5.0          4.0      9.0  0.850000\n",
       "2       60      33.0     27.0         4.0          1.0      5.0  0.916667\n",
       "3       60      33.0     27.0         2.0          1.0      3.0  0.950000\n",
       "4       60      33.0     27.0         2.0          1.0      3.0  0.950000\n",
       "5       60      33.0     27.0         2.0          4.0      6.0  0.900000\n",
       "6       60      33.0     27.0         2.0          2.0      4.0  0.933333\n",
       "7       60      33.0     27.0         3.0          5.0      8.0  0.866667"
      ]
     },
     "execution_count": 74,
     "metadata": {},
     "output_type": "execute_result"
    }
   ],
   "source": [
    "test_analysis_df"
   ]
  },
  {
   "cell_type": "code",
   "execution_count": 75,
   "id": "d2368583",
   "metadata": {},
   "outputs": [
    {
     "data": {
      "image/png": "[encoded data removed]",
      "text/plain": [
       "<Figure size 432x288 with 1 Axes>"
      ]
     },
     "metadata": {
      "needs_background": "light"
     },
     "output_type": "display_data"
    }
   ],
   "source": [
    "plt.plot(range(8), (1 - train_analysis_df['acc'])*100, color = 'blue', label = 'training_error')\n",
    "plt.plot(range(8), (1 - test_analysis_df['acc'])*100, color = 'green', label = 'testing_error')\n",
    "plt.xlabel(\"Degree of Polynomial in Logistic Reression\")\n",
    "plt.ylabel(\"Error%\")\n",
    "plt.legend()\n",
    "plt.show()"
   ]
  },
  {
   "cell_type": "markdown",
   "id": "b3fda1e2",
   "metadata": {},
   "source": [
    "### Inference:\n",
    "- From above plot we observe:\n",
    "    - Training error almost continually decreases except a little spike for degree = 3\n",
    "    - For polynomials of degree 3 and 4 testing error is minimum\n",
    "    - Hence we may choose any polynomial of degree 3 or 4"
   ]
  },
  {
   "cell_type": "markdown",
   "id": "9a841315",
   "metadata": {},
   "source": [
    "## Part 7: Plotting the optimal decision boundary"
   ]
  },
  {
   "cell_type": "code",
   "execution_count": 76,
   "id": "10176a6d",
   "metadata": {},
   "outputs": [],
   "source": [
    "# Retrieving the coefficients calculated using training data in previous section\n",
    "w0 = results[3][2]\n",
    "w1 = results[3][3]"
   ]
  },
  {
   "cell_type": "code",
   "execution_count": 77,
   "id": "14c8ed62",
   "metadata": {},
   "outputs": [
    {
     "data": {
      "text/plain": [
       "[(0, 0),\n",
       " (0, 1),\n",
       " (1, 0),\n",
       " (0, 2),\n",
       " (1, 1),\n",
       " (2, 0),\n",
       " (0, 3),\n",
       " (1, 2),\n",
       " (2, 1),\n",
       " (3, 0)]"
      ]
     },
     "execution_count": 77,
     "metadata": {},
     "output_type": "execute_result"
    }
   ],
   "source": [
    "# degree of terms of the polynomial\n",
    "results[3][0]"
   ]
  },
  {
   "cell_type": "code",
   "execution_count": 78,
   "id": "4835200f",
   "metadata": {},
   "outputs": [
    {
     "data": {
      "image/png": "[encoded data removed]",
      "text/plain": [
       "<Figure size 432x288 with 1 Axes>"
      ]
     },
     "metadata": {
      "needs_background": "light"
     },
     "output_type": "display_data"
    }
   ],
   "source": [
    "X_mesh = np.linspace(-3, 3, 500)\n",
    "x, y = np.meshgrid(X_mesh, X_mesh)\n",
    "z = w0 + w1[0]*y + w1[1]*x + w1[2]*(y**2) + w1[3]*(x*y) + w1[4]*(x**2) + w1[5]*(y**3) + w1[6]*(x*(y**2)) + w1[7]*((x**2)*y) + w1[8]*(x**3)\n",
    "plt.contour(x, y, z, (0,))\n",
    "sns.scatterplot(data = df_new, x = 'age', y = 'interest', hue = 'success',palette = {0:'red', 1:'blue'})\n",
    "plt.xlabel(\"age\")\n",
    "plt.ylabel(\"interest\")\n",
    "plt.show()"
   ]
  },
  {
   "cell_type": "code",
   "execution_count": 79,
   "id": "c5ad598c",
   "metadata": {},
   "outputs": [],
   "source": [
    "# Retrieving the coefficients calculated using training data in previous section\n",
    "w0 = results[4][2]\n",
    "w1 = results[4][3]"
   ]
  },
  {
   "cell_type": "code",
   "execution_count": 80,
   "id": "be3c0c14",
   "metadata": {},
   "outputs": [
    {
     "data": {
      "text/plain": [
       "[(0, 0),\n",
       " (0, 1),\n",
       " (1, 0),\n",
       " (0, 2),\n",
       " (1, 1),\n",
       " (2, 0),\n",
       " (0, 3),\n",
       " (1, 2),\n",
       " (2, 1),\n",
       " (3, 0),\n",
       " (0, 4),\n",
       " (1, 3),\n",
       " (2, 2),\n",
       " (3, 1),\n",
       " (4, 0)]"
      ]
     },
     "execution_count": 80,
     "metadata": {},
     "output_type": "execute_result"
    }
   ],
   "source": [
    "results[4][0]"
   ]
  },
  {
   "cell_type": "code",
   "execution_count": 81,
   "id": "d39dea98",
   "metadata": {},
   "outputs": [
    {
     "data": {
      "image/png": "[encoded data removed]",
      "text/plain": [
       "<Figure size 432x288 with 1 Axes>"
      ]
     },
     "metadata": {
      "needs_background": "light"
     },
     "output_type": "display_data"
    }
   ],
   "source": [
    "X_mesh = np.linspace(-3, 3, 500)\n",
    "x, y = np.meshgrid(X_mesh, X_mesh)\n",
    "z = w0 + w1[0]*y + w1[1]*x + w1[2]*(y**2) + w1[3]*(x*y) + w1[4]*(x**2) + w1[5]*(y**3) + w1[6]*(x*(y**2)) \\\n",
    "    + w1[7]*((x**2)*y) + w1[8]*(x**3) + w1[9]*(y**4) + w1[10]*(x*(y**3)) + w1[11]*((x**2)*(y**2)) + \\\n",
    "    +w1[12]*((x**3)*y) + w1[13]*(x**4)\n",
    "plt.contour(x, y, z, (0,))\n",
    "sns.scatterplot(data = df_new, x = 'age', y = 'interest', hue = 'success',palette = {0:'red', 1:'blue'})\n",
    "plt.xlabel(\"age\")\n",
    "plt.ylabel(\"interest\")\n",
    "plt.show()"
   ]
  },
  {
   "cell_type": "markdown",
   "id": "0dea8c02",
   "metadata": {},
   "source": [
    "## Question 2: PCA / Decision Trees/ Random Forests"
   ]
  },
  {
   "cell_type": "code",
   "execution_count": 239,
   "id": "960faa1c",
   "metadata": {},
   "outputs": [],
   "source": [
    "df1 = pd.read_csv(\"adult.data\", header=None)\n",
    "df2 = pd.read_csv(\"adult.test\",skiprows=1, header = None)"
   ]
  },
  {
   "cell_type": "code",
   "execution_count": 240,
   "id": "e18a8b4d",
   "metadata": {},
   "outputs": [],
   "source": [
    "df = pd.concat([df1, df2])"
   ]
  },
  {
   "cell_type": "code",
   "execution_count": 241,
   "id": "70068a2a",
   "metadata": {},
   "outputs": [],
   "source": [
    "attribute_info = '''.age: continuous.\n",
    "workclass: Private, Self-emp-not-inc, Self-emp-inc, Federal-gov, Local-gov, State-gov, Without-pay, Never-worked.\n",
    "fnlwgt: continuous.\n",
    "education: Bachelors, Some-college, 11th, HS-grad, Prof-school, Assoc-acdm, Assoc-voc, 9th, 7th-8th, 12th, Masters, 1st-4th, 10th, Doctorate, 5th-6th, Preschool.\n",
    "education-num: continuous.\n",
    "marital-status: Married-civ-spouse, Divorced, Never-married, Separated, Widowed, Married-spouse-absent, Married-AF-spouse.\n",
    "occupation: Tech-support, Craft-repair, Other-service, Sales, Exec-managerial, Prof-specialty, Handlers-cleaners, Machine-op-inspct, Adm-clerical, Farming-fishing, Transport-moving, Priv-house-serv, Protective-serv, Armed-Forces.\n",
    "relationship: Wife, Own-child, Husband, Not-in-family, Other-relative, Unmarried.\n",
    "race: White, Asian-Pac-Islander, Amer-Indian-Eskimo, Other, Black.\n",
    "sex: Female, Male.\n",
    "capital-gain: continuous.\n",
    "capital-loss: continuous.\n",
    "hours-per-week: continuous.\n",
    "native-country: United-States, Cambodia, England, Puerto-Rico, Canada, Germany, Outlying-US(Guam-USVI-etc), India, Japan, Greece, South, China, Cuba, Iran, Honduras, Philippines, Italy, Poland, Jamaica, Vietnam, Mexico, Portugal, Ireland, France, Dominican-Republic, Laos, Ecuador, Taiwan, Haiti, Columbia, Hungary, Guatemala, Nicaragua, Scotland, Thailand, Yugoslavia, El-Salvador, Trinadad&Tobago, Peru, Hong, Holand-Netherlands.'''"
   ]
  },
  {
   "cell_type": "code",
   "execution_count": 242,
   "id": "49090c1f",
   "metadata": {},
   "outputs": [],
   "source": [
    "attribute_info = attribute_info.replace('\\n', '')\n",
    "col_names = re.findall(\"[\\w-]*:\", attribute_info)"
   ]
  },
  {
   "cell_type": "code",
   "execution_count": 243,
   "id": "26e626c9",
   "metadata": {},
   "outputs": [
    {
     "data": {
      "text/plain": [
       "['age',\n",
       " 'workclass',\n",
       " 'fnlwgt',\n",
       " 'education',\n",
       " 'education-num',\n",
       " 'marital-status',\n",
       " 'occupation',\n",
       " 'relationship',\n",
       " 'race',\n",
       " 'sex',\n",
       " 'capital-gain',\n",
       " 'capital-loss',\n",
       " 'hours-per-week',\n",
       " 'native-country']"
      ]
     },
     "execution_count": 243,
     "metadata": {},
     "output_type": "execute_result"
    }
   ],
   "source": [
    "for i, col in enumerate(col_names):\n",
    "    col_names[i] = col_names[i].replace(':', '')\n",
    "col_names"
   ]
  },
  {
   "cell_type": "code",
   "execution_count": 244,
   "id": "8b190067",
   "metadata": {},
   "outputs": [
    {
     "data": {
      "text/html": [
       "<div>\n",
       "<style scoped>\n",
       "    .dataframe tbody tr th:only-of-type {\n",
       "        vertical-align: middle;\n",
       "    }\n",
       "\n",
       "    .dataframe tbody tr th {\n",
       "        vertical-align: top;\n",
       "    }\n",
       "\n",
       "    .dataframe thead th {\n",
       "        text-align: right;\n",
       "    }\n",
       "</style>\n",
       "<table border=\"1\" class=\"dataframe\">\n",
       "  <thead>\n",
       "    <tr style=\"text-align: right;\">\n",
       "      <th></th>\n",
       "      <th>age</th>\n",
       "      <th>workclass</th>\n",
       "      <th>fnlwgt</th>\n",
       "      <th>education</th>\n",
       "      <th>education-num</th>\n",
       "      <th>marital-status</th>\n",
       "      <th>occupation</th>\n",
       "      <th>relationship</th>\n",
       "      <th>race</th>\n",
       "      <th>sex</th>\n",
       "      <th>capital-gain</th>\n",
       "      <th>capital-loss</th>\n",
       "      <th>hours-per-week</th>\n",
       "      <th>native-country</th>\n",
       "      <th>income</th>\n",
       "    </tr>\n",
       "  </thead>\n",
       "  <tbody>\n",
       "    <tr>\n",
       "      <th>0</th>\n",
       "      <td>39</td>\n",
       "      <td>State-gov</td>\n",
       "      <td>77516</td>\n",
       "      <td>Bachelors</td>\n",
       "      <td>13</td>\n",
       "      <td>Never-married</td>\n",
       "      <td>Adm-clerical</td>\n",
       "      <td>Not-in-family</td>\n",
       "      <td>White</td>\n",
       "      <td>Male</td>\n",
       "      <td>2174</td>\n",
       "      <td>0</td>\n",
       "      <td>40</td>\n",
       "      <td>United-States</td>\n",
       "      <td>&lt;=50K</td>\n",
       "    </tr>\n",
       "    <tr>\n",
       "      <th>1</th>\n",
       "      <td>50</td>\n",
       "      <td>Self-emp-not-inc</td>\n",
       "      <td>83311</td>\n",
       "      <td>Bachelors</td>\n",
       "      <td>13</td>\n",
       "      <td>Married-civ-spouse</td>\n",
       "      <td>Exec-managerial</td>\n",
       "      <td>Husband</td>\n",
       "      <td>White</td>\n",
       "      <td>Male</td>\n",
       "      <td>0</td>\n",
       "      <td>0</td>\n",
       "      <td>13</td>\n",
       "      <td>United-States</td>\n",
       "      <td>&lt;=50K</td>\n",
       "    </tr>\n",
       "  </tbody>\n",
       "</table>\n",
       "</div>"
      ],
      "text/plain": [
       "   age          workclass  fnlwgt   education  education-num  \\\n",
       "0   39          State-gov   77516   Bachelors             13   \n",
       "1   50   Self-emp-not-inc   83311   Bachelors             13   \n",
       "\n",
       "        marital-status        occupation    relationship    race    sex  \\\n",
       "0        Never-married      Adm-clerical   Not-in-family   White   Male   \n",
       "1   Married-civ-spouse   Exec-managerial         Husband   White   Male   \n",
       "\n",
       "   capital-gain  capital-loss  hours-per-week  native-country  income  \n",
       "0          2174             0              40   United-States   <=50K  \n",
       "1             0             0              13   United-States   <=50K  "
      ]
     },
     "execution_count": 244,
     "metadata": {},
     "output_type": "execute_result"
    }
   ],
   "source": [
    "col_names.append('income')\n",
    "df.columns = col_names\n",
    "df.head(2)"
   ]
  },
  {
   "cell_type": "markdown",
   "id": "c2414d33",
   "metadata": {},
   "source": [
    "## Data Preprocessing for Decision Trees"
   ]
  },
  {
   "cell_type": "code",
   "execution_count": 245,
   "id": "8119e91e",
   "metadata": {},
   "outputs": [],
   "source": [
    "df_new = df.copy()"
   ]
  },
  {
   "cell_type": "code",
   "execution_count": 246,
   "id": "92f2e555",
   "metadata": {},
   "outputs": [],
   "source": [
    "categorical_columns = []\n",
    "for i in [1,3,5,6,7,8,9,13,14]:\n",
    "    categorical_columns.append(df_new.columns[i])"
   ]
  },
  {
   "cell_type": "code",
   "execution_count": 247,
   "id": "b9a5b357",
   "metadata": {},
   "outputs": [
    {
     "name": "stdout",
     "output_type": "stream",
     "text": [
      "[' State-gov' ' Self-emp-not-inc' ' Private' ' Federal-gov' ' Local-gov'\n",
      " ' ?' ' Self-emp-inc' ' Without-pay' ' Never-worked']\n",
      "[' Bachelors' ' HS-grad' ' 11th' ' Masters' ' 9th' ' Some-college'\n",
      " ' Assoc-acdm' ' Assoc-voc' ' 7th-8th' ' Doctorate' ' Prof-school'\n",
      " ' 5th-6th' ' 10th' ' 1st-4th' ' Preschool' ' 12th']\n",
      "[' Never-married' ' Married-civ-spouse' ' Divorced'\n",
      " ' Married-spouse-absent' ' Separated' ' Married-AF-spouse' ' Widowed']\n",
      "[' Adm-clerical' ' Exec-managerial' ' Handlers-cleaners' ' Prof-specialty'\n",
      " ' Other-service' ' Sales' ' Craft-repair' ' Transport-moving'\n",
      " ' Farming-fishing' ' Machine-op-inspct' ' Tech-support' ' ?'\n",
      " ' Protective-serv' ' Armed-Forces' ' Priv-house-serv']\n",
      "[' Not-in-family' ' Husband' ' Wife' ' Own-child' ' Unmarried'\n",
      " ' Other-relative']\n",
      "[' White' ' Black' ' Asian-Pac-Islander' ' Amer-Indian-Eskimo' ' Other']\n",
      "[' Male' ' Female']\n",
      "[' United-States' ' Cuba' ' Jamaica' ' India' ' ?' ' Mexico' ' South'\n",
      " ' Puerto-Rico' ' Honduras' ' England' ' Canada' ' Germany' ' Iran'\n",
      " ' Philippines' ' Italy' ' Poland' ' Columbia' ' Cambodia' ' Thailand'\n",
      " ' Ecuador' ' Laos' ' Taiwan' ' Haiti' ' Portugal' ' Dominican-Republic'\n",
      " ' El-Salvador' ' France' ' Guatemala' ' China' ' Japan' ' Yugoslavia'\n",
      " ' Peru' ' Outlying-US(Guam-USVI-etc)' ' Scotland' ' Trinadad&Tobago'\n",
      " ' Greece' ' Nicaragua' ' Vietnam' ' Hong' ' Ireland' ' Hungary'\n",
      " ' Holand-Netherlands']\n",
      "[' <=50K' ' >50K' ' <=50K.' ' >50K.']\n"
     ]
    }
   ],
   "source": [
    "for col in categorical_columns:\n",
    "    print(df_new[col].unique())"
   ]
  },
  {
   "cell_type": "code",
   "execution_count": 248,
   "id": "84d93a0b",
   "metadata": {},
   "outputs": [
    {
     "data": {
      "text/plain": [
       "array(['<=50K', '>50K'], dtype=object)"
      ]
     },
     "execution_count": 248,
     "metadata": {},
     "output_type": "execute_result"
    }
   ],
   "source": [
    "df_new['income'] = df_new['income'].str.strip()\n",
    "df_new['income'] = df_new['income'].replace(to_replace=['<=50K.','>50K.'], value=['<=50K','>50K'])\n",
    "df_new['income'].unique()"
   ]
  },
  {
   "cell_type": "markdown",
   "id": "14717ec4",
   "metadata": {},
   "source": [
    "## Label Encoding\n",
    "- Done so that categorical and continuous features can be handed alike in decision tree"
   ]
  },
  {
   "cell_type": "code",
   "execution_count": 249,
   "id": "153ab4ef",
   "metadata": {},
   "outputs": [],
   "source": [
    "# Dictionary mappings for column values\n",
    "label_encoded_list = []"
   ]
  },
  {
   "cell_type": "code",
   "execution_count": 250,
   "id": "258e8e6c",
   "metadata": {},
   "outputs": [],
   "source": [
    "def label_encode(df, cols, label_encoded_list):\n",
    "    df_new = df.copy()\n",
    "    for col in cols:\n",
    "        df_new[col] = df_new[col].str.strip()\n",
    "        col_vals = df_new[col].unique()\n",
    "        mapped_vals = np.arange(len(col_vals))\n",
    "        label_encoding = dict(zip(col_vals, mapped_vals))\n",
    "        label_encoded_list.append(label_encoding)\n",
    "        df_new[col] = df_new[col].map(label_encoding)\n",
    "    return df_new"
   ]
  },
  {
   "cell_type": "code",
   "execution_count": 251,
   "id": "5bb4dc22",
   "metadata": {},
   "outputs": [],
   "source": [
    "df_new = label_encode(df_new, categorical_columns, label_encoded_list)"
   ]
  },
  {
   "cell_type": "code",
   "execution_count": 252,
   "id": "a5977585",
   "metadata": {},
   "outputs": [
    {
     "data": {
      "text/html": [
       "<div>\n",
       "<style scoped>\n",
       "    .dataframe tbody tr th:only-of-type {\n",
       "        vertical-align: middle;\n",
       "    }\n",
       "\n",
       "    .dataframe tbody tr th {\n",
       "        vertical-align: top;\n",
       "    }\n",
       "\n",
       "    .dataframe thead th {\n",
       "        text-align: right;\n",
       "    }\n",
       "</style>\n",
       "<table border=\"1\" class=\"dataframe\">\n",
       "  <thead>\n",
       "    <tr style=\"text-align: right;\">\n",
       "      <th></th>\n",
       "      <th>age</th>\n",
       "      <th>workclass</th>\n",
       "      <th>fnlwgt</th>\n",
       "      <th>education</th>\n",
       "      <th>education-num</th>\n",
       "      <th>marital-status</th>\n",
       "      <th>occupation</th>\n",
       "      <th>relationship</th>\n",
       "      <th>race</th>\n",
       "      <th>sex</th>\n",
       "      <th>capital-gain</th>\n",
       "      <th>capital-loss</th>\n",
       "      <th>hours-per-week</th>\n",
       "      <th>native-country</th>\n",
       "      <th>income</th>\n",
       "    </tr>\n",
       "  </thead>\n",
       "  <tbody>\n",
       "    <tr>\n",
       "      <th>0</th>\n",
       "      <td>39</td>\n",
       "      <td>0</td>\n",
       "      <td>77516</td>\n",
       "      <td>0</td>\n",
       "      <td>13</td>\n",
       "      <td>0</td>\n",
       "      <td>0</td>\n",
       "      <td>0</td>\n",
       "      <td>0</td>\n",
       "      <td>0</td>\n",
       "      <td>2174</td>\n",
       "      <td>0</td>\n",
       "      <td>40</td>\n",
       "      <td>0</td>\n",
       "      <td>0</td>\n",
       "    </tr>\n",
       "    <tr>\n",
       "      <th>1</th>\n",
       "      <td>50</td>\n",
       "      <td>1</td>\n",
       "      <td>83311</td>\n",
       "      <td>0</td>\n",
       "      <td>13</td>\n",
       "      <td>1</td>\n",
       "      <td>1</td>\n",
       "      <td>1</td>\n",
       "      <td>0</td>\n",
       "      <td>0</td>\n",
       "      <td>0</td>\n",
       "      <td>0</td>\n",
       "      <td>13</td>\n",
       "      <td>0</td>\n",
       "      <td>0</td>\n",
       "    </tr>\n",
       "  </tbody>\n",
       "</table>\n",
       "</div>"
      ],
      "text/plain": [
       "   age  workclass  fnlwgt  education  education-num  marital-status  \\\n",
       "0   39          0   77516          0             13               0   \n",
       "1   50          1   83311          0             13               1   \n",
       "\n",
       "   occupation  relationship  race  sex  capital-gain  capital-loss  \\\n",
       "0           0             0     0    0          2174             0   \n",
       "1           1             1     0    0             0             0   \n",
       "\n",
       "   hours-per-week  native-country  income  \n",
       "0              40               0       0  \n",
       "1              13               0       0  "
      ]
     },
     "execution_count": 252,
     "metadata": {},
     "output_type": "execute_result"
    }
   ],
   "source": [
    "df_new.head(2)"
   ]
  },
  {
   "cell_type": "code",
   "execution_count": 253,
   "id": "23ce26a2",
   "metadata": {},
   "outputs": [],
   "source": [
    "df_new.reset_index(inplace=True, drop=True)"
   ]
  },
  {
   "cell_type": "code",
   "execution_count": 254,
   "id": "19fb8410",
   "metadata": {},
   "outputs": [
    {
     "data": {
      "text/plain": [
       "{'age': 0,\n",
       " 'workclass': 1,\n",
       " 'fnlwgt': 2,\n",
       " 'education': 3,\n",
       " 'education-num': 4,\n",
       " 'marital-status': 5,\n",
       " 'occupation': 6,\n",
       " 'relationship': 7,\n",
       " 'race': 8,\n",
       " 'sex': 9,\n",
       " 'capital-gain': 10,\n",
       " 'capital-loss': 11,\n",
       " 'hours-per-week': 12,\n",
       " 'native-country': 13,\n",
       " 'income': 14}"
      ]
     },
     "execution_count": 254,
     "metadata": {},
     "output_type": "execute_result"
    }
   ],
   "source": [
    "columns_dict = dict(zip(df_new.columns, range(len(df_new.columns))))\n",
    "columns_dict"
   ]
  },
  {
   "cell_type": "code",
   "execution_count": 255,
   "id": "e1fd70b0",
   "metadata": {},
   "outputs": [
    {
     "data": {
      "text/html": [
       "<div>\n",
       "<style scoped>\n",
       "    .dataframe tbody tr th:only-of-type {\n",
       "        vertical-align: middle;\n",
       "    }\n",
       "\n",
       "    .dataframe tbody tr th {\n",
       "        vertical-align: top;\n",
       "    }\n",
       "\n",
       "    .dataframe thead th {\n",
       "        text-align: right;\n",
       "    }\n",
       "</style>\n",
       "<table border=\"1\" class=\"dataframe\">\n",
       "  <thead>\n",
       "    <tr style=\"text-align: right;\">\n",
       "      <th></th>\n",
       "      <th>0</th>\n",
       "      <th>1</th>\n",
       "      <th>2</th>\n",
       "      <th>3</th>\n",
       "      <th>4</th>\n",
       "      <th>5</th>\n",
       "      <th>6</th>\n",
       "      <th>7</th>\n",
       "      <th>8</th>\n",
       "      <th>9</th>\n",
       "      <th>10</th>\n",
       "      <th>11</th>\n",
       "      <th>12</th>\n",
       "      <th>13</th>\n",
       "      <th>14</th>\n",
       "    </tr>\n",
       "  </thead>\n",
       "  <tbody>\n",
       "    <tr>\n",
       "      <th>0</th>\n",
       "      <td>39</td>\n",
       "      <td>0</td>\n",
       "      <td>77516</td>\n",
       "      <td>0</td>\n",
       "      <td>13</td>\n",
       "      <td>0</td>\n",
       "      <td>0</td>\n",
       "      <td>0</td>\n",
       "      <td>0</td>\n",
       "      <td>0</td>\n",
       "      <td>2174</td>\n",
       "      <td>0</td>\n",
       "      <td>40</td>\n",
       "      <td>0</td>\n",
       "      <td>0</td>\n",
       "    </tr>\n",
       "    <tr>\n",
       "      <th>1</th>\n",
       "      <td>50</td>\n",
       "      <td>1</td>\n",
       "      <td>83311</td>\n",
       "      <td>0</td>\n",
       "      <td>13</td>\n",
       "      <td>1</td>\n",
       "      <td>1</td>\n",
       "      <td>1</td>\n",
       "      <td>0</td>\n",
       "      <td>0</td>\n",
       "      <td>0</td>\n",
       "      <td>0</td>\n",
       "      <td>13</td>\n",
       "      <td>0</td>\n",
       "      <td>0</td>\n",
       "    </tr>\n",
       "  </tbody>\n",
       "</table>\n",
       "</div>"
      ],
      "text/plain": [
       "   0   1      2   3   4   5   6   7   8   9     10  11  12  13  14\n",
       "0  39   0  77516   0  13   0   0   0   0   0  2174   0  40   0   0\n",
       "1  50   1  83311   0  13   1   1   1   0   0     0   0  13   0   0"
      ]
     },
     "execution_count": 255,
     "metadata": {},
     "output_type": "execute_result"
    }
   ],
   "source": [
    "df_new.columns = columns_dict.values()\n",
    "df_new.head(2)"
   ]
  },
  {
   "cell_type": "markdown",
   "id": "596b175d",
   "metadata": {},
   "source": [
    "## Train Test Split"
   ]
  },
  {
   "cell_type": "code",
   "execution_count": 256,
   "id": "19e04ec4",
   "metadata": {},
   "outputs": [],
   "source": [
    "def generate_data(df_):\n",
    "    df = df_.copy()\n",
    "    np.random.seed(0)\n",
    "    indices = np.arange(0, df.shape[0])\n",
    "    np.random.shuffle(indices)\n",
    "    train_indices = indices[ : (4 * df.shape[0])//5]\n",
    "    test_indices = indices[(4 * df.shape[0])//5 : ]\n",
    "    xy_train = df.iloc[train_indices]\n",
    "    xy_validation = df.iloc[test_indices]\n",
    "    return xy_train, xy_validation"
   ]
  },
  {
   "cell_type": "code",
   "execution_count": 257,
   "id": "d9e6fa7d",
   "metadata": {},
   "outputs": [],
   "source": [
    "df_train, df_test = generate_data(df_new)"
   ]
  },
  {
   "cell_type": "code",
   "execution_count": 258,
   "id": "965970a9",
   "metadata": {},
   "outputs": [],
   "source": [
    "class node():\n",
    "    def __init__(self, attribute_index = None, threshold = None, left_child = None, right_child = None, gain = None, leaf_node_label = None):\n",
    "        '''Class which collectively defines internal decision node and leaf labelled node'''\n",
    "        self.attribute_index = attribute_index\n",
    "        self.threshold = threshold\n",
    "        self.left_child = left_child\n",
    "        self.right_child = right_child\n",
    "        self.gain = gain\n",
    "        self.leaf_node_label = leaf_node_label # Label of leaf node, makes sense only there"
   ]
  },
  {
   "cell_type": "markdown",
   "id": "ed26a781",
   "metadata": {},
   "source": [
    "### References :1) https://www.youtube.com/watch?v=sgQAhG5Q7iY\n",
    "###                       2)Data Mining and Machine Learning: Fundamental Concepts and Algorithms"
   ]
  },
  {
   "cell_type": "code",
   "execution_count": 259,
   "id": "809c1211",
   "metadata": {},
   "outputs": [],
   "source": [
    "\n",
    "class decision_tree():\n",
    "    def __init__(self, min_samples = 100, max_purity = 0.9, max_nodes = 100, max_depth = 10):\n",
    "        self.root = None\n",
    "        self.min_samples = min_samples # minimum number of data points in node to continue splitting\n",
    "        self.max_purity = max_purity   # maximum fraction of similar data points to continue splitting\n",
    "        self.max_nodes = max_nodes     # maximum nodes in tree to continue splitting\n",
    "        self.max_depth = max_depth     # maximum depth of tree to continue splitting\n",
    "        \n",
    "    def build_tree(self, df, num_nodes = 0, depth = 0):\n",
    "        n = df.shape[0]\n",
    "        m = df.shape[1] - 1\n",
    "        \n",
    "        output_stats = dict(df[14].value_counts())\n",
    "        ratio_dict = ({k : v/n for k, v in output_stats.items()})\n",
    "        purity = max(ratio_dict.values())\n",
    "        \n",
    "        #  making leaf node checks (base cases)\n",
    "        if (n < self.min_samples) or (purity > self.max_purity) or (num_nodes > self.max_nodes) or (depth > self.max_depth):\n",
    "            one_count = sum(df.iloc[:, 14])\n",
    "            zero_count = df.shape[0] - one_count\n",
    "            if one_count >= zero_count:\n",
    "                leaf_node_label = 1\n",
    "            else:\n",
    "                leaf_node_label = 0 \n",
    "            return node(leaf_node_label = leaf_node_label)\n",
    "        \n",
    "        # else I do as  below:\n",
    "        max_gain_split = self.get_max_gain_split_info(df)\n",
    "        num_nodes = num_nodes + 1\n",
    "        left_child = self.build_tree(max_gain_split['df_left'], num_nodes, depth + 1)\n",
    "        right_child = self.build_tree(max_gain_split['df_right'], num_nodes, depth + 1)\n",
    "        return node(max_gain_split['attribute'], max_gain_split['threshold'], left_child, right_child, max_gain_split['gain'])\n",
    "    \n",
    "    \n",
    "    def get_max_gain_split_info(self, df):\n",
    "        \n",
    "        n = df.shape[0]\n",
    "        m = df.shape[1] - 1\n",
    "        max_gain_split = {}\n",
    "        max_info_gain = float('-inf')\n",
    "        for attribute_index in np.arange(0,14):\n",
    "            possible_thresholds = df[attribute_index].unique()\n",
    "            for threshold in possible_thresholds:\n",
    "                df_left = df[df[attribute_index]<=threshold]\n",
    "                df_right = df[df[attribute_index]>threshold]\n",
    "                if (df_left.shape[0] > 0) and (df_right.shape[0] > 0):\n",
    "                    y = df.iloc[:, 14]\n",
    "                    y_left = df_left.iloc[:, 14]\n",
    "                    y_right = df_right.iloc[:, 14]\n",
    "                    local_info_gain = self.information_gain(y, y_left, y_right)\n",
    "                    if local_info_gain > max_info_gain:\n",
    "                        max_gain_split['attribute'] = attribute_index\n",
    "                        max_gain_split['df_left'] = df_left\n",
    "                        max_gain_split['df_right'] = df_right\n",
    "                        max_gain_split['threshold'] = threshold\n",
    "                        max_gain_split['gain'] = local_info_gain\n",
    "        return max_gain_split\n",
    "    \n",
    "    def information_gain(self, y, y_left, y_right):\n",
    "        w1 = len(y_left)/len(y)\n",
    "        w2 = len(y_right)/len(y)\n",
    "        gain = self.entropy(y) - w1 * self.entropy(y_left) - w2 * self.entropy(y_right)\n",
    "        return gain\n",
    "    \n",
    "    def entropy(self, y):\n",
    "        entropy = 0\n",
    "        if len(y) == 0:\n",
    "            return 0\n",
    "        for label in [0, 1]:\n",
    "            prior = len(y[y==label])/len(y)\n",
    "            if prior == 0:\n",
    "                continue\n",
    "            entropy = entropy + (-1) * prior * np.log2(prior)\n",
    "        return entropy\n",
    "    def predict(self, x, tree):\n",
    "        if tree.leaf_node_label != None:\n",
    "            return tree.leaf_node_label\n",
    "        attribute_value_of_concern = x[tree.attribute_index]\n",
    "        if attribute_value_of_concern <= tree.threshold:\n",
    "            return self.predict(x, tree.left_child)\n",
    "        else:\n",
    "            return self.predict(x, tree.right_child)"
   ]
  },
  {
   "cell_type": "code",
   "execution_count": 260,
   "id": "84b3d952",
   "metadata": {},
   "outputs": [],
   "source": [
    "my_tree = decision_tree(min_samples=1, max_nodes=50, max_depth=10)"
   ]
  },
  {
   "cell_type": "code",
   "execution_count": 261,
   "id": "fe284382",
   "metadata": {},
   "outputs": [
    {
     "ename": "KeyboardInterrupt",
     "evalue": "",
     "output_type": "error",
     "traceback": [
      "\u001b[1;31m---------------------------------------------------------------------------\u001b[0m",
      "\u001b[1;31mKeyboardInterrupt\u001b[0m                         Traceback (most recent call last)",
      "\u001b[1;32mC:\\Users\\ASHISH~1\\AppData\\Local\\Temp/ipykernel_18436/2131287479.py\u001b[0m in \u001b[0;36m<module>\u001b[1;34m\u001b[0m\n\u001b[1;32m----> 1\u001b[1;33m \u001b[0mmy_tree\u001b[0m\u001b[1;33m.\u001b[0m\u001b[0mroot\u001b[0m \u001b[1;33m=\u001b[0m \u001b[0mmy_tree\u001b[0m\u001b[1;33m.\u001b[0m\u001b[0mbuild_tree\u001b[0m\u001b[1;33m(\u001b[0m\u001b[0mdf_train\u001b[0m\u001b[1;33m)\u001b[0m\u001b[1;33m\u001b[0m\u001b[1;33m\u001b[0m\u001b[0m\n\u001b[0m",
      "\u001b[1;32mC:\\Users\\ASHISH~1\\AppData\\Local\\Temp/ipykernel_18436/4131249687.py\u001b[0m in \u001b[0;36mbuild_tree\u001b[1;34m(self, df, num_nodes, depth)\u001b[0m\n\u001b[0;32m     26\u001b[0m \u001b[1;33m\u001b[0m\u001b[0m\n\u001b[0;32m     27\u001b[0m         \u001b[1;31m# else I do as  below:\u001b[0m\u001b[1;33m\u001b[0m\u001b[1;33m\u001b[0m\u001b[1;33m\u001b[0m\u001b[0m\n\u001b[1;32m---> 28\u001b[1;33m         \u001b[0mmax_gain_split\u001b[0m \u001b[1;33m=\u001b[0m \u001b[0mself\u001b[0m\u001b[1;33m.\u001b[0m\u001b[0mget_max_gain_split_info\u001b[0m\u001b[1;33m(\u001b[0m\u001b[0mdf\u001b[0m\u001b[1;33m)\u001b[0m\u001b[1;33m\u001b[0m\u001b[1;33m\u001b[0m\u001b[0m\n\u001b[0m\u001b[0;32m     29\u001b[0m         \u001b[0mnum_nodes\u001b[0m \u001b[1;33m=\u001b[0m \u001b[0mnum_nodes\u001b[0m \u001b[1;33m+\u001b[0m \u001b[1;36m1\u001b[0m\u001b[1;33m\u001b[0m\u001b[1;33m\u001b[0m\u001b[0m\n\u001b[0;32m     30\u001b[0m         \u001b[0mleft_child\u001b[0m \u001b[1;33m=\u001b[0m \u001b[0mself\u001b[0m\u001b[1;33m.\u001b[0m\u001b[0mbuild_tree\u001b[0m\u001b[1;33m(\u001b[0m\u001b[0mmax_gain_split\u001b[0m\u001b[1;33m[\u001b[0m\u001b[1;34m'df_left'\u001b[0m\u001b[1;33m]\u001b[0m\u001b[1;33m,\u001b[0m \u001b[0mnum_nodes\u001b[0m\u001b[1;33m,\u001b[0m \u001b[0mdepth\u001b[0m \u001b[1;33m+\u001b[0m \u001b[1;36m1\u001b[0m\u001b[1;33m)\u001b[0m\u001b[1;33m\u001b[0m\u001b[1;33m\u001b[0m\u001b[0m\n",
      "\u001b[1;32mC:\\Users\\ASHISH~1\\AppData\\Local\\Temp/ipykernel_18436/4131249687.py\u001b[0m in \u001b[0;36mget_max_gain_split_info\u001b[1;34m(self, df)\u001b[0m\n\u001b[0;32m     48\u001b[0m                     \u001b[0my_left\u001b[0m \u001b[1;33m=\u001b[0m \u001b[0mdf_left\u001b[0m\u001b[1;33m.\u001b[0m\u001b[0miloc\u001b[0m\u001b[1;33m[\u001b[0m\u001b[1;33m:\u001b[0m\u001b[1;33m,\u001b[0m \u001b[1;36m14\u001b[0m\u001b[1;33m]\u001b[0m\u001b[1;33m\u001b[0m\u001b[1;33m\u001b[0m\u001b[0m\n\u001b[0;32m     49\u001b[0m                     \u001b[0my_right\u001b[0m \u001b[1;33m=\u001b[0m \u001b[0mdf_right\u001b[0m\u001b[1;33m.\u001b[0m\u001b[0miloc\u001b[0m\u001b[1;33m[\u001b[0m\u001b[1;33m:\u001b[0m\u001b[1;33m,\u001b[0m \u001b[1;36m14\u001b[0m\u001b[1;33m]\u001b[0m\u001b[1;33m\u001b[0m\u001b[1;33m\u001b[0m\u001b[0m\n\u001b[1;32m---> 50\u001b[1;33m                     \u001b[0mlocal_info_gain\u001b[0m \u001b[1;33m=\u001b[0m \u001b[0mself\u001b[0m\u001b[1;33m.\u001b[0m\u001b[0minformation_gain\u001b[0m\u001b[1;33m(\u001b[0m\u001b[0my\u001b[0m\u001b[1;33m,\u001b[0m \u001b[0my_left\u001b[0m\u001b[1;33m,\u001b[0m \u001b[0my_right\u001b[0m\u001b[1;33m)\u001b[0m\u001b[1;33m\u001b[0m\u001b[1;33m\u001b[0m\u001b[0m\n\u001b[0m\u001b[0;32m     51\u001b[0m                     \u001b[1;32mif\u001b[0m \u001b[0mlocal_info_gain\u001b[0m \u001b[1;33m>\u001b[0m \u001b[0mmax_info_gain\u001b[0m\u001b[1;33m:\u001b[0m\u001b[1;33m\u001b[0m\u001b[1;33m\u001b[0m\u001b[0m\n\u001b[0;32m     52\u001b[0m                         \u001b[0mmax_gain_split\u001b[0m\u001b[1;33m[\u001b[0m\u001b[1;34m'attribute'\u001b[0m\u001b[1;33m]\u001b[0m \u001b[1;33m=\u001b[0m \u001b[0mattribute_index\u001b[0m\u001b[1;33m\u001b[0m\u001b[1;33m\u001b[0m\u001b[0m\n",
      "\u001b[1;32mC:\\Users\\ASHISH~1\\AppData\\Local\\Temp/ipykernel_18436/4131249687.py\u001b[0m in \u001b[0;36minformation_gain\u001b[1;34m(self, y, y_left, y_right)\u001b[0m\n\u001b[0;32m     60\u001b[0m         \u001b[0mw1\u001b[0m \u001b[1;33m=\u001b[0m \u001b[0mlen\u001b[0m\u001b[1;33m(\u001b[0m\u001b[0my_left\u001b[0m\u001b[1;33m)\u001b[0m\u001b[1;33m/\u001b[0m\u001b[0mlen\u001b[0m\u001b[1;33m(\u001b[0m\u001b[0my\u001b[0m\u001b[1;33m)\u001b[0m\u001b[1;33m\u001b[0m\u001b[1;33m\u001b[0m\u001b[0m\n\u001b[0;32m     61\u001b[0m         \u001b[0mw2\u001b[0m \u001b[1;33m=\u001b[0m \u001b[0mlen\u001b[0m\u001b[1;33m(\u001b[0m\u001b[0my_right\u001b[0m\u001b[1;33m)\u001b[0m\u001b[1;33m/\u001b[0m\u001b[0mlen\u001b[0m\u001b[1;33m(\u001b[0m\u001b[0my\u001b[0m\u001b[1;33m)\u001b[0m\u001b[1;33m\u001b[0m\u001b[1;33m\u001b[0m\u001b[0m\n\u001b[1;32m---> 62\u001b[1;33m         \u001b[0mgain\u001b[0m \u001b[1;33m=\u001b[0m \u001b[0mself\u001b[0m\u001b[1;33m.\u001b[0m\u001b[0mentropy\u001b[0m\u001b[1;33m(\u001b[0m\u001b[0my\u001b[0m\u001b[1;33m)\u001b[0m \u001b[1;33m-\u001b[0m \u001b[0mw1\u001b[0m \u001b[1;33m*\u001b[0m \u001b[0mself\u001b[0m\u001b[1;33m.\u001b[0m\u001b[0mentropy\u001b[0m\u001b[1;33m(\u001b[0m\u001b[0my_left\u001b[0m\u001b[1;33m)\u001b[0m \u001b[1;33m-\u001b[0m \u001b[0mw2\u001b[0m \u001b[1;33m*\u001b[0m \u001b[0mself\u001b[0m\u001b[1;33m.\u001b[0m\u001b[0mentropy\u001b[0m\u001b[1;33m(\u001b[0m\u001b[0my_right\u001b[0m\u001b[1;33m)\u001b[0m\u001b[1;33m\u001b[0m\u001b[1;33m\u001b[0m\u001b[0m\n\u001b[0m\u001b[0;32m     63\u001b[0m         \u001b[1;32mreturn\u001b[0m \u001b[0mgain\u001b[0m\u001b[1;33m\u001b[0m\u001b[1;33m\u001b[0m\u001b[0m\n\u001b[0;32m     64\u001b[0m \u001b[1;33m\u001b[0m\u001b[0m\n",
      "\u001b[1;32mC:\\Users\\ASHISH~1\\AppData\\Local\\Temp/ipykernel_18436/4131249687.py\u001b[0m in \u001b[0;36mentropy\u001b[1;34m(self, y)\u001b[0m\n\u001b[0;32m     68\u001b[0m             \u001b[1;32mreturn\u001b[0m \u001b[1;36m0\u001b[0m\u001b[1;33m\u001b[0m\u001b[1;33m\u001b[0m\u001b[0m\n\u001b[0;32m     69\u001b[0m         \u001b[1;32mfor\u001b[0m \u001b[0mlabel\u001b[0m \u001b[1;32min\u001b[0m \u001b[1;33m[\u001b[0m\u001b[1;36m0\u001b[0m\u001b[1;33m,\u001b[0m \u001b[1;36m1\u001b[0m\u001b[1;33m]\u001b[0m\u001b[1;33m:\u001b[0m\u001b[1;33m\u001b[0m\u001b[1;33m\u001b[0m\u001b[0m\n\u001b[1;32m---> 70\u001b[1;33m             \u001b[0mprior\u001b[0m \u001b[1;33m=\u001b[0m \u001b[0mlen\u001b[0m\u001b[1;33m(\u001b[0m\u001b[0my\u001b[0m\u001b[1;33m[\u001b[0m\u001b[0my\u001b[0m\u001b[1;33m==\u001b[0m\u001b[0mlabel\u001b[0m\u001b[1;33m]\u001b[0m\u001b[1;33m)\u001b[0m\u001b[1;33m/\u001b[0m\u001b[0mlen\u001b[0m\u001b[1;33m(\u001b[0m\u001b[0my\u001b[0m\u001b[1;33m)\u001b[0m\u001b[1;33m\u001b[0m\u001b[1;33m\u001b[0m\u001b[0m\n\u001b[0m\u001b[0;32m     71\u001b[0m             \u001b[1;32mif\u001b[0m \u001b[0mprior\u001b[0m \u001b[1;33m==\u001b[0m \u001b[1;36m0\u001b[0m\u001b[1;33m:\u001b[0m\u001b[1;33m\u001b[0m\u001b[1;33m\u001b[0m\u001b[0m\n\u001b[0;32m     72\u001b[0m                 \u001b[1;32mcontinue\u001b[0m\u001b[1;33m\u001b[0m\u001b[1;33m\u001b[0m\u001b[0m\n",
      "\u001b[1;32mC:\\anaconda\\lib\\site-packages\\pandas\\core\\series.py\u001b[0m in \u001b[0;36m__getitem__\u001b[1;34m(self, key)\u001b[0m\n\u001b[0;32m    962\u001b[0m             \u001b[0mkey\u001b[0m \u001b[1;33m=\u001b[0m \u001b[0mcheck_bool_indexer\u001b[0m\u001b[1;33m(\u001b[0m\u001b[0mself\u001b[0m\u001b[1;33m.\u001b[0m\u001b[0mindex\u001b[0m\u001b[1;33m,\u001b[0m \u001b[0mkey\u001b[0m\u001b[1;33m)\u001b[0m\u001b[1;33m\u001b[0m\u001b[1;33m\u001b[0m\u001b[0m\n\u001b[0;32m    963\u001b[0m             \u001b[0mkey\u001b[0m \u001b[1;33m=\u001b[0m \u001b[0mnp\u001b[0m\u001b[1;33m.\u001b[0m\u001b[0masarray\u001b[0m\u001b[1;33m(\u001b[0m\u001b[0mkey\u001b[0m\u001b[1;33m,\u001b[0m \u001b[0mdtype\u001b[0m\u001b[1;33m=\u001b[0m\u001b[0mbool\u001b[0m\u001b[1;33m)\u001b[0m\u001b[1;33m\u001b[0m\u001b[1;33m\u001b[0m\u001b[0m\n\u001b[1;32m--> 964\u001b[1;33m             \u001b[1;32mreturn\u001b[0m \u001b[0mself\u001b[0m\u001b[1;33m.\u001b[0m\u001b[0m_get_values\u001b[0m\u001b[1;33m(\u001b[0m\u001b[0mkey\u001b[0m\u001b[1;33m)\u001b[0m\u001b[1;33m\u001b[0m\u001b[1;33m\u001b[0m\u001b[0m\n\u001b[0m\u001b[0;32m    965\u001b[0m \u001b[1;33m\u001b[0m\u001b[0m\n\u001b[0;32m    966\u001b[0m         \u001b[1;32mreturn\u001b[0m \u001b[0mself\u001b[0m\u001b[1;33m.\u001b[0m\u001b[0m_get_with\u001b[0m\u001b[1;33m(\u001b[0m\u001b[0mkey\u001b[0m\u001b[1;33m)\u001b[0m\u001b[1;33m\u001b[0m\u001b[1;33m\u001b[0m\u001b[0m\n",
      "\u001b[1;32mC:\\anaconda\\lib\\site-packages\\pandas\\core\\series.py\u001b[0m in \u001b[0;36m_get_values\u001b[1;34m(self, indexer)\u001b[0m\n\u001b[0;32m   1024\u001b[0m     \u001b[1;32mdef\u001b[0m \u001b[0m_get_values\u001b[0m\u001b[1;33m(\u001b[0m\u001b[0mself\u001b[0m\u001b[1;33m,\u001b[0m \u001b[0mindexer\u001b[0m\u001b[1;33m)\u001b[0m\u001b[1;33m:\u001b[0m\u001b[1;33m\u001b[0m\u001b[1;33m\u001b[0m\u001b[0m\n\u001b[0;32m   1025\u001b[0m         \u001b[1;32mtry\u001b[0m\u001b[1;33m:\u001b[0m\u001b[1;33m\u001b[0m\u001b[1;33m\u001b[0m\u001b[0m\n\u001b[1;32m-> 1026\u001b[1;33m             \u001b[0mnew_mgr\u001b[0m \u001b[1;33m=\u001b[0m \u001b[0mself\u001b[0m\u001b[1;33m.\u001b[0m\u001b[0m_mgr\u001b[0m\u001b[1;33m.\u001b[0m\u001b[0mgetitem_mgr\u001b[0m\u001b[1;33m(\u001b[0m\u001b[0mindexer\u001b[0m\u001b[1;33m)\u001b[0m\u001b[1;33m\u001b[0m\u001b[1;33m\u001b[0m\u001b[0m\n\u001b[0m\u001b[0;32m   1027\u001b[0m             \u001b[1;32mreturn\u001b[0m \u001b[0mself\u001b[0m\u001b[1;33m.\u001b[0m\u001b[0m_constructor\u001b[0m\u001b[1;33m(\u001b[0m\u001b[0mnew_mgr\u001b[0m\u001b[1;33m)\u001b[0m\u001b[1;33m.\u001b[0m\u001b[0m__finalize__\u001b[0m\u001b[1;33m(\u001b[0m\u001b[0mself\u001b[0m\u001b[1;33m)\u001b[0m\u001b[1;33m\u001b[0m\u001b[1;33m\u001b[0m\u001b[0m\n\u001b[0;32m   1028\u001b[0m         \u001b[1;32mexcept\u001b[0m \u001b[0mValueError\u001b[0m\u001b[1;33m:\u001b[0m\u001b[1;33m\u001b[0m\u001b[1;33m\u001b[0m\u001b[0m\n",
      "\u001b[1;32mC:\\anaconda\\lib\\site-packages\\pandas\\core\\internals\\managers.py\u001b[0m in \u001b[0;36mgetitem_mgr\u001b[1;34m(self, indexer)\u001b[0m\n\u001b[0;32m   1634\u001b[0m         \u001b[1;31m# similar to get_slice, but not restricted to slice indexer\u001b[0m\u001b[1;33m\u001b[0m\u001b[1;33m\u001b[0m\u001b[1;33m\u001b[0m\u001b[0m\n\u001b[0;32m   1635\u001b[0m         \u001b[0mblk\u001b[0m \u001b[1;33m=\u001b[0m \u001b[0mself\u001b[0m\u001b[1;33m.\u001b[0m\u001b[0m_block\u001b[0m\u001b[1;33m\u001b[0m\u001b[1;33m\u001b[0m\u001b[0m\n\u001b[1;32m-> 1636\u001b[1;33m         \u001b[0marray\u001b[0m \u001b[1;33m=\u001b[0m \u001b[0mblk\u001b[0m\u001b[1;33m.\u001b[0m\u001b[0m_slice\u001b[0m\u001b[1;33m(\u001b[0m\u001b[0mindexer\u001b[0m\u001b[1;33m)\u001b[0m\u001b[1;33m\u001b[0m\u001b[1;33m\u001b[0m\u001b[0m\n\u001b[0m\u001b[0;32m   1637\u001b[0m         \u001b[1;32mif\u001b[0m \u001b[0marray\u001b[0m\u001b[1;33m.\u001b[0m\u001b[0mndim\u001b[0m \u001b[1;33m>\u001b[0m \u001b[1;36m1\u001b[0m\u001b[1;33m:\u001b[0m\u001b[1;33m\u001b[0m\u001b[1;33m\u001b[0m\u001b[0m\n\u001b[0;32m   1638\u001b[0m             \u001b[1;31m# This will be caught by Series._get_values\u001b[0m\u001b[1;33m\u001b[0m\u001b[1;33m\u001b[0m\u001b[1;33m\u001b[0m\u001b[0m\n",
      "\u001b[1;32mC:\\anaconda\\lib\\site-packages\\pandas\\core\\internals\\blocks.py\u001b[0m in \u001b[0;36m_slice\u001b[1;34m(self, slicer)\u001b[0m\n\u001b[0;32m    294\u001b[0m         \u001b[1;34m\"\"\"return a slice of my values\"\"\"\u001b[0m\u001b[1;33m\u001b[0m\u001b[1;33m\u001b[0m\u001b[0m\n\u001b[0;32m    295\u001b[0m \u001b[1;33m\u001b[0m\u001b[0m\n\u001b[1;32m--> 296\u001b[1;33m         \u001b[1;32mreturn\u001b[0m \u001b[0mself\u001b[0m\u001b[1;33m.\u001b[0m\u001b[0mvalues\u001b[0m\u001b[1;33m[\u001b[0m\u001b[0mslicer\u001b[0m\u001b[1;33m]\u001b[0m\u001b[1;33m\u001b[0m\u001b[1;33m\u001b[0m\u001b[0m\n\u001b[0m\u001b[0;32m    297\u001b[0m \u001b[1;33m\u001b[0m\u001b[0m\n\u001b[0;32m    298\u001b[0m     \u001b[1;33m@\u001b[0m\u001b[0mfinal\u001b[0m\u001b[1;33m\u001b[0m\u001b[1;33m\u001b[0m\u001b[0m\n",
      "\u001b[1;31mKeyboardInterrupt\u001b[0m: "
     ]
    }
   ],
   "source": [
    "my_tree.root = my_tree.build_tree(df_train)"
   ]
  },
  {
   "cell_type": "markdown",
   "id": "2b1b1b53",
   "metadata": {},
   "source": [
    "### Data Preprocessing for PCA"
   ]
  },
  {
   "cell_type": "markdown",
   "id": "d9cb3fa6",
   "metadata": {},
   "source": [
    "## Here We can do one-hot Encoding followed to handle the mix of categorical and continuous features\n",
    "- It results in 107 features in total"
   ]
  },
  {
   "cell_type": "code",
   "execution_count": 263,
   "id": "aa74a290",
   "metadata": {},
   "outputs": [],
   "source": [
    "def one_hot_encode(df, att_list, implementation = None):\n",
    "    \"\"\"\n",
    "    Function which returns one-hot-encoded dataframe\n",
    "    default value of implementation, None,  uses in-built python pandas function for one-hot-encoding\n",
    "    implementation value as anything other than None uses my implementation which is bit slow as probably \n",
    "    the get_dummies function uses pandas or numpy vectorization\n",
    "    \"\"\"\n",
    "    df_new = df.copy()\n",
    "    if implementation is None:\n",
    "        return pd.get_dummies(df_new)\n",
    "    for  feat in att_list:\n",
    "        df_new[feat] = df_new[feat].str.strip()\n",
    "        vals = df_new[feat].unique()\n",
    "        for i in range(len(vals)):\n",
    "            new_col_name = feat + '_' + vals\n",
    "            df_new[new_col_name] = 0\n",
    "        for i in range(len(df_new)):\n",
    "            df_new.loc[i, feat + '_' + df_new.loc[i, feat]] = 1\n",
    "        df_new.drop(columns = [feat], inplace = True)\n",
    "    return df_new"
   ]
  },
  {
   "cell_type": "code",
   "execution_count": 264,
   "id": "016f1132",
   "metadata": {},
   "outputs": [],
   "source": [
    "df_pca = df.copy()"
   ]
  },
  {
   "cell_type": "code",
   "execution_count": 265,
   "id": "d92553df",
   "metadata": {},
   "outputs": [],
   "source": [
    "df_pca['income'] = df_pca['income'].str.strip()"
   ]
  },
  {
   "cell_type": "code",
   "execution_count": 266,
   "id": "5a587940",
   "metadata": {},
   "outputs": [
    {
     "data": {
      "text/plain": [
       "array(['<=50K', '>50K', '<=50K.', '>50K.'], dtype=object)"
      ]
     },
     "execution_count": 266,
     "metadata": {},
     "output_type": "execute_result"
    }
   ],
   "source": [
    "df_pca['income'].unique()"
   ]
  },
  {
   "cell_type": "code",
   "execution_count": 267,
   "id": "1985c131",
   "metadata": {},
   "outputs": [],
   "source": [
    "df_pca = df_pca.replace({'<=50K.':'<=50K', '>50K.':'>50K'})\n"
   ]
  },
  {
   "cell_type": "code",
   "execution_count": 268,
   "id": "5477a7c0",
   "metadata": {},
   "outputs": [
    {
     "data": {
      "text/plain": [
       "array(['<=50K', '>50K'], dtype=object)"
      ]
     },
     "execution_count": 268,
     "metadata": {},
     "output_type": "execute_result"
    }
   ],
   "source": [
    "df_pca['income'].unique()"
   ]
  },
  {
   "cell_type": "code",
   "execution_count": 269,
   "id": "5d1fdc90",
   "metadata": {},
   "outputs": [],
   "source": [
    "categorical_features = []\n",
    "for i in [1,3,5,6,7,8,9,13]:\n",
    "    categorical_features.append(df_pca.columns[i])"
   ]
  },
  {
   "cell_type": "code",
   "execution_count": 270,
   "id": "38a6b9c6",
   "metadata": {},
   "outputs": [
    {
     "data": {
      "text/plain": [
       "['workclass',\n",
       " 'education',\n",
       " 'marital-status',\n",
       " 'occupation',\n",
       " 'relationship',\n",
       " 'race',\n",
       " 'sex',\n",
       " 'native-country']"
      ]
     },
     "execution_count": 270,
     "metadata": {},
     "output_type": "execute_result"
    }
   ],
   "source": [
    "categorical_features"
   ]
  },
  {
   "cell_type": "code",
   "execution_count": 271,
   "id": "c9a1f433",
   "metadata": {},
   "outputs": [],
   "source": [
    "df_pca['sex'] = df_pca['sex'].str.strip()"
   ]
  },
  {
   "cell_type": "code",
   "execution_count": 272,
   "id": "52740518",
   "metadata": {},
   "outputs": [
    {
     "data": {
      "text/plain": [
       "array(['Male', 'Female'], dtype=object)"
      ]
     },
     "execution_count": 272,
     "metadata": {},
     "output_type": "execute_result"
    }
   ],
   "source": [
    "df_pca['sex'].unique()"
   ]
  },
  {
   "cell_type": "code",
   "execution_count": 273,
   "id": "f9abf684",
   "metadata": {},
   "outputs": [],
   "source": [
    "df_pca['sex'] = df_pca['sex'].map({'Male':0, 'Female':1})"
   ]
  },
  {
   "cell_type": "code",
   "execution_count": 274,
   "id": "8d6ea27e",
   "metadata": {},
   "outputs": [
    {
     "name": "stderr",
     "output_type": "stream",
     "text": [
      "C:\\anaconda\\lib\\site-packages\\pandas\\core\\indexes\\base.py:4616: FutureWarning: Using a non-tuple sequence for multidimensional indexing is deprecated; use `arr[tuple(seq)]` instead of `arr[seq]`. In the future this will be interpreted as an array index, `arr[np.array(seq)]`, which will result either in an error or a different result.\n",
      "  result = getitem(key)\n"
     ]
    },
    {
     "ename": "IndexError",
     "evalue": "only integers, slices (`:`), ellipsis (`...`), numpy.newaxis (`None`) and integer or boolean arrays are valid indices",
     "output_type": "error",
     "traceback": [
      "\u001b[1;31m---------------------------------------------------------------------------\u001b[0m",
      "\u001b[1;31mIndexError\u001b[0m                                Traceback (most recent call last)",
      "\u001b[1;32mC:\\Users\\ASHISH~1\\AppData\\Local\\Temp/ipykernel_18436/1572642806.py\u001b[0m in \u001b[0;36m<module>\u001b[1;34m\u001b[0m\n\u001b[1;32m----> 1\u001b[1;33m \u001b[0mdf_pca\u001b[0m \u001b[1;33m=\u001b[0m \u001b[0mone_hot_encode\u001b[0m\u001b[1;33m(\u001b[0m\u001b[0mdf_pca\u001b[0m\u001b[1;33m,\u001b[0m \u001b[0mdf\u001b[0m\u001b[1;33m.\u001b[0m\u001b[0mcolumns\u001b[0m\u001b[1;33m[\u001b[0m\u001b[0mcategorical_columns\u001b[0m\u001b[1;33m]\u001b[0m\u001b[1;33m)\u001b[0m\u001b[1;33m\u001b[0m\u001b[1;33m\u001b[0m\u001b[0m\n\u001b[0m",
      "\u001b[1;32mC:\\anaconda\\lib\\site-packages\\pandas\\core\\indexes\\base.py\u001b[0m in \u001b[0;36m__getitem__\u001b[1;34m(self, key)\u001b[0m\n\u001b[0;32m   4614\u001b[0m             \u001b[0mkey\u001b[0m \u001b[1;33m=\u001b[0m \u001b[0mnp\u001b[0m\u001b[1;33m.\u001b[0m\u001b[0masarray\u001b[0m\u001b[1;33m(\u001b[0m\u001b[0mkey\u001b[0m\u001b[1;33m,\u001b[0m \u001b[0mdtype\u001b[0m\u001b[1;33m=\u001b[0m\u001b[0mbool\u001b[0m\u001b[1;33m)\u001b[0m\u001b[1;33m\u001b[0m\u001b[1;33m\u001b[0m\u001b[0m\n\u001b[0;32m   4615\u001b[0m \u001b[1;33m\u001b[0m\u001b[0m\n\u001b[1;32m-> 4616\u001b[1;33m         \u001b[0mresult\u001b[0m \u001b[1;33m=\u001b[0m \u001b[0mgetitem\u001b[0m\u001b[1;33m(\u001b[0m\u001b[0mkey\u001b[0m\u001b[1;33m)\u001b[0m\u001b[1;33m\u001b[0m\u001b[1;33m\u001b[0m\u001b[0m\n\u001b[0m\u001b[0;32m   4617\u001b[0m         \u001b[1;32mif\u001b[0m \u001b[1;32mnot\u001b[0m \u001b[0mis_scalar\u001b[0m\u001b[1;33m(\u001b[0m\u001b[0mresult\u001b[0m\u001b[1;33m)\u001b[0m\u001b[1;33m:\u001b[0m\u001b[1;33m\u001b[0m\u001b[1;33m\u001b[0m\u001b[0m\n\u001b[0;32m   4618\u001b[0m             \u001b[1;31m# error: Argument 1 to \"ndim\" has incompatible type \"Union[ExtensionArray,\u001b[0m\u001b[1;33m\u001b[0m\u001b[1;33m\u001b[0m\u001b[1;33m\u001b[0m\u001b[0m\n",
      "\u001b[1;31mIndexError\u001b[0m: only integers, slices (`:`), ellipsis (`...`), numpy.newaxis (`None`) and integer or boolean arrays are valid indices"
     ]
    }
   ],
   "source": [
    "df_pca = one_hot_encode(df_pca, df.columns[categorical_columns])"
   ]
  },
  {
   "cell_type": "code",
   "execution_count": 275,
   "id": "759eaa48",
   "metadata": {},
   "outputs": [
    {
     "data": {
      "text/html": [
       "<div>\n",
       "<style scoped>\n",
       "    .dataframe tbody tr th:only-of-type {\n",
       "        vertical-align: middle;\n",
       "    }\n",
       "\n",
       "    .dataframe tbody tr th {\n",
       "        vertical-align: top;\n",
       "    }\n",
       "\n",
       "    .dataframe thead th {\n",
       "        text-align: right;\n",
       "    }\n",
       "</style>\n",
       "<table border=\"1\" class=\"dataframe\">\n",
       "  <thead>\n",
       "    <tr style=\"text-align: right;\">\n",
       "      <th></th>\n",
       "      <th>age</th>\n",
       "      <th>workclass</th>\n",
       "      <th>fnlwgt</th>\n",
       "      <th>education</th>\n",
       "      <th>education-num</th>\n",
       "      <th>marital-status</th>\n",
       "      <th>occupation</th>\n",
       "      <th>relationship</th>\n",
       "      <th>race</th>\n",
       "      <th>sex</th>\n",
       "      <th>capital-gain</th>\n",
       "      <th>capital-loss</th>\n",
       "      <th>hours-per-week</th>\n",
       "      <th>native-country</th>\n",
       "      <th>income</th>\n",
       "    </tr>\n",
       "  </thead>\n",
       "  <tbody>\n",
       "    <tr>\n",
       "      <th>0</th>\n",
       "      <td>39</td>\n",
       "      <td>State-gov</td>\n",
       "      <td>77516</td>\n",
       "      <td>Bachelors</td>\n",
       "      <td>13</td>\n",
       "      <td>Never-married</td>\n",
       "      <td>Adm-clerical</td>\n",
       "      <td>Not-in-family</td>\n",
       "      <td>White</td>\n",
       "      <td>0</td>\n",
       "      <td>2174</td>\n",
       "      <td>0</td>\n",
       "      <td>40</td>\n",
       "      <td>United-States</td>\n",
       "      <td>&lt;=50K</td>\n",
       "    </tr>\n",
       "    <tr>\n",
       "      <th>1</th>\n",
       "      <td>50</td>\n",
       "      <td>Self-emp-not-inc</td>\n",
       "      <td>83311</td>\n",
       "      <td>Bachelors</td>\n",
       "      <td>13</td>\n",
       "      <td>Married-civ-spouse</td>\n",
       "      <td>Exec-managerial</td>\n",
       "      <td>Husband</td>\n",
       "      <td>White</td>\n",
       "      <td>0</td>\n",
       "      <td>0</td>\n",
       "      <td>0</td>\n",
       "      <td>13</td>\n",
       "      <td>United-States</td>\n",
       "      <td>&lt;=50K</td>\n",
       "    </tr>\n",
       "    <tr>\n",
       "      <th>2</th>\n",
       "      <td>38</td>\n",
       "      <td>Private</td>\n",
       "      <td>215646</td>\n",
       "      <td>HS-grad</td>\n",
       "      <td>9</td>\n",
       "      <td>Divorced</td>\n",
       "      <td>Handlers-cleaners</td>\n",
       "      <td>Not-in-family</td>\n",
       "      <td>White</td>\n",
       "      <td>0</td>\n",
       "      <td>0</td>\n",
       "      <td>0</td>\n",
       "      <td>40</td>\n",
       "      <td>United-States</td>\n",
       "      <td>&lt;=50K</td>\n",
       "    </tr>\n",
       "    <tr>\n",
       "      <th>3</th>\n",
       "      <td>53</td>\n",
       "      <td>Private</td>\n",
       "      <td>234721</td>\n",
       "      <td>11th</td>\n",
       "      <td>7</td>\n",
       "      <td>Married-civ-spouse</td>\n",
       "      <td>Handlers-cleaners</td>\n",
       "      <td>Husband</td>\n",
       "      <td>Black</td>\n",
       "      <td>0</td>\n",
       "      <td>0</td>\n",
       "      <td>0</td>\n",
       "      <td>40</td>\n",
       "      <td>United-States</td>\n",
       "      <td>&lt;=50K</td>\n",
       "    </tr>\n",
       "    <tr>\n",
       "      <th>4</th>\n",
       "      <td>28</td>\n",
       "      <td>Private</td>\n",
       "      <td>338409</td>\n",
       "      <td>Bachelors</td>\n",
       "      <td>13</td>\n",
       "      <td>Married-civ-spouse</td>\n",
       "      <td>Prof-specialty</td>\n",
       "      <td>Wife</td>\n",
       "      <td>Black</td>\n",
       "      <td>1</td>\n",
       "      <td>0</td>\n",
       "      <td>0</td>\n",
       "      <td>40</td>\n",
       "      <td>Cuba</td>\n",
       "      <td>&lt;=50K</td>\n",
       "    </tr>\n",
       "    <tr>\n",
       "      <th>...</th>\n",
       "      <td>...</td>\n",
       "      <td>...</td>\n",
       "      <td>...</td>\n",
       "      <td>...</td>\n",
       "      <td>...</td>\n",
       "      <td>...</td>\n",
       "      <td>...</td>\n",
       "      <td>...</td>\n",
       "      <td>...</td>\n",
       "      <td>...</td>\n",
       "      <td>...</td>\n",
       "      <td>...</td>\n",
       "      <td>...</td>\n",
       "      <td>...</td>\n",
       "      <td>...</td>\n",
       "    </tr>\n",
       "    <tr>\n",
       "      <th>16276</th>\n",
       "      <td>39</td>\n",
       "      <td>Private</td>\n",
       "      <td>215419</td>\n",
       "      <td>Bachelors</td>\n",
       "      <td>13</td>\n",
       "      <td>Divorced</td>\n",
       "      <td>Prof-specialty</td>\n",
       "      <td>Not-in-family</td>\n",
       "      <td>White</td>\n",
       "      <td>1</td>\n",
       "      <td>0</td>\n",
       "      <td>0</td>\n",
       "      <td>36</td>\n",
       "      <td>United-States</td>\n",
       "      <td>&lt;=50K</td>\n",
       "    </tr>\n",
       "    <tr>\n",
       "      <th>16277</th>\n",
       "      <td>64</td>\n",
       "      <td>?</td>\n",
       "      <td>321403</td>\n",
       "      <td>HS-grad</td>\n",
       "      <td>9</td>\n",
       "      <td>Widowed</td>\n",
       "      <td>?</td>\n",
       "      <td>Other-relative</td>\n",
       "      <td>Black</td>\n",
       "      <td>0</td>\n",
       "      <td>0</td>\n",
       "      <td>0</td>\n",
       "      <td>40</td>\n",
       "      <td>United-States</td>\n",
       "      <td>&lt;=50K</td>\n",
       "    </tr>\n",
       "    <tr>\n",
       "      <th>16278</th>\n",
       "      <td>38</td>\n",
       "      <td>Private</td>\n",
       "      <td>374983</td>\n",
       "      <td>Bachelors</td>\n",
       "      <td>13</td>\n",
       "      <td>Married-civ-spouse</td>\n",
       "      <td>Prof-specialty</td>\n",
       "      <td>Husband</td>\n",
       "      <td>White</td>\n",
       "      <td>0</td>\n",
       "      <td>0</td>\n",
       "      <td>0</td>\n",
       "      <td>50</td>\n",
       "      <td>United-States</td>\n",
       "      <td>&lt;=50K</td>\n",
       "    </tr>\n",
       "    <tr>\n",
       "      <th>16279</th>\n",
       "      <td>44</td>\n",
       "      <td>Private</td>\n",
       "      <td>83891</td>\n",
       "      <td>Bachelors</td>\n",
       "      <td>13</td>\n",
       "      <td>Divorced</td>\n",
       "      <td>Adm-clerical</td>\n",
       "      <td>Own-child</td>\n",
       "      <td>Asian-Pac-Islander</td>\n",
       "      <td>0</td>\n",
       "      <td>5455</td>\n",
       "      <td>0</td>\n",
       "      <td>40</td>\n",
       "      <td>United-States</td>\n",
       "      <td>&lt;=50K</td>\n",
       "    </tr>\n",
       "    <tr>\n",
       "      <th>16280</th>\n",
       "      <td>35</td>\n",
       "      <td>Self-emp-inc</td>\n",
       "      <td>182148</td>\n",
       "      <td>Bachelors</td>\n",
       "      <td>13</td>\n",
       "      <td>Married-civ-spouse</td>\n",
       "      <td>Exec-managerial</td>\n",
       "      <td>Husband</td>\n",
       "      <td>White</td>\n",
       "      <td>0</td>\n",
       "      <td>0</td>\n",
       "      <td>0</td>\n",
       "      <td>60</td>\n",
       "      <td>United-States</td>\n",
       "      <td>&gt;50K</td>\n",
       "    </tr>\n",
       "  </tbody>\n",
       "</table>\n",
       "<p>48842 rows × 15 columns</p>\n",
       "</div>"
      ],
      "text/plain": [
       "       age          workclass  fnlwgt   education  education-num  \\\n",
       "0       39          State-gov   77516   Bachelors             13   \n",
       "1       50   Self-emp-not-inc   83311   Bachelors             13   \n",
       "2       38            Private  215646     HS-grad              9   \n",
       "3       53            Private  234721        11th              7   \n",
       "4       28            Private  338409   Bachelors             13   \n",
       "...    ...                ...     ...         ...            ...   \n",
       "16276   39            Private  215419   Bachelors             13   \n",
       "16277   64                  ?  321403     HS-grad              9   \n",
       "16278   38            Private  374983   Bachelors             13   \n",
       "16279   44            Private   83891   Bachelors             13   \n",
       "16280   35       Self-emp-inc  182148   Bachelors             13   \n",
       "\n",
       "            marital-status          occupation     relationship  \\\n",
       "0            Never-married        Adm-clerical    Not-in-family   \n",
       "1       Married-civ-spouse     Exec-managerial          Husband   \n",
       "2                 Divorced   Handlers-cleaners    Not-in-family   \n",
       "3       Married-civ-spouse   Handlers-cleaners          Husband   \n",
       "4       Married-civ-spouse      Prof-specialty             Wife   \n",
       "...                    ...                 ...              ...   \n",
       "16276             Divorced      Prof-specialty    Not-in-family   \n",
       "16277              Widowed                   ?   Other-relative   \n",
       "16278   Married-civ-spouse      Prof-specialty          Husband   \n",
       "16279             Divorced        Adm-clerical        Own-child   \n",
       "16280   Married-civ-spouse     Exec-managerial          Husband   \n",
       "\n",
       "                      race  sex  capital-gain  capital-loss  hours-per-week  \\\n",
       "0                    White    0          2174             0              40   \n",
       "1                    White    0             0             0              13   \n",
       "2                    White    0             0             0              40   \n",
       "3                    Black    0             0             0              40   \n",
       "4                    Black    1             0             0              40   \n",
       "...                    ...  ...           ...           ...             ...   \n",
       "16276                White    1             0             0              36   \n",
       "16277                Black    0             0             0              40   \n",
       "16278                White    0             0             0              50   \n",
       "16279   Asian-Pac-Islander    0          5455             0              40   \n",
       "16280                White    0             0             0              60   \n",
       "\n",
       "       native-country income  \n",
       "0       United-States  <=50K  \n",
       "1       United-States  <=50K  \n",
       "2       United-States  <=50K  \n",
       "3       United-States  <=50K  \n",
       "4                Cuba  <=50K  \n",
       "...               ...    ...  \n",
       "16276   United-States  <=50K  \n",
       "16277   United-States  <=50K  \n",
       "16278   United-States  <=50K  \n",
       "16279   United-States  <=50K  \n",
       "16280   United-States   >50K  \n",
       "\n",
       "[48842 rows x 15 columns]"
      ]
     },
     "execution_count": 275,
     "metadata": {},
     "output_type": "execute_result"
    }
   ],
   "source": [
    "df_pca"
   ]
  },
  {
   "cell_type": "code",
   "execution_count": 210,
   "id": "1534ffc9",
   "metadata": {},
   "outputs": [],
   "source": [
    "df_pca_train, df_pca_test = generate_data(df_pca)"
   ]
  },
  {
   "cell_type": "markdown",
   "id": "119111e1",
   "metadata": {},
   "source": [
    "## Now I can find covariance matrix and corresponding eigen vectors to max eigen values which have maximum contribution to variance"
   ]
  },
  {
   "cell_type": "code",
   "execution_count": 212,
   "id": "8c5a29e2",
   "metadata": {},
   "outputs": [
    {
     "ename": "TypeError",
     "evalue": "unsupported operand type(s) for +: 'int' and 'str'",
     "output_type": "error",
     "traceback": [
      "\u001b[1;31m---------------------------------------------------------------------------\u001b[0m",
      "\u001b[1;31mTypeError\u001b[0m                                 Traceback (most recent call last)",
      "\u001b[1;32mC:\\Users\\ASHISH~1\\AppData\\Local\\Temp/ipykernel_18436/918068812.py\u001b[0m in \u001b[0;36m<module>\u001b[1;34m\u001b[0m\n\u001b[1;32m----> 1\u001b[1;33m \u001b[0mnp\u001b[0m\u001b[1;33m.\u001b[0m\u001b[0mcov\u001b[0m\u001b[1;33m(\u001b[0m\u001b[0mdf_pca_train\u001b[0m\u001b[1;33m)\u001b[0m\u001b[1;33m\u001b[0m\u001b[1;33m\u001b[0m\u001b[0m\n\u001b[0m",
      "\u001b[1;32m<__array_function__ internals>\u001b[0m in \u001b[0;36mcov\u001b[1;34m(*args, **kwargs)\u001b[0m\n",
      "\u001b[1;32mC:\\anaconda\\lib\\site-packages\\numpy\\lib\\function_base.py\u001b[0m in \u001b[0;36mcov\u001b[1;34m(m, y, rowvar, bias, ddof, fweights, aweights)\u001b[0m\n\u001b[0;32m   2454\u001b[0m             \u001b[0mw\u001b[0m \u001b[1;33m*=\u001b[0m \u001b[0maweights\u001b[0m\u001b[1;33m\u001b[0m\u001b[1;33m\u001b[0m\u001b[0m\n\u001b[0;32m   2455\u001b[0m \u001b[1;33m\u001b[0m\u001b[0m\n\u001b[1;32m-> 2456\u001b[1;33m     \u001b[0mavg\u001b[0m\u001b[1;33m,\u001b[0m \u001b[0mw_sum\u001b[0m \u001b[1;33m=\u001b[0m \u001b[0maverage\u001b[0m\u001b[1;33m(\u001b[0m\u001b[0mX\u001b[0m\u001b[1;33m,\u001b[0m \u001b[0maxis\u001b[0m\u001b[1;33m=\u001b[0m\u001b[1;36m1\u001b[0m\u001b[1;33m,\u001b[0m \u001b[0mweights\u001b[0m\u001b[1;33m=\u001b[0m\u001b[0mw\u001b[0m\u001b[1;33m,\u001b[0m \u001b[0mreturned\u001b[0m\u001b[1;33m=\u001b[0m\u001b[1;32mTrue\u001b[0m\u001b[1;33m)\u001b[0m\u001b[1;33m\u001b[0m\u001b[1;33m\u001b[0m\u001b[0m\n\u001b[0m\u001b[0;32m   2457\u001b[0m     \u001b[0mw_sum\u001b[0m \u001b[1;33m=\u001b[0m \u001b[0mw_sum\u001b[0m\u001b[1;33m[\u001b[0m\u001b[1;36m0\u001b[0m\u001b[1;33m]\u001b[0m\u001b[1;33m\u001b[0m\u001b[1;33m\u001b[0m\u001b[0m\n\u001b[0;32m   2458\u001b[0m \u001b[1;33m\u001b[0m\u001b[0m\n",
      "\u001b[1;32m<__array_function__ internals>\u001b[0m in \u001b[0;36maverage\u001b[1;34m(*args, **kwargs)\u001b[0m\n",
      "\u001b[1;32mC:\\anaconda\\lib\\site-packages\\numpy\\lib\\function_base.py\u001b[0m in \u001b[0;36maverage\u001b[1;34m(a, axis, weights, returned)\u001b[0m\n\u001b[0;32m    378\u001b[0m \u001b[1;33m\u001b[0m\u001b[0m\n\u001b[0;32m    379\u001b[0m     \u001b[1;32mif\u001b[0m \u001b[0mweights\u001b[0m \u001b[1;32mis\u001b[0m \u001b[1;32mNone\u001b[0m\u001b[1;33m:\u001b[0m\u001b[1;33m\u001b[0m\u001b[1;33m\u001b[0m\u001b[0m\n\u001b[1;32m--> 380\u001b[1;33m         \u001b[0mavg\u001b[0m \u001b[1;33m=\u001b[0m \u001b[0ma\u001b[0m\u001b[1;33m.\u001b[0m\u001b[0mmean\u001b[0m\u001b[1;33m(\u001b[0m\u001b[0maxis\u001b[0m\u001b[1;33m)\u001b[0m\u001b[1;33m\u001b[0m\u001b[1;33m\u001b[0m\u001b[0m\n\u001b[0m\u001b[0;32m    381\u001b[0m         \u001b[0mscl\u001b[0m \u001b[1;33m=\u001b[0m \u001b[0mavg\u001b[0m\u001b[1;33m.\u001b[0m\u001b[0mdtype\u001b[0m\u001b[1;33m.\u001b[0m\u001b[0mtype\u001b[0m\u001b[1;33m(\u001b[0m\u001b[0ma\u001b[0m\u001b[1;33m.\u001b[0m\u001b[0msize\u001b[0m\u001b[1;33m/\u001b[0m\u001b[0mavg\u001b[0m\u001b[1;33m.\u001b[0m\u001b[0msize\u001b[0m\u001b[1;33m)\u001b[0m\u001b[1;33m\u001b[0m\u001b[1;33m\u001b[0m\u001b[0m\n\u001b[0;32m    382\u001b[0m     \u001b[1;32melse\u001b[0m\u001b[1;33m:\u001b[0m\u001b[1;33m\u001b[0m\u001b[1;33m\u001b[0m\u001b[0m\n",
      "\u001b[1;32mC:\\anaconda\\lib\\site-packages\\numpy\\core\\_methods.py\u001b[0m in \u001b[0;36m_mean\u001b[1;34m(a, axis, dtype, out, keepdims)\u001b[0m\n\u001b[0;32m    158\u001b[0m             \u001b[0mis_float16_result\u001b[0m \u001b[1;33m=\u001b[0m \u001b[1;32mTrue\u001b[0m\u001b[1;33m\u001b[0m\u001b[1;33m\u001b[0m\u001b[0m\n\u001b[0;32m    159\u001b[0m \u001b[1;33m\u001b[0m\u001b[0m\n\u001b[1;32m--> 160\u001b[1;33m     \u001b[0mret\u001b[0m \u001b[1;33m=\u001b[0m \u001b[0mumr_sum\u001b[0m\u001b[1;33m(\u001b[0m\u001b[0marr\u001b[0m\u001b[1;33m,\u001b[0m \u001b[0maxis\u001b[0m\u001b[1;33m,\u001b[0m \u001b[0mdtype\u001b[0m\u001b[1;33m,\u001b[0m \u001b[0mout\u001b[0m\u001b[1;33m,\u001b[0m \u001b[0mkeepdims\u001b[0m\u001b[1;33m)\u001b[0m\u001b[1;33m\u001b[0m\u001b[1;33m\u001b[0m\u001b[0m\n\u001b[0m\u001b[0;32m    161\u001b[0m     \u001b[1;32mif\u001b[0m \u001b[0misinstance\u001b[0m\u001b[1;33m(\u001b[0m\u001b[0mret\u001b[0m\u001b[1;33m,\u001b[0m \u001b[0mmu\u001b[0m\u001b[1;33m.\u001b[0m\u001b[0mndarray\u001b[0m\u001b[1;33m)\u001b[0m\u001b[1;33m:\u001b[0m\u001b[1;33m\u001b[0m\u001b[1;33m\u001b[0m\u001b[0m\n\u001b[0;32m    162\u001b[0m         ret = um.true_divide(\n",
      "\u001b[1;31mTypeError\u001b[0m: unsupported operand type(s) for +: 'int' and 'str'"
     ]
    }
   ],
   "source": [
    "df_pca_train[:, 0:1].values"
   ]
  },
  {
   "cell_type": "code",
   "execution_count": 211,
   "id": "4638420f",
   "metadata": {},
   "outputs": [
    {
     "ename": "KeyError",
     "evalue": "0",
     "output_type": "error",
     "traceback": [
      "\u001b[1;31m---------------------------------------------------------------------------\u001b[0m",
      "\u001b[1;31mKeyError\u001b[0m                                  Traceback (most recent call last)",
      "\u001b[1;32mC:\\anaconda\\lib\\site-packages\\pandas\\core\\indexes\\base.py\u001b[0m in \u001b[0;36mget_loc\u001b[1;34m(self, key, method, tolerance)\u001b[0m\n\u001b[0;32m   3360\u001b[0m             \u001b[1;32mtry\u001b[0m\u001b[1;33m:\u001b[0m\u001b[1;33m\u001b[0m\u001b[1;33m\u001b[0m\u001b[0m\n\u001b[1;32m-> 3361\u001b[1;33m                 \u001b[1;32mreturn\u001b[0m \u001b[0mself\u001b[0m\u001b[1;33m.\u001b[0m\u001b[0m_engine\u001b[0m\u001b[1;33m.\u001b[0m\u001b[0mget_loc\u001b[0m\u001b[1;33m(\u001b[0m\u001b[0mcasted_key\u001b[0m\u001b[1;33m)\u001b[0m\u001b[1;33m\u001b[0m\u001b[1;33m\u001b[0m\u001b[0m\n\u001b[0m\u001b[0;32m   3362\u001b[0m             \u001b[1;32mexcept\u001b[0m \u001b[0mKeyError\u001b[0m \u001b[1;32mas\u001b[0m \u001b[0merr\u001b[0m\u001b[1;33m:\u001b[0m\u001b[1;33m\u001b[0m\u001b[1;33m\u001b[0m\u001b[0m\n",
      "\u001b[1;32mC:\\anaconda\\lib\\site-packages\\pandas\\_libs\\index.pyx\u001b[0m in \u001b[0;36mpandas._libs.index.IndexEngine.get_loc\u001b[1;34m()\u001b[0m\n",
      "\u001b[1;32mC:\\anaconda\\lib\\site-packages\\pandas\\_libs\\index.pyx\u001b[0m in \u001b[0;36mpandas._libs.index.IndexEngine.get_loc\u001b[1;34m()\u001b[0m\n",
      "\u001b[1;32mpandas\\_libs\\hashtable_class_helper.pxi\u001b[0m in \u001b[0;36mpandas._libs.hashtable.PyObjectHashTable.get_item\u001b[1;34m()\u001b[0m\n",
      "\u001b[1;32mpandas\\_libs\\hashtable_class_helper.pxi\u001b[0m in \u001b[0;36mpandas._libs.hashtable.PyObjectHashTable.get_item\u001b[1;34m()\u001b[0m\n",
      "\u001b[1;31mKeyError\u001b[0m: 0",
      "\nThe above exception was the direct cause of the following exception:\n",
      "\u001b[1;31mKeyError\u001b[0m                                  Traceback (most recent call last)",
      "\u001b[1;32mC:\\Users\\ASHISH~1\\AppData\\Local\\Temp/ipykernel_18436/4268117207.py\u001b[0m in \u001b[0;36m<module>\u001b[1;34m\u001b[0m\n\u001b[1;32m----> 1\u001b[1;33m \u001b[0mdf_pca\u001b[0m \u001b[1;33m=\u001b[0m \u001b[0mstandardize_df\u001b[0m\u001b[1;33m(\u001b[0m\u001b[0mdf_pca\u001b[0m\u001b[1;33m,\u001b[0m \u001b[0mencoded_col_name\u001b[0m\u001b[1;33m)\u001b[0m\u001b[1;33m\u001b[0m\u001b[1;33m\u001b[0m\u001b[0m\n\u001b[0m\u001b[0;32m      2\u001b[0m \u001b[0mdf_pca\u001b[0m\u001b[1;33m\u001b[0m\u001b[1;33m\u001b[0m\u001b[0m\n",
      "\u001b[1;32mC:\\Users\\ASHISH~1\\AppData\\Local\\Temp/ipykernel_18436/2461459651.py\u001b[0m in \u001b[0;36mstandardize_df\u001b[1;34m(df, attr)\u001b[0m\n\u001b[0;32m     23\u001b[0m     \u001b[0mdf_new\u001b[0m \u001b[1;33m=\u001b[0m \u001b[0mdf\u001b[0m\u001b[1;33m.\u001b[0m\u001b[0mcopy\u001b[0m\u001b[1;33m(\u001b[0m\u001b[1;33m)\u001b[0m\u001b[1;33m\u001b[0m\u001b[1;33m\u001b[0m\u001b[0m\n\u001b[0;32m     24\u001b[0m     \u001b[1;32mfor\u001b[0m \u001b[0mv\u001b[0m \u001b[1;32min\u001b[0m \u001b[0mattr\u001b[0m\u001b[1;33m:\u001b[0m\u001b[1;33m\u001b[0m\u001b[1;33m\u001b[0m\u001b[0m\n\u001b[1;32m---> 25\u001b[1;33m         \u001b[0ma_mean\u001b[0m\u001b[1;33m,\u001b[0m \u001b[0ma_std\u001b[0m \u001b[1;33m=\u001b[0m \u001b[0mfind_mean_std\u001b[0m\u001b[1;33m(\u001b[0m\u001b[0mdf_new\u001b[0m\u001b[1;33m,\u001b[0m \u001b[0mv\u001b[0m\u001b[1;33m)\u001b[0m\u001b[1;33m\u001b[0m\u001b[1;33m\u001b[0m\u001b[0m\n\u001b[0m\u001b[0;32m     26\u001b[0m         \u001b[1;32mfor\u001b[0m \u001b[0mi\u001b[0m\u001b[1;33m,\u001b[0m\u001b[0mentry\u001b[0m \u001b[1;32min\u001b[0m \u001b[0menumerate\u001b[0m\u001b[1;33m(\u001b[0m\u001b[0mdf_new\u001b[0m\u001b[1;33m[\u001b[0m\u001b[0mv\u001b[0m\u001b[1;33m]\u001b[0m\u001b[1;33m)\u001b[0m\u001b[1;33m:\u001b[0m\u001b[1;33m\u001b[0m\u001b[1;33m\u001b[0m\u001b[0m\n\u001b[0;32m     27\u001b[0m             \u001b[0mdf_new\u001b[0m\u001b[1;33m.\u001b[0m\u001b[0mloc\u001b[0m\u001b[1;33m[\u001b[0m\u001b[0mi\u001b[0m\u001b[1;33m,\u001b[0m \u001b[0mv\u001b[0m\u001b[1;33m]\u001b[0m \u001b[1;33m=\u001b[0m \u001b[1;33m(\u001b[0m\u001b[0mentry\u001b[0m \u001b[1;33m-\u001b[0m \u001b[0ma_mean\u001b[0m\u001b[1;33m)\u001b[0m\u001b[1;33m/\u001b[0m\u001b[0ma_std\u001b[0m\u001b[1;33m\u001b[0m\u001b[1;33m\u001b[0m\u001b[0m\n",
      "\u001b[1;32mC:\\Users\\ASHISH~1\\AppData\\Local\\Temp/ipykernel_18436/2461459651.py\u001b[0m in \u001b[0;36mfind_mean_std\u001b[1;34m(df, attr)\u001b[0m\n\u001b[0;32m      5\u001b[0m     \"\"\"\n\u001b[0;32m      6\u001b[0m     \u001b[0mmean_attr\u001b[0m \u001b[1;33m=\u001b[0m \u001b[1;36m0\u001b[0m\u001b[1;33m\u001b[0m\u001b[1;33m\u001b[0m\u001b[0m\n\u001b[1;32m----> 7\u001b[1;33m     \u001b[1;32mfor\u001b[0m \u001b[0mattr_val\u001b[0m \u001b[1;32min\u001b[0m \u001b[0mdf\u001b[0m\u001b[1;33m[\u001b[0m\u001b[0mattr\u001b[0m\u001b[1;33m]\u001b[0m\u001b[1;33m:\u001b[0m\u001b[1;33m\u001b[0m\u001b[1;33m\u001b[0m\u001b[0m\n\u001b[0m\u001b[0;32m      8\u001b[0m         \u001b[0mmean_attr\u001b[0m \u001b[1;33m=\u001b[0m \u001b[0mmean_attr\u001b[0m \u001b[1;33m+\u001b[0m \u001b[0mattr_val\u001b[0m\u001b[1;33m\u001b[0m\u001b[1;33m\u001b[0m\u001b[0m\n\u001b[0;32m      9\u001b[0m     \u001b[0mmean_attr\u001b[0m \u001b[1;33m=\u001b[0m \u001b[0mmean_attr\u001b[0m\u001b[1;33m/\u001b[0m\u001b[0mlen\u001b[0m\u001b[1;33m(\u001b[0m\u001b[0mdf\u001b[0m\u001b[1;33m[\u001b[0m\u001b[0mattr\u001b[0m\u001b[1;33m]\u001b[0m\u001b[1;33m)\u001b[0m\u001b[1;33m\u001b[0m\u001b[1;33m\u001b[0m\u001b[0m\n",
      "\u001b[1;32mC:\\anaconda\\lib\\site-packages\\pandas\\core\\frame.py\u001b[0m in \u001b[0;36m__getitem__\u001b[1;34m(self, key)\u001b[0m\n\u001b[0;32m   3453\u001b[0m             \u001b[1;32mif\u001b[0m \u001b[0mself\u001b[0m\u001b[1;33m.\u001b[0m\u001b[0mcolumns\u001b[0m\u001b[1;33m.\u001b[0m\u001b[0mnlevels\u001b[0m \u001b[1;33m>\u001b[0m \u001b[1;36m1\u001b[0m\u001b[1;33m:\u001b[0m\u001b[1;33m\u001b[0m\u001b[1;33m\u001b[0m\u001b[0m\n\u001b[0;32m   3454\u001b[0m                 \u001b[1;32mreturn\u001b[0m \u001b[0mself\u001b[0m\u001b[1;33m.\u001b[0m\u001b[0m_getitem_multilevel\u001b[0m\u001b[1;33m(\u001b[0m\u001b[0mkey\u001b[0m\u001b[1;33m)\u001b[0m\u001b[1;33m\u001b[0m\u001b[1;33m\u001b[0m\u001b[0m\n\u001b[1;32m-> 3455\u001b[1;33m             \u001b[0mindexer\u001b[0m \u001b[1;33m=\u001b[0m \u001b[0mself\u001b[0m\u001b[1;33m.\u001b[0m\u001b[0mcolumns\u001b[0m\u001b[1;33m.\u001b[0m\u001b[0mget_loc\u001b[0m\u001b[1;33m(\u001b[0m\u001b[0mkey\u001b[0m\u001b[1;33m)\u001b[0m\u001b[1;33m\u001b[0m\u001b[1;33m\u001b[0m\u001b[0m\n\u001b[0m\u001b[0;32m   3456\u001b[0m             \u001b[1;32mif\u001b[0m \u001b[0mis_integer\u001b[0m\u001b[1;33m(\u001b[0m\u001b[0mindexer\u001b[0m\u001b[1;33m)\u001b[0m\u001b[1;33m:\u001b[0m\u001b[1;33m\u001b[0m\u001b[1;33m\u001b[0m\u001b[0m\n\u001b[0;32m   3457\u001b[0m                 \u001b[0mindexer\u001b[0m \u001b[1;33m=\u001b[0m \u001b[1;33m[\u001b[0m\u001b[0mindexer\u001b[0m\u001b[1;33m]\u001b[0m\u001b[1;33m\u001b[0m\u001b[1;33m\u001b[0m\u001b[0m\n",
      "\u001b[1;32mC:\\anaconda\\lib\\site-packages\\pandas\\core\\indexes\\base.py\u001b[0m in \u001b[0;36mget_loc\u001b[1;34m(self, key, method, tolerance)\u001b[0m\n\u001b[0;32m   3361\u001b[0m                 \u001b[1;32mreturn\u001b[0m \u001b[0mself\u001b[0m\u001b[1;33m.\u001b[0m\u001b[0m_engine\u001b[0m\u001b[1;33m.\u001b[0m\u001b[0mget_loc\u001b[0m\u001b[1;33m(\u001b[0m\u001b[0mcasted_key\u001b[0m\u001b[1;33m)\u001b[0m\u001b[1;33m\u001b[0m\u001b[1;33m\u001b[0m\u001b[0m\n\u001b[0;32m   3362\u001b[0m             \u001b[1;32mexcept\u001b[0m \u001b[0mKeyError\u001b[0m \u001b[1;32mas\u001b[0m \u001b[0merr\u001b[0m\u001b[1;33m:\u001b[0m\u001b[1;33m\u001b[0m\u001b[1;33m\u001b[0m\u001b[0m\n\u001b[1;32m-> 3363\u001b[1;33m                 \u001b[1;32mraise\u001b[0m \u001b[0mKeyError\u001b[0m\u001b[1;33m(\u001b[0m\u001b[0mkey\u001b[0m\u001b[1;33m)\u001b[0m \u001b[1;32mfrom\u001b[0m \u001b[0merr\u001b[0m\u001b[1;33m\u001b[0m\u001b[1;33m\u001b[0m\u001b[0m\n\u001b[0m\u001b[0;32m   3364\u001b[0m \u001b[1;33m\u001b[0m\u001b[0m\n\u001b[0;32m   3365\u001b[0m         \u001b[1;32mif\u001b[0m \u001b[0mis_scalar\u001b[0m\u001b[1;33m(\u001b[0m\u001b[0mkey\u001b[0m\u001b[1;33m)\u001b[0m \u001b[1;32mand\u001b[0m \u001b[0misna\u001b[0m\u001b[1;33m(\u001b[0m\u001b[0mkey\u001b[0m\u001b[1;33m)\u001b[0m \u001b[1;32mand\u001b[0m \u001b[1;32mnot\u001b[0m \u001b[0mself\u001b[0m\u001b[1;33m.\u001b[0m\u001b[0mhasnans\u001b[0m\u001b[1;33m:\u001b[0m\u001b[1;33m\u001b[0m\u001b[1;33m\u001b[0m\u001b[0m\n",
      "\u001b[1;31mKeyError\u001b[0m: 0"
     ]
    }
   ],
   "source": [
    "df_pca = standardize_df(df_pca, encoded_col_name)\n",
    "df_pca"
   ]
  },
  {
   "cell_type": "code",
   "execution_count": 169,
   "id": "57066b8c",
   "metadata": {},
   "outputs": [
    {
     "name": "stdout",
     "output_type": "stream",
     "text": [
      "9\n",
      "16\n",
      "7\n",
      "15\n",
      "6\n",
      "5\n",
      "2\n",
      "42\n"
     ]
    }
   ],
   "source": [
    "for feat in [1,3,5,6,7,8,9,13]:\n",
    "    print(df_new[feat].nunique())"
   ]
  },
  {
   "cell_type": "code",
   "execution_count": 182,
   "id": "b027d7ba",
   "metadata": {},
   "outputs": [],
   "source": [
    "df_new2 = df_new.copy()"
   ]
  },
  {
   "cell_type": "code",
   "execution_count": 183,
   "id": "99cd62dc",
   "metadata": {},
   "outputs": [],
   "source": [
    "categorical_columns = [1,3,5,6,7,8,9,13]"
   ]
  },
  {
   "cell_type": "code",
   "execution_count": 184,
   "id": "42444100",
   "metadata": {},
   "outputs": [
    {
     "name": "stdout",
     "output_type": "stream",
     "text": [
      "here\n"
     ]
    },
    {
     "data": {
      "text/plain": [
       "(48842, 15)"
      ]
     },
     "execution_count": 184,
     "metadata": {},
     "output_type": "execute_result"
    }
   ],
   "source": [
    "df_new2 = one_hot_encode(df_new2, categorical_columns)\n",
    "df_new2.shape"
   ]
  },
  {
   "cell_type": "code",
   "execution_count": null,
   "id": "4dbf63fa",
   "metadata": {},
   "outputs": [],
   "source": []
  }
 ],
 "metadata": {
  "kernelspec": {
   "display_name": "Python 3 (ipykernel)",
   "language": "python",
   "name": "python3"
  },
  "language_info": {
   "codemirror_mode": {
    "name": "ipython",
    "version": 3
   },
   "file_extension": ".py",
   "mimetype": "text/x-python",
   "name": "python",
   "nbconvert_exporter": "python",
   "pygments_lexer": "ipython3",
   "version": "3.7.9"
  }
 },
 "nbformat": 4,
 "nbformat_minor": 5
}
