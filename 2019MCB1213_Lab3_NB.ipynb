{
  "cells": [
    {
      "cell_type": "markdown",
      "source": [
        "Video Link:\n",
        "https://drive.google.com/file/d/1Jvb7tPj7AKxdl5397uYnQxHu9z9t1VTn/view?usp=sharing"
      ],
      "metadata": {
        "id": "d3iShgeGpCJY"
      }
    },
    {
      "cell_type": "markdown",
      "metadata": {
        "id": "Mw5aDgVFU2V6"
      },
      "source": [
        "# Lab 3 : Working with Neural Networks\n",
        "\n",
        "---\n",
        "\n",
        "\n",
        "Total Points: **100**\n",
        "\n",
        "\n",
        "Submission Deadline :  **08 April 2022, 23:59 hours**\n",
        "\n",
        "\n",
        "In case of any queries, please contact the TAs Aroof Aimen (2018csz0001@iitrpr.ac.in), Vidhya Kamakshi (2017csz0005@iitrpr.ac.in)\n",
        "\n",
        "---\n",
        "\n",
        "\n",
        "\n",
        "General Instructions:\n",
        "\n",
        "---\n",
        "\n",
        "\n",
        "\n",
        "1. You have to do this lab individually\n",
        "2. **You have to perform the custom implementation in Part 1 of the assignment.** Libraries like **Keras or torch.nn are not allowed** for part 1 (except where it is mentioned).\n",
        "3. Please start early as some of the experiments take time to run \n",
        "4. All the code should be submitted in the form of a single Jupyter/colab notebook.\n",
        "5. Points for each sub-section are mentioned in the questions.\n",
        "6. You can use Google colab to run a jupyter notebook (https://colab.research.google.com/) How to load data in Google Colab ?(https://towardsdatascience.com/3-ways-to-load-csv-files-into-colab-7c14fcbdcb92) (https://www.marktechpost.com/2019/06/07/how-to-connect-google-colab-with-google-drive/)\n",
        "7. Submission must be done in the Google classroom. The code as well as the accompanying observations should be made part of the colab notebook.\n",
        "8. **Code Readability** is very important. Modularize your code by making use of classes and functions that can be flexibly reused wherever necessary. Also use self explanatory variable names and add comments to describe your approach wherever necessary. You may add additional code or text blocks as required.\n",
        "9. You are expected to submit your **detailed inferences** (preferably in a text block) and not just an error free code.\n",
        "10. Students are expected to follow the **honor code** of the class.\n",
        "11. **Please make a 10-minute video explaining your lab. Please provide a link to your video shared via the google drive in your notebook itslef (in a seperate text block). Follow the following naming convention: Name_rollnumber_NB.ipynb and Name_rollnumber_video.mkv respectively.** \n",
        "12. **Submissions without links for the videos, incorrect naming conventions, or incorrect folder arrangement will not be evaluated.**\n"
      ]
    },
    {
      "cell_type": "markdown",
      "metadata": {
        "id": "mKk72AoXaCpj"
      },
      "source": [
        "In this lab, we will perform one **regression** and one **multi-class classification** tasks. We will consider the Boston house Price Dataset for the regression problem, and for multi-class classification, we will consider Fashion-MNIST Dataset. For Boston house Price dataset details visit - https://scikit-learn.org/stable/datasets/toy_dataset.html. For Fashion-MNIST dataset you may get it using keras (see documentation) Fashion-MNIST: https://github.com/zalandoresearch/fashion-mnist"
      ]
    },
    {
      "cell_type": "markdown",
      "metadata": {
        "id": "A749LAmZqqZq"
      },
      "source": [
        "\n",
        "---\n",
        "\n",
        "\n",
        "\n",
        "Section 1:  **(Total points = 50)**\n",
        "\n",
        "---\n",
        "\n",
        "Q1. Develop a Multi-Layer Perceptron (MLP) Neural Network to predict the house prices (Dataset loading function and accessing data matrix and target values have been provided in the code section) *Use of built-in library functions for the specific implementation as asked in the questions are not allowed in this section*\n",
        "\n",
        "1. Perform an exploratory analysis on the given dataset. Print the avg, max & min values of each column. Also, show the coorelation of each column with the target values in the dataset using multi-plots. **(3 point)**\n",
        "2. Perform data pre-processing operations like standardization and splitting (80:20) of data.  **(2 points)**\n",
        "3. Implement the three layer fully connected MLP feedforward model with only one hidden layer having 15 hidden units + bias. For this problem make your decision on the number of output units. Also, your implementation should facilitate a choice between Sigmoid & Tanh actionations at each layer of MLP for the user.  **( 15 points)**\n",
        "4. Implement Back-propagation algorithm to train the parameters of the MLP created in the previous section. The Backpropagation should support gradient flow for both Sigmoid and Tanh activation functions. **(15 points)**\n",
        "5. Train your model using the Mean Sqaured Errors. Mention your choices of the hyperparameters for training. Perform traning with batch gradient descent and stochastic gradeint descent. Plot the graph of traning error versus Epochs for both the training methods. Report the final accuracy you achieved on the Test Data using both the traning methods. **(2+3 = 5)**\n",
        "6. Using the best traning method from the above traning, train your MLP with different learning rates given as [ 0.5, 0.1, 0.01, 0.001, 0.0001].  **(5 points)**\n",
        "7. Plot the training error versus epochs for each learning rate in a single line graph. Also, plot accuracy versus lerning rate. Comment on your observations. **(3+2 = 5 points)**"
      ]
    },
    {
      "cell_type": "code",
      "execution_count": null,
      "metadata": {
        "id": "ei471-TdQ_vL"
      },
      "outputs": [],
      "source": [
        "#Declaration Block\n",
        "from sklearn.datasets import load_boston\n",
        "import pandas as pd\n",
        "import numpy as np\n",
        "import matplotlib.pyplot as plt\n",
        "import seaborn as sns\n",
        "from math import sqrt"
      ]
    },
    {
      "cell_type": "code",
      "execution_count": null,
      "metadata": {
        "id": "w-br_Ol1X4N9",
        "outputId": "c729e1f6-5a0b-409f-b462-065b66dfc728"
      },
      "outputs": [
        {
          "data": {
            "text/plain": [
              "{'data': array([[6.3200e-03, 1.8000e+01, 2.3100e+00, ..., 1.5300e+01, 3.9690e+02,\n",
              "         4.9800e+00],\n",
              "        [2.7310e-02, 0.0000e+00, 7.0700e+00, ..., 1.7800e+01, 3.9690e+02,\n",
              "         9.1400e+00],\n",
              "        [2.7290e-02, 0.0000e+00, 7.0700e+00, ..., 1.7800e+01, 3.9283e+02,\n",
              "         4.0300e+00],\n",
              "        ...,\n",
              "        [6.0760e-02, 0.0000e+00, 1.1930e+01, ..., 2.1000e+01, 3.9690e+02,\n",
              "         5.6400e+00],\n",
              "        [1.0959e-01, 0.0000e+00, 1.1930e+01, ..., 2.1000e+01, 3.9345e+02,\n",
              "         6.4800e+00],\n",
              "        [4.7410e-02, 0.0000e+00, 1.1930e+01, ..., 2.1000e+01, 3.9690e+02,\n",
              "         7.8800e+00]]),\n",
              " 'target': array([24. , 21.6, 34.7, 33.4, 36.2, 28.7, 22.9, 27.1, 16.5, 18.9, 15. ,\n",
              "        18.9, 21.7, 20.4, 18.2, 19.9, 23.1, 17.5, 20.2, 18.2, 13.6, 19.6,\n",
              "        15.2, 14.5, 15.6, 13.9, 16.6, 14.8, 18.4, 21. , 12.7, 14.5, 13.2,\n",
              "        13.1, 13.5, 18.9, 20. , 21. , 24.7, 30.8, 34.9, 26.6, 25.3, 24.7,\n",
              "        21.2, 19.3, 20. , 16.6, 14.4, 19.4, 19.7, 20.5, 25. , 23.4, 18.9,\n",
              "        35.4, 24.7, 31.6, 23.3, 19.6, 18.7, 16. , 22.2, 25. , 33. , 23.5,\n",
              "        19.4, 22. , 17.4, 20.9, 24.2, 21.7, 22.8, 23.4, 24.1, 21.4, 20. ,\n",
              "        20.8, 21.2, 20.3, 28. , 23.9, 24.8, 22.9, 23.9, 26.6, 22.5, 22.2,\n",
              "        23.6, 28.7, 22.6, 22. , 22.9, 25. , 20.6, 28.4, 21.4, 38.7, 43.8,\n",
              "        33.2, 27.5, 26.5, 18.6, 19.3, 20.1, 19.5, 19.5, 20.4, 19.8, 19.4,\n",
              "        21.7, 22.8, 18.8, 18.7, 18.5, 18.3, 21.2, 19.2, 20.4, 19.3, 22. ,\n",
              "        20.3, 20.5, 17.3, 18.8, 21.4, 15.7, 16.2, 18. , 14.3, 19.2, 19.6,\n",
              "        23. , 18.4, 15.6, 18.1, 17.4, 17.1, 13.3, 17.8, 14. , 14.4, 13.4,\n",
              "        15.6, 11.8, 13.8, 15.6, 14.6, 17.8, 15.4, 21.5, 19.6, 15.3, 19.4,\n",
              "        17. , 15.6, 13.1, 41.3, 24.3, 23.3, 27. , 50. , 50. , 50. , 22.7,\n",
              "        25. , 50. , 23.8, 23.8, 22.3, 17.4, 19.1, 23.1, 23.6, 22.6, 29.4,\n",
              "        23.2, 24.6, 29.9, 37.2, 39.8, 36.2, 37.9, 32.5, 26.4, 29.6, 50. ,\n",
              "        32. , 29.8, 34.9, 37. , 30.5, 36.4, 31.1, 29.1, 50. , 33.3, 30.3,\n",
              "        34.6, 34.9, 32.9, 24.1, 42.3, 48.5, 50. , 22.6, 24.4, 22.5, 24.4,\n",
              "        20. , 21.7, 19.3, 22.4, 28.1, 23.7, 25. , 23.3, 28.7, 21.5, 23. ,\n",
              "        26.7, 21.7, 27.5, 30.1, 44.8, 50. , 37.6, 31.6, 46.7, 31.5, 24.3,\n",
              "        31.7, 41.7, 48.3, 29. , 24. , 25.1, 31.5, 23.7, 23.3, 22. , 20.1,\n",
              "        22.2, 23.7, 17.6, 18.5, 24.3, 20.5, 24.5, 26.2, 24.4, 24.8, 29.6,\n",
              "        42.8, 21.9, 20.9, 44. , 50. , 36. , 30.1, 33.8, 43.1, 48.8, 31. ,\n",
              "        36.5, 22.8, 30.7, 50. , 43.5, 20.7, 21.1, 25.2, 24.4, 35.2, 32.4,\n",
              "        32. , 33.2, 33.1, 29.1, 35.1, 45.4, 35.4, 46. , 50. , 32.2, 22. ,\n",
              "        20.1, 23.2, 22.3, 24.8, 28.5, 37.3, 27.9, 23.9, 21.7, 28.6, 27.1,\n",
              "        20.3, 22.5, 29. , 24.8, 22. , 26.4, 33.1, 36.1, 28.4, 33.4, 28.2,\n",
              "        22.8, 20.3, 16.1, 22.1, 19.4, 21.6, 23.8, 16.2, 17.8, 19.8, 23.1,\n",
              "        21. , 23.8, 23.1, 20.4, 18.5, 25. , 24.6, 23. , 22.2, 19.3, 22.6,\n",
              "        19.8, 17.1, 19.4, 22.2, 20.7, 21.1, 19.5, 18.5, 20.6, 19. , 18.7,\n",
              "        32.7, 16.5, 23.9, 31.2, 17.5, 17.2, 23.1, 24.5, 26.6, 22.9, 24.1,\n",
              "        18.6, 30.1, 18.2, 20.6, 17.8, 21.7, 22.7, 22.6, 25. , 19.9, 20.8,\n",
              "        16.8, 21.9, 27.5, 21.9, 23.1, 50. , 50. , 50. , 50. , 50. , 13.8,\n",
              "        13.8, 15. , 13.9, 13.3, 13.1, 10.2, 10.4, 10.9, 11.3, 12.3,  8.8,\n",
              "         7.2, 10.5,  7.4, 10.2, 11.5, 15.1, 23.2,  9.7, 13.8, 12.7, 13.1,\n",
              "        12.5,  8.5,  5. ,  6.3,  5.6,  7.2, 12.1,  8.3,  8.5,  5. , 11.9,\n",
              "        27.9, 17.2, 27.5, 15. , 17.2, 17.9, 16.3,  7. ,  7.2,  7.5, 10.4,\n",
              "         8.8,  8.4, 16.7, 14.2, 20.8, 13.4, 11.7,  8.3, 10.2, 10.9, 11. ,\n",
              "         9.5, 14.5, 14.1, 16.1, 14.3, 11.7, 13.4,  9.6,  8.7,  8.4, 12.8,\n",
              "        10.5, 17.1, 18.4, 15.4, 10.8, 11.8, 14.9, 12.6, 14.1, 13. , 13.4,\n",
              "        15.2, 16.1, 17.8, 14.9, 14.1, 12.7, 13.5, 14.9, 20. , 16.4, 17.7,\n",
              "        19.5, 20.2, 21.4, 19.9, 19. , 19.1, 19.1, 20.1, 19.9, 19.6, 23.2,\n",
              "        29.8, 13.8, 13.3, 16.7, 12. , 14.6, 21.4, 23. , 23.7, 25. , 21.8,\n",
              "        20.6, 21.2, 19.1, 20.6, 15.2,  7. ,  8.1, 13.6, 20.1, 21.8, 24.5,\n",
              "        23.1, 19.7, 18.3, 21.2, 17.5, 16.8, 22.4, 20.6, 23.9, 22. , 11.9]),\n",
              " 'feature_names': array(['CRIM', 'ZN', 'INDUS', 'CHAS', 'NOX', 'RM', 'AGE', 'DIS', 'RAD',\n",
              "        'TAX', 'PTRATIO', 'B', 'LSTAT'], dtype='<U7'),\n",
              " 'DESCR': \".. _boston_dataset:\\n\\nBoston house prices dataset\\n---------------------------\\n\\n**Data Set Characteristics:**  \\n\\n    :Number of Instances: 506 \\n\\n    :Number of Attributes: 13 numeric/categorical predictive. Median Value (attribute 14) is usually the target.\\n\\n    :Attribute Information (in order):\\n        - CRIM     per capita crime rate by town\\n        - ZN       proportion of residential land zoned for lots over 25,000 sq.ft.\\n        - INDUS    proportion of non-retail business acres per town\\n        - CHAS     Charles River dummy variable (= 1 if tract bounds river; 0 otherwise)\\n        - NOX      nitric oxides concentration (parts per 10 million)\\n        - RM       average number of rooms per dwelling\\n        - AGE      proportion of owner-occupied units built prior to 1940\\n        - DIS      weighted distances to five Boston employment centres\\n        - RAD      index of accessibility to radial highways\\n        - TAX      full-value property-tax rate per $10,000\\n        - PTRATIO  pupil-teacher ratio by town\\n        - B        1000(Bk - 0.63)^2 where Bk is the proportion of black people by town\\n        - LSTAT    % lower status of the population\\n        - MEDV     Median value of owner-occupied homes in $1000's\\n\\n    :Missing Attribute Values: None\\n\\n    :Creator: Harrison, D. and Rubinfeld, D.L.\\n\\nThis is a copy of UCI ML housing dataset.\\nhttps://archive.ics.uci.edu/ml/machine-learning-databases/housing/\\n\\n\\nThis dataset was taken from the StatLib library which is maintained at Carnegie Mellon University.\\n\\nThe Boston house-price data of Harrison, D. and Rubinfeld, D.L. 'Hedonic\\nprices and the demand for clean air', J. Environ. Economics & Management,\\nvol.5, 81-102, 1978.   Used in Belsley, Kuh & Welsch, 'Regression diagnostics\\n...', Wiley, 1980.   N.B. Various transformations are used in the table on\\npages 244-261 of the latter.\\n\\nThe Boston house-price data has been used in many machine learning papers that address regression\\nproblems.   \\n     \\n.. topic:: References\\n\\n   - Belsley, Kuh & Welsch, 'Regression diagnostics: Identifying Influential Data and Sources of Collinearity', Wiley, 1980. 244-261.\\n   - Quinlan,R. (1993). Combining Instance-Based and Model-Based Learning. In Proceedings on the Tenth International Conference of Machine Learning, 236-243, University of Massachusetts, Amherst. Morgan Kaufmann.\\n\",\n",
              " 'filename': 'C:\\\\anaconda\\\\lib\\\\site-packages\\\\sklearn\\\\datasets\\\\data\\\\boston_house_prices.csv'}"
            ]
          },
          "execution_count": 2,
          "metadata": {},
          "output_type": "execute_result"
        }
      ],
      "source": [
        "housing = load_boston() # Loading the housing data\n",
        "housing"
      ]
    },
    {
      "cell_type": "markdown",
      "metadata": {
        "id": "XIhmI0d5kFC9"
      },
      "source": [
        "### 1.1) Exploratory Data Analysis"
      ]
    },
    {
      "cell_type": "code",
      "execution_count": null,
      "metadata": {
        "id": "Rm4ZH1SeoLfR",
        "outputId": "63830326-2b0a-41f8-b9be-7805ea8db48b"
      },
      "outputs": [
        {
          "data": {
            "text/html": [
              "<div>\n",
              "<style scoped>\n",
              "    .dataframe tbody tr th:only-of-type {\n",
              "        vertical-align: middle;\n",
              "    }\n",
              "\n",
              "    .dataframe tbody tr th {\n",
              "        vertical-align: top;\n",
              "    }\n",
              "\n",
              "    .dataframe thead th {\n",
              "        text-align: right;\n",
              "    }\n",
              "</style>\n",
              "<table border=\"1\" class=\"dataframe\">\n",
              "  <thead>\n",
              "    <tr style=\"text-align: right;\">\n",
              "      <th></th>\n",
              "      <th>0</th>\n",
              "      <th>1</th>\n",
              "      <th>2</th>\n",
              "      <th>3</th>\n",
              "      <th>4</th>\n",
              "      <th>5</th>\n",
              "      <th>6</th>\n",
              "      <th>7</th>\n",
              "      <th>8</th>\n",
              "      <th>9</th>\n",
              "      <th>10</th>\n",
              "      <th>11</th>\n",
              "      <th>12</th>\n",
              "    </tr>\n",
              "  </thead>\n",
              "  <tbody>\n",
              "    <tr>\n",
              "      <th>0</th>\n",
              "      <td>0.00632</td>\n",
              "      <td>18.0</td>\n",
              "      <td>2.31</td>\n",
              "      <td>0.0</td>\n",
              "      <td>0.538</td>\n",
              "      <td>6.575</td>\n",
              "      <td>65.2</td>\n",
              "      <td>4.0900</td>\n",
              "      <td>1.0</td>\n",
              "      <td>296.0</td>\n",
              "      <td>15.3</td>\n",
              "      <td>396.90</td>\n",
              "      <td>4.98</td>\n",
              "    </tr>\n",
              "    <tr>\n",
              "      <th>1</th>\n",
              "      <td>0.02731</td>\n",
              "      <td>0.0</td>\n",
              "      <td>7.07</td>\n",
              "      <td>0.0</td>\n",
              "      <td>0.469</td>\n",
              "      <td>6.421</td>\n",
              "      <td>78.9</td>\n",
              "      <td>4.9671</td>\n",
              "      <td>2.0</td>\n",
              "      <td>242.0</td>\n",
              "      <td>17.8</td>\n",
              "      <td>396.90</td>\n",
              "      <td>9.14</td>\n",
              "    </tr>\n",
              "    <tr>\n",
              "      <th>2</th>\n",
              "      <td>0.02729</td>\n",
              "      <td>0.0</td>\n",
              "      <td>7.07</td>\n",
              "      <td>0.0</td>\n",
              "      <td>0.469</td>\n",
              "      <td>7.185</td>\n",
              "      <td>61.1</td>\n",
              "      <td>4.9671</td>\n",
              "      <td>2.0</td>\n",
              "      <td>242.0</td>\n",
              "      <td>17.8</td>\n",
              "      <td>392.83</td>\n",
              "      <td>4.03</td>\n",
              "    </tr>\n",
              "    <tr>\n",
              "      <th>3</th>\n",
              "      <td>0.03237</td>\n",
              "      <td>0.0</td>\n",
              "      <td>2.18</td>\n",
              "      <td>0.0</td>\n",
              "      <td>0.458</td>\n",
              "      <td>6.998</td>\n",
              "      <td>45.8</td>\n",
              "      <td>6.0622</td>\n",
              "      <td>3.0</td>\n",
              "      <td>222.0</td>\n",
              "      <td>18.7</td>\n",
              "      <td>394.63</td>\n",
              "      <td>2.94</td>\n",
              "    </tr>\n",
              "    <tr>\n",
              "      <th>4</th>\n",
              "      <td>0.06905</td>\n",
              "      <td>0.0</td>\n",
              "      <td>2.18</td>\n",
              "      <td>0.0</td>\n",
              "      <td>0.458</td>\n",
              "      <td>7.147</td>\n",
              "      <td>54.2</td>\n",
              "      <td>6.0622</td>\n",
              "      <td>3.0</td>\n",
              "      <td>222.0</td>\n",
              "      <td>18.7</td>\n",
              "      <td>396.90</td>\n",
              "      <td>5.33</td>\n",
              "    </tr>\n",
              "    <tr>\n",
              "      <th>...</th>\n",
              "      <td>...</td>\n",
              "      <td>...</td>\n",
              "      <td>...</td>\n",
              "      <td>...</td>\n",
              "      <td>...</td>\n",
              "      <td>...</td>\n",
              "      <td>...</td>\n",
              "      <td>...</td>\n",
              "      <td>...</td>\n",
              "      <td>...</td>\n",
              "      <td>...</td>\n",
              "      <td>...</td>\n",
              "      <td>...</td>\n",
              "    </tr>\n",
              "    <tr>\n",
              "      <th>501</th>\n",
              "      <td>0.06263</td>\n",
              "      <td>0.0</td>\n",
              "      <td>11.93</td>\n",
              "      <td>0.0</td>\n",
              "      <td>0.573</td>\n",
              "      <td>6.593</td>\n",
              "      <td>69.1</td>\n",
              "      <td>2.4786</td>\n",
              "      <td>1.0</td>\n",
              "      <td>273.0</td>\n",
              "      <td>21.0</td>\n",
              "      <td>391.99</td>\n",
              "      <td>9.67</td>\n",
              "    </tr>\n",
              "    <tr>\n",
              "      <th>502</th>\n",
              "      <td>0.04527</td>\n",
              "      <td>0.0</td>\n",
              "      <td>11.93</td>\n",
              "      <td>0.0</td>\n",
              "      <td>0.573</td>\n",
              "      <td>6.120</td>\n",
              "      <td>76.7</td>\n",
              "      <td>2.2875</td>\n",
              "      <td>1.0</td>\n",
              "      <td>273.0</td>\n",
              "      <td>21.0</td>\n",
              "      <td>396.90</td>\n",
              "      <td>9.08</td>\n",
              "    </tr>\n",
              "    <tr>\n",
              "      <th>503</th>\n",
              "      <td>0.06076</td>\n",
              "      <td>0.0</td>\n",
              "      <td>11.93</td>\n",
              "      <td>0.0</td>\n",
              "      <td>0.573</td>\n",
              "      <td>6.976</td>\n",
              "      <td>91.0</td>\n",
              "      <td>2.1675</td>\n",
              "      <td>1.0</td>\n",
              "      <td>273.0</td>\n",
              "      <td>21.0</td>\n",
              "      <td>396.90</td>\n",
              "      <td>5.64</td>\n",
              "    </tr>\n",
              "    <tr>\n",
              "      <th>504</th>\n",
              "      <td>0.10959</td>\n",
              "      <td>0.0</td>\n",
              "      <td>11.93</td>\n",
              "      <td>0.0</td>\n",
              "      <td>0.573</td>\n",
              "      <td>6.794</td>\n",
              "      <td>89.3</td>\n",
              "      <td>2.3889</td>\n",
              "      <td>1.0</td>\n",
              "      <td>273.0</td>\n",
              "      <td>21.0</td>\n",
              "      <td>393.45</td>\n",
              "      <td>6.48</td>\n",
              "    </tr>\n",
              "    <tr>\n",
              "      <th>505</th>\n",
              "      <td>0.04741</td>\n",
              "      <td>0.0</td>\n",
              "      <td>11.93</td>\n",
              "      <td>0.0</td>\n",
              "      <td>0.573</td>\n",
              "      <td>6.030</td>\n",
              "      <td>80.8</td>\n",
              "      <td>2.5050</td>\n",
              "      <td>1.0</td>\n",
              "      <td>273.0</td>\n",
              "      <td>21.0</td>\n",
              "      <td>396.90</td>\n",
              "      <td>7.88</td>\n",
              "    </tr>\n",
              "  </tbody>\n",
              "</table>\n",
              "<p>506 rows × 13 columns</p>\n",
              "</div>"
            ],
            "text/plain": [
              "          0     1      2    3      4      5     6       7    8      9     10  \\\n",
              "0    0.00632  18.0   2.31  0.0  0.538  6.575  65.2  4.0900  1.0  296.0  15.3   \n",
              "1    0.02731   0.0   7.07  0.0  0.469  6.421  78.9  4.9671  2.0  242.0  17.8   \n",
              "2    0.02729   0.0   7.07  0.0  0.469  7.185  61.1  4.9671  2.0  242.0  17.8   \n",
              "3    0.03237   0.0   2.18  0.0  0.458  6.998  45.8  6.0622  3.0  222.0  18.7   \n",
              "4    0.06905   0.0   2.18  0.0  0.458  7.147  54.2  6.0622  3.0  222.0  18.7   \n",
              "..       ...   ...    ...  ...    ...    ...   ...     ...  ...    ...   ...   \n",
              "501  0.06263   0.0  11.93  0.0  0.573  6.593  69.1  2.4786  1.0  273.0  21.0   \n",
              "502  0.04527   0.0  11.93  0.0  0.573  6.120  76.7  2.2875  1.0  273.0  21.0   \n",
              "503  0.06076   0.0  11.93  0.0  0.573  6.976  91.0  2.1675  1.0  273.0  21.0   \n",
              "504  0.10959   0.0  11.93  0.0  0.573  6.794  89.3  2.3889  1.0  273.0  21.0   \n",
              "505  0.04741   0.0  11.93  0.0  0.573  6.030  80.8  2.5050  1.0  273.0  21.0   \n",
              "\n",
              "         11    12  \n",
              "0    396.90  4.98  \n",
              "1    396.90  9.14  \n",
              "2    392.83  4.03  \n",
              "3    394.63  2.94  \n",
              "4    396.90  5.33  \n",
              "..      ...   ...  \n",
              "501  391.99  9.67  \n",
              "502  396.90  9.08  \n",
              "503  396.90  5.64  \n",
              "504  393.45  6.48  \n",
              "505  396.90  7.88  \n",
              "\n",
              "[506 rows x 13 columns]"
            ]
          },
          "execution_count": 3,
          "metadata": {},
          "output_type": "execute_result"
        }
      ],
      "source": [
        "data = pd.DataFrame(housing[\"data\"]) # Input data \n",
        "data"
      ]
    },
    {
      "cell_type": "code",
      "execution_count": null,
      "metadata": {
        "id": "ifNJWaa4qbAR",
        "outputId": "07fa13a5-e0ab-4f3a-b50e-3466b948aa80"
      },
      "outputs": [
        {
          "data": {
            "text/html": [
              "<div>\n",
              "<style scoped>\n",
              "    .dataframe tbody tr th:only-of-type {\n",
              "        vertical-align: middle;\n",
              "    }\n",
              "\n",
              "    .dataframe tbody tr th {\n",
              "        vertical-align: top;\n",
              "    }\n",
              "\n",
              "    .dataframe thead th {\n",
              "        text-align: right;\n",
              "    }\n",
              "</style>\n",
              "<table border=\"1\" class=\"dataframe\">\n",
              "  <thead>\n",
              "    <tr style=\"text-align: right;\">\n",
              "      <th></th>\n",
              "      <th>0</th>\n",
              "    </tr>\n",
              "  </thead>\n",
              "  <tbody>\n",
              "    <tr>\n",
              "      <th>0</th>\n",
              "      <td>24.0</td>\n",
              "    </tr>\n",
              "    <tr>\n",
              "      <th>1</th>\n",
              "      <td>21.6</td>\n",
              "    </tr>\n",
              "    <tr>\n",
              "      <th>2</th>\n",
              "      <td>34.7</td>\n",
              "    </tr>\n",
              "    <tr>\n",
              "      <th>3</th>\n",
              "      <td>33.4</td>\n",
              "    </tr>\n",
              "    <tr>\n",
              "      <th>4</th>\n",
              "      <td>36.2</td>\n",
              "    </tr>\n",
              "    <tr>\n",
              "      <th>...</th>\n",
              "      <td>...</td>\n",
              "    </tr>\n",
              "    <tr>\n",
              "      <th>501</th>\n",
              "      <td>22.4</td>\n",
              "    </tr>\n",
              "    <tr>\n",
              "      <th>502</th>\n",
              "      <td>20.6</td>\n",
              "    </tr>\n",
              "    <tr>\n",
              "      <th>503</th>\n",
              "      <td>23.9</td>\n",
              "    </tr>\n",
              "    <tr>\n",
              "      <th>504</th>\n",
              "      <td>22.0</td>\n",
              "    </tr>\n",
              "    <tr>\n",
              "      <th>505</th>\n",
              "      <td>11.9</td>\n",
              "    </tr>\n",
              "  </tbody>\n",
              "</table>\n",
              "<p>506 rows × 1 columns</p>\n",
              "</div>"
            ],
            "text/plain": [
              "        0\n",
              "0    24.0\n",
              "1    21.6\n",
              "2    34.7\n",
              "3    33.4\n",
              "4    36.2\n",
              "..    ...\n",
              "501  22.4\n",
              "502  20.6\n",
              "503  23.9\n",
              "504  22.0\n",
              "505  11.9\n",
              "\n",
              "[506 rows x 1 columns]"
            ]
          },
          "execution_count": 4,
          "metadata": {},
          "output_type": "execute_result"
        }
      ],
      "source": [
        "target = pd.DataFrame(housing[\"target\"]) # Ground truth house prices for each row of data\n",
        "target"
      ]
    },
    {
      "cell_type": "code",
      "execution_count": null,
      "metadata": {
        "id": "k35x5B8DkFDB",
        "outputId": "181cad8d-4835-4531-b456-b408ebd4ee6c"
      },
      "outputs": [
        {
          "data": {
            "text/html": [
              "<div>\n",
              "<style scoped>\n",
              "    .dataframe tbody tr th:only-of-type {\n",
              "        vertical-align: middle;\n",
              "    }\n",
              "\n",
              "    .dataframe tbody tr th {\n",
              "        vertical-align: top;\n",
              "    }\n",
              "\n",
              "    .dataframe thead th {\n",
              "        text-align: right;\n",
              "    }\n",
              "</style>\n",
              "<table border=\"1\" class=\"dataframe\">\n",
              "  <thead>\n",
              "    <tr style=\"text-align: right;\">\n",
              "      <th></th>\n",
              "      <th>CRIM</th>\n",
              "      <th>ZN</th>\n",
              "      <th>INDUS</th>\n",
              "      <th>CHAS</th>\n",
              "      <th>NOX</th>\n",
              "      <th>RM</th>\n",
              "      <th>AGE</th>\n",
              "      <th>DIS</th>\n",
              "      <th>RAD</th>\n",
              "      <th>TAX</th>\n",
              "      <th>PTRATIO</th>\n",
              "      <th>B</th>\n",
              "      <th>LSTAT</th>\n",
              "      <th>target</th>\n",
              "    </tr>\n",
              "  </thead>\n",
              "  <tbody>\n",
              "    <tr>\n",
              "      <th>0</th>\n",
              "      <td>0.00632</td>\n",
              "      <td>18.0</td>\n",
              "      <td>2.31</td>\n",
              "      <td>0.0</td>\n",
              "      <td>0.538</td>\n",
              "      <td>6.575</td>\n",
              "      <td>65.2</td>\n",
              "      <td>4.0900</td>\n",
              "      <td>1.0</td>\n",
              "      <td>296.0</td>\n",
              "      <td>15.3</td>\n",
              "      <td>396.90</td>\n",
              "      <td>4.98</td>\n",
              "      <td>24.0</td>\n",
              "    </tr>\n",
              "    <tr>\n",
              "      <th>1</th>\n",
              "      <td>0.02731</td>\n",
              "      <td>0.0</td>\n",
              "      <td>7.07</td>\n",
              "      <td>0.0</td>\n",
              "      <td>0.469</td>\n",
              "      <td>6.421</td>\n",
              "      <td>78.9</td>\n",
              "      <td>4.9671</td>\n",
              "      <td>2.0</td>\n",
              "      <td>242.0</td>\n",
              "      <td>17.8</td>\n",
              "      <td>396.90</td>\n",
              "      <td>9.14</td>\n",
              "      <td>21.6</td>\n",
              "    </tr>\n",
              "    <tr>\n",
              "      <th>2</th>\n",
              "      <td>0.02729</td>\n",
              "      <td>0.0</td>\n",
              "      <td>7.07</td>\n",
              "      <td>0.0</td>\n",
              "      <td>0.469</td>\n",
              "      <td>7.185</td>\n",
              "      <td>61.1</td>\n",
              "      <td>4.9671</td>\n",
              "      <td>2.0</td>\n",
              "      <td>242.0</td>\n",
              "      <td>17.8</td>\n",
              "      <td>392.83</td>\n",
              "      <td>4.03</td>\n",
              "      <td>34.7</td>\n",
              "    </tr>\n",
              "    <tr>\n",
              "      <th>3</th>\n",
              "      <td>0.03237</td>\n",
              "      <td>0.0</td>\n",
              "      <td>2.18</td>\n",
              "      <td>0.0</td>\n",
              "      <td>0.458</td>\n",
              "      <td>6.998</td>\n",
              "      <td>45.8</td>\n",
              "      <td>6.0622</td>\n",
              "      <td>3.0</td>\n",
              "      <td>222.0</td>\n",
              "      <td>18.7</td>\n",
              "      <td>394.63</td>\n",
              "      <td>2.94</td>\n",
              "      <td>33.4</td>\n",
              "    </tr>\n",
              "    <tr>\n",
              "      <th>4</th>\n",
              "      <td>0.06905</td>\n",
              "      <td>0.0</td>\n",
              "      <td>2.18</td>\n",
              "      <td>0.0</td>\n",
              "      <td>0.458</td>\n",
              "      <td>7.147</td>\n",
              "      <td>54.2</td>\n",
              "      <td>6.0622</td>\n",
              "      <td>3.0</td>\n",
              "      <td>222.0</td>\n",
              "      <td>18.7</td>\n",
              "      <td>396.90</td>\n",
              "      <td>5.33</td>\n",
              "      <td>36.2</td>\n",
              "    </tr>\n",
              "    <tr>\n",
              "      <th>...</th>\n",
              "      <td>...</td>\n",
              "      <td>...</td>\n",
              "      <td>...</td>\n",
              "      <td>...</td>\n",
              "      <td>...</td>\n",
              "      <td>...</td>\n",
              "      <td>...</td>\n",
              "      <td>...</td>\n",
              "      <td>...</td>\n",
              "      <td>...</td>\n",
              "      <td>...</td>\n",
              "      <td>...</td>\n",
              "      <td>...</td>\n",
              "      <td>...</td>\n",
              "    </tr>\n",
              "    <tr>\n",
              "      <th>501</th>\n",
              "      <td>0.06263</td>\n",
              "      <td>0.0</td>\n",
              "      <td>11.93</td>\n",
              "      <td>0.0</td>\n",
              "      <td>0.573</td>\n",
              "      <td>6.593</td>\n",
              "      <td>69.1</td>\n",
              "      <td>2.4786</td>\n",
              "      <td>1.0</td>\n",
              "      <td>273.0</td>\n",
              "      <td>21.0</td>\n",
              "      <td>391.99</td>\n",
              "      <td>9.67</td>\n",
              "      <td>22.4</td>\n",
              "    </tr>\n",
              "    <tr>\n",
              "      <th>502</th>\n",
              "      <td>0.04527</td>\n",
              "      <td>0.0</td>\n",
              "      <td>11.93</td>\n",
              "      <td>0.0</td>\n",
              "      <td>0.573</td>\n",
              "      <td>6.120</td>\n",
              "      <td>76.7</td>\n",
              "      <td>2.2875</td>\n",
              "      <td>1.0</td>\n",
              "      <td>273.0</td>\n",
              "      <td>21.0</td>\n",
              "      <td>396.90</td>\n",
              "      <td>9.08</td>\n",
              "      <td>20.6</td>\n",
              "    </tr>\n",
              "    <tr>\n",
              "      <th>503</th>\n",
              "      <td>0.06076</td>\n",
              "      <td>0.0</td>\n",
              "      <td>11.93</td>\n",
              "      <td>0.0</td>\n",
              "      <td>0.573</td>\n",
              "      <td>6.976</td>\n",
              "      <td>91.0</td>\n",
              "      <td>2.1675</td>\n",
              "      <td>1.0</td>\n",
              "      <td>273.0</td>\n",
              "      <td>21.0</td>\n",
              "      <td>396.90</td>\n",
              "      <td>5.64</td>\n",
              "      <td>23.9</td>\n",
              "    </tr>\n",
              "    <tr>\n",
              "      <th>504</th>\n",
              "      <td>0.10959</td>\n",
              "      <td>0.0</td>\n",
              "      <td>11.93</td>\n",
              "      <td>0.0</td>\n",
              "      <td>0.573</td>\n",
              "      <td>6.794</td>\n",
              "      <td>89.3</td>\n",
              "      <td>2.3889</td>\n",
              "      <td>1.0</td>\n",
              "      <td>273.0</td>\n",
              "      <td>21.0</td>\n",
              "      <td>393.45</td>\n",
              "      <td>6.48</td>\n",
              "      <td>22.0</td>\n",
              "    </tr>\n",
              "    <tr>\n",
              "      <th>505</th>\n",
              "      <td>0.04741</td>\n",
              "      <td>0.0</td>\n",
              "      <td>11.93</td>\n",
              "      <td>0.0</td>\n",
              "      <td>0.573</td>\n",
              "      <td>6.030</td>\n",
              "      <td>80.8</td>\n",
              "      <td>2.5050</td>\n",
              "      <td>1.0</td>\n",
              "      <td>273.0</td>\n",
              "      <td>21.0</td>\n",
              "      <td>396.90</td>\n",
              "      <td>7.88</td>\n",
              "      <td>11.9</td>\n",
              "    </tr>\n",
              "  </tbody>\n",
              "</table>\n",
              "<p>506 rows × 14 columns</p>\n",
              "</div>"
            ],
            "text/plain": [
              "        CRIM    ZN  INDUS  CHAS    NOX     RM   AGE     DIS  RAD    TAX  \\\n",
              "0    0.00632  18.0   2.31   0.0  0.538  6.575  65.2  4.0900  1.0  296.0   \n",
              "1    0.02731   0.0   7.07   0.0  0.469  6.421  78.9  4.9671  2.0  242.0   \n",
              "2    0.02729   0.0   7.07   0.0  0.469  7.185  61.1  4.9671  2.0  242.0   \n",
              "3    0.03237   0.0   2.18   0.0  0.458  6.998  45.8  6.0622  3.0  222.0   \n",
              "4    0.06905   0.0   2.18   0.0  0.458  7.147  54.2  6.0622  3.0  222.0   \n",
              "..       ...   ...    ...   ...    ...    ...   ...     ...  ...    ...   \n",
              "501  0.06263   0.0  11.93   0.0  0.573  6.593  69.1  2.4786  1.0  273.0   \n",
              "502  0.04527   0.0  11.93   0.0  0.573  6.120  76.7  2.2875  1.0  273.0   \n",
              "503  0.06076   0.0  11.93   0.0  0.573  6.976  91.0  2.1675  1.0  273.0   \n",
              "504  0.10959   0.0  11.93   0.0  0.573  6.794  89.3  2.3889  1.0  273.0   \n",
              "505  0.04741   0.0  11.93   0.0  0.573  6.030  80.8  2.5050  1.0  273.0   \n",
              "\n",
              "     PTRATIO       B  LSTAT  target  \n",
              "0       15.3  396.90   4.98    24.0  \n",
              "1       17.8  396.90   9.14    21.6  \n",
              "2       17.8  392.83   4.03    34.7  \n",
              "3       18.7  394.63   2.94    33.4  \n",
              "4       18.7  396.90   5.33    36.2  \n",
              "..       ...     ...    ...     ...  \n",
              "501     21.0  391.99   9.67    22.4  \n",
              "502     21.0  396.90   9.08    20.6  \n",
              "503     21.0  396.90   5.64    23.9  \n",
              "504     21.0  393.45   6.48    22.0  \n",
              "505     21.0  396.90   7.88    11.9  \n",
              "\n",
              "[506 rows x 14 columns]"
            ]
          },
          "execution_count": 5,
          "metadata": {},
          "output_type": "execute_result"
        }
      ],
      "source": [
        "data_y = data.copy()\n",
        "data_y[13] = target\n",
        "col_names = list(housing[\"feature_names\"])\n",
        "col_names.append(\"target\")\n",
        "data_y.columns = col_names\n",
        "data_y"
      ]
    },
    {
      "cell_type": "code",
      "execution_count": null,
      "metadata": {
        "id": "PTHcPZvEkFDD"
      },
      "outputs": [],
      "source": [
        "data_analysis = [[max(data_y[i]) for i in data_y.columns]]\n",
        "data_analysis.append([min(data_y[i]) for i in data_y.columns])\n",
        "data_analysis.append([sum(data_y[i])/len(data_y[i]) for i in data_y.columns])"
      ]
    },
    {
      "cell_type": "code",
      "execution_count": null,
      "metadata": {
        "id": "halrmbmFkFDE",
        "outputId": "7ab13e49-f5f4-4520-b424-f641dffb2a3b"
      },
      "outputs": [
        {
          "data": {
            "text/html": [
              "<div>\n",
              "<style scoped>\n",
              "    .dataframe tbody tr th:only-of-type {\n",
              "        vertical-align: middle;\n",
              "    }\n",
              "\n",
              "    .dataframe tbody tr th {\n",
              "        vertical-align: top;\n",
              "    }\n",
              "\n",
              "    .dataframe thead th {\n",
              "        text-align: right;\n",
              "    }\n",
              "</style>\n",
              "<table border=\"1\" class=\"dataframe\">\n",
              "  <thead>\n",
              "    <tr style=\"text-align: right;\">\n",
              "      <th></th>\n",
              "      <th>CRIM</th>\n",
              "      <th>ZN</th>\n",
              "      <th>INDUS</th>\n",
              "      <th>CHAS</th>\n",
              "      <th>NOX</th>\n",
              "      <th>RM</th>\n",
              "      <th>AGE</th>\n",
              "      <th>DIS</th>\n",
              "      <th>RAD</th>\n",
              "      <th>TAX</th>\n",
              "      <th>PTRATIO</th>\n",
              "      <th>B</th>\n",
              "      <th>LSTAT</th>\n",
              "      <th>target</th>\n",
              "    </tr>\n",
              "  </thead>\n",
              "  <tbody>\n",
              "    <tr>\n",
              "      <th>max</th>\n",
              "      <td>88.976200</td>\n",
              "      <td>100.000000</td>\n",
              "      <td>27.740000</td>\n",
              "      <td>1.00000</td>\n",
              "      <td>0.871000</td>\n",
              "      <td>8.780000</td>\n",
              "      <td>100.000000</td>\n",
              "      <td>12.126500</td>\n",
              "      <td>24.000000</td>\n",
              "      <td>711.000000</td>\n",
              "      <td>22.000000</td>\n",
              "      <td>396.900000</td>\n",
              "      <td>37.970000</td>\n",
              "      <td>50.000000</td>\n",
              "    </tr>\n",
              "    <tr>\n",
              "      <th>min</th>\n",
              "      <td>0.006320</td>\n",
              "      <td>0.000000</td>\n",
              "      <td>0.460000</td>\n",
              "      <td>0.00000</td>\n",
              "      <td>0.385000</td>\n",
              "      <td>3.561000</td>\n",
              "      <td>2.900000</td>\n",
              "      <td>1.129600</td>\n",
              "      <td>1.000000</td>\n",
              "      <td>187.000000</td>\n",
              "      <td>12.600000</td>\n",
              "      <td>0.320000</td>\n",
              "      <td>1.730000</td>\n",
              "      <td>5.000000</td>\n",
              "    </tr>\n",
              "    <tr>\n",
              "      <th>average</th>\n",
              "      <td>3.613524</td>\n",
              "      <td>11.363636</td>\n",
              "      <td>11.136779</td>\n",
              "      <td>0.06917</td>\n",
              "      <td>0.554695</td>\n",
              "      <td>6.284634</td>\n",
              "      <td>68.574901</td>\n",
              "      <td>3.795043</td>\n",
              "      <td>9.549407</td>\n",
              "      <td>408.237154</td>\n",
              "      <td>18.455534</td>\n",
              "      <td>356.674032</td>\n",
              "      <td>12.653063</td>\n",
              "      <td>22.532806</td>\n",
              "    </tr>\n",
              "  </tbody>\n",
              "</table>\n",
              "</div>"
            ],
            "text/plain": [
              "              CRIM          ZN      INDUS     CHAS       NOX        RM  \\\n",
              "max      88.976200  100.000000  27.740000  1.00000  0.871000  8.780000   \n",
              "min       0.006320    0.000000   0.460000  0.00000  0.385000  3.561000   \n",
              "average   3.613524   11.363636  11.136779  0.06917  0.554695  6.284634   \n",
              "\n",
              "                AGE        DIS        RAD         TAX    PTRATIO           B  \\\n",
              "max      100.000000  12.126500  24.000000  711.000000  22.000000  396.900000   \n",
              "min        2.900000   1.129600   1.000000  187.000000  12.600000    0.320000   \n",
              "average   68.574901   3.795043   9.549407  408.237154  18.455534  356.674032   \n",
              "\n",
              "             LSTAT     target  \n",
              "max      37.970000  50.000000  \n",
              "min       1.730000   5.000000  \n",
              "average  12.653063  22.532806  "
            ]
          },
          "execution_count": 7,
          "metadata": {},
          "output_type": "execute_result"
        }
      ],
      "source": [
        "data_analysis = pd.DataFrame(data_analysis)\n",
        "data_analysis.columns = data_y.columns\n",
        "data_analysis.index = ['max', 'min', 'average']\n",
        "data_analysis"
      ]
    },
    {
      "cell_type": "code",
      "execution_count": null,
      "metadata": {
        "id": "-3boS3RAkFDF",
        "outputId": "e9cb7935-7362-4360-849a-e99c688d0f85"
      },
      "outputs": [
        {
          "data": {
            "text/html": [
              "<div>\n",
              "<style scoped>\n",
              "    .dataframe tbody tr th:only-of-type {\n",
              "        vertical-align: middle;\n",
              "    }\n",
              "\n",
              "    .dataframe tbody tr th {\n",
              "        vertical-align: top;\n",
              "    }\n",
              "\n",
              "    .dataframe thead th {\n",
              "        text-align: right;\n",
              "    }\n",
              "</style>\n",
              "<table border=\"1\" class=\"dataframe\">\n",
              "  <thead>\n",
              "    <tr style=\"text-align: right;\">\n",
              "      <th></th>\n",
              "      <th>CRIM</th>\n",
              "      <th>ZN</th>\n",
              "      <th>INDUS</th>\n",
              "      <th>CHAS</th>\n",
              "      <th>NOX</th>\n",
              "      <th>RM</th>\n",
              "      <th>AGE</th>\n",
              "      <th>DIS</th>\n",
              "      <th>RAD</th>\n",
              "      <th>TAX</th>\n",
              "      <th>PTRATIO</th>\n",
              "      <th>B</th>\n",
              "      <th>LSTAT</th>\n",
              "      <th>target</th>\n",
              "    </tr>\n",
              "  </thead>\n",
              "  <tbody>\n",
              "    <tr>\n",
              "      <th>count</th>\n",
              "      <td>506.000000</td>\n",
              "      <td>506.000000</td>\n",
              "      <td>506.000000</td>\n",
              "      <td>506.000000</td>\n",
              "      <td>506.000000</td>\n",
              "      <td>506.000000</td>\n",
              "      <td>506.000000</td>\n",
              "      <td>506.000000</td>\n",
              "      <td>506.000000</td>\n",
              "      <td>506.000000</td>\n",
              "      <td>506.000000</td>\n",
              "      <td>506.000000</td>\n",
              "      <td>506.000000</td>\n",
              "      <td>506.000000</td>\n",
              "    </tr>\n",
              "    <tr>\n",
              "      <th>mean</th>\n",
              "      <td>3.613524</td>\n",
              "      <td>11.363636</td>\n",
              "      <td>11.136779</td>\n",
              "      <td>0.069170</td>\n",
              "      <td>0.554695</td>\n",
              "      <td>6.284634</td>\n",
              "      <td>68.574901</td>\n",
              "      <td>3.795043</td>\n",
              "      <td>9.549407</td>\n",
              "      <td>408.237154</td>\n",
              "      <td>18.455534</td>\n",
              "      <td>356.674032</td>\n",
              "      <td>12.653063</td>\n",
              "      <td>22.532806</td>\n",
              "    </tr>\n",
              "    <tr>\n",
              "      <th>std</th>\n",
              "      <td>8.601545</td>\n",
              "      <td>23.322453</td>\n",
              "      <td>6.860353</td>\n",
              "      <td>0.253994</td>\n",
              "      <td>0.115878</td>\n",
              "      <td>0.702617</td>\n",
              "      <td>28.148861</td>\n",
              "      <td>2.105710</td>\n",
              "      <td>8.707259</td>\n",
              "      <td>168.537116</td>\n",
              "      <td>2.164946</td>\n",
              "      <td>91.294864</td>\n",
              "      <td>7.141062</td>\n",
              "      <td>9.197104</td>\n",
              "    </tr>\n",
              "    <tr>\n",
              "      <th>min</th>\n",
              "      <td>0.006320</td>\n",
              "      <td>0.000000</td>\n",
              "      <td>0.460000</td>\n",
              "      <td>0.000000</td>\n",
              "      <td>0.385000</td>\n",
              "      <td>3.561000</td>\n",
              "      <td>2.900000</td>\n",
              "      <td>1.129600</td>\n",
              "      <td>1.000000</td>\n",
              "      <td>187.000000</td>\n",
              "      <td>12.600000</td>\n",
              "      <td>0.320000</td>\n",
              "      <td>1.730000</td>\n",
              "      <td>5.000000</td>\n",
              "    </tr>\n",
              "    <tr>\n",
              "      <th>25%</th>\n",
              "      <td>0.082045</td>\n",
              "      <td>0.000000</td>\n",
              "      <td>5.190000</td>\n",
              "      <td>0.000000</td>\n",
              "      <td>0.449000</td>\n",
              "      <td>5.885500</td>\n",
              "      <td>45.025000</td>\n",
              "      <td>2.100175</td>\n",
              "      <td>4.000000</td>\n",
              "      <td>279.000000</td>\n",
              "      <td>17.400000</td>\n",
              "      <td>375.377500</td>\n",
              "      <td>6.950000</td>\n",
              "      <td>17.025000</td>\n",
              "    </tr>\n",
              "    <tr>\n",
              "      <th>50%</th>\n",
              "      <td>0.256510</td>\n",
              "      <td>0.000000</td>\n",
              "      <td>9.690000</td>\n",
              "      <td>0.000000</td>\n",
              "      <td>0.538000</td>\n",
              "      <td>6.208500</td>\n",
              "      <td>77.500000</td>\n",
              "      <td>3.207450</td>\n",
              "      <td>5.000000</td>\n",
              "      <td>330.000000</td>\n",
              "      <td>19.050000</td>\n",
              "      <td>391.440000</td>\n",
              "      <td>11.360000</td>\n",
              "      <td>21.200000</td>\n",
              "    </tr>\n",
              "    <tr>\n",
              "      <th>75%</th>\n",
              "      <td>3.677083</td>\n",
              "      <td>12.500000</td>\n",
              "      <td>18.100000</td>\n",
              "      <td>0.000000</td>\n",
              "      <td>0.624000</td>\n",
              "      <td>6.623500</td>\n",
              "      <td>94.075000</td>\n",
              "      <td>5.188425</td>\n",
              "      <td>24.000000</td>\n",
              "      <td>666.000000</td>\n",
              "      <td>20.200000</td>\n",
              "      <td>396.225000</td>\n",
              "      <td>16.955000</td>\n",
              "      <td>25.000000</td>\n",
              "    </tr>\n",
              "    <tr>\n",
              "      <th>max</th>\n",
              "      <td>88.976200</td>\n",
              "      <td>100.000000</td>\n",
              "      <td>27.740000</td>\n",
              "      <td>1.000000</td>\n",
              "      <td>0.871000</td>\n",
              "      <td>8.780000</td>\n",
              "      <td>100.000000</td>\n",
              "      <td>12.126500</td>\n",
              "      <td>24.000000</td>\n",
              "      <td>711.000000</td>\n",
              "      <td>22.000000</td>\n",
              "      <td>396.900000</td>\n",
              "      <td>37.970000</td>\n",
              "      <td>50.000000</td>\n",
              "    </tr>\n",
              "  </tbody>\n",
              "</table>\n",
              "</div>"
            ],
            "text/plain": [
              "             CRIM          ZN       INDUS        CHAS         NOX          RM  \\\n",
              "count  506.000000  506.000000  506.000000  506.000000  506.000000  506.000000   \n",
              "mean     3.613524   11.363636   11.136779    0.069170    0.554695    6.284634   \n",
              "std      8.601545   23.322453    6.860353    0.253994    0.115878    0.702617   \n",
              "min      0.006320    0.000000    0.460000    0.000000    0.385000    3.561000   \n",
              "25%      0.082045    0.000000    5.190000    0.000000    0.449000    5.885500   \n",
              "50%      0.256510    0.000000    9.690000    0.000000    0.538000    6.208500   \n",
              "75%      3.677083   12.500000   18.100000    0.000000    0.624000    6.623500   \n",
              "max     88.976200  100.000000   27.740000    1.000000    0.871000    8.780000   \n",
              "\n",
              "              AGE         DIS         RAD         TAX     PTRATIO           B  \\\n",
              "count  506.000000  506.000000  506.000000  506.000000  506.000000  506.000000   \n",
              "mean    68.574901    3.795043    9.549407  408.237154   18.455534  356.674032   \n",
              "std     28.148861    2.105710    8.707259  168.537116    2.164946   91.294864   \n",
              "min      2.900000    1.129600    1.000000  187.000000   12.600000    0.320000   \n",
              "25%     45.025000    2.100175    4.000000  279.000000   17.400000  375.377500   \n",
              "50%     77.500000    3.207450    5.000000  330.000000   19.050000  391.440000   \n",
              "75%     94.075000    5.188425   24.000000  666.000000   20.200000  396.225000   \n",
              "max    100.000000   12.126500   24.000000  711.000000   22.000000  396.900000   \n",
              "\n",
              "            LSTAT      target  \n",
              "count  506.000000  506.000000  \n",
              "mean    12.653063   22.532806  \n",
              "std      7.141062    9.197104  \n",
              "min      1.730000    5.000000  \n",
              "25%      6.950000   17.025000  \n",
              "50%     11.360000   21.200000  \n",
              "75%     16.955000   25.000000  \n",
              "max     37.970000   50.000000  "
            ]
          },
          "execution_count": 8,
          "metadata": {},
          "output_type": "execute_result"
        }
      ],
      "source": [
        "data_y.describe()"
      ]
    },
    {
      "cell_type": "code",
      "execution_count": null,
      "metadata": {
        "id": "lR7tkK08kFDG",
        "outputId": "2138d620-776e-4e76-a2af-b36db0b3b1fb"
      },
      "outputs": [
        {
          "data": {
            "image/png": "[encoded data removed]",
            "text/plain": [
              "<Figure size 2340x180 with 13 Axes>"
            ]
          },
          "metadata": {
            "needs_background": "light"
          },
          "output_type": "display_data"
        }
      ],
      "source": [
        "multiPlot = sns.pairplot(data = data_y, x_vars=data_y.columns[:-1], y_vars=data_y.columns[-1])\n",
        "plt.show()"
      ]
    },
    {
      "cell_type": "code",
      "execution_count": null,
      "metadata": {
        "id": "b1LuEYx7kFDH",
        "outputId": "2b5fef43-efeb-4d3f-a85e-37f06ea4341b"
      },
      "outputs": [
        {
          "data": {
            "text/plain": [
              "array([[1., 1., 1., 1., 1., 1., 1., 1., 1., 1., 1., 1., 1., 0.],\n",
              "       [1., 1., 1., 1., 1., 1., 1., 1., 1., 1., 1., 1., 1., 0.],\n",
              "       [1., 1., 1., 1., 1., 1., 1., 1., 1., 1., 1., 1., 1., 0.],\n",
              "       [1., 1., 1., 1., 1., 1., 1., 1., 1., 1., 1., 1., 1., 0.],\n",
              "       [1., 1., 1., 1., 1., 1., 1., 1., 1., 1., 1., 1., 1., 0.],\n",
              "       [1., 1., 1., 1., 1., 1., 1., 1., 1., 1., 1., 1., 1., 0.],\n",
              "       [1., 1., 1., 1., 1., 1., 1., 1., 1., 1., 1., 1., 1., 0.],\n",
              "       [1., 1., 1., 1., 1., 1., 1., 1., 1., 1., 1., 1., 1., 0.],\n",
              "       [1., 1., 1., 1., 1., 1., 1., 1., 1., 1., 1., 1., 1., 0.],\n",
              "       [1., 1., 1., 1., 1., 1., 1., 1., 1., 1., 1., 1., 1., 0.],\n",
              "       [1., 1., 1., 1., 1., 1., 1., 1., 1., 1., 1., 1., 1., 0.],\n",
              "       [1., 1., 1., 1., 1., 1., 1., 1., 1., 1., 1., 1., 1., 0.],\n",
              "       [1., 1., 1., 1., 1., 1., 1., 1., 1., 1., 1., 1., 1., 0.],\n",
              "       [0., 0., 0., 0., 0., 0., 0., 0., 0., 0., 0., 0., 0., 0.]])"
            ]
          },
          "execution_count": 10,
          "metadata": {},
          "output_type": "execute_result"
        }
      ],
      "source": [
        "mask = np.ones((14, 14))\n",
        "mask[-1] = 0\n",
        "mask[:, -1] = 0\n",
        "mask"
      ]
    },
    {
      "cell_type": "code",
      "execution_count": null,
      "metadata": {
        "id": "kpApC46CkFDI",
        "outputId": "b289c5ba-e561-4bd3-e26f-28ebe1f6d8b4"
      },
      "outputs": [
        {
          "data": {
            "image/png": "[encoded data removed]",
            "text/plain": [
              "<Figure size 1152x432 with 2 Axes>"
            ]
          },
          "metadata": {
            "needs_background": "light"
          },
          "output_type": "display_data"
        }
      ],
      "source": [
        "plt.figure(figsize=(16,6))\n",
        "sns.heatmap(data_y.corr(), annot=True, mask = mask)\n",
        "plt.show()"
      ]
    },
    {
      "cell_type": "markdown",
      "metadata": {
        "id": "H6FeFPzOkFDI"
      },
      "source": [
        "### 1.2) Standardization and splitting"
      ]
    },
    {
      "cell_type": "code",
      "execution_count": null,
      "metadata": {
        "id": "8VIYHtRFkFDJ",
        "outputId": "e40d0d22-eb74-44d3-a8b6-70afba8d5df2"
      },
      "outputs": [
        {
          "name": "stdout",
          "output_type": "stream",
          "text": [
            ".. _boston_dataset:\n",
            "\n",
            "Boston house prices dataset\n",
            "---------------------------\n",
            "\n",
            "**Data Set Characteristics:**  \n",
            "\n",
            "    :Number of Instances: 506 \n",
            "\n",
            "    :Number of Attributes: 13 numeric/categorical predictive. Median Value (attribute 14) is usually the target.\n",
            "\n",
            "    :Attribute Information (in order):\n",
            "        - CRIM     per capita crime rate by town\n",
            "        - ZN       proportion of residential land zoned for lots over 25,000 sq.ft.\n",
            "        - INDUS    proportion of non-retail business acres per town\n",
            "        - CHAS     Charles River dummy variable (= 1 if tract bounds river; 0 otherwise)\n",
            "        - NOX      nitric oxides concentration (parts per 10 million)\n",
            "        - RM       average number of rooms per dwelling\n",
            "        - AGE      proportion of owner-occupied units built prior to 1940\n",
            "        - DIS      weighted distances to five Boston employment centres\n",
            "        - RAD      index of accessibility to radial highways\n",
            "        - TAX      full-value property-tax rate per $10,000\n",
            "        - PTRATIO  pupil-teacher ratio by town\n",
            "        - B        1000(Bk - 0.63)^2 where Bk is the proportion of black people by town\n",
            "        - LSTAT    % lower status of the population\n",
            "        - MEDV     Median value of owner-occupied homes in $1000's\n",
            "\n",
            "    :Missing Attribute Values: None\n",
            "\n",
            "    :Creator: Harrison, D. and Rubinfeld, D.L.\n",
            "\n",
            "This is a copy of UCI ML housing dataset.\n",
            "https://archive.ics.uci.edu/ml/machine-learning-databases/housing/\n",
            "\n",
            "\n",
            "This dataset was taken from the StatLib library which is maintained at Carnegie Mellon University.\n",
            "\n",
            "The Boston house-price data of Harrison, D. and Rubinfeld, D.L. 'Hedonic\n",
            "prices and the demand for clean air', J. Environ. Economics & Management,\n",
            "vol.5, 81-102, 1978.   Used in Belsley, Kuh & Welsch, 'Regression diagnostics\n",
            "...', Wiley, 1980.   N.B. Various transformations are used in the table on\n",
            "pages 244-261 of the latter.\n",
            "\n",
            "The Boston house-price data has been used in many machine learning papers that address regression\n",
            "problems.   \n",
            "     \n",
            ".. topic:: References\n",
            "\n",
            "   - Belsley, Kuh & Welsch, 'Regression diagnostics: Identifying Influential Data and Sources of Collinearity', Wiley, 1980. 244-261.\n",
            "   - Quinlan,R. (1993). Combining Instance-Based and Model-Based Learning. In Proceedings on the Tenth International Conference of Machine Learning, 236-243, University of Massachusetts, Amherst. Morgan Kaufmann.\n",
            "\n"
          ]
        }
      ],
      "source": [
        "print(housing['DESCR'])"
      ]
    },
    {
      "cell_type": "code",
      "execution_count": null,
      "metadata": {
        "id": "EabY9_0-rrby"
      },
      "outputs": [],
      "source": [
        "# Standardize and Splitting Dataset\n",
        "def find_mean_std(df, attr):\n",
        "    \"\"\"\n",
        "    This function taken in a dataframe and an attribute name as arguments\n",
        "    Returns a tuple of mean and standard deviation of the attribute\n",
        "    \"\"\"\n",
        "    mean_attr = 0\n",
        "    for attr_val in df[attr]:\n",
        "        mean_attr = mean_attr + attr_val\n",
        "    mean_attr = mean_attr/len(df[attr])\n",
        "    \n",
        "    std_attr  = 0\n",
        "    for attr_val in df[attr]:\n",
        "        std_attr = std_attr + (attr_val - mean_attr)**2\n",
        "    std_attr = std_attr/len(df[attr])\n",
        "    \n",
        "    std_attr = sqrt(std_attr)\n",
        "    return mean_attr, std_attr\n",
        "def standardize_df(df, attr):\n",
        "    \"\"\"\n",
        "    This function taken in a dataframe and a list of attribute names as arguments\n",
        "    Returns the standardized dataframe\n",
        "    \"\"\"\n",
        "    df_new = df.copy()\n",
        "    for v in attr:\n",
        "        a_mean, a_std = find_mean_std(df_new, v)\n",
        "        for i,entry in enumerate(df_new[v]):\n",
        "            df_new.loc[i, v] = (entry - a_mean)/a_std\n",
        "    return df_new"
      ]
    },
    {
      "cell_type": "code",
      "execution_count": null,
      "metadata": {
        "id": "3IwQrC_IkFDK",
        "outputId": "2ef723a2-4709-4a48-a9f2-50cff598f99a"
      },
      "outputs": [
        {
          "data": {
            "text/plain": [
              "Index(['CRIM', 'ZN', 'INDUS', 'CHAS', 'NOX', 'RM', 'AGE', 'DIS', 'RAD', 'TAX',\n",
              "       'PTRATIO', 'B', 'LSTAT', 'target'],\n",
              "      dtype='object')"
            ]
          },
          "execution_count": 14,
          "metadata": {},
          "output_type": "execute_result"
        }
      ],
      "source": [
        "data_y.columns"
      ]
    },
    {
      "cell_type": "code",
      "execution_count": null,
      "metadata": {
        "id": "EULOEE7pkFDK",
        "outputId": "7c30a792-3716-4550-c8ed-b582f9a11ff5"
      },
      "outputs": [
        {
          "name": "stdout",
          "output_type": "stream",
          "text": [
            "CRIM 504\n",
            "ZN 26\n",
            "INDUS 76\n",
            "CHAS 2\n",
            "NOX 81\n",
            "RM 446\n",
            "AGE 356\n",
            "DIS 412\n",
            "RAD 9\n",
            "TAX 66\n",
            "PTRATIO 46\n",
            "B 357\n",
            "LSTAT 455\n",
            "target 229\n"
          ]
        }
      ],
      "source": [
        "for col in data_y.columns:\n",
        "  print(col, data_y[col].nunique())"
      ]
    },
    {
      "cell_type": "code",
      "execution_count": null,
      "metadata": {
        "id": "6Lh1KP2DkFDL"
      },
      "outputs": [],
      "source": [
        "# I observe CHAS and RAD are categorical features, so I won't standardize them"
      ]
    },
    {
      "cell_type": "code",
      "execution_count": null,
      "metadata": {
        "id": "ycJs-DhEkFDL",
        "outputId": "84cca7c5-d277-4e9f-ab20-51eb09e111df"
      },
      "outputs": [
        {
          "data": {
            "text/html": [
              "<div>\n",
              "<style scoped>\n",
              "    .dataframe tbody tr th:only-of-type {\n",
              "        vertical-align: middle;\n",
              "    }\n",
              "\n",
              "    .dataframe tbody tr th {\n",
              "        vertical-align: top;\n",
              "    }\n",
              "\n",
              "    .dataframe thead th {\n",
              "        text-align: right;\n",
              "    }\n",
              "</style>\n",
              "<table border=\"1\" class=\"dataframe\">\n",
              "  <thead>\n",
              "    <tr style=\"text-align: right;\">\n",
              "      <th></th>\n",
              "      <th>CRIM</th>\n",
              "      <th>ZN</th>\n",
              "      <th>INDUS</th>\n",
              "      <th>CHAS</th>\n",
              "      <th>NOX</th>\n",
              "      <th>RM</th>\n",
              "      <th>AGE</th>\n",
              "      <th>DIS</th>\n",
              "      <th>RAD</th>\n",
              "      <th>TAX</th>\n",
              "      <th>PTRATIO</th>\n",
              "      <th>B</th>\n",
              "      <th>LSTAT</th>\n",
              "      <th>target</th>\n",
              "    </tr>\n",
              "  </thead>\n",
              "  <tbody>\n",
              "    <tr>\n",
              "      <th>0</th>\n",
              "      <td>-0.419782</td>\n",
              "      <td>0.284830</td>\n",
              "      <td>-1.287909</td>\n",
              "      <td>0.0</td>\n",
              "      <td>-0.144217</td>\n",
              "      <td>0.413672</td>\n",
              "      <td>-0.120013</td>\n",
              "      <td>0.140214</td>\n",
              "      <td>1.0</td>\n",
              "      <td>-0.666608</td>\n",
              "      <td>-1.459000</td>\n",
              "      <td>0.441052</td>\n",
              "      <td>-1.075562</td>\n",
              "      <td>0.159686</td>\n",
              "    </tr>\n",
              "    <tr>\n",
              "      <th>1</th>\n",
              "      <td>-0.417339</td>\n",
              "      <td>-0.487722</td>\n",
              "      <td>-0.593381</td>\n",
              "      <td>0.0</td>\n",
              "      <td>-0.740262</td>\n",
              "      <td>0.194274</td>\n",
              "      <td>0.367166</td>\n",
              "      <td>0.557160</td>\n",
              "      <td>2.0</td>\n",
              "      <td>-0.987329</td>\n",
              "      <td>-0.303094</td>\n",
              "      <td>0.441052</td>\n",
              "      <td>-0.492439</td>\n",
              "      <td>-0.101524</td>\n",
              "    </tr>\n",
              "    <tr>\n",
              "      <th>2</th>\n",
              "      <td>-0.417342</td>\n",
              "      <td>-0.487722</td>\n",
              "      <td>-0.593381</td>\n",
              "      <td>0.0</td>\n",
              "      <td>-0.740262</td>\n",
              "      <td>1.282714</td>\n",
              "      <td>-0.265812</td>\n",
              "      <td>0.557160</td>\n",
              "      <td>2.0</td>\n",
              "      <td>-0.987329</td>\n",
              "      <td>-0.303094</td>\n",
              "      <td>0.396427</td>\n",
              "      <td>-1.208727</td>\n",
              "      <td>1.324247</td>\n",
              "    </tr>\n",
              "    <tr>\n",
              "      <th>3</th>\n",
              "      <td>-0.416750</td>\n",
              "      <td>-0.487722</td>\n",
              "      <td>-1.306878</td>\n",
              "      <td>0.0</td>\n",
              "      <td>-0.835284</td>\n",
              "      <td>1.016303</td>\n",
              "      <td>-0.809889</td>\n",
              "      <td>1.077737</td>\n",
              "      <td>3.0</td>\n",
              "      <td>-1.106115</td>\n",
              "      <td>0.113032</td>\n",
              "      <td>0.416163</td>\n",
              "      <td>-1.361517</td>\n",
              "      <td>1.182758</td>\n",
              "    </tr>\n",
              "    <tr>\n",
              "      <th>4</th>\n",
              "      <td>-0.412482</td>\n",
              "      <td>-0.487722</td>\n",
              "      <td>-1.306878</td>\n",
              "      <td>0.0</td>\n",
              "      <td>-0.835284</td>\n",
              "      <td>1.228577</td>\n",
              "      <td>-0.511180</td>\n",
              "      <td>1.077737</td>\n",
              "      <td>3.0</td>\n",
              "      <td>-1.106115</td>\n",
              "      <td>0.113032</td>\n",
              "      <td>0.441052</td>\n",
              "      <td>-1.026501</td>\n",
              "      <td>1.487503</td>\n",
              "    </tr>\n",
              "  </tbody>\n",
              "</table>\n",
              "</div>"
            ],
            "text/plain": [
              "       CRIM        ZN     INDUS  CHAS       NOX        RM       AGE       DIS  \\\n",
              "0 -0.419782  0.284830 -1.287909   0.0 -0.144217  0.413672 -0.120013  0.140214   \n",
              "1 -0.417339 -0.487722 -0.593381   0.0 -0.740262  0.194274  0.367166  0.557160   \n",
              "2 -0.417342 -0.487722 -0.593381   0.0 -0.740262  1.282714 -0.265812  0.557160   \n",
              "3 -0.416750 -0.487722 -1.306878   0.0 -0.835284  1.016303 -0.809889  1.077737   \n",
              "4 -0.412482 -0.487722 -1.306878   0.0 -0.835284  1.228577 -0.511180  1.077737   \n",
              "\n",
              "   RAD       TAX   PTRATIO         B     LSTAT    target  \n",
              "0  1.0 -0.666608 -1.459000  0.441052 -1.075562  0.159686  \n",
              "1  2.0 -0.987329 -0.303094  0.441052 -0.492439 -0.101524  \n",
              "2  2.0 -0.987329 -0.303094  0.396427 -1.208727  1.324247  \n",
              "3  3.0 -1.106115  0.113032  0.416163 -1.361517  1.182758  \n",
              "4  3.0 -1.106115  0.113032  0.441052 -1.026501  1.487503  "
            ]
          },
          "execution_count": 17,
          "metadata": {},
          "output_type": "execute_result"
        }
      ],
      "source": [
        "data_std = data_y.copy()\n",
        "data_std = standardize_df(data_std, [col for col in data_std.columns if col!=\"CHAS\" and col!=\"RAD\"])\n",
        "data_std.head()"
      ]
    },
    {
      "cell_type": "code",
      "execution_count": null,
      "metadata": {
        "id": "RqE9GmaUkFDL",
        "outputId": "f4033158-0281-41b1-9da5-667fb0eee2e1"
      },
      "outputs": [
        {
          "data": {
            "text/html": [
              "<div>\n",
              "<style scoped>\n",
              "    .dataframe tbody tr th:only-of-type {\n",
              "        vertical-align: middle;\n",
              "    }\n",
              "\n",
              "    .dataframe tbody tr th {\n",
              "        vertical-align: top;\n",
              "    }\n",
              "\n",
              "    .dataframe thead th {\n",
              "        text-align: right;\n",
              "    }\n",
              "</style>\n",
              "<table border=\"1\" class=\"dataframe\">\n",
              "  <thead>\n",
              "    <tr style=\"text-align: right;\">\n",
              "      <th></th>\n",
              "      <th>CRIM</th>\n",
              "      <th>ZN</th>\n",
              "      <th>INDUS</th>\n",
              "      <th>CHAS</th>\n",
              "      <th>NOX</th>\n",
              "      <th>RM</th>\n",
              "      <th>AGE</th>\n",
              "      <th>DIS</th>\n",
              "      <th>RAD</th>\n",
              "      <th>TAX</th>\n",
              "      <th>PTRATIO</th>\n",
              "      <th>B</th>\n",
              "      <th>LSTAT</th>\n",
              "      <th>target</th>\n",
              "    </tr>\n",
              "  </thead>\n",
              "  <tbody>\n",
              "    <tr>\n",
              "      <th>count</th>\n",
              "      <td>5.060000e+02</td>\n",
              "      <td>5.060000e+02</td>\n",
              "      <td>5.060000e+02</td>\n",
              "      <td>506.000000</td>\n",
              "      <td>5.060000e+02</td>\n",
              "      <td>5.060000e+02</td>\n",
              "      <td>5.060000e+02</td>\n",
              "      <td>5.060000e+02</td>\n",
              "      <td>506.000000</td>\n",
              "      <td>5.060000e+02</td>\n",
              "      <td>5.060000e+02</td>\n",
              "      <td>5.060000e+02</td>\n",
              "      <td>5.060000e+02</td>\n",
              "      <td>5.060000e+02</td>\n",
              "    </tr>\n",
              "    <tr>\n",
              "      <th>mean</th>\n",
              "      <td>-8.787437e-17</td>\n",
              "      <td>-6.343191e-16</td>\n",
              "      <td>-2.682911e-15</td>\n",
              "      <td>0.069170</td>\n",
              "      <td>2.490322e-15</td>\n",
              "      <td>-1.145230e-14</td>\n",
              "      <td>-1.407855e-15</td>\n",
              "      <td>9.210902e-16</td>\n",
              "      <td>9.549407</td>\n",
              "      <td>-8.868619e-16</td>\n",
              "      <td>-9.205636e-15</td>\n",
              "      <td>8.163101e-15</td>\n",
              "      <td>-3.370163e-16</td>\n",
              "      <td>-3.020860e-15</td>\n",
              "    </tr>\n",
              "    <tr>\n",
              "      <th>std</th>\n",
              "      <td>1.000990e+00</td>\n",
              "      <td>1.000990e+00</td>\n",
              "      <td>1.000990e+00</td>\n",
              "      <td>0.253994</td>\n",
              "      <td>1.000990e+00</td>\n",
              "      <td>1.000990e+00</td>\n",
              "      <td>1.000990e+00</td>\n",
              "      <td>1.000990e+00</td>\n",
              "      <td>8.707259</td>\n",
              "      <td>1.000990e+00</td>\n",
              "      <td>1.000990e+00</td>\n",
              "      <td>1.000990e+00</td>\n",
              "      <td>1.000990e+00</td>\n",
              "      <td>1.000990e+00</td>\n",
              "    </tr>\n",
              "    <tr>\n",
              "      <th>min</th>\n",
              "      <td>-4.197819e-01</td>\n",
              "      <td>-4.877224e-01</td>\n",
              "      <td>-1.557842e+00</td>\n",
              "      <td>0.000000</td>\n",
              "      <td>-1.465882e+00</td>\n",
              "      <td>-3.880249e+00</td>\n",
              "      <td>-2.335437e+00</td>\n",
              "      <td>-1.267069e+00</td>\n",
              "      <td>1.000000</td>\n",
              "      <td>-1.313990e+00</td>\n",
              "      <td>-2.707379e+00</td>\n",
              "      <td>-3.907193e+00</td>\n",
              "      <td>-1.531127e+00</td>\n",
              "      <td>-1.908226e+00</td>\n",
              "    </tr>\n",
              "    <tr>\n",
              "      <th>25%</th>\n",
              "      <td>-4.109696e-01</td>\n",
              "      <td>-4.877224e-01</td>\n",
              "      <td>-8.676906e-01</td>\n",
              "      <td>0.000000</td>\n",
              "      <td>-9.130288e-01</td>\n",
              "      <td>-5.686303e-01</td>\n",
              "      <td>-8.374480e-01</td>\n",
              "      <td>-8.056878e-01</td>\n",
              "      <td>4.000000</td>\n",
              "      <td>-7.675760e-01</td>\n",
              "      <td>-4.880391e-01</td>\n",
              "      <td>2.050715e-01</td>\n",
              "      <td>-7.994200e-01</td>\n",
              "      <td>-5.994557e-01</td>\n",
              "    </tr>\n",
              "    <tr>\n",
              "      <th>50%</th>\n",
              "      <td>-3.906665e-01</td>\n",
              "      <td>-4.877224e-01</td>\n",
              "      <td>-2.110985e-01</td>\n",
              "      <td>0.000000</td>\n",
              "      <td>-1.442174e-01</td>\n",
              "      <td>-1.084655e-01</td>\n",
              "      <td>3.173816e-01</td>\n",
              "      <td>-2.793234e-01</td>\n",
              "      <td>5.000000</td>\n",
              "      <td>-4.646726e-01</td>\n",
              "      <td>2.748590e-01</td>\n",
              "      <td>3.811865e-01</td>\n",
              "      <td>-1.812536e-01</td>\n",
              "      <td>-1.450593e-01</td>\n",
              "    </tr>\n",
              "    <tr>\n",
              "      <th>75%</th>\n",
              "      <td>7.396560e-03</td>\n",
              "      <td>4.877224e-02</td>\n",
              "      <td>1.015999e+00</td>\n",
              "      <td>0.000000</td>\n",
              "      <td>5.986790e-01</td>\n",
              "      <td>4.827678e-01</td>\n",
              "      <td>9.067981e-01</td>\n",
              "      <td>6.623709e-01</td>\n",
              "      <td>24.000000</td>\n",
              "      <td>1.530926e+00</td>\n",
              "      <td>8.065758e-01</td>\n",
              "      <td>4.336510e-01</td>\n",
              "      <td>6.030188e-01</td>\n",
              "      <td>2.685231e-01</td>\n",
              "    </tr>\n",
              "    <tr>\n",
              "      <th>max</th>\n",
              "      <td>9.933931e+00</td>\n",
              "      <td>3.804234e+00</td>\n",
              "      <td>2.422565e+00</td>\n",
              "      <td>1.000000</td>\n",
              "      <td>2.732346e+00</td>\n",
              "      <td>3.555044e+00</td>\n",
              "      <td>1.117494e+00</td>\n",
              "      <td>3.960518e+00</td>\n",
              "      <td>24.000000</td>\n",
              "      <td>1.798194e+00</td>\n",
              "      <td>1.638828e+00</td>\n",
              "      <td>4.410519e-01</td>\n",
              "      <td>3.548771e+00</td>\n",
              "      <td>2.989460e+00</td>\n",
              "    </tr>\n",
              "  </tbody>\n",
              "</table>\n",
              "</div>"
            ],
            "text/plain": [
              "               CRIM            ZN         INDUS        CHAS           NOX  \\\n",
              "count  5.060000e+02  5.060000e+02  5.060000e+02  506.000000  5.060000e+02   \n",
              "mean  -8.787437e-17 -6.343191e-16 -2.682911e-15    0.069170  2.490322e-15   \n",
              "std    1.000990e+00  1.000990e+00  1.000990e+00    0.253994  1.000990e+00   \n",
              "min   -4.197819e-01 -4.877224e-01 -1.557842e+00    0.000000 -1.465882e+00   \n",
              "25%   -4.109696e-01 -4.877224e-01 -8.676906e-01    0.000000 -9.130288e-01   \n",
              "50%   -3.906665e-01 -4.877224e-01 -2.110985e-01    0.000000 -1.442174e-01   \n",
              "75%    7.396560e-03  4.877224e-02  1.015999e+00    0.000000  5.986790e-01   \n",
              "max    9.933931e+00  3.804234e+00  2.422565e+00    1.000000  2.732346e+00   \n",
              "\n",
              "                 RM           AGE           DIS         RAD           TAX  \\\n",
              "count  5.060000e+02  5.060000e+02  5.060000e+02  506.000000  5.060000e+02   \n",
              "mean  -1.145230e-14 -1.407855e-15  9.210902e-16    9.549407 -8.868619e-16   \n",
              "std    1.000990e+00  1.000990e+00  1.000990e+00    8.707259  1.000990e+00   \n",
              "min   -3.880249e+00 -2.335437e+00 -1.267069e+00    1.000000 -1.313990e+00   \n",
              "25%   -5.686303e-01 -8.374480e-01 -8.056878e-01    4.000000 -7.675760e-01   \n",
              "50%   -1.084655e-01  3.173816e-01 -2.793234e-01    5.000000 -4.646726e-01   \n",
              "75%    4.827678e-01  9.067981e-01  6.623709e-01   24.000000  1.530926e+00   \n",
              "max    3.555044e+00  1.117494e+00  3.960518e+00   24.000000  1.798194e+00   \n",
              "\n",
              "            PTRATIO             B         LSTAT        target  \n",
              "count  5.060000e+02  5.060000e+02  5.060000e+02  5.060000e+02  \n",
              "mean  -9.205636e-15  8.163101e-15 -3.370163e-16 -3.020860e-15  \n",
              "std    1.000990e+00  1.000990e+00  1.000990e+00  1.000990e+00  \n",
              "min   -2.707379e+00 -3.907193e+00 -1.531127e+00 -1.908226e+00  \n",
              "25%   -4.880391e-01  2.050715e-01 -7.994200e-01 -5.994557e-01  \n",
              "50%    2.748590e-01  3.811865e-01 -1.812536e-01 -1.450593e-01  \n",
              "75%    8.065758e-01  4.336510e-01  6.030188e-01  2.685231e-01  \n",
              "max    1.638828e+00  4.410519e-01  3.548771e+00  2.989460e+00  "
            ]
          },
          "execution_count": 18,
          "metadata": {},
          "output_type": "execute_result"
        }
      ],
      "source": [
        "data_std.describe()"
      ]
    },
    {
      "cell_type": "code",
      "execution_count": null,
      "metadata": {
        "id": "JjpW8WJ0kFDM"
      },
      "outputs": [],
      "source": [
        "X = data_std.iloc[:,:-1].values\n",
        "Y = data_std.iloc[:, -1].values"
      ]
    },
    {
      "cell_type": "code",
      "execution_count": null,
      "metadata": {
        "id": "AScq5sZUkFDM"
      },
      "outputs": [],
      "source": [
        "def train_test(X, Y, seed = 0):\n",
        "    x = X.copy()\n",
        "    y = Y.copy()\n",
        "    np.random.seed(seed)\n",
        "    indices = np.arange(0, x.shape[0])\n",
        "    np.random.shuffle(indices)\n",
        "    train_indices = indices[ : (4 * x.shape[0])//5]\n",
        "    test_indices = indices[(4 * x.shape[0])//5 : ]\n",
        "    x_train = x[train_indices]\n",
        "    y_train = y[train_indices]\n",
        "    x_test = x[test_indices]\n",
        "    y_test = y[test_indices]\n",
        "    return x_train, x_test, y_train, y_test"
      ]
    },
    {
      "cell_type": "code",
      "execution_count": null,
      "metadata": {
        "id": "49Ro2LYbkFDM"
      },
      "outputs": [],
      "source": [
        "x_train, x_test, y_train, y_test = train_test(X, Y)"
      ]
    },
    {
      "cell_type": "code",
      "execution_count": null,
      "metadata": {
        "id": "qGgZi-IakFDN",
        "outputId": "1b14c21c-05ba-40e4-cf99-b317a227162e"
      },
      "outputs": [
        {
          "data": {
            "text/plain": [
              "(79.84189723320159, 20.158102766798418)"
            ]
          },
          "execution_count": 22,
          "metadata": {},
          "output_type": "execute_result"
        }
      ],
      "source": [
        "len(x_train)/len(X) * 100, len(x_test)/len(X) * 100"
      ]
    },
    {
      "cell_type": "markdown",
      "metadata": {
        "id": "SFIu9tm6kFDN"
      },
      "source": [
        "### 1.3) MLP Implementation\n",
        "- One hidden layer having bias\n",
        "- One output unit as it is a regression problem\n",
        "- for act_hidden = 1, activation = sigmoid\n",
        "- for act_hidden = 2, activation = tanh\n",
        "### 1.4) Backpropagation Implementation\n",
        "- Supports gradient flow for both sigmoid and tanh activation in hidden layer\n",
        "### 1.5) Training the model by justifying hyperparameter choice"
      ]
    },
    {
      "cell_type": "code",
      "execution_count": null,
      "metadata": {
        "id": "04JFqoe5kFDN"
      },
      "outputs": [],
      "source": [
        "class mlp:\n",
        "  def __init__(self, X, Y, input_hidden_weights = np.zeros(((13 + 1), 15)), hidden_output_weights = np.zeros(16)\n",
        "               , act_hidden = 1, act_output = 0, batch_size = 16, epochs = 100, eta = 0.001):\n",
        "    np.random.seed(0)\n",
        "    self.X = X\n",
        "    self.Y = np.reshape(Y, (-1, 1))\n",
        "    self.input_hidden_weights = np.random.uniform(low = 0.0001, high = 0.01, size = (14, 15))\n",
        "    self.hidden_output_weights = np.random.uniform(low = 0.0001, high = 0.01, size = (16,1))\n",
        "    self.act_hidden = act_hidden\n",
        "    self.act_output = act_output\n",
        "    self.batch_size = batch_size\n",
        "    self.epochs = epochs\n",
        "    self.eta = eta\n",
        "    \n",
        "  def sigmoid(self, x):\n",
        "    return 1/(1 + np.exp(-1 * x))\n",
        "  def tanh(self, x):\n",
        "    return (1 - 2/(np.exp(2*x) + 1)) #after simplification\n",
        "\n",
        "  def feed_forward_backpropagate(self, batch_x, batch_y):    \n",
        "    \n",
        "    # adding bias to input layer\n",
        "    batch_x_biased = np.c_[batch_x, np.ones(len(batch_x))]\n",
        "    \n",
        "    # FEED FORWARD            \n",
        "    # finding hidden node values by multiplying inputs with weight vectors of each node \n",
        "    # and they are summed automatically in matrix multiplication\n",
        "    batch_hidden_nodes = batch_x_biased @ self.input_hidden_weights\n",
        "    \n",
        "    # activating the hidden node values\n",
        "    if self.act_hidden == 1: #sigmoid activation for hidden layer\n",
        "      batch_hidden_nodes = self.sigmoid(batch_hidden_nodes)      \n",
        "    elif self.act_hidden == 2: #tanh activation for hidden layer\n",
        "      batch_hidden_nodes = self.tanh(batch_hidden_nodes)\n",
        "    else:\n",
        "      batch_hidden_nodes = batch_hidden_nodes\n",
        "      \n",
        "    # adding bias term to hidden layer outputs\n",
        "    batch_hidden_nodes_biased = np.c_[batch_hidden_nodes, np.ones(len(batch_hidden_nodes))]\n",
        "    \n",
        "    # finding output node values by multiplying activated hidden node values with\n",
        "    # weight vectors from hidden to output layer    \n",
        "    batch_output_node = batch_hidden_nodes_biased @ self.hidden_output_weights\n",
        "    \n",
        "    # activating the output node values\n",
        "    if self.act_output == 1:\n",
        "      batch_output_node = self.sigmoid(batch_output_node)      \n",
        "    elif self.act_output == 2:\n",
        "      batch_output_node = self.tanh(batch_output_node)\n",
        "    else:\n",
        "      batch_output_node = batch_output_node\n",
        "      \n",
        "    # WEIGHT UPDATION AND BACKPROPAGATION OF ERRORS\n",
        "    \n",
        "    # Hidden to Output layer weight Updation\n",
        "    # del{E_d}/del{w_kj} = del{E_d}/del{net_k} * del{net_k}/del{w_kj}\n",
        "    term1 = 0 # term1 denotes derivative of error with respect to the unactivated output value, del{E_d}/del{net_k}\n",
        "    if self.act_output == 1:      \n",
        "      term1 = -2 * ((batch_y - batch_output_node)/len(batch_y) * (batch_output_node * (1- batch_output_node)))\n",
        "    elif self.act_output == 2:\n",
        "      term1 = -2 * ((batch_y - batch_output_node)/len(batch_y) * ((1 - batch_output_node) * (1 + batch_output_node)))\n",
        "    else:# output layer activation is identity\n",
        "      term1 = -2 * (batch_y - batch_output_node)/len(batch_y);\n",
        "    \n",
        "    grad_w_h_to_o = (term1.T @ batch_hidden_nodes_biased).T \n",
        "    # above matrix multiplication results in adding derivatives of all data points\n",
        "\n",
        "    # Input to Hidden Layer Weight Updation, called BACKPROPAGATION\n",
        "    # Main Formula : del{E_d}/del{w_ji} = del{E_d}/del{net_j} * del{net_j}/del{w_ji}\n",
        "    \n",
        "    # now,1) del{E_d}/del{net_j} = del{E_d}/del{net_k} * del{net_k}/del{net_j}, as only 1 output unit\n",
        "    \n",
        "    # 1.1) del{net_k}/del{net_j} calculation, stored in term2\n",
        "    term2 = 0 # = del{net_k}/del{o_j} * del{o_j}/del{net_j}\n",
        "    if self.act_hidden == 1:# hidden layer activation is sigmoid\n",
        "      term2 = (batch_hidden_nodes * (1 - batch_hidden_nodes)) * self.hidden_output_weights[0:15, 0].T\n",
        "    else: # hidden layer activation is tanh\n",
        "      term2 = ((1 - batch_hidden_nodes) * (1 + batch_hidden_nodes)) * self.hidden_output_weights[0:15, 0].T\n",
        "    \n",
        "    # del{E_d}/del{net_j} calculation, term1 is other part of 1)\n",
        "    term3 = term1 * term2 # del_Ed/del_netj for each data point stored in individual rows\n",
        "    \n",
        "    # 2) del{net_j}/del{w_ji} are the input values\n",
        "    # so finally the gradient in main formula is:\n",
        "    grad_w_i_to_h = ((batch_x_biased.T) @ term3)\n",
        "    \n",
        "    #using gradients calculated to update weights\n",
        "    self.hidden_output_weights -= self.eta * grad_w_h_to_o     \n",
        "    self.input_hidden_weights -= self.eta * grad_w_i_to_h\n",
        "    \n",
        "  def batch_gradient_descent(self): # actually mini batch\n",
        "    num = len(self.X)\n",
        "    batch_ends = np.linspace(0, num, num//self.batch_size)\n",
        "    if len(batch_ends) == 1:\n",
        "        batch_ends = [0, num]\n",
        "    batch_ends = [int(x) for x in batch_ends]\n",
        "    for epoch in range(self.epochs):\n",
        "      for i in range(len(batch_ends) - 1):        \n",
        "        self.feed_forward_backpropagate(self.X[batch_ends[i]:batch_ends[i+1]], self.Y[batch_ends[i]:batch_ends[i+1]])\n",
        "\n",
        "  def predict(self, x):\n",
        "    x_biased = np.c_[x, np.ones(len(x))]\n",
        "    hidden_nodes = x_biased @ self.input_hidden_weights\n",
        "    if self.act_hidden == 1:\n",
        "      hidden_nodes = self.sigmoid(hidden_nodes)\n",
        "    elif self.act_hidden == 2:\n",
        "      hidden_nodes = self.tanh(hidden_nodes)\n",
        "    else:\n",
        "      hidden_nodes = hidden_nodes\n",
        "    hidden_nodes_biased = np.c_[hidden_nodes, np.ones(len(hidden_nodes))]\n",
        "    output_node = hidden_nodes_biased @ self.hidden_output_weights\n",
        "    if self.act_output == 1:\n",
        "      output_node = self.sigmoid(output_node)    \n",
        "    elif self.act_output == 2:\n",
        "      output_node = self.tanh(output_node)\n",
        "    else:\n",
        "      output_node = output_node\n",
        "    return output_node\n",
        "  def get_error(self, x_test = [],y_test = []):\n",
        "    if len(x_test) == 0:\n",
        "      x_test = self.X\n",
        "      y_test = self.Y\n",
        "    y_test = np.reshape(y_test, (-1, 1))\n",
        "    output = self.predict(x_test)\n",
        "    return np.sum((output - y_test)**2)/len(y_test)"
      ]
    },
    {
      "cell_type": "markdown",
      "metadata": {
        "id": "-HRYF3E3kFDR"
      },
      "source": [
        "### Training the model and finding the hyperparameters\n",
        " **Hyper Parameters are**:\n",
        " - batch-size: but we are asked only for batch gradient descent and stochastic\n",
        " - activation function at hidden layer\n",
        " - eta: the learning rate\n",
        " - epoch: number of iterations"
      ]
    },
    {
      "cell_type": "markdown",
      "metadata": {
        "id": "gQkupdcOkFDV"
      },
      "source": [
        "# Now,\n",
        "- Activation function fixed as identity for output layer, as it's a regression problem\n",
        "- first , keeping learning rate and epochs fixed I will compare the different activation functions for hidden layer\n",
        "- learning rate is fixed\n",
        "- epochs are fixed"
      ]
    },
    {
      "cell_type": "code",
      "execution_count": null,
      "metadata": {
        "id": "hrtTLAfJkFDV"
      },
      "outputs": [],
      "source": [
        "# batch size 1 for stochastic gradient descent,\n",
        "# batch size = length of dataset for batch gradient descent\n",
        "learning_rate = 0.01\n",
        "epochs = 1000\n",
        "stochastic_training_error = 0\n",
        "stochastic_testing_error = 0\n",
        "batch_training_error = 0\n",
        "batch_testing_error = 0"
      ]
    },
    {
      "cell_type": "code",
      "execution_count": null,
      "metadata": {
        "id": "oCqR2nBxkFDV",
        "outputId": "b6a02e77-ab3a-4225-92f8-78fef737ef10"
      },
      "outputs": [
        {
          "name": "stdout",
          "output_type": "stream",
          "text": [
            "For SGD training error = 0.0699639615424424, testing error = 0.09482826898284706\n",
            "For BGD training error = 0.32041455909569566, testing error = 0.27211581841830484\n"
          ]
        }
      ],
      "source": [
        "# For Sigmoid Activation Function\n",
        "model_stochastic = mlp(x_train, y_train, act_hidden = 1, batch_size=1, epochs=epochs, eta = learning_rate)\n",
        "model_stochastic.batch_gradient_descent()\n",
        "stochastic_training_error = model_stochastic.get_error(x_train, y_train)\n",
        "stochastic_testing_error = model_stochastic.get_error(x_test, y_test)\n",
        "print(f\"For SGD training error = {stochastic_training_error}, testing error = {stochastic_testing_error}\")\n",
        "\n",
        "model_batch = mlp(x_train, y_train, act_hidden = 1, batch_size=len(x_train), epochs=epochs, eta = learning_rate)\n",
        "model_batch.batch_gradient_descent()\n",
        "batch_training_error = model_batch.get_error(x_train, y_train)\n",
        "batch_testing_error = model_batch.get_error(x_test, y_test)\n",
        "print(f\"For BGD training error = {batch_training_error}, testing error = {batch_testing_error}\")"
      ]
    },
    {
      "cell_type": "code",
      "execution_count": null,
      "metadata": {
        "id": "O3S6TCm7kFDW",
        "outputId": "8983f359-34bd-4e8f-cbc3-b7a0fe7cfd3f"
      },
      "outputs": [
        {
          "name": "stdout",
          "output_type": "stream",
          "text": [
            "For SGD training error = 0.18217878110223013, testing error = 0.2214523861829579\n",
            "For BGD training error = 0.2317042407195063, testing error = 0.16832611060423672\n"
          ]
        }
      ],
      "source": [
        "# For tanh activation\n",
        "model_stochastic = mlp(x_train, y_train, act_hidden = 2, batch_size=1, epochs=epochs, eta = learning_rate)\n",
        "model_stochastic.batch_gradient_descent()\n",
        "stochastic_training_error = model_stochastic.get_error(x_train, y_train)\n",
        "stochastic_testing_error = model_stochastic.get_error(x_test, y_test)\n",
        "print(f\"For SGD training error = {stochastic_training_error}, testing error = {stochastic_testing_error}\")\n",
        "\n",
        "model_batch = mlp(x_train, y_train, act_hidden = 2, batch_size=len(x_train), epochs=epochs, eta = learning_rate)\n",
        "model_batch.batch_gradient_descent()\n",
        "batch_training_error = model_batch.get_error(x_train, y_train)\n",
        "batch_testing_error = model_batch.get_error(x_test, y_test)\n",
        "print(f\"For BGD training error = {batch_training_error}, testing error = {batch_testing_error}\")"
      ]
    },
    {
      "cell_type": "markdown",
      "metadata": {
        "id": "w8jn3nllkFDW"
      },
      "source": [
        "### So , we see sigmoid activation gives lesser test error for both SGD and BGD"
      ]
    },
    {
      "cell_type": "markdown",
      "metadata": {
        "id": "j5-piTF4kFDW"
      },
      "source": [
        "- **Now I will keep activation fixed as sigmoid**\n",
        "- And will vary learning rates\n",
        "- For fixed epochs = 1000"
      ]
    },
    {
      "cell_type": "code",
      "execution_count": null,
      "metadata": {
        "id": "tQZaXuaXkFDX"
      },
      "outputs": [],
      "source": [
        "learning_rate_list = [0.1, 0.01, 0.001, 0.0001]\n",
        "epochs = 1000\n",
        "stochastic_training_errors = []\n",
        "stochastic_testing_errors = []\n",
        "batch_training_errors = []\n",
        "batch_testing_errors = []"
      ]
    },
    {
      "cell_type": "code",
      "execution_count": null,
      "metadata": {
        "id": "LPo5AynSkFDX",
        "outputId": "c5b441bb-318f-489c-e414-c13dad1037d9"
      },
      "outputs": [
        {
          "name": "stdout",
          "output_type": "stream",
          "text": [
            "Done for learning rate = 0.1\n",
            "For SGD training error = 0.3333127445655176, testing error = 0.5512200612075748\n",
            "For BGD training error = 0.18767164643316148, testing error = 0.15333264770219696\n",
            "*******************************************************************************************************\n",
            "Done for learning rate = 0.01\n",
            "For SGD training error = 0.0699639615424424, testing error = 0.09482826898284706\n",
            "For BGD training error = 0.32041455909569566, testing error = 0.27211581841830484\n",
            "*******************************************************************************************************\n",
            "Done for learning rate = 0.001\n",
            "For SGD training error = 0.10327308010466717, testing error = 0.08555583538601398\n",
            "For BGD training error = 0.9428506671826017, testing error = 1.2089124876203294\n",
            "*******************************************************************************************************\n",
            "Done for learning rate = 0.0001\n",
            "For SGD training error = 0.2244103486722238, testing error = 0.16717975694972048\n",
            "For BGD training error = 0.94662447370314, testing error = 1.2122339254525654\n",
            "*******************************************************************************************************\n"
          ]
        }
      ],
      "source": [
        "\n",
        "for learning_rate in learning_rate_list:\n",
        "  model_stochastic = mlp(x_train, y_train, act_hidden = 1, batch_size=1, epochs=epochs, eta = learning_rate)\n",
        "  model_stochastic.batch_gradient_descent()\n",
        "  stochastic_training_errors.append(model_stochastic.get_error(x_train, y_train))\n",
        "  stochastic_testing_errors.append(model_stochastic.get_error(x_test, y_test))\n",
        "  \n",
        "  model_batch = mlp(x_train, y_train, act_hidden = 1, batch_size=len(x_train), epochs=epochs, eta = learning_rate)\n",
        "  model_batch.batch_gradient_descent()\n",
        "  batch_training_errors.append(model_batch.get_error(x_train, y_train))\n",
        "  batch_testing_errors.append(model_batch.get_error(x_test, y_test))\n",
        "  print(f\"Done for learning rate = {learning_rate}\")\n",
        "  print(f'For SGD training error = {stochastic_training_errors[-1]}, testing error = {stochastic_testing_errors[-1]}')\n",
        "  print(f'For BGD training error = {batch_training_errors[-1]}, testing error = {batch_testing_errors[-1]}')\n",
        "  print(\"*******************************************************************************************************\")"
      ]
    },
    {
      "cell_type": "markdown",
      "metadata": {
        "id": "Hd_yhbyKkFDY"
      },
      "source": [
        "- From above I can see learning rate of 0.01 is giving least error for SGD (BGD has least for 0.1 learning rate),  I will choose learning rate as 0.01 because of more degradation in testing error for rate = 0.1 for SGD\n",
        "- **Now keeping learning rate fixed as 0.01, activation of hidden layer as sigmoid, I will vary the epochs**"
      ]
    },
    {
      "cell_type": "code",
      "execution_count": null,
      "metadata": {
        "id": "3QNph28EkFDY"
      },
      "outputs": [],
      "source": [
        "epoch_list = [(10**(i+1))*(j+1) for i in range(2) for j in range(9)]\n",
        "epoch_list.append(1000)"
      ]
    },
    {
      "cell_type": "code",
      "execution_count": null,
      "metadata": {
        "id": "hKr6nnWckFDY"
      },
      "outputs": [],
      "source": [
        "learning_rate = 0.01\n",
        "stochastic_training_errors = []\n",
        "batch_training_errors = []\n",
        "stochastic_testing_errors = []\n",
        "batch_testing_errors = []"
      ]
    },
    {
      "cell_type": "code",
      "execution_count": null,
      "metadata": {
        "id": "63xqdp7qkFDY",
        "outputId": "3c459207-8dfc-4905-f3d1-4a8b61b9f600"
      },
      "outputs": [
        {
          "name": "stdout",
          "output_type": "stream",
          "text": [
            "Done for epochs = 10\n",
            "For SGD training error = 0.3151266418435505, testing error = 0.2898467304712106\n",
            "For BGD training error = 0.9465670560347125, testing error = 1.2122384601285048\n",
            "*******************************************************************************************************\n",
            "Done for epochs = 20\n",
            "For SGD training error = 0.22657572019156544, testing error = 0.1919778849843938\n",
            "For BGD training error = 0.9460024122951671, testing error = 1.2123910328636074\n",
            "*******************************************************************************************************\n",
            "Done for epochs = 30\n",
            "For SGD training error = 0.198676364664559, testing error = 0.16758794450220185\n",
            "For BGD training error = 0.9458069033939118, testing error = 1.2124290222377692\n",
            "*******************************************************************************************************\n",
            "Done for epochs = 40\n",
            "For SGD training error = 0.19044167969332484, testing error = 0.16348218779586837\n",
            "For BGD training error = 0.945626435420396, testing error = 1.212307933980771\n",
            "*******************************************************************************************************\n",
            "Done for epochs = 50\n",
            "For SGD training error = 0.18155528268273907, testing error = 0.15674009313433446\n",
            "For BGD training error = 0.9454072391660041, testing error = 1.212079170348394\n",
            "*******************************************************************************************************\n",
            "Done for epochs = 60\n",
            "For SGD training error = 0.17298233607640232, testing error = 0.1532107289844106\n",
            "For BGD training error = 0.9451285316595263, testing error = 1.2117547552123382\n",
            "*******************************************************************************************************\n",
            "Done for epochs = 70\n",
            "For SGD training error = 0.16460580223099722, testing error = 0.15018123108314052\n",
            "For BGD training error = 0.9447694740885909, testing error = 1.211320356652363\n",
            "*******************************************************************************************************\n",
            "Done for epochs = 80\n",
            "For SGD training error = 0.15686464054060287, testing error = 0.14593370773691777\n",
            "For BGD training error = 0.9443040037618547, testing error = 1.2107458242630345\n",
            "*******************************************************************************************************\n",
            "Done for epochs = 90\n",
            "For SGD training error = 0.1492700102845048, testing error = 0.1406582894479648\n",
            "For BGD training error = 0.943698871048618, testing error = 1.2099882730834857\n",
            "*******************************************************************************************************\n",
            "Done for epochs = 100\n",
            "For SGD training error = 0.14351230585684016, testing error = 0.1366159932046912\n",
            "For BGD training error = 0.942912000394894, testing error = 1.2089917424002106\n",
            "*******************************************************************************************************\n",
            "Done for epochs = 200\n",
            "For SGD training error = 0.10629249901087084, testing error = 0.1093876948159676\n",
            "For BGD training error = 0.9101224991051313, testing error = 1.1650127271345134\n",
            "*******************************************************************************************************\n",
            "Done for epochs = 300\n",
            "For SGD training error = 0.09127909391868458, testing error = 0.08687331447619881\n",
            "For BGD training error = 0.8241106472926722, testing error = 1.0392109880070994\n",
            "*******************************************************************************************************\n",
            "Done for epochs = 400\n",
            "For SGD training error = 0.08683689441991808, testing error = 0.0833888905124459\n",
            "For BGD training error = 0.7241839506559908, testing error = 0.88314862346837\n",
            "*******************************************************************************************************\n",
            "Done for epochs = 500\n",
            "For SGD training error = 0.08369451451613664, testing error = 0.08361567950697492\n",
            "For BGD training error = 0.6166781020265706, testing error = 0.720240837052491\n",
            "*******************************************************************************************************\n",
            "Done for epochs = 600\n",
            "For SGD training error = 0.08035273403759285, testing error = 0.08691416785322958\n",
            "For BGD training error = 0.5090574953524207, testing error = 0.5638605860448045\n",
            "*******************************************************************************************************\n",
            "Done for epochs = 700\n",
            "For SGD training error = 0.08062811585170976, testing error = 0.09358341881432627\n",
            "For BGD training error = 0.4253001185162081, testing error = 0.43939226682632454\n",
            "*******************************************************************************************************\n",
            "Done for epochs = 800\n",
            "For SGD training error = 0.07610486326999906, testing error = 0.09791453034643798\n",
            "For BGD training error = 0.3717232684847297, testing error = 0.35649575606090506\n",
            "*******************************************************************************************************\n",
            "Done for epochs = 900\n",
            "For SGD training error = 0.07420883757626294, testing error = 0.09588563989952571\n",
            "For BGD training error = 0.3396628213850859, testing error = 0.3046421851031014\n",
            "*******************************************************************************************************\n",
            "Done for epochs = 1000\n",
            "For SGD training error = 0.0699639615424424, testing error = 0.09482826898284706\n",
            "For BGD training error = 0.32041455909569566, testing error = 0.27211581841830484\n",
            "*******************************************************************************************************\n"
          ]
        }
      ],
      "source": [
        "for epochs in epoch_list:\n",
        "  model_stochastic = mlp(x_train, y_train, act_hidden = 1, batch_size=1, epochs=epochs, eta = learning_rate)\n",
        "  model_stochastic.batch_gradient_descent()\n",
        "  stochastic_training_errors.append(model_stochastic.get_error(x_train, y_train))\n",
        "  stochastic_testing_errors.append(model_stochastic.get_error(x_test, y_test))\n",
        "  \n",
        "  model_batch = mlp(x_train, y_train, act_hidden = 1, batch_size=len(x_train), epochs=epochs, eta = learning_rate)\n",
        "  model_batch.batch_gradient_descent()\n",
        "  batch_training_errors.append(model_batch.get_error(x_train, y_train))\n",
        "  batch_testing_errors.append(model_batch.get_error(x_test, y_test))\n",
        "  print(f\"Done for epochs = {epochs}\")\n",
        "  print(f'For SGD training error = {stochastic_training_errors[-1]}, testing error = {stochastic_testing_errors[-1]}')\n",
        "  print(f'For BGD training error = {batch_training_errors[-1]}, testing error = {batch_testing_errors[-1]}')\n",
        "  print(\"*******************************************************************************************************\")"
      ]
    },
    {
      "cell_type": "code",
      "execution_count": null,
      "metadata": {
        "id": "H5Xxuu_UkFDY",
        "outputId": "fdb013b4-ed5d-4f6f-c84b-f10e49d7bcbb"
      },
      "outputs": [
        {
          "data": {
            "image/png": "[encoded data removed]",
            "text/plain": [
              "<Figure size 432x288 with 1 Axes>"
            ]
          },
          "metadata": {
            "needs_background": "light"
          },
          "output_type": "display_data"
        }
      ],
      "source": [
        "plt.plot(epoch_list, stochastic_training_errors)\n",
        "plt.xlabel(\"Number of Epochs\")\n",
        "plt.ylabel(\"Training MSE Error\")\n",
        "plt.title(\"Training Error vs Epochs for SGD\")\n",
        "plt.show()"
      ]
    },
    {
      "cell_type": "code",
      "execution_count": null,
      "metadata": {
        "id": "3rJlbifikFDZ",
        "outputId": "956035e2-48b2-4cde-f327-c35ada2d52a7"
      },
      "outputs": [
        {
          "data": {
            "image/png": "[encoded data removed]",
            "text/plain": [
              "<Figure size 432x288 with 1 Axes>"
            ]
          },
          "metadata": {
            "needs_background": "light"
          },
          "output_type": "display_data"
        }
      ],
      "source": [
        "plt.plot(epoch_list, batch_training_errors)\n",
        "plt.xlabel(\"Number of Epochs\")\n",
        "plt.ylabel(\"Training MSE Error\")\n",
        "plt.title(\"Training Error vs Epochs for BGD\")\n",
        "plt.show()"
      ]
    },
    {
      "cell_type": "code",
      "execution_count": null,
      "metadata": {
        "id": "GB9s95WPkFDZ",
        "outputId": "3d89dafa-bee9-4783-939a-f53c84dfb9e0"
      },
      "outputs": [
        {
          "name": "stdout",
          "output_type": "stream",
          "text": [
            "[0.2898467304712106, 0.1919778849843938, 0.16758794450220185, 0.16348218779586837, 0.15674009313433446, 0.1532107289844106, 0.15018123108314052, 0.14593370773691777, 0.1406582894479648, 0.1366159932046912, 0.1093876948159676, 0.08687331447619881, 0.0833888905124459, 0.08361567950697492, 0.08691416785322958, 0.09358341881432627, 0.09791453034643798, 0.09588563989952571, 0.09482826898284706]\n",
            "**********************************************************************************************************\n",
            "[1.2122384601285048, 1.2123910328636074, 1.2124290222377692, 1.212307933980771, 1.212079170348394, 1.2117547552123382, 1.211320356652363, 1.2107458242630345, 1.2099882730834857, 1.2089917424002106, 1.1650127271345134, 1.0392109880070994, 0.88314862346837, 0.720240837052491, 0.5638605860448045, 0.43939226682632454, 0.35649575606090506, 0.3046421851031014, 0.27211581841830484]\n"
          ]
        }
      ],
      "source": [
        "print(stochastic_testing_errors)\n",
        "print(\"**********************************************************************************************************\")\n",
        "print(batch_testing_errors)"
      ]
    },
    {
      "cell_type": "markdown",
      "metadata": {
        "id": "5L3WBHY1kFDZ"
      },
      "source": [
        "### Reporting Testing Errors:\n",
        "- We observe from above the mse testing errors for stochastic and batch gradient descents\n",
        "- For Stochastic gradient descent testing error for 1000 epochs is 0.094\n",
        "- for Batch Gradient Descent testing error for 1000 epochs is 0.272\n",
        "- Initially, for less epochs the test error for stochastic was less, probably because there will be more updates in the stochastic gradient descent\n",
        "- But as number of epochs increased the test error for batch gradient descent also decreased, not as much as for stochastic, because batch gradient descent though having less updates\n",
        "- It was observed that if sufficient epochs say 10,000 are used(not shown here as it took time to run) bgd had lesser test error, as they have less variance in the updates hence less affected by outliers\n",
        "- For above point it can be seen in below graph stochastic test error also starts to increase slightly after certain epochs in contrast to batch test error which has lesser variance in updates"
      ]
    },
    {
      "cell_type": "code",
      "execution_count": null,
      "metadata": {
        "id": "lPv-U-jokFDa",
        "outputId": "54fc5ae2-23c9-43a7-ba3d-08cd236c01ca"
      },
      "outputs": [
        {
          "data": {
            "image/png": "[encoded data removed]",
            "text/plain": [
              "<Figure size 432x288 with 1 Axes>"
            ]
          },
          "metadata": {
            "needs_background": "light"
          },
          "output_type": "display_data"
        }
      ],
      "source": [
        "plt.plot(epoch_list, stochastic_testing_errors, label = 'stochastic test', color = 'blue')\n",
        "plt.plot(epoch_list, stochastic_training_errors, label = 'stochastic train', color = 'purple')\n",
        "plt.xlabel(\"Epochs\")\n",
        "plt.ylabel(\"MSE Error\")\n",
        "plt.legend()\n",
        "plt.show()"
      ]
    },
    {
      "cell_type": "code",
      "execution_count": null,
      "metadata": {
        "id": "mgSjVraAkFDa",
        "outputId": "800fcb9c-52d6-4f36-bb99-14929890a8fc"
      },
      "outputs": [
        {
          "data": {
            "image/png": "[encoded data removed]",
            "text/plain": [
              "<Figure size 432x288 with 1 Axes>"
            ]
          },
          "metadata": {
            "needs_background": "light"
          },
          "output_type": "display_data"
        }
      ],
      "source": [
        "plt.plot(epoch_list, batch_testing_errors, label = 'batch test', color = 'red')\n",
        "plt.plot(epoch_list, batch_training_errors, label = 'batch train', color = 'orange')\n",
        "plt.xlabel(\"Epochs\")\n",
        "plt.ylabel(\"MSE Error\")\n",
        "plt.legend()\n",
        "plt.show()"
      ]
    },
    {
      "cell_type": "code",
      "execution_count": null,
      "metadata": {
        "id": "NX93ltdEkFDa",
        "outputId": "a5a5ab75-edfc-49df-fcb4-0df87c007498"
      },
      "outputs": [
        {
          "data": {
            "image/png": "[encoded data removed]",
            "text/plain": [
              "<Figure size 432x288 with 1 Axes>"
            ]
          },
          "metadata": {
            "needs_background": "light"
          },
          "output_type": "display_data"
        }
      ],
      "source": [
        "plt.plot(epoch_list, stochastic_testing_errors, label = 'stochastic test', color = 'blue')\n",
        "plt.plot(epoch_list, batch_testing_errors, label = 'batch test', color = 'red')\n",
        "plt.xlabel(\"Epochs\")\n",
        "plt.ylabel(\"MSE Error\")\n",
        "plt.legend()\n",
        "plt.show()"
      ]
    },
    {
      "cell_type": "markdown",
      "metadata": {
        "id": "KtVIjYDS1WHv"
      },
      "source": [
        "### 1.6) Training MLP with different learning rates with best model\n",
        "- From above test error plot I observe best model for less than 1000 epochs is:\n",
        "    - Stochastic\n",
        "    - Epochs = 400\n",
        "    - Hidden Layer Activation : sigmoid    "
      ]
    },
    {
      "cell_type": "code",
      "execution_count": null,
      "metadata": {
        "id": "8Ov7QA1xkFDb"
      },
      "outputs": [],
      "source": [
        "learning_rates = [0.5, 0.1, 0.01, 0.001, 0.0001]"
      ]
    },
    {
      "cell_type": "code",
      "execution_count": null,
      "metadata": {
        "id": "g1H0N3DkkFDb"
      },
      "outputs": [],
      "source": [
        "train_error_list = []\n",
        "test_error_list = []"
      ]
    },
    {
      "cell_type": "code",
      "execution_count": null,
      "metadata": {
        "id": "VfwJl2hpkFDb",
        "outputId": "ed237dbf-cd54-4138-91c4-88a67078705d"
      },
      "outputs": [
        {
          "name": "stdout",
          "output_type": "stream",
          "text": [
            "done for learning rate = 0.5\n",
            "train_error = 1.343140417513896, test_error = 1.6438539078091405\n",
            "done for learning rate = 0.1\n",
            "train_error = 0.5617428617389141, test_error = 0.5387448615388033\n",
            "done for learning rate = 0.01\n",
            "train_error = 0.08683689441991808, test_error = 0.0833888905124459\n",
            "done for learning rate = 0.001\n",
            "train_error = 0.14765798855414275, test_error = 0.10849973353096738\n",
            "done for learning rate = 0.0001\n",
            "train_error = 0.28287050353277665, test_error = 0.21551109708550534\n"
          ]
        }
      ],
      "source": [
        "for rate in learning_rates:\n",
        "  model = mlp(x_train, y_train, act_hidden=1, batch_size=1, epochs = 400, eta=rate)\n",
        "  model.batch_gradient_descent()\n",
        "  train_error_list.append(model.get_error(x_train, y_train))\n",
        "  test_error_list.append(model.get_error(x_test, y_test))\n",
        "  print(f'done for learning rate = {rate}')\n",
        "  print(f'train_error = {train_error_list[-1]}, test_error = {test_error_list[-1]}')"
      ]
    },
    {
      "cell_type": "code",
      "execution_count": null,
      "metadata": {
        "id": "Yctl6yf1kFDb"
      },
      "outputs": [],
      "source": [
        "train_error_list_batch = []\n",
        "test_error_list_batch = []"
      ]
    },
    {
      "cell_type": "code",
      "execution_count": null,
      "metadata": {
        "id": "AJ3aa4LGkFDc",
        "outputId": "1caf9726-7d08-4be1-b1be-9d8674a60ad3"
      },
      "outputs": [
        {
          "name": "stdout",
          "output_type": "stream",
          "text": [
            "done for learning rate = 0.5\n",
            "train_error = 0.4970226238710586, test_error = 0.4188842691522346\n",
            "done for learning rate = 0.1\n",
            "train_error = 0.2501883150935577, test_error = 0.21070014027354028\n",
            "done for learning rate = 0.01\n",
            "train_error = 0.7241839506559908, test_error = 0.88314862346837\n",
            "done for learning rate = 0.001\n",
            "train_error = 0.9456221163505102, test_error = 1.212292952682727\n",
            "done for learning rate = 0.0001\n",
            "train_error = 0.9480173224387772, test_error = 1.2126589069381801\n"
          ]
        }
      ],
      "source": [
        "for rate in learning_rates:\n",
        "  model = mlp(x_train, y_train, act_hidden=1, batch_size=len(x_train), epochs = 400, eta=rate)\n",
        "  model.batch_gradient_descent()\n",
        "  train_error_list_batch.append(model.get_error(x_train, y_train))\n",
        "  test_error_list_batch.append(model.get_error(x_test, y_test))\n",
        "  print(f'done for learning rate = {rate}')\n",
        "  print(f'train_error = {train_error_list_batch[-1]}, test_error = {test_error_list_batch[-1]}')"
      ]
    },
    {
      "cell_type": "markdown",
      "metadata": {
        "id": "aqRy7OfF1Xpb"
      },
      "source": [
        "### 1.7)  Error vs Learning Rate"
      ]
    },
    {
      "cell_type": "code",
      "execution_count": null,
      "metadata": {
        "id": "c0i4kPnHkFDc",
        "outputId": "b011814b-bd84-4428-8068-317bdb97b40e"
      },
      "outputs": [
        {
          "data": {
            "image/png": "[encoded data removed]",
            "text/plain": [
              "<Figure size 432x288 with 1 Axes>"
            ]
          },
          "metadata": {
            "needs_background": "light"
          },
          "output_type": "display_data"
        }
      ],
      "source": [
        "plt.plot(learning_rates, train_error_list, label = 'stochastic training', color = 'blue')\n",
        "plt.plot(learning_rates, test_error_list, label = 'stochastic testing', color = 'purple')\n",
        "plt.plot(learning_rates, train_error_list_batch, label = 'batch training', color = 'red')\n",
        "plt.plot(learning_rates, test_error_list_batch, label = 'batch testing', color = 'orange')\n",
        "plt.xlabel('learning rate')\n",
        "plt.ylabel('mse')\n",
        "plt.legend()\n",
        "plt.show()"
      ]
    },
    {
      "cell_type": "markdown",
      "metadata": {
        "id": "3EeZ4z65kFDc"
      },
      "source": [
        "## It can be seen from above for 400 epochs, for SGD rate = 0.01 is good probably because  already it has many updates, whereas for BGD a higher learning rate would help cancel the affect of lesser updates in comparison to SGD, so learning rate of 0.1 is better for BGD"
      ]
    },
    {
      "cell_type": "markdown",
      "metadata": {
        "id": "J26PmufvkFDd"
      },
      "source": [
        "### Error vs Epochs for each learning rate:"
      ]
    },
    {
      "cell_type": "code",
      "execution_count": null,
      "metadata": {
        "id": "hmm5eqyHkFDd"
      },
      "outputs": [],
      "source": [
        "epochs_list = [10,20,30,40,50,60,70,80,90,100,200,300,400,500] # for simplicity testing on lesser epochs as already done before too"
      ]
    },
    {
      "cell_type": "code",
      "execution_count": null,
      "metadata": {
        "id": "N5ZsfwqQkFDd"
      },
      "outputs": [],
      "source": [
        "training_errors_1 = []"
      ]
    },
    {
      "cell_type": "code",
      "execution_count": null,
      "metadata": {
        "id": "rMi6zzm7kFDd",
        "outputId": "76d6c8e1-d1ed-4f93-837d-ee8ee29a75fb"
      },
      "outputs": [
        {
          "name": "stdout",
          "output_type": "stream",
          "text": [
            "done for epoch = 10\n",
            "***********************************************************************\n",
            "done for epoch = 20\n",
            "***********************************************************************\n",
            "done for epoch = 30\n",
            "***********************************************************************\n",
            "done for epoch = 40\n",
            "***********************************************************************\n",
            "done for epoch = 50\n",
            "***********************************************************************\n",
            "done for epoch = 60\n",
            "***********************************************************************\n",
            "done for epoch = 70\n",
            "***********************************************************************\n",
            "done for epoch = 80\n",
            "***********************************************************************\n",
            "done for epoch = 90\n",
            "***********************************************************************\n",
            "done for epoch = 100\n",
            "***********************************************************************\n",
            "done for epoch = 200\n",
            "***********************************************************************\n",
            "done for epoch = 300\n",
            "***********************************************************************\n",
            "done for epoch = 400\n",
            "***********************************************************************\n",
            "done for epoch = 500\n",
            "***********************************************************************\n"
          ]
        }
      ],
      "source": [
        "for epoch in epochs_list:\n",
        "  model1 = mlp(x_train, y_train, act_hidden=1, batch_size = 1,epochs= epoch, eta = 0.5)\n",
        "  model1.batch_gradient_descent()\n",
        "  training_errors_1.append(model1.get_error(x_train, y_train))\n",
        "  print(f'done for epoch = {epoch}')\n",
        "  print('***********************************************************************')"
      ]
    },
    {
      "cell_type": "code",
      "execution_count": null,
      "metadata": {
        "id": "l1trihCVkFDd",
        "outputId": "e214b37a-7269-4230-d184-e69391038fa5"
      },
      "outputs": [
        {
          "data": {
            "image/png": "[encoded data removed]",
            "text/plain": [
              "<Figure size 432x288 with 1 Axes>"
            ]
          },
          "metadata": {
            "needs_background": "light"
          },
          "output_type": "display_data"
        }
      ],
      "source": [
        "plt.plot(epochs_list, training_errors_1)\n",
        "plt.xlabel('epochs')\n",
        "plt.ylabel('mse training')\n",
        "plt.show()"
      ]
    },
    {
      "cell_type": "code",
      "execution_count": null,
      "metadata": {
        "id": "qxqCpDcKkFDf",
        "outputId": "b9a8da5a-74e6-40e5-ee47-177e776fcee2"
      },
      "outputs": [
        {
          "name": "stdout",
          "output_type": "stream",
          "text": [
            "done for epoch = 10\n",
            "***********************************************************************\n",
            "done for epoch = 20\n",
            "***********************************************************************\n",
            "done for epoch = 30\n",
            "***********************************************************************\n",
            "done for epoch = 40\n",
            "***********************************************************************\n",
            "done for epoch = 50\n",
            "***********************************************************************\n",
            "done for epoch = 60\n",
            "***********************************************************************\n",
            "done for epoch = 70\n",
            "***********************************************************************\n",
            "done for epoch = 80\n",
            "***********************************************************************\n",
            "done for epoch = 90\n",
            "***********************************************************************\n",
            "done for epoch = 100\n",
            "***********************************************************************\n",
            "done for epoch = 200\n",
            "***********************************************************************\n",
            "done for epoch = 300\n",
            "***********************************************************************\n",
            "done for epoch = 400\n",
            "***********************************************************************\n",
            "done for epoch = 500\n",
            "***********************************************************************\n"
          ]
        },
        {
          "data": {
            "image/png": "[encoded data removed]",
            "text/plain": [
              "<Figure size 432x288 with 1 Axes>"
            ]
          },
          "metadata": {
            "needs_background": "light"
          },
          "output_type": "display_data"
        }
      ],
      "source": [
        "training_errors_1 = []\n",
        "for epoch in epochs_list:\n",
        "  model1 = mlp(x_train, y_train, act_hidden=1, batch_size = 1,epochs= epoch, eta = 0.1)\n",
        "  model1.batch_gradient_descent()\n",
        "  training_errors_1.append(model1.get_error(x_train, y_train))\n",
        "  print(f'done for epoch = {epoch}')\n",
        "  print('***********************************************************************')\n",
        "plt.plot(epochs_list, training_errors_1)\n",
        "plt.xlabel('epochs')\n",
        "plt.ylabel('mse training')\n",
        "plt.show()  "
      ]
    },
    {
      "cell_type": "code",
      "execution_count": null,
      "metadata": {
        "id": "hu1u_wtSkFDf",
        "outputId": "cea608d2-46b1-4063-b4d0-c9267378ecb8"
      },
      "outputs": [
        {
          "name": "stdout",
          "output_type": "stream",
          "text": [
            "done for epoch = 10\n",
            "***********************************************************************\n",
            "done for epoch = 20\n",
            "***********************************************************************\n",
            "done for epoch = 30\n",
            "***********************************************************************\n",
            "done for epoch = 40\n",
            "***********************************************************************\n",
            "done for epoch = 50\n",
            "***********************************************************************\n",
            "done for epoch = 60\n",
            "***********************************************************************\n",
            "done for epoch = 70\n",
            "***********************************************************************\n",
            "done for epoch = 80\n",
            "***********************************************************************\n",
            "done for epoch = 90\n",
            "***********************************************************************\n",
            "done for epoch = 100\n",
            "***********************************************************************\n",
            "done for epoch = 200\n",
            "***********************************************************************\n",
            "done for epoch = 300\n",
            "***********************************************************************\n",
            "done for epoch = 400\n",
            "***********************************************************************\n",
            "done for epoch = 500\n",
            "***********************************************************************\n"
          ]
        },
        {
          "data": {
            "image/png": "[encoded data removed]",
            "text/plain": [
              "<Figure size 432x288 with 1 Axes>"
            ]
          },
          "metadata": {
            "needs_background": "light"
          },
          "output_type": "display_data"
        }
      ],
      "source": [
        "training_errors_1 = []\n",
        "for epoch in epochs_list:\n",
        "  model1 = mlp(x_train, y_train, act_hidden=1, batch_size = 1,epochs= epoch, eta = 0.01)\n",
        "  model1.batch_gradient_descent()\n",
        "  training_errors_1.append(model1.get_error(x_train, y_train))\n",
        "  print(f'done for epoch = {epoch}')\n",
        "  print('***********************************************************************')\n",
        "plt.plot(epochs_list, training_errors_1)\n",
        "plt.xlabel('epochs')\n",
        "plt.ylabel('mse training')\n",
        "plt.show()  "
      ]
    },
    {
      "cell_type": "code",
      "execution_count": null,
      "metadata": {
        "id": "cVqOLzv4kFDg",
        "outputId": "d817b505-9e32-4f93-b399-e91b476a67ca"
      },
      "outputs": [
        {
          "name": "stdout",
          "output_type": "stream",
          "text": [
            "done for epoch = 10\n",
            "***********************************************************************\n",
            "done for epoch = 20\n",
            "***********************************************************************\n",
            "done for epoch = 30\n",
            "***********************************************************************\n",
            "done for epoch = 40\n",
            "***********************************************************************\n",
            "done for epoch = 50\n",
            "***********************************************************************\n",
            "done for epoch = 60\n",
            "***********************************************************************\n",
            "done for epoch = 70\n",
            "***********************************************************************\n",
            "done for epoch = 80\n",
            "***********************************************************************\n",
            "done for epoch = 90\n",
            "***********************************************************************\n",
            "done for epoch = 100\n",
            "***********************************************************************\n",
            "done for epoch = 200\n",
            "***********************************************************************\n",
            "done for epoch = 300\n",
            "***********************************************************************\n",
            "done for epoch = 400\n",
            "***********************************************************************\n",
            "done for epoch = 500\n",
            "***********************************************************************\n"
          ]
        },
        {
          "data": {
            "image/png": "[encoded data removed]",
            "text/plain": [
              "<Figure size 432x288 with 1 Axes>"
            ]
          },
          "metadata": {
            "needs_background": "light"
          },
          "output_type": "display_data"
        }
      ],
      "source": [
        "training_errors_1 = []\n",
        "for epoch in epochs_list:\n",
        "  model1 = mlp(x_train, y_train, act_hidden=1, batch_size = 1,epochs= epoch, eta = 0.001)\n",
        "  model1.batch_gradient_descent()\n",
        "  training_errors_1.append(model1.get_error(x_train, y_train))\n",
        "  print(f'done for epoch = {epoch}')\n",
        "  print('***********************************************************************')\n",
        "plt.plot(epochs_list, training_errors_1)\n",
        "plt.xlabel('epochs')\n",
        "plt.ylabel('mse training')\n",
        "plt.show()  "
      ]
    },
    {
      "cell_type": "code",
      "execution_count": null,
      "metadata": {
        "id": "P4CJYt_BkFDh",
        "outputId": "b24a9ff6-468c-4110-f3c5-6c8d27858fef"
      },
      "outputs": [
        {
          "name": "stdout",
          "output_type": "stream",
          "text": [
            "done for epoch = 10\n",
            "***********************************************************************\n",
            "done for epoch = 20\n",
            "***********************************************************************\n",
            "done for epoch = 30\n",
            "***********************************************************************\n",
            "done for epoch = 40\n",
            "***********************************************************************\n",
            "done for epoch = 50\n",
            "***********************************************************************\n",
            "done for epoch = 60\n",
            "***********************************************************************\n",
            "done for epoch = 70\n",
            "***********************************************************************\n",
            "done for epoch = 80\n",
            "***********************************************************************\n",
            "done for epoch = 90\n",
            "***********************************************************************\n",
            "done for epoch = 100\n",
            "***********************************************************************\n",
            "done for epoch = 200\n",
            "***********************************************************************\n",
            "done for epoch = 300\n",
            "***********************************************************************\n",
            "done for epoch = 400\n",
            "***********************************************************************\n",
            "done for epoch = 500\n",
            "***********************************************************************\n"
          ]
        },
        {
          "data": {
            "image/png": "[encoded data removed]",
            "text/plain": [
              "<Figure size 432x288 with 1 Axes>"
            ]
          },
          "metadata": {
            "needs_background": "light"
          },
          "output_type": "display_data"
        }
      ],
      "source": [
        "training_errors_1 = []\n",
        "for epoch in epochs_list:\n",
        "  model1 = mlp(x_train, y_train, act_hidden=1, batch_size = 1,epochs= epoch, eta = 0.0001)\n",
        "  model1.batch_gradient_descent()\n",
        "  training_errors_1.append(model1.get_error(x_train, y_train))\n",
        "  print(f'done for epoch = {epoch}')\n",
        "  print('***********************************************************************')\n",
        "plt.plot(epochs_list, training_errors_1)\n",
        "plt.xlabel('epochs')\n",
        "plt.ylabel('mse training')\n",
        "plt.show()  "
      ]
    },
    {
      "cell_type": "markdown",
      "metadata": {
        "id": "kW85Ns3gR1r8"
      },
      "source": [
        "\n",
        "---\n",
        "\n",
        "\n",
        "\n",
        "Section 2:  **(Total points = 50)**\n",
        "\n",
        "---\n",
        "Q2. In this question, we will learn to perform multi-class classification on Fashion-MNIST using a convolutional neural network. \n",
        "\n",
        "\n",
        "1. Explore the Dataset. Display one randomly selected image from each fashion class. **(5 points)**\n",
        "\n",
        "2. Plot the distribution of number of images in each fashion class. Is the distribution uniform? Comment. **(5 points)**\n",
        "\n",
        "3. Implememnt the 2D convolution function using a kernel size of 3x3. Use the [sobel kernel](https://en.wikipedia.org/wiki/Sobel_operator) and display the feature map for one example from each fashion class. For using sobel kernel, you need to calculate two convolutions, one for x-direction (x) and one for y-direction (y), the feature map then can be calculated as $F_m = \\sqrt(x^2 + y^2)$**(10 points)**\n",
        "\n",
        "4. Using the Keras library, implement a CNN model for classification. Use the following network architecture:  **(5 points)**\n",
        "*  Input layer\n",
        "*  Con2D with 32 3x3 kernals and ReLU activation\n",
        "*  Max Pooling layer with pool-size 2x2\n",
        "*  Con2D with 64 3x3 kernals and ReLU ReLU activation\n",
        "*  Max Pooling layer with size 2x2\n",
        "*  Dropout\n",
        "*  Fully Connected Layer with softmax activation\n",
        "\n",
        "5. Implement a custom cross-entropy loss (error function) for the multi-class classification. Use it for traning the model. **(5 points)**\n",
        "\n",
        "6. Compile and train your model with four different optimizers viz. SGD\n",
        "RMSprop, Adam, Adagrad. Plot the training loss for all four optimizers. Comment on your observations. **(10 points)**\n",
        "\n",
        "7. Choose different hyperparameters for Conv Layers, change number of Conv layer and drop-out rate and train your model. Plot training and test accuracies and losses wrt epochs for different hyper-parameters. Do you find any improvement in classification performance. Report your analysis. **(10 points)**\n"
      ]
    },
    {
      "cell_type": "code",
      "execution_count": 1,
      "metadata": {
        "id": "g4FSt6yWWDyK"
      },
      "outputs": [],
      "source": [
        "# import Fashion MNIST dataset\n",
        "import keras\n",
        "import pandas as pd\n",
        "import numpy as np\n",
        "import matplotlib.pyplot as plt\n",
        "import seaborn as sns\n",
        "from keras.datasets import fashion_mnist"
      ]
    },
    {
      "cell_type": "code",
      "execution_count": 2,
      "metadata": {
        "id": "DqJkhAxZbCYZ",
        "colab": {
          "base_uri": "https://localhost:8080/"
        },
        "outputId": "777a1f3d-7374-4e85-cf5d-b30ec326ebb1"
      },
      "outputs": [
        {
          "output_type": "stream",
          "name": "stdout",
          "text": [
            "Downloading data from https://storage.googleapis.com/tensorflow/tf-keras-datasets/train-labels-idx1-ubyte.gz\n",
            "32768/29515 [=================================] - 0s 0us/step\n",
            "40960/29515 [=========================================] - 0s 0us/step\n",
            "Downloading data from https://storage.googleapis.com/tensorflow/tf-keras-datasets/train-images-idx3-ubyte.gz\n",
            "26427392/26421880 [==============================] - 0s 0us/step\n",
            "26435584/26421880 [==============================] - 0s 0us/step\n",
            "Downloading data from https://storage.googleapis.com/tensorflow/tf-keras-datasets/t10k-labels-idx1-ubyte.gz\n",
            "16384/5148 [===============================================================================================] - 0s 0us/step\n",
            "Downloading data from https://storage.googleapis.com/tensorflow/tf-keras-datasets/t10k-images-idx3-ubyte.gz\n",
            "4423680/4422102 [==============================] - 0s 0us/step\n",
            "4431872/4422102 [==============================] - 0s 0us/step\n"
          ]
        }
      ],
      "source": [
        "fashion_data = fashion_mnist.load_data() #load dataset"
      ]
    },
    {
      "cell_type": "markdown",
      "metadata": {
        "id": "kC_L72B-RT9Q"
      },
      "source": [
        "### 2.1) Dataset Exploration"
      ]
    },
    {
      "cell_type": "code",
      "execution_count": 3,
      "metadata": {
        "id": "-5PKXCjPkFDj"
      },
      "outputs": [],
      "source": [
        "# From Fashion Mnist documentation on keras website, I get dataset is of below format:\n",
        "(x_train, y_train), (x_test, y_test) = fashion_data"
      ]
    },
    {
      "cell_type": "code",
      "execution_count": 4,
      "metadata": {
        "colab": {
          "base_uri": "https://localhost:8080/"
        },
        "id": "jzh-cXhSkFDj",
        "outputId": "40e6b614-530d-46e9-9962-279328e35b30"
      },
      "outputs": [
        {
          "output_type": "stream",
          "name": "stdout",
          "text": [
            "\n",
            "The training data has 60000 points\n",
            "and \n",
            "the testing data has 10000 points\n"
          ]
        }
      ],
      "source": [
        "print(f'''\n",
        "The training data has {len(x_train)} points\n",
        "and \n",
        "the testing data has {len(x_test)} points''')"
      ]
    },
    {
      "cell_type": "code",
      "execution_count": 5,
      "metadata": {
        "id": "yZecQLJJkFDj"
      },
      "outputs": [],
      "source": [
        "# From the tensorflow keras website I get this information regarding classes\n",
        "class_dict = {0:\"T-shirt/top\", \n",
        "              1:\"Trouser\",\n",
        "              2:\"Pullover\",\n",
        "              3:\"Dress\",\n",
        "              4:\"Coat\",\n",
        "              5:\"Sandal\",\n",
        "              6:\"Shirt\",\n",
        "              7:\"Sneaker\",\n",
        "              8:\"Bag\",\n",
        "              9:\"Ankle boot\"\n",
        "             }"
      ]
    },
    {
      "cell_type": "code",
      "execution_count": 6,
      "metadata": {
        "colab": {
          "base_uri": "https://localhost:8080/",
          "height": 1000
        },
        "id": "zIkC_yJ1kFDj",
        "outputId": "b672a40f-e858-4f63-87d0-65536e862eb5"
      },
      "outputs": [
        {
          "output_type": "stream",
          "name": "stdout",
          "text": [
            "Image of T-shirt/top: \n"
          ]
        },
        {
          "output_type": "display_data",
          "data": {
            "text/plain": [
              "<Figure size 432x288 with 1 Axes>"
            ],
            "image/png": "[encoded data removed]"
          },
          "metadata": {
            "needs_background": "light"
          }
        },
        {
          "output_type": "stream",
          "name": "stdout",
          "text": [
            "*************************************************************\n",
            "Image of Trouser: \n"
          ]
        },
        {
          "output_type": "display_data",
          "data": {
            "text/plain": [
              "<Figure size 432x288 with 1 Axes>"
            ],
            "image/png": "[encoded data removed]"
          },
          "metadata": {
            "needs_background": "light"
          }
        },
        {
          "output_type": "stream",
          "name": "stdout",
          "text": [
            "*************************************************************\n",
            "Image of Pullover: \n"
          ]
        },
        {
          "output_type": "display_data",
          "data": {
            "text/plain": [
              "<Figure size 432x288 with 1 Axes>"
            ],
            "image/png": "[encoded data removed]"
          },
          "metadata": {
            "needs_background": "light"
          }
        },
        {
          "output_type": "stream",
          "name": "stdout",
          "text": [
            "*************************************************************\n",
            "Image of Dress: \n"
          ]
        },
        {
          "output_type": "display_data",
          "data": {
            "text/plain": [
              "<Figure size 432x288 with 1 Axes>"
            ],
            "image/png": "[encoded data removed]"
          },
          "metadata": {
            "needs_background": "light"
          }
        },
        {
          "output_type": "stream",
          "name": "stdout",
          "text": [
            "*************************************************************\n",
            "Image of Coat: \n"
          ]
        },
        {
          "output_type": "display_data",
          "data": {
            "text/plain": [
              "<Figure size 432x288 with 1 Axes>"
            ],
            "image/png": "[encoded data removed]"
          },
          "metadata": {
            "needs_background": "light"
          }
        },
        {
          "output_type": "stream",
          "name": "stdout",
          "text": [
            "*************************************************************\n",
            "Image of Sandal: \n"
          ]
        },
        {
          "output_type": "display_data",
          "data": {
            "text/plain": [
              "<Figure size 432x288 with 1 Axes>"
            ],
            "image/png": "[encoded data removed]"
          },
          "metadata": {
            "needs_background": "light"
          }
        },
        {
          "output_type": "stream",
          "name": "stdout",
          "text": [
            "*************************************************************\n",
            "Image of Shirt: \n"
          ]
        },
        {
          "output_type": "display_data",
          "data": {
            "text/plain": [
              "<Figure size 432x288 with 1 Axes>"
            ],
            "image/png": "[encoded data removed]"
          },
          "metadata": {
            "needs_background": "light"
          }
        },
        {
          "output_type": "stream",
          "name": "stdout",
          "text": [
            "*************************************************************\n",
            "Image of Sneaker: \n"
          ]
        },
        {
          "output_type": "display_data",
          "data": {
            "text/plain": [
              "<Figure size 432x288 with 1 Axes>"
            ],
            "image/png": "[encoded data removed]"
          },
          "metadata": {
            "needs_background": "light"
          }
        },
        {
          "output_type": "stream",
          "name": "stdout",
          "text": [
            "*************************************************************\n",
            "Image of Bag: \n"
          ]
        },
        {
          "output_type": "display_data",
          "data": {
            "text/plain": [
              "<Figure size 432x288 with 1 Axes>"
            ],
            "image/png": "[encoded data removed]"
          },
          "metadata": {
            "needs_background": "light"
          }
        },
        {
          "output_type": "stream",
          "name": "stdout",
          "text": [
            "*************************************************************\n",
            "Image of Ankle boot: \n"
          ]
        },
        {
          "output_type": "display_data",
          "data": {
            "text/plain": [
              "<Figure size 432x288 with 1 Axes>"
            ],
            "image/png": "[encoded data removed]"
          },
          "metadata": {
            "needs_background": "light"
          }
        },
        {
          "output_type": "stream",
          "name": "stdout",
          "text": [
            "*************************************************************\n"
          ]
        }
      ],
      "source": [
        "# Displaying an image from each class\n",
        "np.random.seed(0)\n",
        "item_index = []\n",
        "for key, value in class_dict.items():\n",
        "  ind = np.random.randint(0, 60000)\n",
        "  while(y_train[ind]!=key):\n",
        "    ind = np.random.randint(0, 60000)\n",
        "  print(f'Image of {value}: ')\n",
        "  image = x_train[ind]\n",
        "  item_index.append(ind)\n",
        "  plt.imshow(image, cmap = plt.cm.binary)\n",
        "  plt.show()\n",
        "  print(\"*************************************************************\")"
      ]
    },
    {
      "cell_type": "markdown",
      "metadata": {
        "id": "911pr3WQkFDj"
      },
      "source": [
        "### 2.2) Plotting Distribution of Different Classes"
      ]
    },
    {
      "cell_type": "code",
      "execution_count": 7,
      "metadata": {
        "colab": {
          "base_uri": "https://localhost:8080/"
        },
        "id": "H0HifT0lkFDk",
        "outputId": "9e35ec41-f927-4235-d95b-2f3e7662c47f"
      },
      "outputs": [
        {
          "output_type": "execute_result",
          "data": {
            "text/plain": [
              "9    6000\n",
              "0    6000\n",
              "3    6000\n",
              "2    6000\n",
              "7    6000\n",
              "5    6000\n",
              "1    6000\n",
              "6    6000\n",
              "4    6000\n",
              "8    6000\n",
              "dtype: int64"
            ]
          },
          "metadata": {},
          "execution_count": 7
        }
      ],
      "source": [
        "frequency = pd.Series(y_train).value_counts()\n",
        "frequency"
      ]
    },
    {
      "cell_type": "code",
      "execution_count": 8,
      "metadata": {
        "colab": {
          "base_uri": "https://localhost:8080/",
          "height": 295
        },
        "id": "ztHi_bmrkFDk",
        "outputId": "59a794fb-85c7-4acb-c78a-ff57fd819b67"
      },
      "outputs": [
        {
          "output_type": "display_data",
          "data": {
            "text/plain": [
              "<Figure size 432x288 with 1 Axes>"
            ],
            "image/png": "[encoded data removed]"
          },
          "metadata": {
            "needs_background": "light"
          }
        }
      ],
      "source": [
        "sns.barplot(x = list(frequency.index), y = frequency.values)\n",
        "plt.xlabel(\"Class Label\")\n",
        "plt.ylabel(\"Frequency of Class\")\n",
        "plt.title(\"Bar Plot showing frequency of Different Classes in the dataset\")\n",
        "plt.show()"
      ]
    },
    {
      "cell_type": "markdown",
      "metadata": {
        "id": "cUCMHTkUkFDk"
      },
      "source": [
        "### 2.3) Sobel Kernel Implementation"
      ]
    },
    {
      "cell_type": "code",
      "execution_count": 9,
      "metadata": {
        "id": "UrCdKNE9kFDk"
      },
      "outputs": [],
      "source": [
        "# Declaring Sobel kernels for each dimension\n",
        "k_x = np.array([\n",
        "  [-1, 0, 1],\n",
        "  [-2, 0, 2],\n",
        "  [-1, 0, 1]\n",
        "])\n",
        "k_y = np.array([\n",
        "  [1, 2, 1],\n",
        "  [0, 0, 0],\n",
        "  [-1, -2, -1]\n",
        "])"
      ]
    },
    {
      "cell_type": "code",
      "execution_count": 10,
      "metadata": {
        "id": "tp0s_XxAkFDk"
      },
      "outputs": [],
      "source": [
        "# The function that convolves the sobel kernel with the input images\n",
        "# The input images are padded with zeros to ensure output images have same size\n",
        "def convolve(img):\n",
        "  m, n = img.shape\n",
        "  padded_img = np.zeros((m + 2, n + 2))\n",
        "  padded_img[1:29, 1:29] = img\n",
        "  g_x = np.zeros((m, n))\n",
        "  g_y = np.zeros((m, n))\n",
        "  g_net = np.zeros((m, n))\n",
        "  for i in range(28):\n",
        "    for j in range(28):\n",
        "      g_x[i, j] = np.sum(k_x * padded_img[i:i+3, j:j+3])\n",
        "      g_y[i, j] = np.sum(k_y * padded_img[i:i+3, j:j+3])\n",
        "      g_net[i, j] = np.sqrt(g_x[i, j]**2 + g_y[i, j]**2)    \n",
        "  return (g_net)"
      ]
    },
    {
      "cell_type": "code",
      "execution_count": 11,
      "metadata": {
        "id": "VgUo3nIikFDl"
      },
      "outputs": [],
      "source": [
        "def display_img(img, label = -1):\n",
        "  if label != -1:\n",
        "    print(f\"Image of {class_dict[label]}\")  \n",
        "  plt.imshow(img, cmap = plt.cm.binary)"
      ]
    },
    {
      "cell_type": "code",
      "execution_count": 12,
      "metadata": {
        "id": "5yHlEayMkFDl"
      },
      "outputs": [],
      "source": [
        "def display_with_filtered(img, label):\n",
        "  print(f'Image of {class_dict[label]}')\n",
        "  plt.subplot(1, 2, 1)\n",
        "  plt.imshow(img, cmap = plt.cm.binary)\n",
        "  plt.subplot(1, 2, 2)\n",
        "  plt.imshow(convolve(img), cmap = plt.cm.binary)\n",
        "  plt.show()"
      ]
    },
    {
      "cell_type": "code",
      "execution_count": 13,
      "metadata": {
        "colab": {
          "base_uri": "https://localhost:8080/",
          "height": 1000
        },
        "id": "Y6iYqOWxkFDl",
        "outputId": "a1225e96-2bf3-4d0e-bb6f-20b278177911"
      },
      "outputs": [
        {
          "output_type": "stream",
          "name": "stdout",
          "text": [
            "Image of T-shirt/top\n"
          ]
        },
        {
          "output_type": "display_data",
          "data": {
            "text/plain": [
              "<Figure size 432x288 with 2 Axes>"
            ],
            "image/png": "[encoded data removed]"
          },
          "metadata": {
            "needs_background": "light"
          }
        },
        {
          "output_type": "stream",
          "name": "stdout",
          "text": [
            "Image of Trouser\n"
          ]
        },
        {
          "output_type": "display_data",
          "data": {
            "text/plain": [
              "<Figure size 432x288 with 2 Axes>"
            ],
            "image/png": "[encoded data removed]"
          },
          "metadata": {
            "needs_background": "light"
          }
        },
        {
          "output_type": "stream",
          "name": "stdout",
          "text": [
            "Image of Pullover\n"
          ]
        },
        {
          "output_type": "display_data",
          "data": {
            "text/plain": [
              "<Figure size 432x288 with 2 Axes>"
            ],
            "image/png": "[encoded data removed]"
          },
          "metadata": {
            "needs_background": "light"
          }
        },
        {
          "output_type": "stream",
          "name": "stdout",
          "text": [
            "Image of Dress\n"
          ]
        },
        {
          "output_type": "display_data",
          "data": {
            "text/plain": [
              "<Figure size 432x288 with 2 Axes>"
            ],
            "image/png": "[encoded data removed]"
          },
          "metadata": {
            "needs_background": "light"
          }
        },
        {
          "output_type": "stream",
          "name": "stdout",
          "text": [
            "Image of Coat\n"
          ]
        },
        {
          "output_type": "display_data",
          "data": {
            "text/plain": [
              "<Figure size 432x288 with 2 Axes>"
            ],
            "image/png": "[encoded data removed]"
          },
          "metadata": {
            "needs_background": "light"
          }
        },
        {
          "output_type": "stream",
          "name": "stdout",
          "text": [
            "Image of Sandal\n"
          ]
        },
        {
          "output_type": "display_data",
          "data": {
            "text/plain": [
              "<Figure size 432x288 with 2 Axes>"
            ],
            "image/png": "[encoded data removed]"
          },
          "metadata": {
            "needs_background": "light"
          }
        },
        {
          "output_type": "stream",
          "name": "stdout",
          "text": [
            "Image of Shirt\n"
          ]
        },
        {
          "output_type": "display_data",
          "data": {
            "text/plain": [
              "<Figure size 432x288 with 2 Axes>"
            ],
            "image/png": "[encoded data removed]"
          },
          "metadata": {
            "needs_background": "light"
          }
        },
        {
          "output_type": "stream",
          "name": "stdout",
          "text": [
            "Image of Sneaker\n"
          ]
        },
        {
          "output_type": "display_data",
          "data": {
            "text/plain": [
              "<Figure size 432x288 with 2 Axes>"
            ],
            "image/png": "[encoded data removed]"
          },
          "metadata": {
            "needs_background": "light"
          }
        },
        {
          "output_type": "stream",
          "name": "stdout",
          "text": [
            "Image of Bag\n"
          ]
        },
        {
          "output_type": "display_data",
          "data": {
            "text/plain": [
              "<Figure size 432x288 with 2 Axes>"
            ],
            "image/png": "[encoded data removed]"
          },
          "metadata": {
            "needs_background": "light"
          }
        },
        {
          "output_type": "stream",
          "name": "stdout",
          "text": [
            "Image of Ankle boot\n"
          ]
        },
        {
          "output_type": "display_data",
          "data": {
            "text/plain": [
              "<Figure size 432x288 with 2 Axes>"
            ],
            "image/png": "[encoded data removed]"
          },
          "metadata": {
            "needs_background": "light"
          }
        }
      ],
      "source": [
        "for i in range(len(item_index)):\n",
        "  display_with_filtered(x_train[item_index[i]], y_train[item_index[i]])"
      ]
    },
    {
      "cell_type": "markdown",
      "source": [
        "We can see above sobel kernel has resulted only in higlighting of boundaries of images"
      ],
      "metadata": {
        "id": "c33Z_r8ukbmz"
      }
    },
    {
      "cell_type": "markdown",
      "metadata": {
        "id": "Q1pveCuGkFDl"
      },
      "source": [
        "### 2.4) Implementing CNN Model for Classification using Keras"
      ]
    },
    {
      "cell_type": "code",
      "execution_count": 14,
      "metadata": {
        "id": "VHPHbiPjkFDl"
      },
      "outputs": [],
      "source": [
        "import tensorflow as tf"
      ]
    },
    {
      "cell_type": "markdown",
      "metadata": {
        "id": "YVFtTRLgkFDl"
      },
      "source": [
        "*  Input layer\n",
        "*  Con2D with 32 3x3 kernals and ReLU activation\n",
        "*  Max Pooling layer with pool-size 2x2\n",
        "*  Con2D with 64 3x3 kernals and ReLU ReLU activation\n",
        "*  Max Pooling layer with size 2x2\n",
        "*  Dropout\n",
        "*  Fully Connected Layer with softmax activation"
      ]
    },
    {
      "cell_type": "code",
      "execution_count": 15,
      "metadata": {
        "id": "D5TZeVFTkFDl"
      },
      "outputs": [],
      "source": [
        "keras.backend.clear_session()"
      ]
    },
    {
      "cell_type": "code",
      "execution_count": 16,
      "metadata": {
        "id": "cqydaBHMkFDm"
      },
      "outputs": [],
      "source": [
        "model = keras.Sequential([\n",
        "  keras.layers.InputLayer(input_shape = (28, 28,1), name = 'L1'),\n",
        "  keras.layers.Conv2D(filters = 32, kernel_size = (3, 3), activation = 'relu', padding = \"same\", strides = 1, name = 'L2'),\n",
        "  keras.layers.MaxPooling2D(pool_size = (2, 2), padding = \"same\", name = 'L3'),\n",
        "  keras.layers.Conv2D(filters = 64, kernel_size = (3, 3), activation = 'relu', padding = \"same\", strides = 1, name = 'L4'),\n",
        "  keras.layers.MaxPooling2D(pool_size = (2, 2), padding = \"same\", name = 'L5'),\n",
        "  keras.layers.Flatten(name = 'L6'),\n",
        "  keras.layers.Dropout(0.1, name = 'L7'),\n",
        "  keras.layers.Dense(10, activation = \"softmax\", name = 'L8')\n",
        "])"
      ]
    },
    {
      "cell_type": "code",
      "execution_count": 17,
      "metadata": {
        "colab": {
          "base_uri": "https://localhost:8080/"
        },
        "id": "PlPzYTEQkFDm",
        "outputId": "69d15a86-0dd1-4740-e1ae-b5cf8f8ff555"
      },
      "outputs": [
        {
          "output_type": "stream",
          "name": "stdout",
          "text": [
            "Model: \"sequential\"\n",
            "_________________________________________________________________\n",
            " Layer (type)                Output Shape              Param #   \n",
            "=================================================================\n",
            " L2 (Conv2D)                 (None, 28, 28, 32)        320       \n",
            "                                                                 \n",
            " L3 (MaxPooling2D)           (None, 14, 14, 32)        0         \n",
            "                                                                 \n",
            " L4 (Conv2D)                 (None, 14, 14, 64)        18496     \n",
            "                                                                 \n",
            " L5 (MaxPooling2D)           (None, 7, 7, 64)          0         \n",
            "                                                                 \n",
            " L6 (Flatten)                (None, 3136)              0         \n",
            "                                                                 \n",
            " L7 (Dropout)                (None, 3136)              0         \n",
            "                                                                 \n",
            " L8 (Dense)                  (None, 10)                31370     \n",
            "                                                                 \n",
            "=================================================================\n",
            "Total params: 50,186\n",
            "Trainable params: 50,186\n",
            "Non-trainable params: 0\n",
            "_________________________________________________________________\n"
          ]
        }
      ],
      "source": [
        "model.summary()"
      ]
    },
    {
      "cell_type": "markdown",
      "metadata": {
        "id": "zafUk9bqkFDm"
      },
      "source": [
        "### 2.5) Custom Cross Entropy Loss Function"
      ]
    },
    {
      "cell_type": "code",
      "execution_count": 18,
      "metadata": {
        "id": "weywZnTokFDm"
      },
      "outputs": [],
      "source": [
        "def custom_cross_entropy(y_true, y_pred):\n",
        "  loss = -1 * (y_true * tf.math.log(y_pred))\n",
        "  loss = tf.reduce_sum(loss, axis = 1)\n",
        "  return loss"
      ]
    },
    {
      "cell_type": "code",
      "execution_count": 19,
      "metadata": {
        "id": "iZWg8wKJkFDm"
      },
      "outputs": [],
      "source": [
        "x_train_new = x_train/255.0 #normalizing image pixel values\n",
        "x_train_new = x_train_new.reshape(-1, 28, 28, 1) # reshaping as it's requirement of keras sequential model\n",
        "x_train_new = tf.convert_to_tensor(x_train_new, dtype = tf.float32)\n",
        "y_train_new = pd.get_dummies(y_train) # one hot encoding the output values\n",
        "y_train_new = tf.convert_to_tensor(y_train_new, dtype=tf.float32)\n",
        "\n",
        "x_test_new = x_test/255.0\n",
        "x_test_new = x_test_new.reshape(-1, 28, 28, 1)\n",
        "x_test_new = tf.convert_to_tensor(x_test_new, dtype = tf.float32)\n",
        "y_test_new = pd.get_dummies(y_test)\n",
        "y_test_new = tf.convert_to_tensor(y_test_new, dtype = tf.float32)"
      ]
    },
    {
      "cell_type": "code",
      "execution_count": 20,
      "metadata": {
        "colab": {
          "base_uri": "https://localhost:8080/"
        },
        "id": "lAWBLtL4kFDn",
        "outputId": "8392e00e-e16c-4002-e53e-ba4570166986"
      },
      "outputs": [
        {
          "output_type": "stream",
          "name": "stdout",
          "text": [
            "Epoch 1/5\n",
            "1875/1875 [==============================] - 22s 6ms/step - loss: 0.4351 - accuracy: 0.8435\n",
            "Epoch 2/5\n",
            "1875/1875 [==============================] - 12s 6ms/step - loss: 0.3032 - accuracy: 0.8938\n",
            "Epoch 3/5\n",
            "1875/1875 [==============================] - 16s 9ms/step - loss: 0.2701 - accuracy: 0.9047\n",
            "Epoch 4/5\n",
            "1875/1875 [==============================] - 16s 9ms/step - loss: 0.2501 - accuracy: 0.9120\n",
            "Epoch 5/5\n",
            "1875/1875 [==============================] - 13s 7ms/step - loss: 0.2365 - accuracy: 0.9169\n"
          ]
        }
      ],
      "source": [
        "model.compile(loss = custom_cross_entropy, metrics = ['accuracy'])\n",
        "EPOCHS = 5\n",
        "history = model.fit(x_train_new, y_train_new, epochs=EPOCHS)"
      ]
    },
    {
      "cell_type": "code",
      "execution_count": 21,
      "metadata": {
        "colab": {
          "base_uri": "https://localhost:8080/"
        },
        "id": "EETTr-AmkFDn",
        "outputId": "57735758-e70f-4a85-a1eb-e588be78ac1d"
      },
      "outputs": [
        {
          "output_type": "stream",
          "name": "stdout",
          "text": [
            "1/1 [==============================] - 2s 2s/step - loss: 0.2636 - accuracy: 0.9043\n"
          ]
        }
      ],
      "source": [
        "loss, accuracy = model.evaluate(x = x_test_new, y = y_test_new, batch_size=len(x_test_new))"
      ]
    },
    {
      "cell_type": "markdown",
      "metadata": {
        "id": "hkKVx8W6kFDn"
      },
      "source": [
        "### 2.6) Using Different Optimizers"
      ]
    },
    {
      "cell_type": "code",
      "execution_count": 22,
      "metadata": {
        "id": "sXlQUvl8kFDo"
      },
      "outputs": [],
      "source": [
        "keras.backend.clear_session()"
      ]
    },
    {
      "cell_type": "code",
      "execution_count": 23,
      "metadata": {
        "id": "m4RiG3YfkFDo"
      },
      "outputs": [],
      "source": [
        "# SGD \n",
        "model1 = keras.Sequential([\n",
        "  keras.layers.InputLayer(input_shape = (28, 28,1), name = 'L1'),\n",
        "  keras.layers.Conv2D(filters = 32, kernel_size = (3, 3), activation = 'relu', padding = \"same\", strides = 1, name = 'L2'),\n",
        "  keras.layers.MaxPooling2D(pool_size = (2, 2), padding = \"same\", name = 'L3'),\n",
        "  keras.layers.Conv2D(filters = 64, kernel_size = (3, 3), activation = 'relu', padding = \"same\", strides = 1, name = 'L4'),\n",
        "  keras.layers.MaxPooling2D(pool_size = (2, 2), padding = \"same\", name = 'L5'),\n",
        "  keras.layers.Flatten(name = 'L6'),\n",
        "  keras.layers.Dropout(0.1, name = 'L7'),\n",
        "  keras.layers.Dense(10, activation = \"softmax\", name = 'L8')\n",
        "])"
      ]
    },
    {
      "cell_type": "code",
      "execution_count": 24,
      "metadata": {
        "colab": {
          "base_uri": "https://localhost:8080/"
        },
        "id": "1ah--4uBkFDo",
        "outputId": "d0fa277a-8953-4999-af47-9d09ef37b68f"
      },
      "outputs": [
        {
          "output_type": "stream",
          "name": "stdout",
          "text": [
            "Epoch 1/5\n",
            "1875/1875 [==============================] - 11s 6ms/step - loss: 0.8365 - accuracy: 0.7041\n",
            "Epoch 2/5\n",
            "1875/1875 [==============================] - 11s 6ms/step - loss: 0.5066 - accuracy: 0.8187\n",
            "Epoch 3/5\n",
            "1875/1875 [==============================] - 14s 7ms/step - loss: 0.4349 - accuracy: 0.8457\n",
            "Epoch 4/5\n",
            "1875/1875 [==============================] - 12s 7ms/step - loss: 0.4017 - accuracy: 0.8585\n",
            "Epoch 5/5\n",
            "1875/1875 [==============================] - 11s 6ms/step - loss: 0.3782 - accuracy: 0.8665\n"
          ]
        }
      ],
      "source": [
        "model1.compile(loss = custom_cross_entropy, metrics=['accuracy'], optimizer = 'SGD')\n",
        "history1 = model1.fit(x_train_new, y_train_new, epochs=EPOCHS)"
      ]
    },
    {
      "cell_type": "code",
      "execution_count": 25,
      "metadata": {
        "id": "yGVqgf70kFDo"
      },
      "outputs": [],
      "source": [
        "keras.backend.clear_session()"
      ]
    },
    {
      "cell_type": "code",
      "execution_count": 26,
      "metadata": {
        "id": "V1Wv8wZ8kFDp"
      },
      "outputs": [],
      "source": [
        "# rmsprop\n",
        "model2 = keras.Sequential([\n",
        "  keras.layers.InputLayer(input_shape = (28, 28,1), name = 'L1'),\n",
        "  keras.layers.Conv2D(filters = 32, kernel_size = (3, 3), activation = 'relu', padding = \"same\", strides = 1, name = 'L2'),\n",
        "  keras.layers.MaxPooling2D(pool_size = (2, 2), padding = \"same\", name = 'L3'),\n",
        "  keras.layers.Conv2D(filters = 64, kernel_size = (3, 3), activation = 'relu', padding = \"same\", strides = 1, name = 'L4'),\n",
        "  keras.layers.MaxPooling2D(pool_size = (2, 2), padding = \"same\", name = 'L5'),\n",
        "  keras.layers.Flatten(name = 'L6'),\n",
        "  keras.layers.Dropout(0.1, name = 'L7'),\n",
        "  keras.layers.Dense(10, activation = \"softmax\", name = 'L8')\n",
        "])"
      ]
    },
    {
      "cell_type": "code",
      "execution_count": 27,
      "metadata": {
        "colab": {
          "base_uri": "https://localhost:8080/"
        },
        "id": "cHQ9SlzrkFDp",
        "outputId": "e2800572-fcd0-4e4e-e97e-ff8139ae4caa"
      },
      "outputs": [
        {
          "output_type": "stream",
          "name": "stdout",
          "text": [
            "Epoch 1/5\n",
            "1875/1875 [==============================] - 13s 7ms/step - loss: 0.4300 - accuracy: 0.8464\n",
            "Epoch 2/5\n",
            "1875/1875 [==============================] - 12s 6ms/step - loss: 0.2982 - accuracy: 0.8958\n",
            "Epoch 3/5\n",
            "1875/1875 [==============================] - 12s 6ms/step - loss: 0.2643 - accuracy: 0.9068\n",
            "Epoch 4/5\n",
            "1875/1875 [==============================] - 12s 6ms/step - loss: 0.2455 - accuracy: 0.9135\n",
            "Epoch 5/5\n",
            "1875/1875 [==============================] - 12s 6ms/step - loss: 0.2326 - accuracy: 0.9186\n"
          ]
        }
      ],
      "source": [
        "model2.compile(loss = custom_cross_entropy, metrics=['accuracy'], optimizer = 'rmsprop')\n",
        "history2 = model2.fit(x_train_new, y_train_new, epochs=EPOCHS)"
      ]
    },
    {
      "cell_type": "code",
      "execution_count": 28,
      "metadata": {
        "id": "UDWUIqaokFDp"
      },
      "outputs": [],
      "source": [
        "keras.backend.clear_session()"
      ]
    },
    {
      "cell_type": "code",
      "execution_count": 29,
      "metadata": {
        "id": "Wk7rFr1jkFDp"
      },
      "outputs": [],
      "source": [
        "# adam\n",
        "model3 = keras.Sequential([\n",
        "  keras.layers.InputLayer(input_shape = (28, 28,1), name = 'L1'),\n",
        "  keras.layers.Conv2D(filters = 32, kernel_size = (3, 3), activation = 'relu', padding = \"same\", strides = 1, name = 'L2'),\n",
        "  keras.layers.MaxPooling2D(pool_size = (2, 2), padding = \"same\", name = 'L3'),\n",
        "  keras.layers.Conv2D(filters = 64, kernel_size = (3, 3), activation = 'relu', padding = \"same\", strides = 1, name = 'L4'),\n",
        "  keras.layers.MaxPooling2D(pool_size = (2, 2), padding = \"same\", name = 'L5'),\n",
        "  keras.layers.Flatten(name = 'L6'),\n",
        "  keras.layers.Dropout(0.1, name = 'L7'),\n",
        "  keras.layers.Dense(10, activation = \"softmax\", name = 'L8')\n",
        "])"
      ]
    },
    {
      "cell_type": "code",
      "execution_count": 30,
      "metadata": {
        "colab": {
          "base_uri": "https://localhost:8080/"
        },
        "id": "nt6dx7ZXkFDp",
        "outputId": "8b54ed7d-dfd3-4511-90e3-38df6fd690b9"
      },
      "outputs": [
        {
          "output_type": "stream",
          "name": "stdout",
          "text": [
            "Epoch 1/5\n",
            "1875/1875 [==============================] - 12s 6ms/step - loss: 0.4399 - accuracy: 0.8421\n",
            "Epoch 2/5\n",
            "1875/1875 [==============================] - 11s 6ms/step - loss: 0.2949 - accuracy: 0.8958\n",
            "Epoch 3/5\n",
            "1875/1875 [==============================] - 11s 6ms/step - loss: 0.2568 - accuracy: 0.9077\n",
            "Epoch 4/5\n",
            "1875/1875 [==============================] - 11s 6ms/step - loss: 0.2294 - accuracy: 0.9165\n",
            "Epoch 5/5\n",
            "1875/1875 [==============================] - 12s 6ms/step - loss: 0.2110 - accuracy: 0.9248\n"
          ]
        }
      ],
      "source": [
        "model3.compile(loss = custom_cross_entropy, metrics = ['accuracy'], optimizer = 'adam')\n",
        "history3 = model3.fit(x_train_new, y_train_new, epochs=EPOCHS)"
      ]
    },
    {
      "cell_type": "code",
      "execution_count": 31,
      "metadata": {
        "id": "ZhnGSuPFkFDp"
      },
      "outputs": [],
      "source": [
        "keras.backend.clear_session()"
      ]
    },
    {
      "cell_type": "code",
      "execution_count": 32,
      "metadata": {
        "id": "eKpfZs9mkFDq"
      },
      "outputs": [],
      "source": [
        "# adagrad\n",
        "model4 = keras.Sequential([\n",
        "  keras.layers.InputLayer(input_shape = (28, 28,1), name = 'L1'),\n",
        "  keras.layers.Conv2D(filters = 32, kernel_size = (3, 3), activation = 'relu', padding = \"same\", strides = 1, name = 'L2'),\n",
        "  keras.layers.MaxPooling2D(pool_size = (2, 2), padding = \"same\", name = 'L3'),\n",
        "  keras.layers.Conv2D(filters = 64, kernel_size = (3, 3), activation = 'relu', padding = \"same\", strides = 1, name = 'L4'),\n",
        "  keras.layers.MaxPooling2D(pool_size = (2, 2), padding = \"same\", name = 'L5'),\n",
        "  keras.layers.Flatten(name = 'L6'),\n",
        "  keras.layers.Dropout(0.1, name = 'L7'),\n",
        "  keras.layers.Dense(10, activation = \"softmax\", name = 'L8')\n",
        "])"
      ]
    },
    {
      "cell_type": "code",
      "execution_count": 33,
      "metadata": {
        "colab": {
          "base_uri": "https://localhost:8080/"
        },
        "id": "hHH88U2pkFDq",
        "outputId": "22bdb4d4-bd26-4e07-cb43-5bf2c9bd27fe"
      },
      "outputs": [
        {
          "output_type": "stream",
          "name": "stdout",
          "text": [
            "Epoch 1/5\n",
            "1875/1875 [==============================] - 11s 6ms/step - loss: 1.2675 - accuracy: 0.5820\n",
            "Epoch 2/5\n",
            "1875/1875 [==============================] - 11s 6ms/step - loss: 0.7489 - accuracy: 0.7333\n",
            "Epoch 3/5\n",
            "1875/1875 [==============================] - 11s 6ms/step - loss: 0.6675 - accuracy: 0.7637\n",
            "Epoch 4/5\n",
            "1875/1875 [==============================] - 11s 6ms/step - loss: 0.6226 - accuracy: 0.7774\n",
            "Epoch 5/5\n",
            "1875/1875 [==============================] - 11s 6ms/step - loss: 0.5930 - accuracy: 0.7871\n"
          ]
        }
      ],
      "source": [
        "model4.compile(loss = custom_cross_entropy, metrics = ['accuracy'], optimizer = 'adagrad')\n",
        "history4 = model4.fit(x_train_new, y_train_new, epochs=EPOCHS)"
      ]
    },
    {
      "cell_type": "code",
      "source": [
        "epochs = [1, 2, 3, 4, 5]"
      ],
      "metadata": {
        "id": "-g8eP5kjmfSy"
      },
      "execution_count": 34,
      "outputs": []
    },
    {
      "cell_type": "code",
      "source": [
        "plt.plot(epochs, history1.history['loss'], label = 'sgd')\n",
        "plt.plot(epochs, history2.history['loss'], label = 'rmsprop')\n",
        "plt.plot(epochs, history3.history['loss'], label = 'adam')\n",
        "plt.plot(epochs, history4.history['loss'], label = 'adagrad')\n",
        "plt.xlabel('epochs')\n",
        "plt.ylabel('mse_training_loss')\n",
        "plt.legend()\n",
        "plt.show()"
      ],
      "metadata": {
        "colab": {
          "base_uri": "https://localhost:8080/",
          "height": 279
        },
        "id": "wC-3raROnWfg",
        "outputId": "35893f20-d3c9-40db-d8d9-70562596b40a"
      },
      "execution_count": 43,
      "outputs": [
        {
          "output_type": "display_data",
          "data": {
            "text/plain": [
              "<Figure size 432x288 with 1 Axes>"
            ],
            "image/png": "[encoded data removed]"
          },
          "metadata": {
            "needs_background": "light"
          }
        }
      ]
    },
    {
      "cell_type": "markdown",
      "source": [
        "### It is seen adam optimizer is performing best, then rms prop, then sgd and last adagrad"
      ],
      "metadata": {
        "id": "a_O2FIzooLAf"
      }
    },
    {
      "cell_type": "markdown",
      "source": [
        "## 1.7) Varying Drop Out Rates"
      ],
      "metadata": {
        "id": "0hO54qi0tQ-5"
      }
    },
    {
      "cell_type": "code",
      "source": [
        "drop_rates = [0.01,0.1, 0.2, 0.3, 0.4]"
      ],
      "metadata": {
        "id": "RV79m89qoTGx"
      },
      "execution_count": 44,
      "outputs": []
    },
    {
      "cell_type": "code",
      "source": [
        "train_acc = []\n",
        "train_loss = []\n",
        "test_acc = []\n",
        "test_loss = []"
      ],
      "metadata": {
        "id": "I7Dqy-tbokwn"
      },
      "execution_count": 50,
      "outputs": []
    },
    {
      "cell_type": "code",
      "source": [
        "for rate in drop_rates:\n",
        "    keras.backend.clear_session()\n",
        "    model = keras.Sequential([\n",
        "    keras.layers.InputLayer(input_shape = (28, 28,1), name = 'L1'),\n",
        "    keras.layers.Conv2D(filters = 32, kernel_size = (3, 3), activation = 'relu', padding = \"same\", strides = 1, name = 'L2'),\n",
        "    keras.layers.MaxPooling2D(pool_size = (2, 2), padding = \"same\", name = 'L3'),\n",
        "    keras.layers.Conv2D(filters = 64, kernel_size = (3, 3), activation = 'relu', padding = \"same\", strides = 1, name = 'L4'),\n",
        "    keras.layers.MaxPooling2D(pool_size = (2, 2), padding = \"same\", name = 'L5'),\n",
        "    keras.layers.Flatten(name = 'L6'),\n",
        "    keras.layers.Dropout(rate, name = 'L7'),\n",
        "    keras.layers.Dense(10, activation = \"softmax\", name = 'L8')\n",
        "    ])\n",
        "    model.compile(loss = custom_cross_entropy, metrics = ['accuracy'])\n",
        "    EPOCHS = 5\n",
        "    history = model.fit(x_train_new, y_train_new, epochs=EPOCHS)\n",
        "    train_acc.append(history.history['accuracy'])\n",
        "    train_loss.append(history.history['loss'])\n",
        "    loss, accuracy = model.evaluate(x = x_test_new, y = y_test_new, batch_size=len(x_test_new))\n",
        "    test_loss.append(loss)\n",
        "    test_acc.append(accuracy)"
      ],
      "metadata": {
        "colab": {
          "base_uri": "https://localhost:8080/"
        },
        "id": "gMVw00w_oh3s",
        "outputId": "91faa530-645d-4bd6-b4a0-1f0aaf161e53"
      },
      "execution_count": 51,
      "outputs": [
        {
          "output_type": "stream",
          "name": "stdout",
          "text": [
            "Epoch 1/5\n",
            "1875/1875 [==============================] - 12s 6ms/step - loss: 0.4280 - accuracy: 0.8477\n",
            "Epoch 2/5\n",
            "1875/1875 [==============================] - 12s 6ms/step - loss: 0.2946 - accuracy: 0.8966\n",
            "Epoch 3/5\n",
            "1875/1875 [==============================] - 13s 7ms/step - loss: 0.2569 - accuracy: 0.9088\n",
            "Epoch 4/5\n",
            "1875/1875 [==============================] - 12s 6ms/step - loss: 0.2364 - accuracy: 0.9169\n",
            "Epoch 5/5\n",
            "1875/1875 [==============================] - 12s 6ms/step - loss: 0.2212 - accuracy: 0.9219\n",
            "1/1 [==============================] - 0s 293ms/step - loss: 0.2635 - accuracy: 0.9100\n",
            "Epoch 1/5\n",
            "1875/1875 [==============================] - 12s 6ms/step - loss: 0.4309 - accuracy: 0.8457\n",
            "Epoch 2/5\n",
            "1875/1875 [==============================] - 12s 6ms/step - loss: 0.2952 - accuracy: 0.8958\n",
            "Epoch 3/5\n",
            "1875/1875 [==============================] - 12s 6ms/step - loss: 0.2604 - accuracy: 0.9073\n",
            "Epoch 4/5\n",
            "1875/1875 [==============================] - 12s 6ms/step - loss: 0.2405 - accuracy: 0.9157\n",
            "Epoch 5/5\n",
            "1875/1875 [==============================] - 12s 6ms/step - loss: 0.2273 - accuracy: 0.9201\n",
            "1/1 [==============================] - 0s 294ms/step - loss: 0.2614 - accuracy: 0.9081\n",
            "Epoch 1/5\n",
            "1875/1875 [==============================] - 12s 6ms/step - loss: 0.4468 - accuracy: 0.8404\n",
            "Epoch 2/5\n",
            "1875/1875 [==============================] - 12s 6ms/step - loss: 0.3127 - accuracy: 0.8895\n",
            "Epoch 3/5\n",
            "1875/1875 [==============================] - 16s 8ms/step - loss: 0.2785 - accuracy: 0.9004\n",
            "Epoch 4/5\n",
            "1875/1875 [==============================] - 13s 7ms/step - loss: 0.2595 - accuracy: 0.9076\n",
            "Epoch 5/5\n",
            "1875/1875 [==============================] - 12s 6ms/step - loss: 0.2457 - accuracy: 0.9129\n",
            "1/1 [==============================] - 0s 301ms/step - loss: 0.2654 - accuracy: 0.9071\n",
            "Epoch 1/5\n",
            "1875/1875 [==============================] - 15s 8ms/step - loss: 0.4553 - accuracy: 0.8364\n",
            "Epoch 2/5\n",
            "1875/1875 [==============================] - 13s 7ms/step - loss: 0.3176 - accuracy: 0.8875\n",
            "Epoch 3/5\n",
            "1875/1875 [==============================] - 12s 6ms/step - loss: 0.2843 - accuracy: 0.8990\n",
            "Epoch 4/5\n",
            "1875/1875 [==============================] - 12s 6ms/step - loss: 0.2672 - accuracy: 0.9056\n",
            "Epoch 5/5\n",
            "1875/1875 [==============================] - 12s 6ms/step - loss: 0.2568 - accuracy: 0.9093\n",
            "WARNING:tensorflow:5 out of the last 5 calls to <function Model.make_test_function.<locals>.test_function at 0x7f479f4e9710> triggered tf.function retracing. Tracing is expensive and the excessive number of tracings could be due to (1) creating @tf.function repeatedly in a loop, (2) passing tensors with different shapes, (3) passing Python objects instead of tensors. For (1), please define your @tf.function outside of the loop. For (2), @tf.function has experimental_relax_shapes=True option that relaxes argument shapes that can avoid unnecessary retracing. For (3), please refer to https://www.tensorflow.org/guide/function#controlling_retracing and https://www.tensorflow.org/api_docs/python/tf/function for  more details.\n",
            "1/1 [==============================] - 0s 295ms/step - loss: 0.2771 - accuracy: 0.9033\n",
            "Epoch 1/5\n",
            "1875/1875 [==============================] - 12s 6ms/step - loss: 0.4659 - accuracy: 0.8330\n",
            "Epoch 2/5\n",
            "1875/1875 [==============================] - 12s 6ms/step - loss: 0.3283 - accuracy: 0.8837\n",
            "Epoch 3/5\n",
            "1875/1875 [==============================] - 12s 6ms/step - loss: 0.2932 - accuracy: 0.8977\n",
            "Epoch 4/5\n",
            "1875/1875 [==============================] - 12s 6ms/step - loss: 0.2780 - accuracy: 0.9020\n",
            "Epoch 5/5\n",
            "1875/1875 [==============================] - 13s 7ms/step - loss: 0.2679 - accuracy: 0.9041\n",
            "WARNING:tensorflow:6 out of the last 6 calls to <function Model.make_test_function.<locals>.test_function at 0x7f479f3988c0> triggered tf.function retracing. Tracing is expensive and the excessive number of tracings could be due to (1) creating @tf.function repeatedly in a loop, (2) passing tensors with different shapes, (3) passing Python objects instead of tensors. For (1), please define your @tf.function outside of the loop. For (2), @tf.function has experimental_relax_shapes=True option that relaxes argument shapes that can avoid unnecessary retracing. For (3), please refer to https://www.tensorflow.org/guide/function#controlling_retracing and https://www.tensorflow.org/api_docs/python/tf/function for  more details.\n",
            "1/1 [==============================] - 1s 661ms/step - loss: 0.2779 - accuracy: 0.9024\n"
          ]
        }
      ]
    },
    {
      "cell_type": "code",
      "source": [
        "plt.plot(drop_rates, train_acc)"
      ],
      "metadata": {
        "colab": {
          "base_uri": "https://localhost:8080/",
          "height": 352
        },
        "id": "HitbXOI5rjkG",
        "outputId": "e3ee4575-03af-44d2-ca02-8f65ef4922f7"
      },
      "execution_count": 52,
      "outputs": [
        {
          "output_type": "execute_result",
          "data": {
            "text/plain": [
              "[<matplotlib.lines.Line2D at 0x7f479f1c2e90>,\n",
              " <matplotlib.lines.Line2D at 0x7f479f1b6110>,\n",
              " <matplotlib.lines.Line2D at 0x7f479f1b62d0>,\n",
              " <matplotlib.lines.Line2D at 0x7f479f1b6490>,\n",
              " <matplotlib.lines.Line2D at 0x7f479f1b6650>]"
            ]
          },
          "metadata": {},
          "execution_count": 52
        },
        {
          "output_type": "display_data",
          "data": {
            "text/plain": [
              "<Figure size 432x288 with 1 Axes>"
            ],
            "image/png": "[encoded data removed]"
          },
          "metadata": {
            "needs_background": "light"
          }
        }
      ]
    },
    {
      "cell_type": "code",
      "source": [
        "plt.plot(drop_rates, test_acc)"
      ],
      "metadata": {
        "colab": {
          "base_uri": "https://localhost:8080/",
          "height": 282
        },
        "id": "9PleQE9xuAAi",
        "outputId": "a8e6e0d1-34c6-4e52-f9b9-3ffa393820ae"
      },
      "execution_count": 53,
      "outputs": [
        {
          "output_type": "execute_result",
          "data": {
            "text/plain": [
              "[<matplotlib.lines.Line2D at 0x7f479f140ad0>]"
            ]
          },
          "metadata": {},
          "execution_count": 53
        },
        {
          "output_type": "display_data",
          "data": {
            "text/plain": [
              "<Figure size 432x288 with 1 Axes>"
            ],
            "image/png": "[encoded data removed]"
          },
          "metadata": {
            "needs_background": "light"
          }
        }
      ]
    },
    {
      "cell_type": "code",
      "source": [
        "plt.plot(drop_rates, train_loss)"
      ],
      "metadata": {
        "colab": {
          "base_uri": "https://localhost:8080/",
          "height": 352
        },
        "id": "2fwlO9pQuFaK",
        "outputId": "c114b328-6a1f-484d-ced6-c4f7628d61a0"
      },
      "execution_count": 54,
      "outputs": [
        {
          "output_type": "execute_result",
          "data": {
            "text/plain": [
              "[<matplotlib.lines.Line2D at 0x7f472a17b450>,\n",
              " <matplotlib.lines.Line2D at 0x7f472a17bc50>,\n",
              " <matplotlib.lines.Line2D at 0x7f472a17b090>,\n",
              " <matplotlib.lines.Line2D at 0x7f472a17bc90>,\n",
              " <matplotlib.lines.Line2D at 0x7f472a17b550>]"
            ]
          },
          "metadata": {},
          "execution_count": 54
        },
        {
          "output_type": "display_data",
          "data": {
            "text/plain": [
              "<Figure size 432x288 with 1 Axes>"
            ],
            "image/png": "[encoded data removed]"
          },
          "metadata": {
            "needs_background": "light"
          }
        }
      ]
    },
    {
      "cell_type": "code",
      "source": [
        "plt.plot(drop_rates, test_loss)"
      ],
      "metadata": {
        "colab": {
          "base_uri": "https://localhost:8080/",
          "height": 282
        },
        "id": "n_XY0JyBuLOe",
        "outputId": "245ad137-c8a0-4b28-bd32-69504e01e2a0"
      },
      "execution_count": 55,
      "outputs": [
        {
          "output_type": "execute_result",
          "data": {
            "text/plain": [
              "[<matplotlib.lines.Line2D at 0x7f472a04cd50>]"
            ]
          },
          "metadata": {},
          "execution_count": 55
        },
        {
          "output_type": "display_data",
          "data": {
            "text/plain": [
              "<Figure size 432x288 with 1 Axes>"
            ],
            "image/png": "[encoded data removed]"
          },
          "metadata": {
            "needs_background": "light"
          }
        }
      ]
    },
    {
      "cell_type": "code",
      "source": [
        "## It can be observed with frop rate increasing train and test accuracy decresing, so too high drop rate is not good as well"
      ],
      "metadata": {
        "id": "vQ-FU1-luNhc"
      },
      "execution_count": 56,
      "outputs": []
    },
    {
      "cell_type": "code",
      "source": [
        ""
      ],
      "metadata": {
        "id": "ILHC5yFJuaE6"
      },
      "execution_count": null,
      "outputs": []
    }
  ],
  "metadata": {
    "colab": {
      "collapsed_sections": [],
      "name": "ASHISH_SHARMA_2019MCB1213_NB-Final2.ipynb",
      "provenance": []
    },
    "kernelspec": {
      "display_name": "Python 3 (ipykernel)",
      "language": "python",
      "name": "python3"
    },
    "language_info": {
      "codemirror_mode": {
        "name": "ipython",
        "version": 3
      },
      "file_extension": ".py",
      "mimetype": "text/x-python",
      "name": "python",
      "nbconvert_exporter": "python",
      "pygments_lexer": "ipython3",
      "version": "3.7.9"
    },
    "accelerator": "GPU"
  },
  "nbformat": 4,
  "nbformat_minor": 0
}