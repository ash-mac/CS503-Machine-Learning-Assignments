{
 "cells": [
  {
   "cell_type": "code",
   "execution_count": 1,
   "id": "4f0b0bc7",
   "metadata": {},
   "outputs": [],
   "source": [
    "import pandas as pd\n",
    "import numpy as np\n",
    "import matplotlib.pyplot as plt\n",
    "import seaborn as sns\n",
    "from math import sqrt"
   ]
  },
  {
   "cell_type": "code",
   "execution_count": 2,
   "id": "28def33b",
   "metadata": {},
   "outputs": [],
   "source": [
    "# Reading the dataset\n",
    "df = pd.read_csv(\"insurance.csv\")"
   ]
  },
  {
   "cell_type": "code",
   "execution_count": 3,
   "id": "7df9b17e",
   "metadata": {},
   "outputs": [
    {
     "data": {
      "text/html": [
       "<div>\n",
       "<style scoped>\n",
       "    .dataframe tbody tr th:only-of-type {\n",
       "        vertical-align: middle;\n",
       "    }\n",
       "\n",
       "    .dataframe tbody tr th {\n",
       "        vertical-align: top;\n",
       "    }\n",
       "\n",
       "    .dataframe thead th {\n",
       "        text-align: right;\n",
       "    }\n",
       "</style>\n",
       "<table border=\"1\" class=\"dataframe\">\n",
       "  <thead>\n",
       "    <tr style=\"text-align: right;\">\n",
       "      <th></th>\n",
       "      <th>age</th>\n",
       "      <th>sex</th>\n",
       "      <th>bmi</th>\n",
       "      <th>children</th>\n",
       "      <th>smoker</th>\n",
       "      <th>region</th>\n",
       "      <th>charges</th>\n",
       "    </tr>\n",
       "  </thead>\n",
       "  <tbody>\n",
       "    <tr>\n",
       "      <th>0</th>\n",
       "      <td>19</td>\n",
       "      <td>female</td>\n",
       "      <td>27.900</td>\n",
       "      <td>0</td>\n",
       "      <td>yes</td>\n",
       "      <td>southwest</td>\n",
       "      <td>16884.92400</td>\n",
       "    </tr>\n",
       "    <tr>\n",
       "      <th>1</th>\n",
       "      <td>18</td>\n",
       "      <td>male</td>\n",
       "      <td>33.770</td>\n",
       "      <td>1</td>\n",
       "      <td>no</td>\n",
       "      <td>southeast</td>\n",
       "      <td>1725.55230</td>\n",
       "    </tr>\n",
       "    <tr>\n",
       "      <th>2</th>\n",
       "      <td>28</td>\n",
       "      <td>male</td>\n",
       "      <td>33.000</td>\n",
       "      <td>3</td>\n",
       "      <td>no</td>\n",
       "      <td>southeast</td>\n",
       "      <td>4449.46200</td>\n",
       "    </tr>\n",
       "    <tr>\n",
       "      <th>3</th>\n",
       "      <td>33</td>\n",
       "      <td>male</td>\n",
       "      <td>22.705</td>\n",
       "      <td>0</td>\n",
       "      <td>no</td>\n",
       "      <td>northwest</td>\n",
       "      <td>21984.47061</td>\n",
       "    </tr>\n",
       "    <tr>\n",
       "      <th>4</th>\n",
       "      <td>32</td>\n",
       "      <td>male</td>\n",
       "      <td>28.880</td>\n",
       "      <td>0</td>\n",
       "      <td>no</td>\n",
       "      <td>northwest</td>\n",
       "      <td>3866.85520</td>\n",
       "    </tr>\n",
       "  </tbody>\n",
       "</table>\n",
       "</div>"
      ],
      "text/plain": [
       "   age     sex     bmi  children smoker     region      charges\n",
       "0   19  female  27.900         0    yes  southwest  16884.92400\n",
       "1   18    male  33.770         1     no  southeast   1725.55230\n",
       "2   28    male  33.000         3     no  southeast   4449.46200\n",
       "3   33    male  22.705         0     no  northwest  21984.47061\n",
       "4   32    male  28.880         0     no  northwest   3866.85520"
      ]
     },
     "execution_count": 3,
     "metadata": {},
     "output_type": "execute_result"
    }
   ],
   "source": [
    "df.head()"
   ]
  },
  {
   "cell_type": "code",
   "execution_count": 4,
   "id": "ab0cc074",
   "metadata": {},
   "outputs": [
    {
     "data": {
      "text/plain": [
       "0"
      ]
     },
     "execution_count": 4,
     "metadata": {},
     "output_type": "execute_result"
    }
   ],
   "source": [
    "# checking if there is any missing data\n",
    "df.isnull().sum().sum()"
   ]
  },
  {
   "cell_type": "code",
   "execution_count": 5,
   "id": "462ddfaa",
   "metadata": {},
   "outputs": [],
   "source": [
    "def find_mean_std(df, attr):\n",
    "    mean_attr = 0\n",
    "    for attr_val in df[attr]:\n",
    "        mean_attr = mean_attr + attr_val\n",
    "    mean_attr = mean_attr/len(df[attr])\n",
    "    \n",
    "    std_attr  = 0\n",
    "    for attr_val in df[attr]:\n",
    "        std_attr = std_attr + (attr_val - mean_attr)**2\n",
    "    std_attr = std_attr/len(df[attr])\n",
    "    \n",
    "    std_attr = sqrt(std_attr)\n",
    "    return mean_attr, std_attr"
   ]
  },
  {
   "cell_type": "code",
   "execution_count": 6,
   "id": "51828648",
   "metadata": {},
   "outputs": [],
   "source": [
    "def standardize_df(df, attr):\n",
    "    df_new = df.copy()\n",
    "    for v in attr:\n",
    "        a_mean, a_std = find_mean_std(df_new, v)\n",
    "        for i,entry in enumerate(df_new[v]):\n",
    "            df_new.loc[i, v] = (entry - a_mean)/a_std\n",
    "    return df_new"
   ]
  },
  {
   "cell_type": "code",
   "execution_count": 7,
   "id": "c9162dcb",
   "metadata": {},
   "outputs": [],
   "source": [
    "df_new = df.copy()"
   ]
  },
  {
   "cell_type": "code",
   "execution_count": 8,
   "id": "929cf8dd",
   "metadata": {},
   "outputs": [],
   "source": [
    "# Encoding Categorical Features\n",
    "df_new['sex'].replace({\"male\": 0, \"female\" : 1}, inplace=True)\n",
    "df_new['smoker'].replace({\"no\":0, \"yes\": 1}, inplace = True)"
   ]
  },
  {
   "cell_type": "code",
   "execution_count": 9,
   "id": "19868111",
   "metadata": {},
   "outputs": [
    {
     "data": {
      "text/plain": [
       "array(['southwest', 'southeast', 'northwest', 'northeast'], dtype=object)"
      ]
     },
     "execution_count": 9,
     "metadata": {},
     "output_type": "execute_result"
    }
   ],
   "source": [
    "# Checking number of unique values the region column takes, so that I can add accordingly the one-hot encoding\n",
    "df_new['region'].unique()"
   ]
  },
  {
   "cell_type": "code",
   "execution_count": 10,
   "id": "156d722b",
   "metadata": {},
   "outputs": [],
   "source": [
    "df_new['region_1'] = 0\n",
    "df_new['region_2'] = 0\n",
    "df_new['region_3'] = 0\n",
    "df_new['region_4'] = 0"
   ]
  },
  {
   "cell_type": "code",
   "execution_count": 11,
   "id": "2762d5db",
   "metadata": {},
   "outputs": [],
   "source": [
    "for i in range(len(df_new)):\n",
    "    if df_new.loc[i, 'region'] == 'southwest':\n",
    "        df_new.loc[i, 'region_1'] = 1\n",
    "    elif df_new.loc[i, 'region'] == 'southeast':\n",
    "        df_new.loc[i, 'region_2'] = 1\n",
    "    elif df_new.loc[i, 'region'] == 'northwest':\n",
    "        df_new.loc[i, 'region_3'] = 1\n",
    "    else:\n",
    "        df_new.loc[i, 'region_4'] = 1"
   ]
  },
  {
   "cell_type": "code",
   "execution_count": 12,
   "id": "5b4388f8",
   "metadata": {},
   "outputs": [],
   "source": [
    "df_new = df_new.drop(columns='region')"
   ]
  },
  {
   "cell_type": "code",
   "execution_count": 13,
   "id": "fc24c096",
   "metadata": {},
   "outputs": [
    {
     "data": {
      "text/html": [
       "<div>\n",
       "<style scoped>\n",
       "    .dataframe tbody tr th:only-of-type {\n",
       "        vertical-align: middle;\n",
       "    }\n",
       "\n",
       "    .dataframe tbody tr th {\n",
       "        vertical-align: top;\n",
       "    }\n",
       "\n",
       "    .dataframe thead th {\n",
       "        text-align: right;\n",
       "    }\n",
       "</style>\n",
       "<table border=\"1\" class=\"dataframe\">\n",
       "  <thead>\n",
       "    <tr style=\"text-align: right;\">\n",
       "      <th></th>\n",
       "      <th>age</th>\n",
       "      <th>sex</th>\n",
       "      <th>bmi</th>\n",
       "      <th>children</th>\n",
       "      <th>smoker</th>\n",
       "      <th>charges</th>\n",
       "      <th>region_1</th>\n",
       "      <th>region_2</th>\n",
       "      <th>region_3</th>\n",
       "      <th>region_4</th>\n",
       "    </tr>\n",
       "  </thead>\n",
       "  <tbody>\n",
       "    <tr>\n",
       "      <th>0</th>\n",
       "      <td>-1.438764</td>\n",
       "      <td>1.010519</td>\n",
       "      <td>-0.453320</td>\n",
       "      <td>-0.908614</td>\n",
       "      <td>1.970587</td>\n",
       "      <td>0.298584</td>\n",
       "      <td>1.765481</td>\n",
       "      <td>-0.611324</td>\n",
       "      <td>-0.566418</td>\n",
       "      <td>-0.565267</td>\n",
       "    </tr>\n",
       "    <tr>\n",
       "      <th>1</th>\n",
       "      <td>-1.509965</td>\n",
       "      <td>-0.989591</td>\n",
       "      <td>0.509621</td>\n",
       "      <td>-0.078767</td>\n",
       "      <td>-0.507463</td>\n",
       "      <td>-0.953689</td>\n",
       "      <td>-0.566418</td>\n",
       "      <td>1.635795</td>\n",
       "      <td>-0.566418</td>\n",
       "      <td>-0.565267</td>\n",
       "    </tr>\n",
       "    <tr>\n",
       "      <th>2</th>\n",
       "      <td>-0.797954</td>\n",
       "      <td>-0.989591</td>\n",
       "      <td>0.383307</td>\n",
       "      <td>1.580926</td>\n",
       "      <td>-0.507463</td>\n",
       "      <td>-0.728675</td>\n",
       "      <td>-0.566418</td>\n",
       "      <td>1.635795</td>\n",
       "      <td>-0.566418</td>\n",
       "      <td>-0.565267</td>\n",
       "    </tr>\n",
       "  </tbody>\n",
       "</table>\n",
       "</div>"
      ],
      "text/plain": [
       "        age       sex       bmi  children    smoker   charges  region_1  \\\n",
       "0 -1.438764  1.010519 -0.453320 -0.908614  1.970587  0.298584  1.765481   \n",
       "1 -1.509965 -0.989591  0.509621 -0.078767 -0.507463 -0.953689 -0.566418   \n",
       "2 -0.797954 -0.989591  0.383307  1.580926 -0.507463 -0.728675 -0.566418   \n",
       "\n",
       "   region_2  region_3  region_4  \n",
       "0 -0.611324 -0.566418 -0.565267  \n",
       "1  1.635795 -0.566418 -0.565267  \n",
       "2  1.635795 -0.566418 -0.565267  "
      ]
     },
     "execution_count": 13,
     "metadata": {},
     "output_type": "execute_result"
    }
   ],
   "source": [
    "df_new = standardize_df(df_new, ['age', 'bmi', 'children', 'charges', 'smoker', 'sex', 'region_1', 'region_2', 'region_3', 'region_4'])\n",
    "df_new.head(3)"
   ]
  },
  {
   "cell_type": "code",
   "execution_count": 14,
   "id": "ee609ad1",
   "metadata": {},
   "outputs": [
    {
     "name": "stdout",
     "output_type": "stream",
     "text": [
      "(-1.541699835391286e-16, 1.0)\n",
      "(1.518424980502844e-15, 1.0000000000000004)\n",
      "(1.045501503010237e-17, 1.0000000000000016)\n",
      "(-6.920224234210617e-17, 1.0000000000000004)\n",
      "(-3.787038777570414e-16, 0.9999999999999856)\n",
      "(2.4096320355093084e-16, 1.000000000000011)\n",
      "(5.401757765552892e-17, 0.9999999999999859)\n",
      "(5.72536537362749e-17, 0.9999999999999999)\n",
      "(3.742231570298547e-16, 0.999999999999986)\n",
      "(-1.5383807830007775e-16, 0.9999999999999858)\n"
     ]
    }
   ],
   "source": [
    "for v in ['age', 'bmi', 'children', 'charges', 'smoker', 'sex', 'region_1', 'region_2', 'region_3', 'region_4']:\n",
    "    print(find_mean_std(df_new, v))"
   ]
  },
  {
   "cell_type": "code",
   "execution_count": 15,
   "id": "b9e92d8d",
   "metadata": {},
   "outputs": [
    {
     "data": {
      "text/plain": [
       "['age',\n",
       " 'sex',\n",
       " 'bmi',\n",
       " 'children',\n",
       " 'smoker',\n",
       " 'charges',\n",
       " 'region_1',\n",
       " 'region_2',\n",
       " 'region_3',\n",
       " 'region_4']"
      ]
     },
     "execution_count": 15,
     "metadata": {},
     "output_type": "execute_result"
    }
   ],
   "source": [
    "# putting the dependent variable at end\n",
    "cols = df_new.columns.tolist()\n",
    "cols"
   ]
  },
  {
   "cell_type": "code",
   "execution_count": 16,
   "id": "50585655",
   "metadata": {},
   "outputs": [
    {
     "data": {
      "text/plain": [
       "['age',\n",
       " 'sex',\n",
       " 'bmi',\n",
       " 'children',\n",
       " 'smoker',\n",
       " 'region_1',\n",
       " 'region_2',\n",
       " 'region_3',\n",
       " 'region_4',\n",
       " 'charges']"
      ]
     },
     "execution_count": 16,
     "metadata": {},
     "output_type": "execute_result"
    }
   ],
   "source": [
    "cols = cols[:5] + cols[6:] + cols[5:6]\n",
    "cols"
   ]
  },
  {
   "cell_type": "code",
   "execution_count": 17,
   "id": "e160d21d",
   "metadata": {},
   "outputs": [
    {
     "data": {
      "text/html": [
       "<div>\n",
       "<style scoped>\n",
       "    .dataframe tbody tr th:only-of-type {\n",
       "        vertical-align: middle;\n",
       "    }\n",
       "\n",
       "    .dataframe tbody tr th {\n",
       "        vertical-align: top;\n",
       "    }\n",
       "\n",
       "    .dataframe thead th {\n",
       "        text-align: right;\n",
       "    }\n",
       "</style>\n",
       "<table border=\"1\" class=\"dataframe\">\n",
       "  <thead>\n",
       "    <tr style=\"text-align: right;\">\n",
       "      <th></th>\n",
       "      <th>age</th>\n",
       "      <th>sex</th>\n",
       "      <th>bmi</th>\n",
       "      <th>children</th>\n",
       "      <th>smoker</th>\n",
       "      <th>region_1</th>\n",
       "      <th>region_2</th>\n",
       "      <th>region_3</th>\n",
       "      <th>region_4</th>\n",
       "      <th>charges</th>\n",
       "    </tr>\n",
       "  </thead>\n",
       "  <tbody>\n",
       "    <tr>\n",
       "      <th>0</th>\n",
       "      <td>-1.438764</td>\n",
       "      <td>1.010519</td>\n",
       "      <td>-0.453320</td>\n",
       "      <td>-0.908614</td>\n",
       "      <td>1.970587</td>\n",
       "      <td>1.765481</td>\n",
       "      <td>-0.611324</td>\n",
       "      <td>-0.566418</td>\n",
       "      <td>-0.565267</td>\n",
       "      <td>0.298584</td>\n",
       "    </tr>\n",
       "    <tr>\n",
       "      <th>1</th>\n",
       "      <td>-1.509965</td>\n",
       "      <td>-0.989591</td>\n",
       "      <td>0.509621</td>\n",
       "      <td>-0.078767</td>\n",
       "      <td>-0.507463</td>\n",
       "      <td>-0.566418</td>\n",
       "      <td>1.635795</td>\n",
       "      <td>-0.566418</td>\n",
       "      <td>-0.565267</td>\n",
       "      <td>-0.953689</td>\n",
       "    </tr>\n",
       "  </tbody>\n",
       "</table>\n",
       "</div>"
      ],
      "text/plain": [
       "        age       sex       bmi  children    smoker  region_1  region_2  \\\n",
       "0 -1.438764  1.010519 -0.453320 -0.908614  1.970587  1.765481 -0.611324   \n",
       "1 -1.509965 -0.989591  0.509621 -0.078767 -0.507463 -0.566418  1.635795   \n",
       "\n",
       "   region_3  region_4   charges  \n",
       "0 -0.566418 -0.565267  0.298584  \n",
       "1 -0.566418 -0.565267 -0.953689  "
      ]
     },
     "execution_count": 17,
     "metadata": {},
     "output_type": "execute_result"
    }
   ],
   "source": [
    "df_new = df_new[cols]\n",
    "df_new.head(2)"
   ]
  },
  {
   "cell_type": "code",
   "execution_count": 18,
   "id": "48a8fc49",
   "metadata": {},
   "outputs": [
    {
     "data": {
      "text/plain": [
       "array([[-1.43876426,  1.0105187 , -0.45332   , ..., -0.56641788,\n",
       "        -0.56526686,  0.2985838 ],\n",
       "       [-1.50996545, -0.98959079,  0.5096211 , ..., -0.56641788,\n",
       "        -0.56526686, -0.95368917],\n",
       "       [-0.79795355, -0.98959079,  0.38330685, ..., -0.56641788,\n",
       "        -0.56526686, -0.72867467],\n",
       "       ...,\n",
       "       [-1.50996545,  1.0105187 ,  1.0148781 , ..., -0.56641788,\n",
       "        -0.56526686, -0.96159623],\n",
       "       [-1.29636188,  1.0105187 , -0.79781341, ..., -0.56641788,\n",
       "        -0.56526686, -0.93036151],\n",
       "       [ 1.55168573,  1.0105187 , -0.26138796, ...,  1.76548098,\n",
       "        -0.56526686,  1.31105347]])"
      ]
     },
     "execution_count": 18,
     "metadata": {},
     "output_type": "execute_result"
    }
   ],
   "source": [
    "data = np.array(df_new.values)\n",
    "data"
   ]
  },
  {
   "cell_type": "code",
   "execution_count": 19,
   "id": "c9818ec8",
   "metadata": {},
   "outputs": [],
   "source": [
    "# Random Seed initialized, so that same shuffle on each run\n",
    "np.random.seed(0)"
   ]
  },
  {
   "cell_type": "code",
   "execution_count": 20,
   "id": "e73875f3",
   "metadata": {},
   "outputs": [],
   "source": [
    "# indices so that I can pick rows accordingly in a shuffled way\n",
    "indices = [i for i in range(data.shape[0])]"
   ]
  },
  {
   "cell_type": "code",
   "execution_count": 21,
   "id": "20fddc16",
   "metadata": {},
   "outputs": [],
   "source": [
    "np.random.shuffle(indices)"
   ]
  },
  {
   "cell_type": "code",
   "execution_count": 22,
   "id": "3451174b",
   "metadata": {},
   "outputs": [],
   "source": [
    "# choosing the first 80% indices in training data\n",
    "train_data = data[indices[:(data.shape[0] * 80)//100]]\n",
    "test_data  = data[indices[(data.shape[0] * 80)//100:]]"
   ]
  },
  {
   "cell_type": "code",
   "execution_count": 23,
   "id": "232f7468",
   "metadata": {},
   "outputs": [],
   "source": [
    "# Separating Dependent and Independent Variables\n",
    "X_train = train_data[:, :-1]\n",
    "Y_train = train_data[:, -1]\n",
    "\n",
    "X_test = test_data[:, :-1]\n",
    "Y_test = test_data[:, -1]"
   ]
  },
  {
   "cell_type": "markdown",
   "id": "5e1f19fb",
   "metadata": {},
   "source": [
    "### Dividing Test Data into K-Parts"
   ]
  },
  {
   "cell_type": "code",
   "execution_count": 24,
   "id": "7c2bb5d5",
   "metadata": {},
   "outputs": [],
   "source": [
    "num = X_train.shape[0]//10"
   ]
  },
  {
   "cell_type": "code",
   "execution_count": 25,
   "id": "749014c0",
   "metadata": {},
   "outputs": [
    {
     "data": {
      "text/plain": [
       "107"
      ]
     },
     "execution_count": 25,
     "metadata": {},
     "output_type": "execute_result"
    }
   ],
   "source": [
    "num"
   ]
  },
  {
   "cell_type": "code",
   "execution_count": 26,
   "id": "7a578549",
   "metadata": {},
   "outputs": [],
   "source": [
    "train_data_kx = []\n",
    "train_data_ky = []\n",
    "i = 0\n",
    "while i < (len(X_train)):\n",
    "    if(i+num<X_train.shape[0]):\n",
    "        temp_x = X_train[i:i+num]\n",
    "        temp_y = Y_train[i:i+num]\n",
    "        i = i+num\n",
    "    else:\n",
    "        temp_x = X_train[i:]\n",
    "        temp_y = Y_train[i:]\n",
    "        i = X_train.shape[0]\n",
    "        \n",
    "    train_data_kx.append(temp_x)\n",
    "    train_data_ky.append(temp_y)"
   ]
  },
  {
   "cell_type": "markdown",
   "id": "0568f640",
   "metadata": {},
   "source": [
    "## Part 3: "
   ]
  },
  {
   "cell_type": "code",
   "execution_count": 27,
   "id": "1d388da9",
   "metadata": {},
   "outputs": [],
   "source": [
    "def ridgereg(X, Y, lam, eta = 0.0001):\n",
    "    \"\"\"\n",
    "    eta is learning rate, choosing less eta here helps avoid missing optima\n",
    "    \"\"\"\n",
    "    m = X.shape[1] #number of columns in X (number of features)\n",
    "    n = X.shape[0] #number of rows in X (number of data points)\n",
    "    X_new = np.zeros((n, m))\n",
    "    X_new[:, 0:m] = X # Converting data to numpy array format\n",
    "    Y_new = np.ndarray((n, 1))\n",
    "    for i in range(n):\n",
    "        Y_new[i][0] = Y[i]\n",
    "    W = np.zeros((m, 1)) \n",
    "    grad_w = -2*(X_new.T) @ (Y_new - X_new@W) + 2*lam*W\n",
    "    W_new = W - eta * grad_w\n",
    "    mrss_lam = lambda w:((Y_new - (X_new @ w)).T)@(Y_new - (X_new @ w)) + lam * ((w.T)@w)\n",
    "    i = 0\n",
    "    while i<200:\n",
    "        W = W_new\n",
    "        grad_w = -2*(X_new.T) @ (Y_new - X_new@W) + 2*lam*W\n",
    "        W_new = W - eta * grad_w\n",
    "        i = i+1\n",
    "        if abs(mrss_lam(W_new))>abs(mrss_lam(W)):\n",
    "            break\n",
    "    return W"
   ]
  },
  {
   "cell_type": "code",
   "execution_count": 28,
   "id": "512f5e4b",
   "metadata": {},
   "outputs": [],
   "source": [
    "def predridgereg(x, weights):\n",
    "    return np.dot(x, weights)"
   ]
  },
  {
   "cell_type": "markdown",
   "id": "f0920dbf",
   "metadata": {},
   "source": [
    "## Part 4:\n",
    "- Plotting Mean Square error for different lambda values"
   ]
  },
  {
   "cell_type": "code",
   "execution_count": 29,
   "id": "bc1199d8",
   "metadata": {},
   "outputs": [],
   "source": [
    "def find_mse(y_predict, y_actual):\n",
    "    n = len(y_predict)\n",
    "    mse = 0\n",
    "    for i in range(n):\n",
    "        mse = mse + (y_predict[i] - y_actual[i])**2\n",
    "    mse = mse/n\n",
    "    return mse"
   ]
  },
  {
   "cell_type": "code",
   "execution_count": 30,
   "id": "aeb4056f",
   "metadata": {},
   "outputs": [],
   "source": [
    "def kfold_mse_w(train_data_kx, train_data_ky, lam):\n",
    "    mse_list = []\n",
    "    w_list = []\n",
    "    w_grand = None\n",
    "    flag = 0\n",
    "    for i in range(len(train_data_kx)):\n",
    "        validation_x = train_data_kx[i]\n",
    "        validation_y = train_data_ky[i]\n",
    "        concatx_list = []\n",
    "        concaty_list = []\n",
    "        for j in range(len(train_data_kx)):\n",
    "            if(j!=i):\n",
    "                concatx_list.append(train_data_kx[j])\n",
    "                concaty_list.append(train_data_ky[j])\n",
    "        train_x = np.concatenate(concatx_list)\n",
    "        train_y = np.concatenate(concaty_list)\n",
    "        w_pred = ridgereg(train_x, train_y, lam)\n",
    "        y_pred = []\n",
    "        for j in range(len(validation_x)):\n",
    "            y_pred.append(predridgereg(validation_x[j], w_pred))\n",
    "        mse = find_mse(y_pred, validation_y)\n",
    "        mse_list.append(mse)\n",
    "        w_list.append(w_pred)\n",
    "        if not flag:\n",
    "            w_grand = np.array(w_pred)\n",
    "            flag = 1\n",
    "        else:\n",
    "            w_grand = w_grand + np.array(w_pred)\n",
    "    return np.sum(mse_list)/len(mse_list), (w_grand)/len(w_list), w_list"
   ]
  },
  {
   "cell_type": "code",
   "execution_count": 31,
   "id": "f66e0111",
   "metadata": {},
   "outputs": [
    {
     "data": {
      "text/plain": [
       "(0.2401661740437288,\n",
       " array([[ 0.30293842],\n",
       "        [ 0.00184324],\n",
       "        [ 0.15722721],\n",
       "        [ 0.04920523],\n",
       "        [ 0.80199799],\n",
       "        [-0.01405146],\n",
       "        [-0.01516856],\n",
       "        [ 0.0078646 ],\n",
       "        [ 0.02195069]]))"
      ]
     },
     "execution_count": 31,
     "metadata": {},
     "output_type": "execute_result"
    }
   ],
   "source": [
    "kfold_mse_w(train_data_kx, train_data_ky, 0.08)[:2]"
   ]
  },
  {
   "cell_type": "code",
   "execution_count": 32,
   "id": "48937546",
   "metadata": {},
   "outputs": [],
   "source": [
    "power_list = np.arange(-10, 10)"
   ]
  },
  {
   "cell_type": "code",
   "execution_count": 33,
   "id": "6d6dac75",
   "metadata": {},
   "outputs": [],
   "source": [
    "from math import pow"
   ]
  },
  {
   "cell_type": "code",
   "execution_count": 34,
   "id": "e4e66918",
   "metadata": {},
   "outputs": [],
   "source": [
    "lam_list = [i*pow(10,j) for j in power_list for i in range(1, 10)]"
   ]
  },
  {
   "cell_type": "code",
   "execution_count": 35,
   "id": "0f9950cf",
   "metadata": {},
   "outputs": [],
   "source": [
    "mse_list = [kfold_mse_w(train_data_kx, train_data_ky, lamb)[0] for lamb in lam_list]"
   ]
  },
  {
   "cell_type": "code",
   "execution_count": 36,
   "id": "1b4f1e18",
   "metadata": {},
   "outputs": [],
   "source": [
    "lam_log_list = [np.log10(lamb) for lamb in lam_list]"
   ]
  },
  {
   "cell_type": "code",
   "execution_count": 37,
   "id": "dd05bd0c",
   "metadata": {},
   "outputs": [
    {
     "data": {
      "image/png": "[encoded data removed]",
      "text/plain": [
       "<Figure size 500x500 with 1 Axes>"
      ]
     },
     "metadata": {
      "needs_background": "light"
     },
     "output_type": "display_data"
    }
   ],
   "source": [
    "fig = plt.figure(figsize=(5, 5), dpi=100)\n",
    "plt.xlabel(\"log to the base 10 of lambda\")\n",
    "plt.ylabel(\"mse\")\n",
    "plt.plot(lam_log_list, mse_list)\n",
    "plt.show()"
   ]
  },
  {
   "cell_type": "markdown",
   "id": "3e1e673c",
   "metadata": {},
   "source": [
    "## I would choose any lambda  between  10^(-2) to 10^(1)"
   ]
  },
  {
   "cell_type": "markdown",
   "id": "fe4afe91",
   "metadata": {},
   "source": [
    "## Part 5"
   ]
  },
  {
   "cell_type": "code",
   "execution_count": 38,
   "id": "ad2fee20",
   "metadata": {},
   "outputs": [
    {
     "data": {
      "text/plain": [
       "[0.008, 0.009000000000000001, 0.01, 0.02, 0.03, 0.04, 0.05, 0.06, 0.07, 0.08]"
      ]
     },
     "execution_count": 38,
     "metadata": {},
     "output_type": "execute_result"
    }
   ],
   "source": [
    "lam_list[70:80]"
   ]
  },
  {
   "cell_type": "code",
   "execution_count": 39,
   "id": "a2d86315",
   "metadata": {},
   "outputs": [],
   "source": [
    "testing_error = []\n",
    "training_error = []\n",
    "variances = []\n",
    "for lambda_value in lam_list:\n",
    "    train_error, model, model_list = kfold_mse_w(train_data_kx, train_data_ky, lambda_value)\n",
    "    y_pred = []\n",
    "    for i in range(len(X_test)):\n",
    "        y_pred.append(predridgereg(X_test[i], model))\n",
    "    temp_variance = 0\n",
    "    for i in range(len(model_list)):\n",
    "        y_pred_model = []\n",
    "        for j in range(len(X_test)):\n",
    "            y_pred_model.append(predridgereg(X_test[j], model_list[i]))\n",
    "        temp_variance = temp_variance + np.sum((np.square(np.array(y_pred_model) - np.array(y_pred))))\n",
    "    temp_variance = temp_variance/len(model_list)/len(X_test)\n",
    "    variances.append(temp_variance)\n",
    "    testing_error.append(find_mse(y_pred, Y_test))\n",
    "    training_error.append(train_error)"
   ]
  },
  {
   "cell_type": "code",
   "execution_count": 40,
   "id": "4d9ee35b",
   "metadata": {},
   "outputs": [
    {
     "data": {
      "image/png": "[encoded data removed]",
      "text/plain": [
       "<Figure size 400x400 with 1 Axes>"
      ]
     },
     "metadata": {
      "needs_background": "light"
     },
     "output_type": "display_data"
    }
   ],
   "source": [
    "fig = plt.figure(figsize=(5, 5), dpi = 80)\n",
    "plt.plot(lam_log_list, testing_error, label ='testing')\n",
    "plt.plot(lam_log_list, training_error, label = 'training')\n",
    "plt.plot(lam_log_list, variances, label = 'variance')\n",
    "plt.legend()\n",
    "plt.xlabel(\"Log to the base 10 of lambda\")\n",
    "plt.ylabel(\"Testing MSE\")\n",
    "plt.show()"
   ]
  },
  {
   "cell_type": "code",
   "execution_count": 41,
   "id": "80dcdea2",
   "metadata": {},
   "outputs": [
    {
     "data": {
      "text/plain": [
       "0.0050513360817154304"
      ]
     },
     "execution_count": 41,
     "metadata": {},
     "output_type": "execute_result"
    }
   ],
   "source": [
    "max(variances)"
   ]
  },
  {
   "cell_type": "markdown",
   "id": "06a32a49",
   "metadata": {},
   "source": [
    "## Testing error is as expeceted higher than training error\n",
    "## Variance is almost zero here"
   ]
  },
  {
   "cell_type": "code",
   "execution_count": null,
   "id": "63da0d52",
   "metadata": {},
   "outputs": [],
   "source": []
  }
 ],
 "metadata": {
  "kernelspec": {
   "display_name": "Python 3 (ipykernel)",
   "language": "python",
   "name": "python3"
  },
  "language_info": {
   "codemirror_mode": {
    "name": "ipython",
    "version": 3
   },
   "file_extension": ".py",
   "mimetype": "text/x-python",
   "name": "python",
   "nbconvert_exporter": "python",
   "pygments_lexer": "ipython3",
   "version": "3.7.9"
  }
 },
 "nbformat": 4,
 "nbformat_minor": 5
}
