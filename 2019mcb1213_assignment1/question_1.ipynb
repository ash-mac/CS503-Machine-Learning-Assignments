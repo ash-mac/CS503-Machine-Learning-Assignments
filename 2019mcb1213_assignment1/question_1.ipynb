{
 "cells": [
  {
   "cell_type": "markdown",
   "metadata": {},
   "source": [
    "# Question 1:"
   ]
  },
  {
   "cell_type": "code",
   "execution_count": 1,
   "metadata": {},
   "outputs": [],
   "source": [
    "import numpy as np\n",
    "import matplotlib.pyplot as plt\n",
    "import seaborn as sns\n",
    "import pandas as pd\n",
    "import math"
   ]
  },
  {
   "cell_type": "code",
   "execution_count": 2,
   "metadata": {},
   "outputs": [],
   "source": [
    "np.random.seed(0)"
   ]
  },
  {
   "cell_type": "code",
   "execution_count": 3,
   "metadata": {},
   "outputs": [],
   "source": [
    "Y = np.random.choice([0,1], size = 30)"
   ]
  },
  {
   "cell_type": "code",
   "execution_count": 4,
   "metadata": {},
   "outputs": [],
   "source": [
    "X = np.zeros((30,2))"
   ]
  },
  {
   "cell_type": "code",
   "execution_count": 5,
   "metadata": {},
   "outputs": [],
   "source": [
    "for i in range(30):\n",
    "    x1 = 0\n",
    "    x2 = 0\n",
    "    if Y[i]:\n",
    "        x1 = np.random.uniform(2, 7)\n",
    "        while x1 == 2:                    #Making Checks So that the value 2 is not included, similarly below\n",
    "            x1 = np.random.uniform(2, 7)\n",
    "            \n",
    "        x2 = np.random.uniform(4, 6)\n",
    "        while x2 == 4:\n",
    "            x2 = np.random.uniform(4, 6)\n",
    "    else:\n",
    "        x1 = np.random.uniform(0, 9)     #Asked to follow u(0,2) U u(7,9)\n",
    "        while (x1>=2 and x1<=7) or (x1 == 0) or (x1 == 9):\n",
    "            x1 = np.random.uniform(0, 9)  \n",
    "            \n",
    "        x2 = np.random.uniform(1, 8)     #Asked to follow u(1,3) U u(6, 8)\n",
    "        while (x2>=3 and x2<=6) or (x2 == 1) or (x2 == 8):\n",
    "            x2 = np.random.uniform(1, 8)\n",
    "    X[i][0] = x1\n",
    "    X[i][1] = x2"
   ]
  },
  {
   "cell_type": "code",
   "execution_count": 6,
   "metadata": {},
   "outputs": [
    {
     "data": {
      "text/html": [
       "<div>\n",
       "<style scoped>\n",
       "    .dataframe tbody tr th:only-of-type {\n",
       "        vertical-align: middle;\n",
       "    }\n",
       "\n",
       "    .dataframe tbody tr th {\n",
       "        vertical-align: top;\n",
       "    }\n",
       "\n",
       "    .dataframe thead th {\n",
       "        text-align: right;\n",
       "    }\n",
       "</style>\n",
       "<table border=\"1\" class=\"dataframe\">\n",
       "  <thead>\n",
       "    <tr style=\"text-align: right;\">\n",
       "      <th></th>\n",
       "      <th>y</th>\n",
       "      <th>x1</th>\n",
       "      <th>x2</th>\n",
       "    </tr>\n",
       "  </thead>\n",
       "  <tbody>\n",
       "    <tr>\n",
       "      <th>0</th>\n",
       "      <td>0</td>\n",
       "      <td>0.784164</td>\n",
       "      <td>1.141529</td>\n",
       "    </tr>\n",
       "    <tr>\n",
       "      <th>1</th>\n",
       "      <td>1</td>\n",
       "      <td>6.163099</td>\n",
       "      <td>5.556314</td>\n",
       "    </tr>\n",
       "    <tr>\n",
       "      <th>2</th>\n",
       "      <td>1</td>\n",
       "      <td>6.350061</td>\n",
       "      <td>5.957237</td>\n",
       "    </tr>\n",
       "    <tr>\n",
       "      <th>3</th>\n",
       "      <td>0</td>\n",
       "      <td>7.192427</td>\n",
       "      <td>6.463704</td>\n",
       "    </tr>\n",
       "  </tbody>\n",
       "</table>\n",
       "</div>"
      ],
      "text/plain": [
       "   y        x1        x2\n",
       "0  0  0.784164  1.141529\n",
       "1  1  6.163099  5.556314\n",
       "2  1  6.350061  5.957237\n",
       "3  0  7.192427  6.463704"
      ]
     },
     "execution_count": 6,
     "metadata": {},
     "output_type": "execute_result"
    }
   ],
   "source": [
    "df = pd.DataFrame(X, Y)\n",
    "df.columns = ['x1', 'x2']\n",
    "df.reset_index(inplace=True)\n",
    "df.rename(columns={'index':'y'}, inplace=True)\n",
    "df.head(4)"
   ]
  },
  {
   "cell_type": "code",
   "execution_count": 7,
   "metadata": {},
   "outputs": [
    {
     "data": {
      "image/png": "[encoded data removed]",
      "text/plain": [
       "<Figure size 432x288 with 1 Axes>"
      ]
     },
     "metadata": {
      "needs_background": "light"
     },
     "output_type": "display_data"
    }
   ],
   "source": [
    "plt.title(\"Scatter Plot of Data Generated\")\n",
    "plt.xlabel('x1')\n",
    "plt.ylabel('x2')\n",
    "sns.scatterplot(x=df['x1'], y = df['x2'], hue=df['y'], palette={0:'green', 1:'red'})\n",
    "plt.show()"
   ]
  },
  {
   "cell_type": "markdown",
   "metadata": {},
   "source": [
    "## Part 2 and 3:"
   ]
  },
  {
   "cell_type": "code",
   "execution_count": 8,
   "metadata": {},
   "outputs": [],
   "source": [
    "#finding right_most point with label 1\n",
    "max_x1_val = max(X[Y == 1][:, 0])\n",
    "min_x1_val = min(X[Y == 1][:, 0])\n",
    "max_x2_val = max(X[Y == 1][:, 1])\n",
    "min_x2_val = min(X[Y == 1][:, 1])"
   ]
  },
  {
   "cell_type": "code",
   "execution_count": 9,
   "metadata": {},
   "outputs": [],
   "source": [
    "#Case1\n",
    "#finding closest points with label 0 to cluster of points with label1\n",
    "closest_x1_right0 = min(X[(Y == 0) & (X[:, 0] > max_x1_val)][:, 0])\n",
    "closest_x1_left0 = max(X[(Y == 0) & (X[:, 0] < min_x1_val)][:, 0])\n",
    "\n",
    "closest_x2_up0_1 = min(X\n",
    "                       [(Y == 0) & \n",
    "                        (X[:, 1] > max_x2_val) & \n",
    "                        (X[:, 0] <= closest_x1_right0) &\n",
    "                        (X[:, 0] >= closest_x1_left0)\n",
    "                       ][:, 1])\n",
    "closest_x2_down0_1 = max(X\n",
    "                         [(Y == 0) & \n",
    "                          (X[:, 1] < min_x2_val) &\n",
    "                          (X[:, 0] >= closest_x1_left0) &\n",
    "                          (X[:, 0] <= closest_x1_right0)\n",
    "                         ][:, 1])"
   ]
  },
  {
   "cell_type": "code",
   "execution_count": 10,
   "metadata": {},
   "outputs": [],
   "source": [
    "# Case 2\n",
    "#finding closest points with label 0 to cluster of points with label1\n",
    "closest_x2_up0 = min(X[(Y == 0) & (X[:, 1] > max_x2_val)][:, 1])\n",
    "closest_x2_down0 = max(X[(Y == 0) & (X[:, 1] < min_x2_val)][:, 1])\n",
    "\n",
    "closest_x1_left0_2 = min(X\n",
    "                         [(Y == 0) &\n",
    "                          (X[:, 0] < min_x1_val) &\n",
    "                          (X[:, 1] >= closest_x2_down0) &\n",
    "                          (X[:, 1] <= closest_x2_up0)\n",
    "                         ][:, 0])\n",
    "closest_x1_right0_2 = max(X\n",
    "                          [(Y == 0) &\n",
    "                           (X[:, 0] > max_x1_val) &\n",
    "                           (X[:, 1] >= closest_x2_down0) &\n",
    "                           (X[:, 1] <= closest_x2_up0)\n",
    "                          ][:, 0])"
   ]
  },
  {
   "cell_type": "code",
   "execution_count": 11,
   "metadata": {},
   "outputs": [],
   "source": [
    "#finding general hypothesis rectangle parameters\n",
    "area1 = (closest_x1_right0 - closest_x1_left0)  * (closest_x2_up0_1 - closest_x2_down0_1)\n",
    "area2 = (closest_x2_up0 - closest_x2_down0) * (closest_x1_right0_2 - closest_x1_left0_2)\n",
    "gx, gy = 0, 0\n",
    "w, h = 0, 0\n",
    "if area1 > area2:\n",
    "    gx, gy = closest_x1_left0, closest_x2_down0_1\n",
    "    w = closest_x1_right0 - closest_x1_left0\n",
    "    h = closest_x2_up0_1 - closest_x2_down0_1\n",
    "else:\n",
    "    gx, gy = closest_x1_left0_2, closest_x2_down0\n",
    "    w = closest_x1_right0_2 - closest_x1_left0_2\n",
    "    h = closest_x2_up0 - closest_x2_down0"
   ]
  },
  {
   "cell_type": "code",
   "execution_count": 12,
   "metadata": {},
   "outputs": [],
   "source": [
    "import matplotlib.patches as rect"
   ]
  },
  {
   "cell_type": "code",
   "execution_count": 13,
   "metadata": {},
   "outputs": [
    {
     "data": {
      "image/png": "[encoded data removed]",
      "text/plain": [
       "<Figure size 432x288 with 1 Axes>"
      ]
     },
     "metadata": {
      "needs_background": "light"
     },
     "output_type": "display_data"
    }
   ],
   "source": [
    "fig = plt.figure()\n",
    "ax = fig.add_subplot(111)\n",
    "specific_hypothesis = rect.Rectangle((min_x1_val, min_x2_val), max_x1_val - min_x1_val, max_x2_val - min_x2_val, alpha = 0.2)\n",
    "general_hypothesis = rect.Rectangle((gx, gy), w, h, alpha = 0.2, color = 'yellow')\n",
    "ax.add_patch(specific_hypothesis)\n",
    "ax.add_patch(general_hypothesis)\n",
    "plt.title(\"Scatter Plot of Data Generated\")\n",
    "plt.xlabel('x1')\n",
    "plt.ylabel('x2')\n",
    "sns.scatterplot(x=df['x1'], y = df['x2'], hue=df['y'], palette={0:'green', 1:'red'})\n",
    "plt.show()"
   ]
  },
  {
   "cell_type": "code",
   "execution_count": 14,
   "metadata": {},
   "outputs": [],
   "source": [
    "specific_centre = ((min_x1_val+max_x1_val)/2, (min_x2_val+max_x2_val)/2)\n",
    "specific_rad = max((max_x1_val - min_x1_val)/2, (max_x2_val - min_x1_val)/2)"
   ]
  },
  {
   "cell_type": "code",
   "execution_count": 15,
   "metadata": {},
   "outputs": [],
   "source": [
    "general_rad = max(w/2, h/2)"
   ]
  },
  {
   "cell_type": "code",
   "execution_count": 16,
   "metadata": {},
   "outputs": [],
   "source": [
    "general_centre = (gx + general_rad, gy+general_rad)"
   ]
  },
  {
   "cell_type": "code",
   "execution_count": 17,
   "metadata": {},
   "outputs": [
    {
     "data": {
      "image/png": "[encoded data removed]",
      "text/plain": [
       "<Figure size 432x288 with 1 Axes>"
      ]
     },
     "metadata": {
      "needs_background": "light"
     },
     "output_type": "display_data"
    }
   ],
   "source": [
    "fig = plt.figure()\n",
    "ax = fig.add_subplot(111)\n",
    "specific_hypothesis = plt.Circle((specific_centre), specific_rad, fill = True, alpha = 0.2, color = \"blue\") \n",
    "general_hypothesis = plt.Circle((general_centre), general_rad, fill = True, alpha = 0.2, color = \"yellow\") \n",
    "ax.add_patch(specific_hypothesis)\n",
    "ax.add_patch(general_hypothesis)\n",
    "plt.title(\"Scatter Plot of Data Generated\")\n",
    "plt.xlabel('x1')\n",
    "plt.ylabel('x2')\n",
    "sns.scatterplot(x=df['x1'], y = df['x2'], hue=df['y'], palette={0:'green', 1:'red'})\n",
    "plt.show()"
   ]
  },
  {
   "cell_type": "markdown",
   "metadata": {},
   "source": [
    "## The General Hypothesis for rectangle classes by definition is actually an infinite strip\n",
    "## For the circle case computing general and specific hypothesis is computationally difficult.\n",
    "## It seems to me the class of circle does better in representing the hypothesis class as the maximum area rectangle can squeeze through gaps and give no significant information"
   ]
  },
  {
   "cell_type": "code",
   "execution_count": null,
   "metadata": {},
   "outputs": [],
   "source": []
  }
 ],
 "metadata": {
  "kernelspec": {
   "display_name": "Python 3 (ipykernel)",
   "language": "python",
   "name": "python3"
  },
  "language_info": {
   "codemirror_mode": {
    "name": "ipython",
    "version": 3
   },
   "file_extension": ".py",
   "mimetype": "text/x-python",
   "name": "python",
   "nbconvert_exporter": "python",
   "pygments_lexer": "ipython3",
   "version": "3.7.9"
  }
 },
 "nbformat": 4,
 "nbformat_minor": 4
}
